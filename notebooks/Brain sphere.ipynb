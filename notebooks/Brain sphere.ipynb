{
 "cells": [
  {
   "cell_type": "markdown",
   "id": "44a5275c-b770-4b98-a97b-9df29e5700d5",
   "metadata": {},
   "source": [
    "# Brain sphere SAR surface integral\n",
    "This notebook processes old MMP data files for calculating the WBA SAR of a brain sphere canonical problem using a surface integral of the time averaged Poynting vector.\n",
    "\n",
    "See: `OneDrive\\IT\\Python\\jupyter_notebooks\\@Projects\\spatial-averaging-wg\\antennas\\brain sphere`\n",
    "\n",
    "And: `OneDrive\\@my work\\EMF & thermal modelling\\MMP_NT\\DATA\\canonical\\XFDTD_spheres`"
   ]
  },
  {
   "cell_type": "markdown",
   "id": "10f52d95-27f3-48f9-9175-56f256b53c3f",
   "metadata": {},
   "source": [
    "## Set up"
   ]
  },
  {
   "cell_type": "code",
   "execution_count": 3,
   "id": "c6b15977-7919-4ca9-8bee-8fce5bc482e5",
   "metadata": {},
   "outputs": [],
   "source": [
    "# import mayavi mlab\n",
    "from traits.etsconfig.api import ETSConfig\n",
    "ETSConfig.toolkit = 'qt4'  # the 'qt4' option actually denotes qt4 and qt5\n",
    "from mayavi import mlab\n",
    "\n",
    "# import other modules\n",
    "import matplotlib.pyplot as plt\n",
    "import numpy as np\n",
    "import pandas as pd"
   ]
  },
  {
   "cell_type": "markdown",
   "id": "1773ebd4-c64f-4fb7-86c4-97594d223a01",
   "metadata": {},
   "source": [
    "## Import data from integral file\n",
    "The imported file is the integral input section from `mmp_3di.400`.\n",
    "\n",
    "Here we want to see how the surface points are distributed."
   ]
  },
  {
   "cell_type": "code",
   "execution_count": 58,
   "id": "9e87a064-4b1a-44ce-a8fc-7f14a51665d0",
   "metadata": {},
   "outputs": [
    {
     "data": {
      "text/html": [
       "<div>\n",
       "<style scoped>\n",
       "    .dataframe tbody tr th:only-of-type {\n",
       "        vertical-align: middle;\n",
       "    }\n",
       "\n",
       "    .dataframe tbody tr th {\n",
       "        vertical-align: top;\n",
       "    }\n",
       "\n",
       "    .dataframe thead th {\n",
       "        text-align: right;\n",
       "    }\n",
       "</style>\n",
       "<table border=\"1\" class=\"dataframe\">\n",
       "  <thead>\n",
       "    <tr style=\"text-align: right;\">\n",
       "      <th></th>\n",
       "      <th>x</th>\n",
       "      <th>y</th>\n",
       "      <th>z</th>\n",
       "    </tr>\n",
       "  </thead>\n",
       "  <tbody>\n",
       "    <tr>\n",
       "      <th>0</th>\n",
       "      <td>0.099981</td>\n",
       "      <td>0.001388</td>\n",
       "      <td>0.001388</td>\n",
       "    </tr>\n",
       "    <tr>\n",
       "      <th>3</th>\n",
       "      <td>0.099827</td>\n",
       "      <td>0.005439</td>\n",
       "      <td>0.002253</td>\n",
       "    </tr>\n",
       "    <tr>\n",
       "      <th>6</th>\n",
       "      <td>0.099518</td>\n",
       "      <td>0.009613</td>\n",
       "      <td>0.001912</td>\n",
       "    </tr>\n",
       "    <tr>\n",
       "      <th>9</th>\n",
       "      <td>0.099057</td>\n",
       "      <td>0.013533</td>\n",
       "      <td>0.002143</td>\n",
       "    </tr>\n",
       "    <tr>\n",
       "      <th>12</th>\n",
       "      <td>0.098443</td>\n",
       "      <td>0.017469</td>\n",
       "      <td>0.001968</td>\n",
       "    </tr>\n",
       "    <tr>\n",
       "      <th>...</th>\n",
       "      <td>...</td>\n",
       "      <td>...</td>\n",
       "      <td>...</td>\n",
       "    </tr>\n",
       "    <tr>\n",
       "      <th>6111</th>\n",
       "      <td>0.001963</td>\n",
       "      <td>-0.098424</td>\n",
       "      <td>0.017576</td>\n",
       "    </tr>\n",
       "    <tr>\n",
       "      <th>6114</th>\n",
       "      <td>0.001963</td>\n",
       "      <td>-0.099038</td>\n",
       "      <td>0.013699</td>\n",
       "    </tr>\n",
       "    <tr>\n",
       "      <th>6117</th>\n",
       "      <td>0.001963</td>\n",
       "      <td>-0.099499</td>\n",
       "      <td>0.009800</td>\n",
       "    </tr>\n",
       "    <tr>\n",
       "      <th>6120</th>\n",
       "      <td>0.001963</td>\n",
       "      <td>-0.099807</td>\n",
       "      <td>0.005886</td>\n",
       "    </tr>\n",
       "    <tr>\n",
       "      <th>6123</th>\n",
       "      <td>0.001963</td>\n",
       "      <td>-0.099961</td>\n",
       "      <td>0.001963</td>\n",
       "    </tr>\n",
       "  </tbody>\n",
       "</table>\n",
       "<p>2042 rows × 3 columns</p>\n",
       "</div>"
      ],
      "text/plain": [
       "             x         y         z\n",
       "0     0.099981  0.001388  0.001388\n",
       "3     0.099827  0.005439  0.002253\n",
       "6     0.099518  0.009613  0.001912\n",
       "9     0.099057  0.013533  0.002143\n",
       "12    0.098443  0.017469  0.001968\n",
       "...        ...       ...       ...\n",
       "6111  0.001963 -0.098424  0.017576\n",
       "6114  0.001963 -0.099038  0.013699\n",
       "6117  0.001963 -0.099499  0.009800\n",
       "6120  0.001963 -0.099807  0.005886\n",
       "6123  0.001963 -0.099961  0.001963\n",
       "\n",
       "[2042 rows x 3 columns]"
      ]
     },
     "execution_count": 58,
     "metadata": {},
     "output_type": "execute_result"
    }
   ],
   "source": [
    "integralfile = '../antennas/brain sphere/mmp integral input.400'\n",
    "df = pd.read_csv(integralfile,sep='\\s+',skiprows=2,names=('x','y','z'))\n",
    "df = df.iloc[::3,:]\n",
    "df"
   ]
  },
  {
   "cell_type": "markdown",
   "id": "572bfd8b-5dea-40ce-bc6a-2821ecce2ec3",
   "metadata": {},
   "source": [
    "## Display points"
   ]
  },
  {
   "cell_type": "code",
   "execution_count": 62,
   "id": "bc7f3163-3a88-4e8e-baf4-a5f820109480",
   "metadata": {},
   "outputs": [],
   "source": [
    "def showpoints(df):\n",
    "    '''Show integral points'''\n",
    "\n",
    "    # create the Mayavi figure\n",
    "    from mayavi import mlab\n",
    "    fig = mlab.figure(1, size=(1200,900), bgcolor=(0.3, 0.3, 0.3))\n",
    "    mlab.clf()\n",
    "\n",
    "    # draw the integral points\n",
    "    mlab.points3d(df.x,df.y,df.z,scale_factor=0.001,color=(1,1,0),opacity=1)\n",
    "\n",
    "    # Draw the scene\n",
    "    fig.scene.parallel_projection = True\n",
    "    mlab.show()"
   ]
  },
  {
   "cell_type": "code",
   "execution_count": 63,
   "id": "c054d662-b586-4f0c-8d8d-7b24c94e24f0",
   "metadata": {},
   "outputs": [],
   "source": [
    "showpoints(df)"
   ]
  },
  {
   "cell_type": "markdown",
   "id": "99d34375-0063-43f2-9145-ba4e7bebc817",
   "metadata": {},
   "source": [
    "The 3D visualisation shows that the surface integral was only over a **quarter** of the sphere. Hence we must multiply the SAR results by **x4**"
   ]
  },
  {
   "cell_type": "markdown",
   "id": "bf7042e1-4107-4299-8bcc-8e8a91e40b65",
   "metadata": {},
   "source": [
    "## Get SAR data"
   ]
  },
  {
   "cell_type": "code",
   "execution_count": 61,
   "id": "ba9a07a4-c1c0-4415-85ca-8e7419513662",
   "metadata": {},
   "outputs": [
    {
     "data": {
      "text/html": [
       "<div>\n",
       "<style scoped>\n",
       "    .dataframe tbody tr th:only-of-type {\n",
       "        vertical-align: middle;\n",
       "    }\n",
       "\n",
       "    .dataframe tbody tr th {\n",
       "        vertical-align: top;\n",
       "    }\n",
       "\n",
       "    .dataframe thead th {\n",
       "        text-align: right;\n",
       "    }\n",
       "</style>\n",
       "<table border=\"1\" class=\"dataframe\">\n",
       "  <thead>\n",
       "    <tr style=\"text-align: right;\">\n",
       "      <th></th>\n",
       "      <th>f (MHz)</th>\n",
       "      <th>SAR</th>\n",
       "    </tr>\n",
       "  </thead>\n",
       "  <tbody>\n",
       "    <tr>\n",
       "      <th>400</th>\n",
       "      <td>10</td>\n",
       "      <td>4.019804e-08</td>\n",
       "    </tr>\n",
       "    <tr>\n",
       "      <th>401</th>\n",
       "      <td>30</td>\n",
       "      <td>4.118984e-07</td>\n",
       "    </tr>\n",
       "    <tr>\n",
       "      <th>402</th>\n",
       "      <td>100</td>\n",
       "      <td>5.199560e-05</td>\n",
       "    </tr>\n",
       "    <tr>\n",
       "      <th>403</th>\n",
       "      <td>300</td>\n",
       "      <td>3.600896e-05</td>\n",
       "    </tr>\n",
       "    <tr>\n",
       "      <th>404</th>\n",
       "      <td>1000</td>\n",
       "      <td>3.687770e-05</td>\n",
       "    </tr>\n",
       "    <tr>\n",
       "      <th>405</th>\n",
       "      <td>3000</td>\n",
       "      <td>2.863127e-05</td>\n",
       "    </tr>\n",
       "  </tbody>\n",
       "</table>\n",
       "</div>"
      ],
      "text/plain": [
       "    f (MHz)           SAR\n",
       "400      10  4.019804e-08\n",
       "401      30  4.118984e-07\n",
       "402     100  5.199560e-05\n",
       "403     300  3.600896e-05\n",
       "404    1000  3.687770e-05\n",
       "405    3000  2.863127e-05"
      ]
     },
     "execution_count": 61,
     "metadata": {},
     "output_type": "execute_result"
    }
   ],
   "source": [
    "dfresults = pd.DataFrame(columns=['f (MHz)','SAR'])\n",
    "filenums = [400,401,402,403,404,405]\n",
    "fMHz = [10,30,100,300,1000,3000]\n",
    "\n",
    "for filenum, f in zip(filenums, fMHz):\n",
    "    integral_result_file = '../antennas/brain sphere/mmp_int.' + str(filenum)\n",
    "    \n",
    "    # Only read in the real component of the power\n",
    "    dfi = pd.read_csv(integral_result_file, skiprows=1, sep='\\s+',\n",
    "                      usecols=[0], names=['SAR'])\n",
    "    \n",
    "    # Multiply SAR result by x4\n",
    "    dfi['SAR'] = -4 * dfi.SAR\n",
    "    \n",
    "    # Add frequency in MHz and trial number index\n",
    "    dfi['f (MHz)'] = f\n",
    "    dfi.index = [filenum]\n",
    "    \n",
    "    # Append the results\n",
    "    dfresults = dfresults.append(dfi)\n",
    "\n",
    "dfresults.to_clipboard()\n",
    "dfresults"
   ]
  },
  {
   "cell_type": "code",
   "execution_count": null,
   "id": "ec7c8158-a851-47c6-a1bc-18b6c78d1a53",
   "metadata": {},
   "outputs": [],
   "source": []
  }
 ],
 "metadata": {
  "kernelspec": {
   "display_name": "Python 3 (ipykernel)",
   "language": "python",
   "name": "python3"
  },
  "language_info": {
   "codemirror_mode": {
    "name": "ipython",
    "version": 3
   },
   "file_extension": ".py",
   "mimetype": "text/x-python",
   "name": "python",
   "nbconvert_exporter": "python",
   "pygments_lexer": "ipython3",
   "version": "3.8.10"
  }
 },
 "nbformat": 4,
 "nbformat_minor": 5
}
