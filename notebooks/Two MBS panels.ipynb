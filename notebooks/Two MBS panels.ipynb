{
 "cells": [
  {
   "cell_type": "markdown",
   "metadata": {
    "tags": []
   },
   "source": [
    "# Compliance zone for two MBS panels\n",
    "**Author**: Dr Vitas Anderson (*Two Fields Consulting*)\n",
    "\n",
    "**Last updated**: 3/11/2022\n",
    "\n",
    "+ FEKO data provided by Danie Ludick\n",
    "+ Uses **v11** RFcalcUC module\n",
    "+ This notebook uses dataframes in HDF5 files that were generated from the `make_HDF5_MBS_panel_trial2.ipynb` notebook"
   ]
  },
  {
   "cell_type": "markdown",
   "metadata": {
    "tags": []
   },
   "source": [
    "## Load necessary python modules"
   ]
  },
  {
   "cell_type": "code",
   "execution_count": 1,
   "metadata": {},
   "outputs": [],
   "source": [
    "# import mayavi mlab\n",
    "from traits.etsconfig.api import ETSConfig\n",
    "ETSConfig.toolkit = 'qt4'  # the 'qt4' option actually denotes qt4 and qt5\n",
    "from mayavi import mlab\n",
    "\n",
    "# import other modules\n",
    "from importlib import reload\n",
    "import matplotlib.pyplot as plt\n",
    "import numpy as np\n",
    "import seaborn as sn\n",
    "import pandas as pd\n",
    "import RFcalcUC_v11 as RFcalcUC\n",
    "from matplotlib.ticker import StrMethodFormatter\n",
    "pd.set_option('display.max_rows', 200)\n",
    "from icecream import ic\n",
    "\n",
    "# Set plotting environment\n",
    "sn.set()"
   ]
  },
  {
   "cell_type": "markdown",
   "metadata": {
    "tags": []
   },
   "source": [
    "## Create the RFc object for the analyses\n",
    "The class for this object is in the `RFcalcUC_v11.py` file"
   ]
  },
  {
   "cell_type": "code",
   "execution_count": 2,
   "metadata": {},
   "outputs": [
    {
     "name": "stdout",
     "output_type": "stream",
     "text": [
      "Sfile='../antennas/MBSpanel_2/data/MBSpanel_2.hdf5'\n"
     ]
    },
    {
     "data": {
      "text/plain": [
       "Object parameters:\n",
       "  900 MHz, 200 W\n",
       "  errtol = 0.15\n",
       "  offset = 0 m\n",
       "  default length of spatial averagering window = 1.6 m\n",
       "  1,298,751 grid points\n",
       "  nx = 151, ny = 141, nz = 61"
      ]
     },
     "metadata": {},
     "output_type": "display_data"
    },
    {
     "data": {
      "text/html": [
       "<div>\n",
       "<style scoped>\n",
       "    .dataframe tbody tr th:only-of-type {\n",
       "        vertical-align: middle;\n",
       "    }\n",
       "\n",
       "    .dataframe tbody tr th {\n",
       "        vertical-align: top;\n",
       "    }\n",
       "\n",
       "    .dataframe thead th {\n",
       "        text-align: right;\n",
       "    }\n",
       "</style>\n",
       "<table border=\"1\" class=\"dataframe\">\n",
       "  <thead>\n",
       "    <tr style=\"text-align: right;\">\n",
       "      <th></th>\n",
       "      <th>x</th>\n",
       "      <th>y</th>\n",
       "      <th>z</th>\n",
       "      <th>r</th>\n",
       "      <th>phi</th>\n",
       "      <th>SE</th>\n",
       "      <th>SH</th>\n",
       "      <th>Smax</th>\n",
       "      <th>SARwb</th>\n",
       "      <th>SARwbi</th>\n",
       "    </tr>\n",
       "  </thead>\n",
       "  <tbody>\n",
       "    <tr>\n",
       "      <th>0</th>\n",
       "      <td>-1.0</td>\n",
       "      <td>-7.0</td>\n",
       "      <td>-3.0</td>\n",
       "      <td>7.071068</td>\n",
       "      <td>-98.130102</td>\n",
       "      <td>0.007138</td>\n",
       "      <td>0.007219</td>\n",
       "      <td>0.007219</td>\n",
       "      <td>NaN</td>\n",
       "      <td>NaN</td>\n",
       "    </tr>\n",
       "    <tr>\n",
       "      <th>1</th>\n",
       "      <td>-1.0</td>\n",
       "      <td>-7.0</td>\n",
       "      <td>-2.9</td>\n",
       "      <td>7.071068</td>\n",
       "      <td>-98.130102</td>\n",
       "      <td>0.007635</td>\n",
       "      <td>0.007725</td>\n",
       "      <td>0.007725</td>\n",
       "      <td>NaN</td>\n",
       "      <td>NaN</td>\n",
       "    </tr>\n",
       "    <tr>\n",
       "      <th>2</th>\n",
       "      <td>-1.0</td>\n",
       "      <td>-7.0</td>\n",
       "      <td>-2.8</td>\n",
       "      <td>7.071068</td>\n",
       "      <td>-98.130102</td>\n",
       "      <td>0.007646</td>\n",
       "      <td>0.007729</td>\n",
       "      <td>0.007729</td>\n",
       "      <td>NaN</td>\n",
       "      <td>NaN</td>\n",
       "    </tr>\n",
       "    <tr>\n",
       "      <th>3</th>\n",
       "      <td>-1.0</td>\n",
       "      <td>-7.0</td>\n",
       "      <td>-2.7</td>\n",
       "      <td>7.071068</td>\n",
       "      <td>-98.130102</td>\n",
       "      <td>0.007189</td>\n",
       "      <td>0.007244</td>\n",
       "      <td>0.007244</td>\n",
       "      <td>NaN</td>\n",
       "      <td>NaN</td>\n",
       "    </tr>\n",
       "    <tr>\n",
       "      <th>4</th>\n",
       "      <td>-1.0</td>\n",
       "      <td>-7.0</td>\n",
       "      <td>-2.6</td>\n",
       "      <td>7.071068</td>\n",
       "      <td>-98.130102</td>\n",
       "      <td>0.006404</td>\n",
       "      <td>0.006415</td>\n",
       "      <td>0.006415</td>\n",
       "      <td>NaN</td>\n",
       "      <td>NaN</td>\n",
       "    </tr>\n",
       "  </tbody>\n",
       "</table>\n",
       "</div>"
      ],
      "text/plain": [
       "     x    y    z         r        phi        SE        SH      Smax  SARwb  \\\n",
       "0 -1.0 -7.0 -3.0  7.071068 -98.130102  0.007138  0.007219  0.007219    NaN   \n",
       "1 -1.0 -7.0 -2.9  7.071068 -98.130102  0.007635  0.007725  0.007725    NaN   \n",
       "2 -1.0 -7.0 -2.8  7.071068 -98.130102  0.007646  0.007729  0.007729    NaN   \n",
       "3 -1.0 -7.0 -2.7  7.071068 -98.130102  0.007189  0.007244  0.007244    NaN   \n",
       "4 -1.0 -7.0 -2.6  7.071068 -98.130102  0.006404  0.006415  0.006415    NaN   \n",
       "\n",
       "   SARwbi  \n",
       "0     NaN  \n",
       "1     NaN  \n",
       "2     NaN  \n",
       "3     NaN  \n",
       "4     NaN  "
      ]
     },
     "metadata": {},
     "output_type": "display_data"
    }
   ],
   "source": [
    "# Read in \"calc uc trials.xls\" spreadsheet\n",
    "trials = pd.read_excel('../antennas/spat avg trials.xlsx', 'trials', \n",
    "                       skiprows=1, index_col=0).fillna('')\n",
    "# trials.drop(\"unit\", axis=1, inplace=True)\n",
    "\n",
    "# Set trial number\n",
    "trial = 2\n",
    "t = trials[str(trial)]\n",
    "\n",
    "# Set data and plot folders\n",
    "datadir = f'../antennas/{t.antenna_folder}/data/'\n",
    "plotdir = f'../antennas/{t.antenna_folder}/plots/'\n",
    "\n",
    "# Specify the RFc object parameters\n",
    "freq = t.fMHz   # 900 MHz\n",
    "power = t.Prad  # 80 W\n",
    "\n",
    "# Field point grid\n",
    "grid = dict(x=[t.xstart, t.xend, t.dx], \n",
    "            y=[t.ystart, t.yend, t.dy],\n",
    "            z=[t.zstart, t.zend, t.dz])\n",
    "\n",
    "# Antenna box dimensions (xyz extents)\n",
    "xb = [-0.04, 0]\n",
    "yb = [-0.15, 0.15]\n",
    "zb = [-1.125, 1.125]\n",
    "antennabox = [xb, yb, zb]\n",
    "\n",
    "# Create the RFc object\n",
    "reload(RFcalcUC)\n",
    "R = RFcalcUC.RFc(freq, power, grid, antennabox, spatavgL=1.6)\n",
    "\n",
    "# Import the S data files for FEKO and IXUS\n",
    "Sfile = datadir + f'{t.antenna_folder}.hdf5'\n",
    "R.importS(Sfile)\n",
    "\n",
    "# Create filters for valid 1.6m and 2m spatial averaging points\n",
    "fsa16 = R.sf('spatavg', spatavgL=1.6) # valid 1.6m spatial averaging points\n",
    "foutant = R.sf('outant', offset=0)    # all points outside antenna box\n",
    "\n",
    "# Display the first few records in the S dataframe\n",
    "display(R)\n",
    "display(R.S.head())"
   ]
  },
  {
   "cell_type": "code",
   "execution_count": 3,
   "metadata": {},
   "outputs": [
    {
     "data": {
      "text/plain": [
       "{'x': [-1, 14, 0.1], 'y': [-7, 7, 0.1], 'z': [-3, 3, 0.1]}"
      ]
     },
     "execution_count": 3,
     "metadata": {},
     "output_type": "execute_result"
    }
   ],
   "source": [
    "R.grid"
   ]
  },
  {
   "cell_type": "markdown",
   "metadata": {
    "tags": []
   },
   "source": [
    "## Create spatially averaged fields\n",
    "Create some new S columns for vertical spatial averaging\n",
    "\n",
    "**c** is the convolution vector applied to z columns of points for each (x,y) group"
   ]
  },
  {
   "cell_type": "code",
   "execution_count": 4,
   "metadata": {},
   "outputs": [
    {
     "name": "stdout",
     "output_type": "stream",
     "text": [
      "\n",
      "17 points: sum[0.059, 0.059, 0.059, 0.059, 0.059, 0.059, 0.059, 0.059, 0.059, 0.059, 0.059, 0.059, 0.059, 0.059, 0.059, 0.059, 0.059] = 1.0\n",
      "creating Smax-1.6m-17 spatial average of Smax\n",
      "\n",
      " 5 points: sum[0.2, 0.0, 0.0, 0.0, 0.2, 0.0, 0.0, 0.0, 0.2, 0.0, 0.0, 0.0, 0.2, 0.0, 0.0, 0.0, 0.2] = 1.0\n",
      "creating Smax-1.6m-5 spatial average of Smax\n"
     ]
    },
    {
     "data": {
      "text/plain": [
       "{'SE': 'S(E) levels',\n",
       " 'SH': 'S(H) levels',\n",
       " 'Smax': 'Smax levels',\n",
       " 'SARps': 'peak spatial SAR',\n",
       " 'SARwb': 'WBA SAR',\n",
       " 'SARwbi': 'WBA SAR (interpolated)',\n",
       " 'Smax-1.6m-17': 'FEKO Smax levels (17 points averaged over 1.6m)',\n",
       " 'Smax-1.6m-5': 'FEKO Smax levels (5 points averaged over 1.6m)'}"
      ]
     },
     "execution_count": 4,
     "metadata": {},
     "output_type": "execute_result"
    }
   ],
   "source": [
    "def conv_vector(l, dl, m):\n",
    "    '''Create a convolution vector\n",
    "        l = length of convolution vector (m)\n",
    "       dl = increment spacing between points in convolution vector (m)\n",
    "        m = number of averaging points in convolution vector'''\n",
    "\n",
    "    n = int(round(l/dl)) + 1  # number of points in convolution vector'''\n",
    "    c = np.ones(n)            # convolution vector\n",
    "    ix = np.arange(n)         # index of convolution vector\n",
    "    dix = (n-1)/(m-1)         # index spacing between convolution averaging points\n",
    "\n",
    "    assert round(l/dl,0) == round(l/dl,1), f'dl ({dl}) does not divide equally into l ({l})'\n",
    "    assert type(m) == int, f'm ({m}) must be an integer'\n",
    "    assert (n-1) % (m-1) == 0, f'm ({m}) does not distribute evenly across number of convolution points ({n})'\n",
    "\n",
    "    c[(ix % dix) != 0] = 0\n",
    "    c = c/m\n",
    "\n",
    "    assert np.isclose(sum(c), 1, rtol=1e-08), f'sum of c ({sum(c)}) does not add up to 1'\n",
    "    \n",
    "    return c\n",
    "\n",
    "# 1.6m vertical average curves\n",
    "l, dl = 1.6, 0.1\n",
    "for m in [17,5]:\n",
    "    c = conv_vector(l, dl, m)\n",
    "    print(f'\\n{m:2d} points: sum{list(c.round(3))} = {sum(c)}')\n",
    "    R.spatavg(f\"Smax-{l}m-{m}\",  \"Smax\",  c, title=f\"FEKO Smax levels ({m} points averaged over {l}m)\")\n",
    "\n",
    "R.datatitles"
   ]
  },
  {
   "cell_type": "markdown",
   "metadata": {
    "tags": []
   },
   "source": [
    "## View public and occ compliance zones"
   ]
  },
  {
   "cell_type": "code",
   "execution_count": 5,
   "metadata": {
    "tags": []
   },
   "outputs": [
    {
     "name": "stdout",
     "output_type": "stream",
     "text": [
      "dat='SE', con=4.5\n",
      "dat='SE', con=22.5\n",
      "power=200, plotpower=200, setting=public, limit=4.5 W/m², contour level=4.500\n",
      "power=200, plotpower=200, setting=occupational, limit=22.5 W/m², contour level=22.500\n"
     ]
    }
   ],
   "source": [
    "# 3D view of public and occ exclusions zones (200W)\n",
    "# Note how parameters for multiple exclusion zones are supplied in lists []\n",
    "R.ExclusionZone(\n",
    "    data=[\"SE\", \"SE\"],\n",
    "    power=[200, 200],\n",
    "    color=[\"gold\", \"red\"],\n",
    "    alpha=[0.5, 0.8],\n",
    "    setting=[\"public\", \"occupational\"],\n",
    "    standard=[\"RPS S-1 WB\"] * 2,\n",
    "    title=\"RPS S-1 public and occupational exclusion zones for FEKO SE data\",\n",
    "    figsize=(1200,800),\n",
    "    axv=[True,False,True]\n",
    ")"
   ]
  },
  {
   "cell_type": "code",
   "execution_count": 6,
   "metadata": {},
   "outputs": [
    {
     "name": "stdout",
     "output_type": "stream",
     "text": [
      "dat='SE', con=18.0\n",
      "dat='SE', con=90.0\n",
      "power=200, plotpower=50, setting=public, limit=4.5 W/m², contour level=18.000\n",
      "power=200, plotpower=50, setting=occupational, limit=22.5 W/m², contour level=90.000\n"
     ]
    }
   ],
   "source": [
    "# Animated 3D view of public and occ exclusions zones (200W)\n",
    "# Note how parameters for multiple exclusion zones are supplied in lists []\n",
    "R.AnimatedExclusionZone(\n",
    "    data=[\"SE\", \"SE\"],\n",
    "    power=[50, 50],\n",
    "    color=[\"gold\", \"red\"],\n",
    "    alpha=[0.5, 0.5],\n",
    "    setting=[\"public\", \"occupational\"],\n",
    "    standard=[\"RPS S-1 WB\"] * 2,\n",
    "    ycut=0,\n",
    "    daz=-0.1,\n",
    "    elevation = 80,\n",
    "    distance=None,\n",
    "    title=\"\",\n",
    "    figsize=(1200,800),\n",
    "    antenna=RFcalcUC.panelAntenna,\n",
    "    axv=[False,False,False]\n",
    ")"
   ]
  },
  {
   "cell_type": "code",
   "execution_count": 5,
   "metadata": {},
   "outputs": [
    {
     "name": "stdout",
     "output_type": "stream",
     "text": [
      "dat='Smax-1.6m-17', con=11.25\n",
      "power=200, plotpower=80, setting=public, limit=4.5 W/m², contour level=11.250\n"
     ]
    }
   ],
   "source": [
    "# Show Ssa 1.6m 17pts for GitBook image\n",
    "n = 1\n",
    "R.ExclusionZone(\n",
    "    data=[\"Smax-1.6m-17\"],\n",
    "    power=[80] * n,\n",
    "    color=[\"blue\"] * n,\n",
    "    alpha=[0.4] * n,\n",
    "    setting=[\"public\"] * n,\n",
    "    standard=[\"RPS S-1 WB\"] * n,\n",
    "    title=\"Gitbook image of compliance zone\",\n",
    "    ycut=None,\n",
    "    axv=(False,False,False),\n",
    "    figsize=(1200,800),\n",
    "    bg='white'\n",
    ")"
   ]
  },
  {
   "cell_type": "code",
   "execution_count": 4,
   "metadata": {},
   "outputs": [
    {
     "name": "stdout",
     "output_type": "stream",
     "text": [
      "dat='Smax', con=11.25\n",
      "power=200, plotpower=80, setting=public, limit=4.5 W/m², contour level=11.250\n"
     ]
    }
   ],
   "source": [
    "# Show Smax for GitBook image\n",
    "n = 1\n",
    "R.ExclusionZone(\n",
    "    data=[\"Smax\"],\n",
    "    power=[80] * n,\n",
    "    color=[\"lightgrey\"] * n,\n",
    "    alpha=[0.5] * n,\n",
    "    setting=[\"public\"] * n,\n",
    "    standard=[\"RPS S-1 WB\"] * n,\n",
    "    title=\"Gitbook image of compliance zone\",\n",
    "    ycut=None,\n",
    "    axv=(False,False,False),\n",
    "    figsize=(1200,800),\n",
    "    bg='white'\n",
    ")"
   ]
  },
  {
   "cell_type": "markdown",
   "metadata": {},
   "source": [
    "## Adjust R to combine two antennas"
   ]
  },
  {
   "cell_type": "code",
   "execution_count": 29,
   "metadata": {
    "tags": []
   },
   "outputs": [
    {
     "data": {
      "text/html": [
       "<div>\n",
       "<style scoped>\n",
       "    .dataframe tbody tr th:only-of-type {\n",
       "        vertical-align: middle;\n",
       "    }\n",
       "\n",
       "    .dataframe tbody tr th {\n",
       "        vertical-align: top;\n",
       "    }\n",
       "\n",
       "    .dataframe thead th {\n",
       "        text-align: right;\n",
       "    }\n",
       "</style>\n",
       "<table border=\"1\" class=\"dataframe\">\n",
       "  <thead>\n",
       "    <tr style=\"text-align: right;\">\n",
       "      <th></th>\n",
       "      <th>x</th>\n",
       "      <th>y</th>\n",
       "      <th>z</th>\n",
       "      <th>Smax</th>\n",
       "      <th>SARwbi</th>\n",
       "      <th>Smax-1.6m-17</th>\n",
       "      <th>Smax-1.6m-5</th>\n",
       "    </tr>\n",
       "  </thead>\n",
       "  <tbody>\n",
       "    <tr>\n",
       "      <th>0</th>\n",
       "      <td>-1.0</td>\n",
       "      <td>-7.0</td>\n",
       "      <td>-3.0</td>\n",
       "      <td>0.007219</td>\n",
       "      <td>0.0</td>\n",
       "      <td>0.003416</td>\n",
       "      <td>0.003954</td>\n",
       "    </tr>\n",
       "    <tr>\n",
       "      <th>1</th>\n",
       "      <td>-1.0</td>\n",
       "      <td>-7.0</td>\n",
       "      <td>-2.9</td>\n",
       "      <td>0.007725</td>\n",
       "      <td>0.0</td>\n",
       "      <td>0.003911</td>\n",
       "      <td>0.004339</td>\n",
       "    </tr>\n",
       "    <tr>\n",
       "      <th>2</th>\n",
       "      <td>-1.0</td>\n",
       "      <td>-7.0</td>\n",
       "      <td>-2.8</td>\n",
       "      <td>0.007729</td>\n",
       "      <td>0.0</td>\n",
       "      <td>0.004615</td>\n",
       "      <td>0.004934</td>\n",
       "    </tr>\n",
       "    <tr>\n",
       "      <th>3</th>\n",
       "      <td>-1.0</td>\n",
       "      <td>-7.0</td>\n",
       "      <td>-2.7</td>\n",
       "      <td>0.007244</td>\n",
       "      <td>0.0</td>\n",
       "      <td>0.005593</td>\n",
       "      <td>0.005788</td>\n",
       "    </tr>\n",
       "    <tr>\n",
       "      <th>4</th>\n",
       "      <td>-1.0</td>\n",
       "      <td>-7.0</td>\n",
       "      <td>-2.6</td>\n",
       "      <td>0.006415</td>\n",
       "      <td>0.0</td>\n",
       "      <td>0.006896</td>\n",
       "      <td>0.008386</td>\n",
       "    </tr>\n",
       "  </tbody>\n",
       "</table>\n",
       "</div>"
      ],
      "text/plain": [
       "     x    y    z      Smax  SARwbi  Smax-1.6m-17  Smax-1.6m-5\n",
       "0 -1.0 -7.0 -3.0  0.007219     0.0      0.003416     0.003954\n",
       "1 -1.0 -7.0 -2.9  0.007725     0.0      0.003911     0.004339\n",
       "2 -1.0 -7.0 -2.8  0.007729     0.0      0.004615     0.004934\n",
       "3 -1.0 -7.0 -2.7  0.007244     0.0      0.005593     0.005788\n",
       "4 -1.0 -7.0 -2.6  0.006415     0.0      0.006896     0.008386"
      ]
     },
     "execution_count": 29,
     "metadata": {},
     "output_type": "execute_result"
    }
   ],
   "source": [
    "# Set vertical distance between antennas\n",
    "antdz = 3  # distance between antenna centres\n",
    "p2 = 0.6   # power proportion of p2 wrt p1, i.e. p2/p1 \n",
    "\n",
    "# Create R1 as deep copy of R\n",
    "import copy\n",
    "R1 = copy.deepcopy(R)\n",
    "dropcols = ['SE','SH','SARwb','phi','r']\n",
    "R1.S.drop(columns=dropcols,inplace=True)\n",
    "\n",
    "# Create R2 as deepy copy of R1 and offset z by antdz\n",
    "R2 = copy.deepcopy(R1)\n",
    "R2.S['z'] = R2.S.z + antdz\n",
    "\n",
    "# Ensure compatibility of R2.S.z with R1.S.z for later merge operation\n",
    "R2.S['z'] = R2.S.z.round(1).astype(float)\n",
    "\n",
    "# Get the field data columns\n",
    "datcols = R1.S.loc[:,\"Smax\":].columns.tolist()\n",
    "\n",
    "# merge S for R1 and R2 and fill nulls with 0\n",
    "S2 = pd.merge(R1.S,R2.S,'outer',on=['x','y','z'],suffixes=('_1','_2')).sort_values(['x','y','z'])\n",
    "S2 = S2.fillna(0)\n",
    "\n",
    "# Sum field levels of merged datcols in S2\n",
    "for col in datcols:\n",
    "    col1 = col + '_1'\n",
    "    col2 = col + '_2'\n",
    "    S2[col] = S2[col1] + p2 * S2[col2]\n",
    "\n",
    "# Sort S2 by x,y,z\n",
    "S2 = S2.sort_values(['x','y','z'])\n",
    "# display(S2[S2.Smax.isnull()])\n",
    "    \n",
    "# Get rid of  _1 and _2 columns\n",
    "cols = [col for col in S2.columns if '_' not in col]\n",
    "S2 = S2[cols]\n",
    "\n",
    "# Update R2 with S2 and other self variables relevant to the new enlarged S dataframe\n",
    "R2.S = S2\n",
    "R2.nz = len(S2.z.unique())\n",
    "R2.grid = dict(x=[t.xstart, t.xend, t.dx], \n",
    "               y=[t.ystart, t.yend, t.dy],\n",
    "               z=[t.zstart, t.zend+antdz, t.dz])\n",
    "R2.xm = R2.make_mgrid('x')\n",
    "R2.ym = R2.make_mgrid('y')\n",
    "R2.zm = R2.make_mgrid('z')\n",
    "\n",
    "R2.S.head()"
   ]
  },
  {
   "cell_type": "code",
   "execution_count": 35,
   "metadata": {},
   "outputs": [
    {
     "name": "stdout",
     "output_type": "stream",
     "text": [
      "dat='Smax-1.6m-17', con=4.5\n",
      "power=200, plotpower=200, setting=public, limit=4.5 W/m², contour level=4.500\n"
     ]
    }
   ],
   "source": [
    "R2.ExclusionZone(\n",
    "    data=[\"Smax-1.6m-17\"],\n",
    "    power=[200],\n",
    "    color=[\"blue\"],\n",
    "    alpha=[0.15],\n",
    "    setting=[\"public\"],\n",
    "    standard=[\"RPS S-1 WB\"],\n",
    "    title=\"\",\n",
    "    figsize=(1200,800),\n",
    "    bg='white',\n",
    "    axv=[False,False,False],\n",
    "    antdz=antdz\n",
    ")"
   ]
  },
  {
   "cell_type": "code",
   "execution_count": 27,
   "metadata": {},
   "outputs": [
    {
     "name": "stdout",
     "output_type": "stream",
     "text": [
      "dat='SARwbi', con=0.08\n",
      "dat='Smax-1.6m-17', con=4.5\n",
      "power=200, plotpower=200, setting=public, limit=0.08 W/kg, contour level=0.080\n",
      "power=200, plotpower=200, setting=public, limit=4.5 W/m², contour level=4.500\n"
     ]
    }
   ],
   "source": [
    "R2.ExclusionZone(\n",
    "    data=[\"SARwbi\", \"Smax-1.6m-17\"],\n",
    "    power=[200, 200],\n",
    "    color=[\"magenta\", \"blue\"],\n",
    "    alpha=[.6, 0.5],\n",
    "    setting=[\"public\", \"public\"],\n",
    "    standard=[\"RPS S-1 WB\"] * 2,\n",
    "    title=\"\",\n",
    "    figsize=(1200,800),\n",
    "    axv=[True,False,True],\n",
    "    antdz=antdz\n",
    ")"
   ]
  },
  {
   "cell_type": "markdown",
   "metadata": {},
   "source": [
    "## Scratch"
   ]
  },
  {
   "cell_type": "code",
   "execution_count": 78,
   "metadata": {},
   "outputs": [
    {
     "data": {
      "text/html": [
       "<div>\n",
       "<style scoped>\n",
       "    .dataframe tbody tr th:only-of-type {\n",
       "        vertical-align: middle;\n",
       "    }\n",
       "\n",
       "    .dataframe tbody tr th {\n",
       "        vertical-align: top;\n",
       "    }\n",
       "\n",
       "    .dataframe thead th {\n",
       "        text-align: right;\n",
       "    }\n",
       "</style>\n",
       "<table border=\"1\" class=\"dataframe\">\n",
       "  <thead>\n",
       "    <tr style=\"text-align: right;\">\n",
       "      <th></th>\n",
       "      <th>a</th>\n",
       "      <th>b</th>\n",
       "      <th>c</th>\n",
       "    </tr>\n",
       "  </thead>\n",
       "  <tbody>\n",
       "    <tr>\n",
       "      <th>0</th>\n",
       "      <td>0</td>\n",
       "      <td>1.0</td>\n",
       "      <td>2</td>\n",
       "    </tr>\n",
       "    <tr>\n",
       "      <th>1</th>\n",
       "      <td>3</td>\n",
       "      <td>NaN</td>\n",
       "      <td>5</td>\n",
       "    </tr>\n",
       "    <tr>\n",
       "      <th>2</th>\n",
       "      <td>6</td>\n",
       "      <td>7.0</td>\n",
       "      <td>8</td>\n",
       "    </tr>\n",
       "    <tr>\n",
       "      <th>3</th>\n",
       "      <td>9</td>\n",
       "      <td>10.0</td>\n",
       "      <td>11</td>\n",
       "    </tr>\n",
       "  </tbody>\n",
       "</table>\n",
       "</div>"
      ],
      "text/plain": [
       "   a     b   c\n",
       "0  0   1.0   2\n",
       "1  3   NaN   5\n",
       "2  6   7.0   8\n",
       "3  9  10.0  11"
      ]
     },
     "execution_count": 78,
     "metadata": {},
     "output_type": "execute_result"
    }
   ],
   "source": [
    "df = pd.DataFrame(np.arange(12).reshape(4,3),columns=['a','b','c'])\n",
    "df.loc[1,'b'] = np.nan\n",
    "df"
   ]
  },
  {
   "cell_type": "code",
   "execution_count": 81,
   "metadata": {},
   "outputs": [
    {
     "data": {
      "text/html": [
       "<div>\n",
       "<style scoped>\n",
       "    .dataframe tbody tr th:only-of-type {\n",
       "        vertical-align: middle;\n",
       "    }\n",
       "\n",
       "    .dataframe tbody tr th {\n",
       "        vertical-align: top;\n",
       "    }\n",
       "\n",
       "    .dataframe thead th {\n",
       "        text-align: right;\n",
       "    }\n",
       "</style>\n",
       "<table border=\"1\" class=\"dataframe\">\n",
       "  <thead>\n",
       "    <tr style=\"text-align: right;\">\n",
       "      <th></th>\n",
       "      <th>a</th>\n",
       "      <th>b</th>\n",
       "      <th>c</th>\n",
       "    </tr>\n",
       "  </thead>\n",
       "  <tbody>\n",
       "    <tr>\n",
       "      <th>1</th>\n",
       "      <td>3</td>\n",
       "      <td>NaN</td>\n",
       "      <td>5</td>\n",
       "    </tr>\n",
       "  </tbody>\n",
       "</table>\n",
       "</div>"
      ],
      "text/plain": [
       "   a   b  c\n",
       "1  3 NaN  5"
      ]
     },
     "execution_count": 81,
     "metadata": {},
     "output_type": "execute_result"
    }
   ],
   "source": [
    "df[df.b.isnull()]"
   ]
  },
  {
   "cell_type": "code",
   "execution_count": null,
   "metadata": {},
   "outputs": [],
   "source": []
  }
 ],
 "metadata": {
  "hide_input": false,
  "kernelspec": {
   "display_name": "Python [conda env:mayavi]",
   "language": "python",
   "name": "conda-env-mayavi-py"
  },
  "language_info": {
   "codemirror_mode": {
    "name": "ipython",
    "version": 3
   },
   "file_extension": ".py",
   "mimetype": "text/x-python",
   "name": "python",
   "nbconvert_exporter": "python",
   "pygments_lexer": "ipython3",
   "version": "3.9.13"
  },
  "toc": {
   "base_numbering": 1,
   "nav_menu": {
    "height": "119px",
    "width": "252px"
   },
   "number_sections": true,
   "sideBar": true,
   "skip_h1_title": false,
   "title_cell": "Table of Contents",
   "title_sidebar": "Contents",
   "toc_cell": false,
   "toc_position": {},
   "toc_section_display": "block",
   "toc_window_display": true
  },
  "toc-autonumbering": false,
  "varInspector": {
   "cols": {
    "lenName": 16,
    "lenType": 16,
    "lenVar": 40
   },
   "kernels_config": {
    "python": {
     "delete_cmd_postfix": "",
     "delete_cmd_prefix": "del ",
     "library": "var_list.py",
     "varRefreshCmd": "print(var_dic_list())"
    },
    "r": {
     "delete_cmd_postfix": ") ",
     "delete_cmd_prefix": "rm(",
     "library": "var_list.r",
     "varRefreshCmd": "cat(var_dic_list()) "
    }
   },
   "types_to_exclude": [
    "module",
    "function",
    "builtin_function_or_method",
    "instance",
    "_Feature"
   ],
   "window_display": false
  }
 },
 "nbformat": 4,
 "nbformat_minor": 4
}
