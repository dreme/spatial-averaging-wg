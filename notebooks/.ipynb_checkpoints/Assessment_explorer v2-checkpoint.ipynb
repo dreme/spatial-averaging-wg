{
 "cells": [
  {
   "cell_type": "markdown",
   "id": "eb3b1ebd",
   "metadata": {},
   "source": [
    "# Exploration tool for assessment schemes in ICNIRP 2020 and RPS S-1\n",
    "author: Dr Vitas Anderson (*Two Fields Consulting*)\n",
    "\n",
    "date: 22/6/2021"
   ]
  },
  {
   "cell_type": "markdown",
   "id": "a1b9d35b",
   "metadata": {},
   "source": [
    "The function below is used to calculate the whole body point spatial distribution over height z:\n",
    "\n",
    "$\\Large L_{wbps} = \\frac{k_1}{\\textrm{cosh}(k_2(z-z_{source}))}$"
   ]
  },
  {
   "cell_type": "markdown",
   "id": "13d1154b",
   "metadata": {},
   "source": [
    "## Setup"
   ]
  },
  {
   "cell_type": "code",
   "execution_count": 1,
   "id": "b1378f24",
   "metadata": {},
   "outputs": [],
   "source": [
    "import numpy as np\n",
    "import pandas as pd\n",
    "import matplotlib.pyplot as plt\n",
    "from scipy.signal import find_peaks\n",
    "from collections import namedtuple\n",
    "from collections.abc import Iterable\n",
    "pd.options.display.max_rows = 201\n",
    "\n",
    "# use this for interactive plots\n",
    "%matplotlib ipympl\n",
    "\n",
    "# use this for static inline plots\n",
    "# %matplotlib inline"
   ]
  },
  {
   "cell_type": "markdown",
   "id": "e5c3b96f",
   "metadata": {},
   "source": [
    "## Functions"
   ]
  },
  {
   "cell_type": "code",
   "execution_count": 10,
   "id": "128f3f66",
   "metadata": {},
   "outputs": [],
   "source": [
    "def makelist(obj):\n",
    "    '''make sure obj is a list'''\n",
    "    if isinstance(obj, Iterable):\n",
    "        return list(obj)\n",
    "    else:\n",
    "        return [obj]    \n",
    "\n",
    "def ass_calc(h,nsap,fMHz,zlow,zhigh,dz,k1s,k2s,source_heights):\n",
    "    '''Function which calculates distributions over a set z height range for:\n",
    "       + point spatial limit normalised field values for whole body exposure (Lwbps)\n",
    "       + point spatial limit normalised field values for local exposure (Llocps)\n",
    "       + spatial average of the whole body Lps points (Lwbsa) over a vertical line\n",
    "       + point spatial representation of the whole body spatial averages (Lwbpssa)\n",
    "       \n",
    "       FUNCTION INPUTS:       \n",
    "          h = height of the spatial averaging window (m)\n",
    "       nsap = number of spatial averaging points [3 or 5]\n",
    "       fMHz = exposure frequency in MHz\n",
    "       zlow = lower bound of the z points (m)\n",
    "      zhigh = upper bound of the z points (m)\n",
    "        k1s = list of k1 parameters that set the peak level of the Lps distribution, \n",
    "              e.g. 2 for a single source or [2,1] for two sources\n",
    "        k2s = list of k2 parameters that set the vertical beamwidth of the Lps distribution\n",
    "              e.g. 1 for a single source or [1,2] for two sources\n",
    "        source_heights = list of heights (m) for the source(s), \n",
    "              e.g. 7 for a single source, or [10,13] for two sources\n",
    "         \n",
    "       FUNCTION OUTPUTS:\n",
    "         a named tuple, L, containing:\n",
    "           + title: an informative title for the assessment\n",
    "           + fMHz: exposure frequency in MHz\n",
    "           + labels: lables for each calculated distribution\n",
    "           + z: the z distribution points for the assessment\n",
    "           + zlow: the lower bound of the z distribution\n",
    "           + zhigh: the upper bound of the z distribution\n",
    "           + lass: a named tuple for the calculated assessments (Lwbps, Llocps, Lwbsa, Lwbpssa)\n",
    "           + nh: number of points in teh vertical averaging window\n",
    "           + df: a pandas dataframe for z and Lwbps, Llocps, Lwbsa, Lwbpssa\n",
    "      '''\n",
    "\n",
    "    ## Generate z distribution\n",
    "    nz = int((zhigh-zlow) / dz) + 1     # number of z points\n",
    "    z = np.linspace(zlow, zhigh, nz) \n",
    "\n",
    "    ## Make sure that all the source parameters are lists which are of the same length\n",
    "    k1s = makelist(k1s)\n",
    "    k2s = makelist(k2s)\n",
    "    source_heights = makelist(source_heights)   \n",
    "    assert len(k1s) == len(k2s) == len(source_heights), 'k1s, k2s and source_heights must all have the same number of elements'\n",
    "    \n",
    "    ## Generate whole body point spatial distribution (Lwbps)\n",
    "    Lwbps = np.zeros(nz)                  # initialise Lwbps array with zeros\n",
    "    for k1, k2, zs in zip(k1s, k2s, source_heights):  # loop through each source\n",
    "        Lwbps += k1 / np.cosh(k2*(z-zs))  # add artificial distribution of Lwbps for source i\n",
    "\n",
    "    ## Generate point spatial distribution for local exposure (Llocps)\n",
    "    if fMHz <= 400:\n",
    "        m = 5\n",
    "    elif fMHz < 2000:\n",
    "        m = 11.47459891 * fMHz**-0.138646884\n",
    "    else:\n",
    "        m = 4\n",
    "        \n",
    "    Llocps = Lwbps / m\n",
    "\n",
    "    ## Calculate the wb spatial average (Lwbsa) \n",
    "    nh  = int(h/dz)    # number of dz intervals within spatial averaging window\n",
    "    nh2 = int(nh/2)    # number of dz intervals within half spatial averaging window\n",
    "\n",
    "    errmsg = f'Change h ({h}), nsap ({nsap}), &/or dz ({dz}) so that spatial averaging points align with z distribution points'\n",
    "    assert nsap in [3,5], f'nsap ({nsap}) must be 3 or 5'\n",
    "    \n",
    "    # spatial averaging indices for 3 point spatial averages\n",
    "    if nsap == 3:\n",
    "        ni = int(nh / 2)   # number of dz intervals between spatial averaging points\n",
    "        assert 2*ni*dz == h, errmsg  \n",
    "        hindices = [-ni, 0, ni]    \n",
    "    # spatial averaging indices for 5 point spatial averages\n",
    "    elif nsap == 5:\n",
    "        ni = int(nh / 4)   # number of dz intervals between spatial averaging points\n",
    "        assert 4*ni*dz == h, errmsg  \n",
    "        hindices= [-2*ni, -ni, 0, ni, 2*ni]\n",
    "        \n",
    "    # convert list of indices into a numpy array    \n",
    "    hindices = np.array(hindices)  \n",
    "\n",
    "    # initialise Lwbsa array with NaN's (Not a Number)\n",
    "    Lwbsa = np.repeat(np.nan, nz)\n",
    "    \n",
    "    # calculate the mean value for the spatial averaging indices \n",
    "    for iz in range(nh2, nz-nh2):\n",
    "        Lwbsa[iz] = Lwbps[hindices + iz].mean()\n",
    "\n",
    "    ## Calculate the point spatial distribution of the wb spatial average (Lwbpssa)\n",
    "    Lwbpssa = np.repeat(np.nan, nz) # initialise Lwbpssa array with NaN's (Not a Number)\n",
    "    \n",
    "    # first pass: assign Lwbpssa values for head or feet exposure based on slope of Lwbsa curve\n",
    "    for iz in range(nh, nz-nh):       \n",
    "        # Lwbsa values increasing with height (head exposure)\n",
    "        if Lwbsa[iz+1] > Lwbsa[iz-1]:  \n",
    "            Lwbpssa[iz] = Lwbsa[iz-nh2]\n",
    "            \n",
    "        # Lwbsa values decreasing with height (feet exposure)\n",
    "        else:\n",
    "            Lwbpssa[iz] = Lwbsa[iz+nh2]\n",
    "    \n",
    "    # second pass: assign max Lwbsa value at the point where exposure Lwbsa peaks,\n",
    "    # where spatial averaging window exposure changes between head and feet\n",
    "    ipeaks, _ = find_peaks(Lwbsa)  # get indices of local peaks of Lwbsa values    \n",
    "    for iz in ipeaks:\n",
    "        Lwbpssa[iz] = Lwbsa[iz]\n",
    "        \n",
    "    # third pass: assign minimum Lwbsa value for the length of the spatial averaging window\n",
    "    # where Lwbsa is a minimum\n",
    "    itroughs, _ = find_peaks(1/Lwbsa)  # get indices of local minimums of Lwbsa values\n",
    "    for iz in itroughs:\n",
    "        Lwbpssa[(iz-nh2):(iz+nh2)] = Lwbsa[iz]\n",
    "            \n",
    "    ## Create pandas dataframe of z and all assessment distributions\n",
    "    df = pd.DataFrame(dict(z=z,Lwbps=Lwbps,Llocps=Llocps,Lwbsa=Lwbsa,Lwbpssa=Lwbpssa))\n",
    "    \n",
    "    ## Create labels for the L assessment distributions\n",
    "    labels = ['wb point spatial',\n",
    "              'local point spatial',\n",
    "              'wb spatial average',\n",
    "              'wb point spatial spat. avg.']\n",
    "    \n",
    "    ## Create a title for the data set\n",
    "    title = f'{nsap} points over {h}m\\n' + '$k_1$' + f'={\",\".join(map(str,k1s))}, ' + '$k_2$' + f'={\",\".join(map(str,k2s))}, f={fMHz} MHz'\n",
    "    \n",
    "    ## Create a named tuple for all the L assessment distributions\n",
    "    Lass = namedtuple(\"Lass\", \"Lwbps, Llocps, Lwbsa, Lwbpssa\")\n",
    "    lass = Lass(Lwbps, Llocps, Lwbsa, Lwbpssa)\n",
    "    \n",
    "    ## Create a named tuple for all the output data\n",
    "    Ldata = namedtuple(\"Ldata\", \"title fMHz labels z zlow zhigh lass nh df\")\n",
    "    ldata = Ldata(title, fMHz, labels, z, zlow, zhigh, lass, nh, df)\n",
    "\n",
    "    return ldata\n",
    "\n",
    "def plotL(L):\n",
    "    '''Plot the L distributions'''\n",
    "    fig, ax = plt.subplots(figsize=(4,8))\n",
    "    for lass, label in zip(L.lass, L.labels):\n",
    "        ax.plot(lass, L.z, alpha=0.6, label=label)\n",
    "#     ax.lines[1].remove()\n",
    "#     ax.lines[0].remove()\n",
    "    ax.set_xlabel('Limit normalised field value')\n",
    "    ax.set_ylabel('z (m)')\n",
    "    ax.grid(ls='--')\n",
    "    ax.legend()\n",
    "    zmin, zmax = int(L.zlow), int(L.zhigh)\n",
    "    ax.set_yticks(range(zmin,zmax))\n",
    "    ax.set_ylim(zmin,zmax)\n",
    "    ax.set_title(L.title)\n",
    "    fig.tight_layout()\n",
    "    \n",
    "    return ax"
   ]
  },
  {
   "cell_type": "markdown",
   "id": "18815fce",
   "metadata": {
    "tags": []
   },
   "source": [
    "## Explore different configurations"
   ]
  },
  {
   "cell_type": "code",
   "execution_count": 13,
   "id": "0c294d5d",
   "metadata": {
    "tags": []
   },
   "outputs": [
    {
     "data": {
      "application/vnd.jupyter.widget-view+json": {
       "model_id": "b6714b8e148c4e5999c0f34300f587ee",
       "version_major": 2,
       "version_minor": 0
      },
      "text/plain": [
       "Canvas(toolbar=Toolbar(toolitems=[('Home', 'Reset original view', 'home', 'home'), ('Back', 'Back to previous …"
      ]
     },
     "metadata": {},
     "output_type": "display_data"
    }
   ],
   "source": [
    "plt.close('all')\n",
    "L1 = ass_calc(h=2, nsap=5, fMHz=400,\n",
    "              zlow=0, zhigh=12, dz=0.01,\n",
    "              k1s=[1,2], k2s=[2,2],\n",
    "              source_heights=[4, 8])\n",
    "\n",
    "plotL(L1);\n",
    "plt.savefig(\"../plots/2 source 5 pts far peaks.png\",dpi=100)"
   ]
  },
  {
   "cell_type": "code",
   "execution_count": 14,
   "id": "fdef8ab4-6a6c-46ff-9fe3-ccf08e83c395",
   "metadata": {
    "tags": []
   },
   "outputs": [
    {
     "data": {
      "application/vnd.jupyter.widget-view+json": {
       "model_id": "c61a2c8467654aa9a8a753602870f9be",
       "version_major": 2,
       "version_minor": 0
      },
      "text/plain": [
       "Canvas(toolbar=Toolbar(toolitems=[('Home', 'Reset original view', 'home', 'home'), ('Back', 'Back to previous …"
      ]
     },
     "metadata": {},
     "output_type": "display_data"
    }
   ],
   "source": [
    "plt.close('all')\n",
    "L1 = ass_calc(h=2, nsap=5, fMHz=400,\n",
    "              zlow=0, zhigh=12, dz=0.01,\n",
    "              k1s=[1,2], k2s=[2,2],\n",
    "              source_heights=[4, 6])\n",
    "\n",
    "plotL(L1);\n",
    "plt.savefig(\"../plots/2 source 5 pts close peaks.png\",dpi=100)"
   ]
  },
  {
   "cell_type": "code",
   "execution_count": 30,
   "id": "e89ab323",
   "metadata": {},
   "outputs": [],
   "source": [
    "plt.gcf().savefig(\"../plots/2 source 5 pts.png\",dpi=300)"
   ]
  },
  {
   "cell_type": "code",
   "execution_count": 31,
   "id": "95448d7c",
   "metadata": {
    "tags": []
   },
   "outputs": [
    {
     "name": "stdout",
     "output_type": "stream",
     "text": [
      "50 70\n"
     ]
    },
    {
     "data": {
      "application/vnd.jupyter.widget-view+json": {
       "model_id": "b4902b800cf04a2da96725d1807ec7d3",
       "version_major": 2,
       "version_minor": 0
      },
      "text/plain": [
       "Canvas(toolbar=Toolbar(toolitems=[('Home', 'Reset original view', 'home', 'home'), ('Back', 'Back to previous …"
      ]
     },
     "metadata": {},
     "output_type": "display_data"
    }
   ],
   "source": [
    "plt.close('all')\n",
    "L1 = ass_calc(h=2, nsap=3, fMHz=400,\n",
    "              zlow=0, zhigh=12, dz=0.1,\n",
    "              k1s=[1]*2, k2s=[2]*2,\n",
    "              source_heights=[4, 8])\n",
    "\n",
    "plotL(L1);"
   ]
  },
  {
   "cell_type": "markdown",
   "id": "88657376",
   "metadata": {
    "tags": []
   },
   "source": [
    "## Vary $k_1$ and $k_2$ "
   ]
  },
  {
   "cell_type": "code",
   "execution_count": 32,
   "id": "2357a2f3",
   "metadata": {
    "tags": []
   },
   "outputs": [
    {
     "data": {
      "application/vnd.jupyter.widget-view+json": {
       "model_id": "e1bf1e0fd9c24319aba57127e4375d6e",
       "version_major": 2,
       "version_minor": 0
      },
      "text/plain": [
       "Canvas(toolbar=Toolbar(toolitems=[('Home', 'Reset original view', 'home', 'home'), ('Back', 'Back to previous …"
      ]
     },
     "metadata": {},
     "output_type": "display_data"
    }
   ],
   "source": [
    "fig, axes = plt.subplots(1,4,figsize=(9,8))\n",
    "for j, (k1,k2) in enumerate(zip([1,1,1,2],[0.5,1,2,1])):\n",
    "    \n",
    "    # Calculate the assesments\n",
    "    L = ass_calc(h=2, nsap=5, fMHz=400,\n",
    "                 zlow=0, zhigh=20, dz=0.1,\n",
    "                 k1s=k1, k2s=k2,\n",
    "                 source_heights=10)\n",
    "    \n",
    "    # Create the plots\n",
    "    ax = axes[j]\n",
    "    ax.plot(L.lass.Lwbps, L.z, alpha=0.7, label=L.labels[0])\n",
    "    ax.set_xlabel('Limit normalised field value')\n",
    "    ax.set_ylabel('z (m)')\n",
    "    ax.grid(ls='--')\n",
    "    ax.legend(fontsize=8,loc='upper right')\n",
    "    zmin, zmax = int(L.zlow), int(L.zhigh)\n",
    "    ax.set_yticks(range(zmin,zmax))\n",
    "    ax.set_ylim(zmin,zmax)\n",
    "    ax.set_title(L.title, fontsize=10)\n",
    "    \n",
    "fig.tight_layout(w_pad=2)\n",
    "# fig.savefig('../plots/k1 k2 plots.png', dpi=100)\n",
    "        "
   ]
  },
  {
   "cell_type": "markdown",
   "id": "b2f61bfc",
   "metadata": {
    "tags": []
   },
   "source": [
    "## Vary nsap and $k_2$ for a <u>single</u> source"
   ]
  },
  {
   "cell_type": "code",
   "execution_count": 34,
   "id": "41ed612f",
   "metadata": {
    "tags": []
   },
   "outputs": [
    {
     "data": {
      "application/vnd.jupyter.widget-view+json": {
       "model_id": "479e8f41d26e4b38bf657a9716a4982c",
       "version_major": 2,
       "version_minor": 0
      },
      "text/plain": [
       "Canvas(toolbar=Toolbar(toolitems=[('Home', 'Reset original view', 'home', 'home'), ('Back', 'Back to previous …"
      ]
     },
     "metadata": {},
     "output_type": "display_data"
    }
   ],
   "source": [
    "fig, axes = plt.subplots(2,3,figsize=(9,12))\n",
    "for i, nsap in enumerate([3,5]):\n",
    "    for j, k2 in enumerate([2, 1, 0.5]):\n",
    "        \n",
    "        # Calculate the assessments\n",
    "        L = ass_calc(h=2, nsap=nsap, fMHz=400,\n",
    "                     zlow=0, zhigh=20, dz=0.01,\n",
    "                     k1s=1, k2s=k2,\n",
    "                     source_heights=10)\n",
    "        \n",
    "        # Create the plots \n",
    "        ax = axes[i,j]\n",
    "        for lass, label in zip(L.lass, L.labels):\n",
    "            ax.plot(lass, L.z, alpha=0.7, label=label)\n",
    "        ax.set_xlabel('Limit normalised field value')\n",
    "        ax.set_ylabel('z (m)')\n",
    "        ax.grid(ls='--')\n",
    "        ax.legend(fontsize=8,loc='upper right')\n",
    "        zmin, zmax = int(L.zlow), int(L.zhigh)\n",
    "        ax.set_yticks(range(zmin,zmax))\n",
    "        ax.set_ylim(zmin,zmax)\n",
    "        ax.set_title(L.title,fontsize=10)\n",
    "        \n",
    "    fig.tight_layout(h_pad=4,w_pad=2)\n",
    "\n",
    "# fig.savefig('../plots/nsap k2 plots 1source.png', dpi=100)        "
   ]
  },
  {
   "cell_type": "markdown",
   "id": "4271cec6",
   "metadata": {
    "tags": []
   },
   "source": [
    "## Vary nsap and $k_2$ for <u>two</u> sources"
   ]
  },
  {
   "cell_type": "code",
   "execution_count": 35,
   "id": "788365d3",
   "metadata": {
    "tags": []
   },
   "outputs": [
    {
     "data": {
      "application/vnd.jupyter.widget-view+json": {
       "model_id": "5e66280769b647238c99645402699705",
       "version_major": 2,
       "version_minor": 0
      },
      "text/plain": [
       "Canvas(toolbar=Toolbar(toolitems=[('Home', 'Reset original view', 'home', 'home'), ('Back', 'Back to previous …"
      ]
     },
     "metadata": {},
     "output_type": "display_data"
    },
    {
     "name": "stdout",
     "output_type": "stream",
     "text": [
      "900 1100\n",
      "900 1100\n",
      "900 1100\n",
      "900 1100\n",
      "900 1100\n",
      "900 1100\n"
     ]
    }
   ],
   "source": [
    "fig, axes = plt.subplots(2,3,figsize=(9,12))\n",
    "for i, nsap in enumerate([3,5]):\n",
    "    for j, k2 in enumerate([2, 1, 0.5]):\n",
    "\n",
    "        # Calculate the assessments\n",
    "        L = ass_calc(h=2, nsap=nsap, fMHz=400,\n",
    "                     zlow=0, zhigh=20, dz=0.01,\n",
    "                     k1s=[1]*2, k2s=[k2]*2,\n",
    "                     source_heights=[7,13])\n",
    "        \n",
    "        # Create the plots\n",
    "        ax = axes[i,j]\n",
    "        for lass, label in zip(L.lass, L.labels):\n",
    "            ax.plot(lass, L.z, alpha=0.7, label=label)\n",
    "        ax.set_xlabel('Limit normalised field value')\n",
    "        ax.set_ylabel('z (m)')\n",
    "        ax.grid(ls='--')\n",
    "        ax.legend(fontsize=8,loc='upper right')\n",
    "        zmin, zmax = int(L.zlow), int(L.zhigh)\n",
    "        ax.set_yticks(range(zmin,zmax))\n",
    "        ax.set_ylim(zmin,zmax)\n",
    "        ax.set_title(L.title)\n",
    "    fig.tight_layout(h_pad=4,w_pad=2)\n",
    "\n",
    "# fig.savefig('../plots/nsap k2 plots 2source.png', dpi=100)\n",
    "    "
   ]
  },
  {
   "cell_type": "markdown",
   "id": "92deaed4",
   "metadata": {},
   "source": [
    "## Scratch\n",
    "*for testing out code ...*"
   ]
  },
  {
   "cell_type": "code",
   "execution_count": 36,
   "id": "7d0b0bb4",
   "metadata": {},
   "outputs": [
    {
     "data": {
      "text/html": [
       "<div>\n",
       "<style scoped>\n",
       "    .dataframe tbody tr th:only-of-type {\n",
       "        vertical-align: middle;\n",
       "    }\n",
       "\n",
       "    .dataframe tbody tr th {\n",
       "        vertical-align: top;\n",
       "    }\n",
       "\n",
       "    .dataframe thead th {\n",
       "        text-align: right;\n",
       "    }\n",
       "</style>\n",
       "<table border=\"1\" class=\"dataframe\">\n",
       "  <thead>\n",
       "    <tr style=\"text-align: right;\">\n",
       "      <th></th>\n",
       "      <th>z</th>\n",
       "      <th>Lwbps</th>\n",
       "      <th>Llocps</th>\n",
       "      <th>Lwbsa</th>\n",
       "      <th>Lwbpssa</th>\n",
       "    </tr>\n",
       "  </thead>\n",
       "  <tbody>\n",
       "    <tr>\n",
       "      <th>40</th>\n",
       "      <td>4.0</td>\n",
       "      <td>1.000671</td>\n",
       "      <td>0.200134</td>\n",
       "      <td>0.512441</td>\n",
       "      <td>0.512441</td>\n",
       "    </tr>\n",
       "    <tr>\n",
       "      <th>80</th>\n",
       "      <td>8.0</td>\n",
       "      <td>1.000671</td>\n",
       "      <td>0.200134</td>\n",
       "      <td>0.512441</td>\n",
       "      <td>0.512441</td>\n",
       "    </tr>\n",
       "  </tbody>\n",
       "</table>\n",
       "</div>"
      ],
      "text/plain": [
       "      z     Lwbps    Llocps     Lwbsa   Lwbpssa\n",
       "40  4.0  1.000671  0.200134  0.512441  0.512441\n",
       "80  8.0  1.000671  0.200134  0.512441  0.512441"
      ]
     },
     "metadata": {},
     "output_type": "display_data"
    }
   ],
   "source": [
    "# find local peaks\n",
    "ipeaks, _ = find_peaks(L1.lass.Lwbsa)\n",
    "display(L1.df.iloc[ipeaks,:])"
   ]
  },
  {
   "cell_type": "code",
   "execution_count": 38,
   "id": "8d877d06-5dee-43ea-a29f-4cfb4d3a1034",
   "metadata": {},
   "outputs": [
    {
     "data": {
      "text/html": [
       "<div>\n",
       "<style scoped>\n",
       "    .dataframe tbody tr th:only-of-type {\n",
       "        vertical-align: middle;\n",
       "    }\n",
       "\n",
       "    .dataframe tbody tr th {\n",
       "        vertical-align: top;\n",
       "    }\n",
       "\n",
       "    .dataframe thead th {\n",
       "        text-align: right;\n",
       "    }\n",
       "</style>\n",
       "<table border=\"1\" class=\"dataframe\">\n",
       "  <thead>\n",
       "    <tr style=\"text-align: right;\">\n",
       "      <th></th>\n",
       "      <th>z</th>\n",
       "      <th>Lwbps</th>\n",
       "      <th>Llocps</th>\n",
       "      <th>Lwbsa</th>\n",
       "      <th>Lwbpssa</th>\n",
       "    </tr>\n",
       "  </thead>\n",
       "  <tbody>\n",
       "    <tr>\n",
       "      <th>60</th>\n",
       "      <td>6.0</td>\n",
       "      <td>0.073238</td>\n",
       "      <td>0.014648</td>\n",
       "      <td>0.204919</td>\n",
       "      <td>0.204919</td>\n",
       "    </tr>\n",
       "  </tbody>\n",
       "</table>\n",
       "</div>"
      ],
      "text/plain": [
       "      z     Lwbps    Llocps     Lwbsa   Lwbpssa\n",
       "60  6.0  0.073238  0.014648  0.204919  0.204919"
      ]
     },
     "metadata": {},
     "output_type": "display_data"
    }
   ],
   "source": [
    "# find local troughs\n",
    "ipeaks, _ = find_peaks(1/L1.lass.Lwbsa)\n",
    "display(L1.df.iloc[ipeaks,:])"
   ]
  },
  {
   "cell_type": "markdown",
   "id": "be0e267e",
   "metadata": {},
   "source": [
    "#### Create plot of what I *think* the $L_{wbpssa}$ curve should look like"
   ]
  },
  {
   "cell_type": "code",
   "execution_count": 39,
   "id": "b772ce10",
   "metadata": {
    "tags": []
   },
   "outputs": [
    {
     "name": "stdout",
     "output_type": "stream",
     "text": [
      "50 70\n"
     ]
    },
    {
     "data": {
      "application/vnd.jupyter.widget-view+json": {
       "model_id": "2d85eb33713b4a0581250126c00c1bcb",
       "version_major": 2,
       "version_minor": 0
      },
      "text/plain": [
       "Canvas(toolbar=Toolbar(toolitems=[('Home', 'Reset original view', 'home', 'home'), ('Back', 'Back to previous …"
      ]
     },
     "metadata": {},
     "output_type": "display_data"
    }
   ],
   "source": [
    "# Create an assessment \n",
    "L2 = ass_calc(h=2, nsap=5, fMHz=400,\n",
    "              zlow=0, zhigh=12, dz=0.1,\n",
    "              k1s=[4]*2, k2s=[2]*2,\n",
    "              source_heights=[4, 8])\n",
    "\n",
    "# Extract assessment details\n",
    "Lwbsa = L2.lass.Lwbsa\n",
    "z = L2.z\n",
    "nz = len(z)\n",
    "nh = L2.nh\n",
    "nh2 = int(nh/2)\n",
    "\n",
    "# Create curve for upper averaging window bound of the Lwbsa curve \n",
    "Lup = np.repeat(np.nan,nz)\n",
    "Lup[nh2:] = Lwbsa[:-nh2]\n",
    "\n",
    "# Create curve for lower averaging window bound of the Lwbsa curve \n",
    "Llow = np.repeat(np.nan,nz)\n",
    "Llow[:-nh2] = Lwbsa[nh2:]\n",
    "\n",
    "# Create curve for what I *think* the Lwbpssa curve should be\n",
    "Lwbpssa = np.repeat(np.nan,nz)\n",
    "mask = z >= 8\n",
    "Lwbpssa[mask] = Llow[mask]\n",
    "mask = (z < 8) & (z > 7)\n",
    "Lwbpssa[mask] = Lup[mask]\n",
    "mask = (z <= 7) & (z >= 5)\n",
    "Lwbpssa[mask] = Lwbsa[z==6]\n",
    "mask = (z < 5) & (z >= 4)\n",
    "Lwbpssa[mask] = Llow[mask]\n",
    "mask = z < 4\n",
    "Lwbpssa[mask] = Lup[mask]\n",
    "mask = z == 8\n",
    "Lwbpssa[mask] = Lwbsa[mask]\n",
    "mask = z == 4\n",
    "Lwbpssa[mask] = Lwbsa[mask]\n",
    "\n",
    "# Plot curves\n",
    "c = 'palegreen'\n",
    "fig, ax = plt.subplots(figsize=(4,8))\n",
    "ax.plot(Lwbsa, z, color='g', lw=2, label='Lwbsa')\n",
    "ax.plot(Lup, z, alpha=0.4, color=c,ls='-',label=None)\n",
    "ax.plot(Llow, z, alpha=0.4, color=c,ls='--',label=None)\n",
    "ax.plot(Lwbpssa, z, color='r', lw=2, label='Lwbpssa')\n",
    "ax.vlines(Lwbsa, z-1, z+1, color=c,alpha=0.3,lw=3)\n",
    "ax.set_xlabel('Limit normalised field value')\n",
    "ax.set_ylabel('z (m)')\n",
    "ax.grid(ls='--')\n",
    "ax.legend()\n",
    "zmin, zmax = int(L2.zlow), int(L2.zhigh)\n",
    "ax.set_yticks(range(zmin,zmax))\n",
    "ax.set_ylim(zmin,zmax)\n",
    "ax.set_title(L2.title)\n",
    "fig.tight_layout()\n",
    "\n",
    "\n"
   ]
  },
  {
   "cell_type": "markdown",
   "id": "180aef5a",
   "metadata": {},
   "source": [
    "#### Martin's scheme"
   ]
  },
  {
   "cell_type": "code",
   "execution_count": 15,
   "id": "a1c4d33e",
   "metadata": {
    "tags": []
   },
   "outputs": [
    {
     "data": {
      "application/vnd.jupyter.widget-view+json": {
       "model_id": "b369805ba55e4977b6bca8b0ceef18d3",
       "version_major": 2,
       "version_minor": 0
      },
      "text/plain": [
       "Canvas(toolbar=Toolbar(toolitems=[('Home', 'Reset original view', 'home', 'home'), ('Back', 'Back to previous …"
      ]
     },
     "metadata": {},
     "output_type": "display_data"
    }
   ],
   "source": [
    "# Create an assessment \n",
    "L3 = ass_calc(h=2, nsap=5, fMHz=400,\n",
    "              zlow=0, zhigh=17, dz=0.01,\n",
    "              k1s=[3,2], k2s=[2,1],\n",
    "              source_heights=[4, 10])\n",
    "\n",
    "# Extract assessment details\n",
    "Lwbsa = L3.lass.Lwbps\n",
    "z = L3.z\n",
    "nz = len(z)\n",
    "nh = L3.nh\n",
    "nh2 = int(nh/2)\n",
    "\n",
    "plotL(L3)\n",
    "plt.gca().vlines(1,L3.zlow,L3.zhigh,color='r',ls='--');"
   ]
  },
  {
   "cell_type": "code",
   "execution_count": 17,
   "id": "429bead1",
   "metadata": {},
   "outputs": [],
   "source": [
    "plt.savefig('../plots/Martin example.png', dpi=100)        "
   ]
  },
  {
   "cell_type": "code",
   "execution_count": null,
   "id": "74dacb1d-f429-4477-bdd4-a210d3e6b5aa",
   "metadata": {},
   "outputs": [],
   "source": []
  }
 ],
 "metadata": {
  "kernelspec": {
   "display_name": "Python 3",
   "language": "python",
   "name": "python3"
  },
  "language_info": {
   "codemirror_mode": {
    "name": "ipython",
    "version": 3
   },
   "file_extension": ".py",
   "mimetype": "text/x-python",
   "name": "python",
   "nbconvert_exporter": "python",
   "pygments_lexer": "ipython3",
   "version": "3.8.10"
  }
 },
 "nbformat": 4,
 "nbformat_minor": 5
}
