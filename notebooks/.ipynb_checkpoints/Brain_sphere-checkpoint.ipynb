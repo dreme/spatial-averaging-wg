{
 "cells": [
  {
   "cell_type": "markdown",
   "id": "44a5275c-b770-4b98-a97b-9df29e5700d5",
   "metadata": {},
   "source": [
    "# Brain sphere SAR surface integral\n",
    "This notebook processes old MMP data files for calculating the WBA SAR of a brain sphere canonical problem using a surface integral of the time averaged Poynting vector.\n",
    "\n",
    "See: `OneDrive\\IT\\Python\\jupyter_notebooks\\@Projects\\spatial-averaging-wg\\antennas\\brain sphere`\n",
    "\n",
    "And: `OneDrive\\@my work\\EMF & thermal modelling\\MMP_NT\\DATA\\canonical\\XFDTD_spheres`"
   ]
  },
  {
   "cell_type": "markdown",
   "id": "10f52d95-27f3-48f9-9175-56f256b53c3f",
   "metadata": {},
   "source": [
    "## Set up"
   ]
  },
  {
   "cell_type": "code",
   "execution_count": 1,
   "id": "c6b15977-7919-4ca9-8bee-8fce5bc482e5",
   "metadata": {},
   "outputs": [],
   "source": [
    "# import mayavi mlab\n",
    "from traits.etsconfig.api import ETSConfig\n",
    "ETSConfig.toolkit = 'qt4'  # the 'qt4' option actually denotes qt4 and qt5\n",
    "from mayavi import mlab\n",
    "\n",
    "# import other modules\n",
    "import matplotlib.pyplot as plt\n",
    "import numpy as np\n",
    "import pandas as pd\n",
    "import seaborn as sn"
   ]
  },
  {
   "cell_type": "markdown",
   "id": "1773ebd4-c64f-4fb7-86c4-97594d223a01",
   "metadata": {},
   "source": [
    "## Import data from integral file\n",
    "The imported file is the integral input section from `mmp_3di.400`.\n",
    "\n",
    "Here we want to see how the surface points are distributed."
   ]
  },
  {
   "cell_type": "code",
   "execution_count": 2,
   "id": "9e87a064-4b1a-44ce-a8fc-7f14a51665d0",
   "metadata": {},
   "outputs": [
    {
     "data": {
      "text/html": [
       "<div>\n",
       "<style scoped>\n",
       "    .dataframe tbody tr th:only-of-type {\n",
       "        vertical-align: middle;\n",
       "    }\n",
       "\n",
       "    .dataframe tbody tr th {\n",
       "        vertical-align: top;\n",
       "    }\n",
       "\n",
       "    .dataframe thead th {\n",
       "        text-align: right;\n",
       "    }\n",
       "</style>\n",
       "<table border=\"1\" class=\"dataframe\">\n",
       "  <thead>\n",
       "    <tr style=\"text-align: right;\">\n",
       "      <th></th>\n",
       "      <th>x</th>\n",
       "      <th>y</th>\n",
       "      <th>z</th>\n",
       "    </tr>\n",
       "  </thead>\n",
       "  <tbody>\n",
       "    <tr>\n",
       "      <th>0</th>\n",
       "      <td>0.099981</td>\n",
       "      <td>0.001388</td>\n",
       "      <td>0.001388</td>\n",
       "    </tr>\n",
       "    <tr>\n",
       "      <th>3</th>\n",
       "      <td>0.099827</td>\n",
       "      <td>0.005439</td>\n",
       "      <td>0.002253</td>\n",
       "    </tr>\n",
       "    <tr>\n",
       "      <th>6</th>\n",
       "      <td>0.099518</td>\n",
       "      <td>0.009613</td>\n",
       "      <td>0.001912</td>\n",
       "    </tr>\n",
       "    <tr>\n",
       "      <th>9</th>\n",
       "      <td>0.099057</td>\n",
       "      <td>0.013533</td>\n",
       "      <td>0.002143</td>\n",
       "    </tr>\n",
       "    <tr>\n",
       "      <th>12</th>\n",
       "      <td>0.098443</td>\n",
       "      <td>0.017469</td>\n",
       "      <td>0.001968</td>\n",
       "    </tr>\n",
       "    <tr>\n",
       "      <th>...</th>\n",
       "      <td>...</td>\n",
       "      <td>...</td>\n",
       "      <td>...</td>\n",
       "    </tr>\n",
       "    <tr>\n",
       "      <th>6111</th>\n",
       "      <td>0.001963</td>\n",
       "      <td>-0.098424</td>\n",
       "      <td>0.017576</td>\n",
       "    </tr>\n",
       "    <tr>\n",
       "      <th>6114</th>\n",
       "      <td>0.001963</td>\n",
       "      <td>-0.099038</td>\n",
       "      <td>0.013699</td>\n",
       "    </tr>\n",
       "    <tr>\n",
       "      <th>6117</th>\n",
       "      <td>0.001963</td>\n",
       "      <td>-0.099499</td>\n",
       "      <td>0.009800</td>\n",
       "    </tr>\n",
       "    <tr>\n",
       "      <th>6120</th>\n",
       "      <td>0.001963</td>\n",
       "      <td>-0.099807</td>\n",
       "      <td>0.005886</td>\n",
       "    </tr>\n",
       "    <tr>\n",
       "      <th>6123</th>\n",
       "      <td>0.001963</td>\n",
       "      <td>-0.099961</td>\n",
       "      <td>0.001963</td>\n",
       "    </tr>\n",
       "  </tbody>\n",
       "</table>\n",
       "<p>2042 rows × 3 columns</p>\n",
       "</div>"
      ],
      "text/plain": [
       "             x         y         z\n",
       "0     0.099981  0.001388  0.001388\n",
       "3     0.099827  0.005439  0.002253\n",
       "6     0.099518  0.009613  0.001912\n",
       "9     0.099057  0.013533  0.002143\n",
       "12    0.098443  0.017469  0.001968\n",
       "...        ...       ...       ...\n",
       "6111  0.001963 -0.098424  0.017576\n",
       "6114  0.001963 -0.099038  0.013699\n",
       "6117  0.001963 -0.099499  0.009800\n",
       "6120  0.001963 -0.099807  0.005886\n",
       "6123  0.001963 -0.099961  0.001963\n",
       "\n",
       "[2042 rows x 3 columns]"
      ]
     },
     "execution_count": 2,
     "metadata": {},
     "output_type": "execute_result"
    }
   ],
   "source": [
    "integralfile = '../antennas/brain sphere/MMP results/mmp integral input.400'\n",
    "df = pd.read_csv(integralfile,sep='\\s+',skiprows=2,names=('x','y','z'))\n",
    "df = df.iloc[::3,:]\n",
    "df"
   ]
  },
  {
   "cell_type": "markdown",
   "id": "572bfd8b-5dea-40ce-bc6a-2821ecce2ec3",
   "metadata": {},
   "source": [
    "## Display points"
   ]
  },
  {
   "cell_type": "code",
   "execution_count": 3,
   "id": "bc7f3163-3a88-4e8e-baf4-a5f820109480",
   "metadata": {},
   "outputs": [],
   "source": [
    "def showpoints(df):\n",
    "    '''Show integral points'''\n",
    "\n",
    "    # create the Mayavi figure\n",
    "    from mayavi import mlab\n",
    "    fig = mlab.figure(1, size=(1200,900), bgcolor=(0.3, 0.3, 0.3))\n",
    "    mlab.clf()\n",
    "\n",
    "    # draw the integral points\n",
    "    mlab.points3d(df.x,df.y,df.z,scale_factor=0.001,color=(1,1,0),opacity=1)\n",
    "\n",
    "    # Draw the scene\n",
    "    fig.scene.parallel_projection = True\n",
    "    mlab.show()"
   ]
  },
  {
   "cell_type": "code",
   "execution_count": 4,
   "id": "c054d662-b586-4f0c-8d8d-7b24c94e24f0",
   "metadata": {},
   "outputs": [],
   "source": [
    "showpoints(df)"
   ]
  },
  {
   "cell_type": "markdown",
   "id": "99d34375-0063-43f2-9145-ba4e7bebc817",
   "metadata": {},
   "source": [
    "The 3D visualisation shows that the surface integral was only over a **quarter** of the sphere. Hence we must multiply the SAR results by **x4**"
   ]
  },
  {
   "cell_type": "markdown",
   "id": "bf7042e1-4107-4299-8bcc-8e8a91e40b65",
   "metadata": {},
   "source": [
    "## Get SAR data"
   ]
  },
  {
   "cell_type": "code",
   "execution_count": 43,
   "id": "4fc3a63e-ab77-4f65-97c0-562c07c55ae4",
   "metadata": {},
   "outputs": [
    {
     "data": {
      "text/html": [
       "<style type=\"text/css\">\n",
       "</style>\n",
       "<table id=\"T_49fcb_\">\n",
       "  <thead>\n",
       "    <tr>\n",
       "      <th class=\"blank level0\" >&nbsp;</th>\n",
       "      <th class=\"col_heading level0 col0\" >f (MHz)</th>\n",
       "      <th class=\"col_heading level0 col1\" >P MMP</th>\n",
       "      <th class=\"col_heading level0 col2\" >P FEM</th>\n",
       "      <th class=\"col_heading level0 col3\" >P SEP</th>\n",
       "    </tr>\n",
       "  </thead>\n",
       "  <tbody>\n",
       "    <tr>\n",
       "      <th id=\"T_49fcb_level0_row0\" class=\"row_heading level0 row0\" >400</th>\n",
       "      <td id=\"T_49fcb_row0_col0\" class=\"data row0 col0\" >10</td>\n",
       "      <td id=\"T_49fcb_row0_col1\" class=\"data row0 col1\" >4.02e-08</td>\n",
       "      <td id=\"T_49fcb_row0_col2\" class=\"data row0 col2\" >4.00e-08</td>\n",
       "      <td id=\"T_49fcb_row0_col3\" class=\"data row0 col3\" >3.85e-08</td>\n",
       "    </tr>\n",
       "    <tr>\n",
       "      <th id=\"T_49fcb_level0_row1\" class=\"row_heading level0 row1\" >401</th>\n",
       "      <td id=\"T_49fcb_row1_col0\" class=\"data row1 col0\" >30</td>\n",
       "      <td id=\"T_49fcb_row1_col1\" class=\"data row1 col1\" >4.12e-07</td>\n",
       "      <td id=\"T_49fcb_row1_col2\" class=\"data row1 col2\" >4.08e-07</td>\n",
       "      <td id=\"T_49fcb_row1_col3\" class=\"data row1 col3\" >3.93e-07</td>\n",
       "    </tr>\n",
       "    <tr>\n",
       "      <th id=\"T_49fcb_level0_row2\" class=\"row_heading level0 row2\" >402</th>\n",
       "      <td id=\"T_49fcb_row2_col0\" class=\"data row2 col0\" >100</td>\n",
       "      <td id=\"T_49fcb_row2_col1\" class=\"data row2 col1\" >5.20e-05</td>\n",
       "      <td id=\"T_49fcb_row2_col2\" class=\"data row2 col2\" >7.19e-06</td>\n",
       "      <td id=\"T_49fcb_row2_col3\" class=\"data row2 col3\" >6.89e-06</td>\n",
       "    </tr>\n",
       "    <tr>\n",
       "      <th id=\"T_49fcb_level0_row3\" class=\"row_heading level0 row3\" >403</th>\n",
       "      <td id=\"T_49fcb_row3_col0\" class=\"data row3 col0\" >300</td>\n",
       "      <td id=\"T_49fcb_row3_col1\" class=\"data row3 col1\" >3.60e-05</td>\n",
       "      <td id=\"T_49fcb_row3_col2\" class=\"data row3 col2\" >3.58e-05</td>\n",
       "      <td id=\"T_49fcb_row3_col3\" class=\"data row3 col3\" >3.51e-05</td>\n",
       "    </tr>\n",
       "    <tr>\n",
       "      <th id=\"T_49fcb_level0_row4\" class=\"row_heading level0 row4\" >404</th>\n",
       "      <td id=\"T_49fcb_row4_col0\" class=\"data row4 col0\" >1000</td>\n",
       "      <td id=\"T_49fcb_row4_col1\" class=\"data row4 col1\" >3.69e-05</td>\n",
       "      <td id=\"T_49fcb_row4_col2\" class=\"data row4 col2\" >nan</td>\n",
       "      <td id=\"T_49fcb_row4_col3\" class=\"data row4 col3\" >3.66e-05</td>\n",
       "    </tr>\n",
       "    <tr>\n",
       "      <th id=\"T_49fcb_level0_row5\" class=\"row_heading level0 row5\" >405</th>\n",
       "      <td id=\"T_49fcb_row5_col0\" class=\"data row5 col0\" >3000</td>\n",
       "      <td id=\"T_49fcb_row5_col1\" class=\"data row5 col1\" >2.86e-05</td>\n",
       "      <td id=\"T_49fcb_row5_col2\" class=\"data row5 col2\" >nan</td>\n",
       "      <td id=\"T_49fcb_row5_col3\" class=\"data row5 col3\" >2.86e-05</td>\n",
       "    </tr>\n",
       "  </tbody>\n",
       "</table>\n"
      ],
      "text/plain": [
       "<pandas.io.formats.style.Styler at 0x26862906940>"
      ]
     },
     "execution_count": 43,
     "metadata": {},
     "output_type": "execute_result"
    }
   ],
   "source": [
    "# Get the MMP results\n",
    "dfr = pd.DataFrame(columns=['f (MHz)','P MMP'])\n",
    "filenums = [400,401,402,403,404,405]\n",
    "fMHz = [10,30,100,300,1000,3000]\n",
    "\n",
    "for filenum, f in zip(filenums, fMHz):\n",
    "    integral_result_file = '../antennas/brain sphere/MMP results/mmp_int.' + str(filenum)\n",
    "    \n",
    "    # Only read in the real component of the power\n",
    "    dfi = pd.read_csv(integral_result_file, skiprows=1, sep='\\s+',\n",
    "                      usecols=[0], names=['P MMP'])\n",
    "    \n",
    "    # Multiply Power result by x4 due to symmetry planes\n",
    "    dfi['P MMP'] = -4 * dfi['P MMP']\n",
    "    \n",
    "    # Add frequency in MHz and trial number index\n",
    "    dfi['f (MHz)'] = f\n",
    "    dfi.index = [filenum]\n",
    "    \n",
    "    # Append the results\n",
    "    dfr = dfr.append(dfi)\n",
    "    \n",
    "# Get Danie's results\n",
    "dfr['P FEM'] = [4.00E-8, 4.08E-7,7.19E-6,3.58E-5,np.nan,np.nan]\n",
    "dfr['P SEP'] = [3.85E-8,3.93E-7,6.89E-6,3.51E-5,3.66E-5,2.86E-5]\n",
    "\n",
    "# Styled output\n",
    "style = '{:.2e}'\n",
    "dfr.style.format({'P MMP':style,'P FEM':style,'P SEP':style})"
   ]
  },
  {
   "cell_type": "code",
   "execution_count": 75,
   "id": "55642d9a-c2ff-4875-b6f2-1444a490ced2",
   "metadata": {},
   "outputs": [
    {
     "data": {
      "text/html": [
       "<style type=\"text/css\">\n",
       "</style>\n",
       "<table id=\"T_b47ee_\">\n",
       "  <thead>\n",
       "    <tr>\n",
       "      <th class=\"blank level0\" >&nbsp;</th>\n",
       "      <th class=\"col_heading level0 col0\" >f (MHz)</th>\n",
       "      <th class=\"col_heading level0 col1\" >P MMP</th>\n",
       "      <th class=\"col_heading level0 col2\" >P FEM</th>\n",
       "      <th class=\"col_heading level0 col3\" >P SEP</th>\n",
       "      <th class=\"col_heading level0 col4\" >FEM dBerr</th>\n",
       "      <th class=\"col_heading level0 col5\" >SEP dBerr</th>\n",
       "    </tr>\n",
       "  </thead>\n",
       "  <tbody>\n",
       "    <tr>\n",
       "      <th id=\"T_b47ee_level0_row0\" class=\"row_heading level0 row0\" >400</th>\n",
       "      <td id=\"T_b47ee_row0_col0\" class=\"data row0 col0\" >10</td>\n",
       "      <td id=\"T_b47ee_row0_col1\" class=\"data row0 col1\" >4.02e-08</td>\n",
       "      <td id=\"T_b47ee_row0_col2\" class=\"data row0 col2\" >4.00e-08</td>\n",
       "      <td id=\"T_b47ee_row0_col3\" class=\"data row0 col3\" >3.85e-08</td>\n",
       "      <td id=\"T_b47ee_row0_col4\" class=\"data row0 col4\" >-0.02</td>\n",
       "      <td id=\"T_b47ee_row0_col5\" class=\"data row0 col5\" >-0.19</td>\n",
       "    </tr>\n",
       "    <tr>\n",
       "      <th id=\"T_b47ee_level0_row1\" class=\"row_heading level0 row1\" >401</th>\n",
       "      <td id=\"T_b47ee_row1_col0\" class=\"data row1 col0\" >30</td>\n",
       "      <td id=\"T_b47ee_row1_col1\" class=\"data row1 col1\" >4.12e-07</td>\n",
       "      <td id=\"T_b47ee_row1_col2\" class=\"data row1 col2\" >4.08e-07</td>\n",
       "      <td id=\"T_b47ee_row1_col3\" class=\"data row1 col3\" >3.93e-07</td>\n",
       "      <td id=\"T_b47ee_row1_col4\" class=\"data row1 col4\" >-0.04</td>\n",
       "      <td id=\"T_b47ee_row1_col5\" class=\"data row1 col5\" >-0.20</td>\n",
       "    </tr>\n",
       "    <tr>\n",
       "      <th id=\"T_b47ee_level0_row2\" class=\"row_heading level0 row2\" >402</th>\n",
       "      <td id=\"T_b47ee_row2_col0\" class=\"data row2 col0\" >100</td>\n",
       "      <td id=\"T_b47ee_row2_col1\" class=\"data row2 col1\" >5.20e-05</td>\n",
       "      <td id=\"T_b47ee_row2_col2\" class=\"data row2 col2\" >7.19e-06</td>\n",
       "      <td id=\"T_b47ee_row2_col3\" class=\"data row2 col3\" >6.89e-06</td>\n",
       "      <td id=\"T_b47ee_row2_col4\" class=\"data row2 col4\" >-8.59</td>\n",
       "      <td id=\"T_b47ee_row2_col5\" class=\"data row2 col5\" >-8.78</td>\n",
       "    </tr>\n",
       "    <tr>\n",
       "      <th id=\"T_b47ee_level0_row3\" class=\"row_heading level0 row3\" >403</th>\n",
       "      <td id=\"T_b47ee_row3_col0\" class=\"data row3 col0\" >300</td>\n",
       "      <td id=\"T_b47ee_row3_col1\" class=\"data row3 col1\" >3.60e-05</td>\n",
       "      <td id=\"T_b47ee_row3_col2\" class=\"data row3 col2\" >3.58e-05</td>\n",
       "      <td id=\"T_b47ee_row3_col3\" class=\"data row3 col3\" >3.51e-05</td>\n",
       "      <td id=\"T_b47ee_row3_col4\" class=\"data row3 col4\" >-0.03</td>\n",
       "      <td id=\"T_b47ee_row3_col5\" class=\"data row3 col5\" >-0.11</td>\n",
       "    </tr>\n",
       "    <tr>\n",
       "      <th id=\"T_b47ee_level0_row4\" class=\"row_heading level0 row4\" >404</th>\n",
       "      <td id=\"T_b47ee_row4_col0\" class=\"data row4 col0\" >1000</td>\n",
       "      <td id=\"T_b47ee_row4_col1\" class=\"data row4 col1\" >3.69e-05</td>\n",
       "      <td id=\"T_b47ee_row4_col2\" class=\"data row4 col2\" >nan</td>\n",
       "      <td id=\"T_b47ee_row4_col3\" class=\"data row4 col3\" >3.66e-05</td>\n",
       "      <td id=\"T_b47ee_row4_col4\" class=\"data row4 col4\" >nan</td>\n",
       "      <td id=\"T_b47ee_row4_col5\" class=\"data row4 col5\" >-0.03</td>\n",
       "    </tr>\n",
       "    <tr>\n",
       "      <th id=\"T_b47ee_level0_row5\" class=\"row_heading level0 row5\" >405</th>\n",
       "      <td id=\"T_b47ee_row5_col0\" class=\"data row5 col0\" >3000</td>\n",
       "      <td id=\"T_b47ee_row5_col1\" class=\"data row5 col1\" >2.86e-05</td>\n",
       "      <td id=\"T_b47ee_row5_col2\" class=\"data row5 col2\" >nan</td>\n",
       "      <td id=\"T_b47ee_row5_col3\" class=\"data row5 col3\" >2.86e-05</td>\n",
       "      <td id=\"T_b47ee_row5_col4\" class=\"data row5 col4\" >nan</td>\n",
       "      <td id=\"T_b47ee_row5_col5\" class=\"data row5 col5\" >-0.00</td>\n",
       "    </tr>\n",
       "  </tbody>\n",
       "</table>\n"
      ],
      "text/plain": [
       "<pandas.io.formats.style.Styler at 0x26864bc45e0>"
      ]
     },
     "execution_count": 75,
     "metadata": {},
     "output_type": "execute_result"
    }
   ],
   "source": [
    "dfr['FEM dBerr'] = 10. * np.log10(dfr['P FEM']/dfr['P MMP'])\n",
    "dfr['SEP dBerr'] = 10. * np.log10(dfr['P SEP']/dfr['P MMP'])\n",
    "style2 = '{:.2f}'\n",
    "dfr.style.format({'P MMP':style,'P FEM':style,'P SEP':style,\n",
    "                  'FEM dBerr':style2,'SEP dBerr':style2})"
   ]
  },
  {
   "cell_type": "code",
   "execution_count": 85,
   "id": "d591f9ab-9fc5-4a89-b200-fd810ccda185",
   "metadata": {},
   "outputs": [
    {
     "data": {
      "image/png": "[encoded data removed]",
      "text/plain": [
       "<Figure size 576x360 with 1 Axes>"
      ]
     },
     "metadata": {},
     "output_type": "display_data"
    }
   ],
   "source": [
    "sn.set_style(\"dark\")\n",
    "ax = dfr.plot.bar(x='f (MHz)',y=['FEM dBerr','SEP dBerr'],\n",
    "                  rot=0,figsize=(8,5));\n",
    "plt.title('dB error relative to MMP absorbed power',\n",
    "          fontsize=18,c='b')\n",
    "plt.ylabel('dB error',fontsize=14)\n",
    "plt.xlabel('frequency (MHz)',fontsize=14)\n",
    "plt.grid(ls='--')\n",
    "plt.legend(loc='center right',fontsize=12);"
   ]
  },
  {
   "cell_type": "code",
   "execution_count": null,
   "id": "9117d00d-6923-4464-915f-17956f9a6dae",
   "metadata": {},
   "outputs": [],
   "source": []
  }
 ],
 "metadata": {
  "kernelspec": {
   "display_name": "Python [conda env:mayavi]",
   "language": "python",
   "name": "conda-env-mayavi-py"
  },
  "language_info": {
   "codemirror_mode": {
    "name": "ipython",
    "version": 3
   },
   "file_extension": ".py",
   "mimetype": "text/x-python",
   "name": "python",
   "nbconvert_exporter": "python",
   "pygments_lexer": "ipython3",
   "version": "3.9.12"
  }
 },
 "nbformat": 4,
 "nbformat_minor": 5
}
