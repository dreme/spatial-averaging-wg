{
 "cells": [
  {
   "cell_type": "markdown",
   "id": "83151733-157f-497f-a1a0-8050f0011984",
   "metadata": {},
   "source": [
    "# Tissue dielectric calculator"
   ]
  },
  {
   "cell_type": "code",
   "execution_count": null,
   "id": "8902ddaf-591b-4da9-a73d-d23c49dacb2a",
   "metadata": {},
   "outputs": [],
   "source": []
  }
 ],
 "metadata": {
  "kernelspec": {
   "display_name": "Python 3 (ipykernel)",
   "language": "python",
   "name": "python3"
  },
  "language_info": {
   "codemirror_mode": {
    "name": "ipython",
    "version": 3
   },
   "file_extension": ".py",
   "mimetype": "text/x-python",
   "name": "python",
   "nbconvert_exporter": "python",
   "pygments_lexer": "ipython3",
   "version": "3.8.10"
  }
 },
 "nbformat": 4,
 "nbformat_minor": 5
}
