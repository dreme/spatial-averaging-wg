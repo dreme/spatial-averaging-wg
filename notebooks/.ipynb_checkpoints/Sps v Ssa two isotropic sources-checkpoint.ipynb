{
 "cells": [
  {
   "cell_type": "markdown",
   "id": "72abb1db-1c75-4176-b1aa-5e7bd9a12967",
   "metadata": {},
   "source": [
    "# Sps vs Ssa between two isotropic sources"
   ]
  },
  {
   "cell_type": "code",
   "execution_count": 1,
   "id": "c14964c8-f520-4e8f-9e09-2dbcbf55efa1",
   "metadata": {},
   "outputs": [],
   "source": [
    "from sympy import *\n",
    "import matplotlib.pyplot as plt\n",
    "import numpy as np"
   ]
  },
  {
   "cell_type": "code",
   "execution_count": 2,
   "id": "f136f85b-7763-43d7-a7be-c4a80f0cc960",
   "metadata": {},
   "outputs": [],
   "source": [
    "# Initialise symbols\n",
    "z, Sps, Ssa = symbols('z Sps Ssa')\n",
    "k, L, D = symbols('k L D', positive=True)"
   ]
  },
  {
   "cell_type": "code",
   "execution_count": 54,
   "id": "386ebf0a-aab6-4c75-88d7-b8ac137b9f22",
   "metadata": {},
   "outputs": [
    {
     "data": {
      "text/latex": [
       "$\\displaystyle \\frac{k}{\\left(\\frac{D}{2} + z\\right)^{2}} + \\frac{k}{\\left(- \\frac{D}{2} + z\\right)^{2}}$"
      ],
      "text/plain": [
       "k/(D/2 + z)**2 + k/(-D/2 + z)**2"
      ]
     },
     "execution_count": 54,
     "metadata": {},
     "output_type": "execute_result"
    }
   ],
   "source": [
    "# Create formula for point spatial field level of two \n",
    "# vertically colinear isotropic sources, separated by a distance D,\n",
    "# with the z origin located midway between them\n",
    "Sps = k/(z+D/2)**2 + k/(z-D/2)**2\n",
    "Sps"
   ]
  },
  {
   "cell_type": "code",
   "execution_count": 55,
   "id": "7eb78f7d-a6f8-4b6d-b209-f219626afe9d",
   "metadata": {},
   "outputs": [],
   "source": [
    "# Create Sps function\n",
    "fn_Sps = lambdify([z,D,k],Sps)"
   ]
  },
  {
   "cell_type": "code",
   "execution_count": 56,
   "id": "97ca606d-2408-4e43-938b-a61c3b55a24d",
   "metadata": {},
   "outputs": [
    {
     "data": {
      "text/latex": [
       "$\\displaystyle - \\frac{8 k \\left(z + 2\\right)}{- D^{2} + 4 \\left(z + 2\\right)^{2}} + \\frac{8 k \\left(z + 1\\right)}{- D^{2} + 4 \\left(z + 1\\right)^{2}}$"
      ],
      "text/plain": [
       "-8*k*(z + 2)/(-D**2 + 4*(z + 2)**2) + 8*k*(z + 1)/(-D**2 + 4*(z + 1)**2)"
      ]
     },
     "execution_count": 56,
     "metadata": {},
     "output_type": "execute_result"
    }
   ],
   "source": [
    "integrate(Sps,(z,z+1,z+2))"
   ]
  },
  {
   "cell_type": "code",
   "execution_count": 57,
   "id": "098d885e-8454-4107-a285-454523d222fe",
   "metadata": {},
   "outputs": [
    {
     "data": {
      "text/latex": [
       "$\\displaystyle \\frac{- \\frac{8 k \\left(\\frac{L}{2} + z\\right)}{- D^{2} + 4 \\left(\\frac{L}{2} + z\\right)^{2}} + \\frac{8 k \\left(- \\frac{L}{2} + z\\right)}{- D^{2} + 4 \\left(- \\frac{L}{2} + z\\right)^{2}}}{L}$"
      ],
      "text/plain": [
       "(-8*k*(L/2 + z)/(-D**2 + 4*(L/2 + z)**2) + 8*k*(-L/2 + z)/(-D**2 + 4*(-L/2 + z)**2))/L"
      ]
     },
     "execution_count": 57,
     "metadata": {},
     "output_type": "execute_result"
    }
   ],
   "source": [
    "# Create formula for spatial average field level\n",
    "# through definite integral of Ssp over spatial averaging length, L\n",
    "Ssa = integrate(Sps, (z, z-L/2, z+L/2)) / L\n",
    "Ssa"
   ]
  },
  {
   "cell_type": "code",
   "execution_count": 58,
   "id": "5b401b9a-fc5b-418c-afdf-1e912eecff87",
   "metadata": {},
   "outputs": [
    {
     "data": {
      "text/latex": [
       "$\\displaystyle \\frac{8 k \\left(D^{2} - L^{2} + 4 z^{2}\\right)}{D^{4} - 2 D^{2} L^{2} - 8 D^{2} z^{2} + L^{4} - 8 L^{2} z^{2} + 16 z^{4}}$"
      ],
      "text/plain": [
       "8*k*(D**2 - L**2 + 4*z**2)/(D**4 - 2*D**2*L**2 - 8*D**2*z**2 + L**4 - 8*L**2*z**2 + 16*z**4)"
      ]
     },
     "execution_count": 58,
     "metadata": {},
     "output_type": "execute_result"
    }
   ],
   "source": [
    "# Simplify Ssa\n",
    "Ssa = simplify(Ssa)\n",
    "Ssa"
   ]
  },
  {
   "cell_type": "code",
   "execution_count": 59,
   "id": "dc3320f4-4b69-42b6-8899-1cf9fc7da5d9",
   "metadata": {},
   "outputs": [],
   "source": [
    "# Create Ssa function\n",
    "fn_Ssa = lambdify([z,D,L,k],Ssa)"
   ]
  },
  {
   "cell_type": "code",
   "execution_count": 60,
   "id": "fad5fd7e-8ebf-405f-a8fd-55dc773fa28a",
   "metadata": {},
   "outputs": [
    {
     "data": {
      "text/latex": [
       "$\\displaystyle \\frac{\\left(\\left(D - 2 z\\right)^{2} + \\left(D + 2 z\\right)^{2}\\right) \\left(D^{4} - 2 D^{2} L^{2} - 8 D^{2} z^{2} + L^{4} - 8 L^{2} z^{2} + 16 z^{4}\\right)}{2 \\left(D - 2 z\\right)^{2} \\left(D + 2 z\\right)^{2} \\left(D^{2} - L^{2} + 4 z^{2}\\right)}$"
      ],
      "text/plain": [
       "((D - 2*z)**2 + (D + 2*z)**2)*(D**4 - 2*D**2*L**2 - 8*D**2*z**2 + L**4 - 8*L**2*z**2 + 16*z**4)/(2*(D - 2*z)**2*(D + 2*z)**2*(D**2 - L**2 + 4*z**2))"
      ]
     },
     "execution_count": 60,
     "metadata": {},
     "output_type": "execute_result"
    }
   ],
   "source": [
    "# Create formula for ratio of Sps/Ssa \n",
    "ratio = simplify(Sps/Ssa)\n",
    "ratio"
   ]
  },
  {
   "cell_type": "code",
   "execution_count": 61,
   "id": "25be3aa2-eb7c-422d-835c-9792ebe00453",
   "metadata": {},
   "outputs": [],
   "source": [
    "# Create function for ratio\n",
    "fn_ratio = lambdify([z,D,L],ratio)"
   ]
  },
  {
   "cell_type": "code",
   "execution_count": 62,
   "id": "acde2b67-cac8-4c65-b838-73e3a9e3a6b9",
   "metadata": {},
   "outputs": [],
   "source": [
    "# Test ratio function\n",
    "# fn_ratio(0, 1.5,1)"
   ]
  },
  {
   "cell_type": "code",
   "execution_count": 63,
   "id": "9d7776c7-e047-4c33-8629-85d2d0fcd75d",
   "metadata": {},
   "outputs": [
    {
     "data": {
      "text/plain": [
       "array([-0.23741369,  0.44169965,  0.68771135,  0.80384525,  0.86761672,\n",
       "        0.90601519,  0.93031999,  0.94580598,  0.95509045,  0.9594648 ,\n",
       "        0.9594648 ,  0.95509045,  0.94580598,  0.93031999,  0.90601519,\n",
       "        0.86761672,  0.80384525,  0.68771135,  0.44169965, -0.23741369])"
      ]
     },
     "execution_count": 63,
     "metadata": {},
     "output_type": "execute_result"
    }
   ],
   "source": [
    "# Plot ratio vs x/D\n",
    "zpts = np.linspace(-0.41,0.41,20)\n",
    "rvals = fn_ratio(zpts,1,0.2)\n",
    "rvals"
   ]
  },
  {
   "cell_type": "code",
   "execution_count": 64,
   "id": "9c5a38f6-e13c-4251-a7b6-aa8e2068b329",
   "metadata": {},
   "outputs": [
    {
     "data": {
      "text/plain": [
       "(-1000.0, 1000.0)"
      ]
     },
     "execution_count": 64,
     "metadata": {},
     "output_type": "execute_result"
    },
    {
     "data": {
      "image/png": "[encoded data removed]",
      "text/plain": [
       "<Figure size 640x480 with 1 Axes>"
      ]
     },
     "metadata": {},
     "output_type": "display_data"
    }
   ],
   "source": [
    "# Plot Sp and Ssa\n",
    "zpts = np.linspace(-1,1,500)\n",
    "Sps_out = fn_Sps(zpts,D=1,k=1)\n",
    "Ssa_out = fn_Ssa(zpts,D=1,L=0.5,k=1)\n",
    "fig,ax = plt.subplots()\n",
    "ax.plot(zpts,Sps_out,label='Sps')\n",
    "ax.plot(zpts,Ssa_out,label='Ssa')\n",
    "ax.legend()\n",
    "ax.set_xlabel('$z/D$')\n",
    "ax.set_ylabel('$S$')\n",
    "plt.grid()\n",
    "ax.set_ylim(-1000,1000)"
   ]
  },
  {
   "cell_type": "markdown",
   "id": "4d0edf68-f4a2-4079-9f22-eb3fee5d5ac9",
   "metadata": {},
   "source": [
    "## Scratch"
   ]
  },
  {
   "cell_type": "code",
   "execution_count": 18,
   "id": "553b692a-f71b-4924-800d-7484bf0e3adf",
   "metadata": {},
   "outputs": [
    {
     "data": {
      "text/latex": [
       "$\\displaystyle \\left|{a - x}\\right|$"
      ],
      "text/plain": [
       "Abs(a - x)"
      ]
     },
     "execution_count": 18,
     "metadata": {},
     "output_type": "execute_result"
    }
   ],
   "source": [
    "x, y, a = symbols('x y a')\n",
    "y = abs(x - a)\n",
    "y"
   ]
  },
  {
   "cell_type": "code",
   "execution_count": 19,
   "id": "8bfee7bc-951e-4db2-9b1a-968ac5cbfe03",
   "metadata": {},
   "outputs": [
    {
     "data": {
      "text/latex": [
       "$\\displaystyle \\frac{7 x^{3}}{3}$"
      ],
      "text/plain": [
       "7*x**3/3"
      ]
     },
     "execution_count": 19,
     "metadata": {},
     "output_type": "execute_result"
    }
   ],
   "source": [
    "x, y = symbols('x y')\n",
    "y = x**2\n",
    "integrate(y,(x,x,2*x))"
   ]
  },
  {
   "cell_type": "code",
   "execution_count": 20,
   "id": "f27bcefb-f7ef-4cf3-92d3-85b99951a964",
   "metadata": {},
   "outputs": [
    {
     "data": {
      "text/latex": [
       "$\\displaystyle - \\frac{8 k z}{- D^{2} + 4 z^{2}}$"
      ],
      "text/plain": [
       "-8*k*z/(-D**2 + 4*z**2)"
      ]
     },
     "execution_count": 20,
     "metadata": {},
     "output_type": "execute_result"
    }
   ],
   "source": [
    "Spsi = integrate(Sps, z)\n",
    "Spsi"
   ]
  },
  {
   "cell_type": "code",
   "execution_count": 21,
   "id": "d1a997d0-709f-400d-a189-550c67b6fa9c",
   "metadata": {},
   "outputs": [
    {
     "data": {
      "text/latex": [
       "$\\displaystyle \\frac{k}{\\left(\\frac{D}{2} + z\\right)^{2}} + \\frac{k}{\\left(\\frac{D}{2} - z\\right)^{2}}$"
      ],
      "text/plain": [
       "k/(D/2 + z)**2 + k/(D/2 - z)**2"
      ]
     },
     "execution_count": 21,
     "metadata": {},
     "output_type": "execute_result"
    }
   ],
   "source": [
    "Sps"
   ]
  },
  {
   "cell_type": "code",
   "execution_count": 22,
   "id": "7461811c-a2f4-4616-b63a-98acf65a6209",
   "metadata": {},
   "outputs": [
    {
     "data": {
      "text/latex": [
       "$\\displaystyle \\frac{x^{3}}{3}$"
      ],
      "text/plain": [
       "x**3/3"
      ]
     },
     "execution_count": 22,
     "metadata": {},
     "output_type": "execute_result"
    }
   ],
   "source": [
    "integrate(y,x)"
   ]
  },
  {
   "cell_type": "code",
   "execution_count": null,
   "id": "d113bb84-7a38-4ef0-99b3-be7fc398d7c8",
   "metadata": {},
   "outputs": [],
   "source": []
  }
 ],
 "metadata": {
  "kernelspec": {
   "display_name": "ante",
   "language": "python",
   "name": "ante"
  },
  "language_info": {
   "codemirror_mode": {
    "name": "ipython",
    "version": 3
   },
   "file_extension": ".py",
   "mimetype": "text/x-python",
   "name": "python",
   "nbconvert_exporter": "python",
   "pygments_lexer": "ipython3",
   "version": "3.10.13"
  }
 },
 "nbformat": 4,
 "nbformat_minor": 5
}
