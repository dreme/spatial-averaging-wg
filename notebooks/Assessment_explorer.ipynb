{
 "cells": [
  {
   "cell_type": "markdown",
   "id": "10976abc-6fbe-42ed-ae7e-fd10117a452a",
   "metadata": {},
   "source": [
    "# Exploration tool for assessment schemes in ICNIRP 2020 and RPS S-1\n",
    "author: Dr Vitas Anderson (*Two Fields Consulting*)\n",
    "\n",
    "date: 18/6/2021"
   ]
  },
  {
   "cell_type": "markdown",
   "id": "7d18ebfa-6519-442c-a1f0-69e1029f2a98",
   "metadata": {},
   "source": [
    "The function below is used to calculate the whole body point spatial distribution over height z:\n",
    "\n",
    "$\\Large L_{wbps} = \\frac{k_1}{\\textrm{cosh}(k_2(z-z_{source}))}$"
   ]
  },
  {
   "cell_type": "markdown",
   "id": "4c11dfde-6e5e-4a60-be24-3fe8f859ac73",
   "metadata": {},
   "source": [
    "## Setup"
   ]
  },
  {
   "cell_type": "code",
   "execution_count": 1,
   "id": "0ff791ee-aa26-4b26-aa57-44c6d0d872d1",
   "metadata": {},
   "outputs": [],
   "source": [
    "import numpy as np\n",
    "import pandas as pd\n",
    "import matplotlib.pyplot as plt\n",
    "from collections import namedtuple\n",
    "pd.options.display.max_rows = 201\n",
    "%matplotlib ipympl"
   ]
  },
  {
   "cell_type": "markdown",
   "id": "3dcaaad5-e5a9-4d8a-94f3-de2d7b5e3f01",
   "metadata": {},
   "source": [
    "## Functions"
   ]
  },
  {
   "cell_type": "code",
   "execution_count": 35,
   "id": "9c8777e3-da92-4e14-b994-7e109f92f662",
   "metadata": {},
   "outputs": [],
   "source": [
    "def ass_calc(h,nsap,fMHz,zlow,zhigh,dz,k1,k2,source_heights):\n",
    "    '''Function which calculates distributions over a set z height range for:\n",
    "       + point spatial limit normalised field values for whole body exposure (Lwbps)\n",
    "       + point spatial limit normalised field values for local exposure (Llocps)\n",
    "       + spatial average of the whole body Lps points (Lwbsa) over a vertical line\n",
    "       + point spatial representation of the whole body spatial averages (Lwbpssa)\n",
    "       \n",
    "       FUNCTION INPUTS:       \n",
    "          h = height of the spatial averaging window (m)\n",
    "       nsap = number of spatial averaging points [3 or 5]\n",
    "       fMHz = exposure frequency in MHz\n",
    "       zlow = lower bound of the z points (m)\n",
    "      zhigh = upper bound of the z points (m)\n",
    "         k1 = parameter that sets the peak level of the Lps distribution\n",
    "         k2 = parameter that sets the vertical beamwidth of the Lps distribution\n",
    "         source_heights = list of heights (m) for the source(s), e.g. [10,13]\n",
    "         \n",
    "       FUNCTION OUTPUTS:\n",
    "         distributions of z, Lwbps, Llocps, Lwbsa, Lwbpssa\n",
    "      '''\n",
    "\n",
    "    # Generate z distribution\n",
    "    nz = int((zhigh-zlow) / dz) + 1     # number of z points\n",
    "    z = np.linspace(zlow, zhigh, nz) \n",
    "\n",
    "    # Generate whole body point spatial distribution (Lwbps)\n",
    "    Lwbps = np.zeros(nz)                  # initialise Lwbps array with zeros\n",
    "    source_heights = list(source_heights)\n",
    "    for zs in source_heights:\n",
    "        Lwbps += k1 / np.cosh(k2*(z-zs))  # add artificial distribution of Lwbps for source i\n",
    "\n",
    "    # Generate point spatial distribution for local exposure (Llocps)\n",
    "    if fMHz <= 400:\n",
    "        m = 5\n",
    "    elif fMHz < 2000:\n",
    "        m = 11.47459891 * fMHz**-0.138646884\n",
    "    else:\n",
    "        m = 4\n",
    "    Llocps = Lwbps / m\n",
    "\n",
    "    # Calculate the wb spatial average (Lwbsa) \n",
    "    nh  = int(h/dz)       # number of dz intervals within spatial averaging window\n",
    "    nh2 = int(nh/2)       # number of dz intervals within half spatial averaging window\n",
    "\n",
    "    errmsg = f'Change h ({h}), nsap ({nsap}), &/or dz ({dz}) so that spatial averaging points align with z distribution points'\n",
    "\n",
    "    assert nsap in [3,5], f'nsap ({nsap}) must be 3 or 5'\n",
    "    if nsap == 3:\n",
    "        ni = int(nh / 2)   # number of dz intervals between spatial averaging points\n",
    "        assert 2*ni*dz == h, errmsg  \n",
    "        hindeces = [-ni, 0, ni]\n",
    "    elif nsap == 5:\n",
    "        ni = int(nh / 4)   # number of dz intervals between spatial averaging points\n",
    "        assert 4*ni*dz == h, errmsg  \n",
    "        hindeces= [-2*ni, -ni, 0, ni, 2*ni]\n",
    "    hindeces = np.array(hindeces)  # convert list of hpoints into a numpy array\n",
    "\n",
    "    Lwbsa = np.repeat(np.nan, nz)  # initialise Lwbsa array with NaN's (Not a Number)\n",
    "    for iz in range(nh2, nz-nh2):\n",
    "        Lwbsa[iz] = Lwbps[hindeces + iz].mean()\n",
    "\n",
    "    # Calculate the point spatial distribution of the wb spatial average (Lwbpssa)\n",
    "    Lwbpssa = np.repeat(np.nan, nz) # initialise Lwbpssa array with NaN's (Not a Number)\n",
    "    for iz in range(nh, nz-nh):\n",
    "        \n",
    "        # Lwbsa values increasing with height\n",
    "        if Lwbsa[iz+1] > Lwbsa[iz-1]:  \n",
    "            Lwbpssa[iz] = Lwbsa[iz-nh2]\n",
    "            \n",
    "        # Lwbsa values decreasing with height\n",
    "        else:\n",
    "            Lwbpssa[iz] = Lwbsa[iz+nh2]\n",
    "            \n",
    "    # Create pandas dataframe of z and all assessment distributions\n",
    "    df = pd.DataFrame(dict(z=z,Lwbps=Lwbps,Llocps=Llocps,Lwbsa=Lwbsa,Lwbpssa=Lwbpssa))\n",
    "    \n",
    "    # create labels for the L assessment distributions\n",
    "    labels = ['wb point spatial',\n",
    "              'local point spatial',\n",
    "              'wb spatial average',\n",
    "              'wb point spatial spat. avg.']\n",
    "    \n",
    "    # Create a title for the data set\n",
    "    title = f'{nsap} points over {h}m\\n' + '$k_1$' + f'={k1}, ' + '$k_2$' + f'={k2}, f={fMHz} MHz'\n",
    "    \n",
    "    # Create a named tuple for all the L assessment distributions\n",
    "    Lass = namedtuple(\"Lass\", \"Lwbps, Llocps, Lwbsa, Lwbpssa\")\n",
    "    lass = Lass(Lwbps, Llocps, Lwbsa, Lwbpssa)\n",
    "    \n",
    "    # Create a named tuple for all the output data\n",
    "    Ldata = namedtuple(\"Ldata\", \"title fMHz labels z zlow zhigh lass df\")\n",
    "    ldata = Ldata(title, fMHz, labels, z, zlow, zhigh, lass, df)\n",
    "\n",
    "    return ldata\n",
    "\n",
    "def plotL(L):\n",
    "    '''Plot the L distributions'''\n",
    "    fig, ax = plt.subplots(figsize=(4,8))\n",
    "    for lass, label in zip(L.lass, L.labels):\n",
    "        ax.plot(lass, L.z, alpha=0.6, label=label)\n",
    "    ax.lines[1].remove()\n",
    "#     ax.lines[0].remove()\n",
    "    ax.set_xlabel('Limit normalised field value')\n",
    "    ax.set_ylabel('z (m)')\n",
    "    ax.grid(ls='--')\n",
    "    ax.legend()\n",
    "    zmin, zmax = int(L.zlow), int(L.zhigh)\n",
    "    ax.set_yticks(range(zmin,zmax))\n",
    "    ax.set_ylim(zmin,zmax)\n",
    "    ax.set_title(L.title)\n",
    "    fig.tight_layout()\n",
    "    \n",
    "    return ax"
   ]
  },
  {
   "cell_type": "markdown",
   "id": "d1d06d11-3c5d-4c07-b5a3-989e28da1f31",
   "metadata": {
    "tags": []
   },
   "source": [
    "## Explore different configurations"
   ]
  },
  {
   "cell_type": "code",
   "execution_count": 39,
   "id": "d07351c5-be8e-4e26-896e-27d45a8e96b4",
   "metadata": {
    "tags": []
   },
   "outputs": [
    {
     "data": {
      "application/vnd.jupyter.widget-view+json": {
       "model_id": "b8a964af34464a73ae9bd7cfc572996c",
       "version_major": 2,
       "version_minor": 0
      },
      "text/plain": [
       "Canvas(toolbar=Toolbar(toolitems=[('Home', 'Reset original view', 'home', 'home'), ('Back', 'Back to previous …"
      ]
     },
     "metadata": {},
     "output_type": "display_data"
    }
   ],
   "source": [
    "L1 = ass_calc(h=2, nsap=5, fMHz=400,\n",
    "              zlow=0, zhigh=12, dz=0.1,\n",
    "              k1=1, k2=2,\n",
    "              source_heights=[4, 8])\n",
    "\n",
    "plotL(L1);"
   ]
  },
  {
   "cell_type": "code",
   "execution_count": 30,
   "id": "6115885f-c9ed-4e3f-b315-13ee55ea131a",
   "metadata": {},
   "outputs": [],
   "source": [
    "plt.gcf().savefig(\"../plots/2 source 5 pts.png\",dpi=300)"
   ]
  },
  {
   "cell_type": "code",
   "execution_count": 13,
   "id": "f6cd609f-f9a5-468c-9a97-5ecf20fe579d",
   "metadata": {
    "tags": []
   },
   "outputs": [
    {
     "data": {
      "application/vnd.jupyter.widget-view+json": {
       "model_id": "e7f56d05881642dd80bfe556d11c1de7",
       "version_major": 2,
       "version_minor": 0
      },
      "text/plain": [
       "Canvas(toolbar=Toolbar(toolitems=[('Home', 'Reset original view', 'home', 'home'), ('Back', 'Back to previous …"
      ]
     },
     "metadata": {},
     "output_type": "display_data"
    }
   ],
   "source": [
    "L1 = ass_calc(h=2, nsap=3, fMHz=400,\n",
    "              zlow=0, zhigh=12, dz=0.1,\n",
    "              k1=1, k2=2,\n",
    "              source_heights=[4, 8])\n",
    "\n",
    "plotL(L1);"
   ]
  },
  {
   "cell_type": "markdown",
   "id": "801b882e-99f9-4e27-8057-be889c5d7e23",
   "metadata": {
    "tags": []
   },
   "source": [
    "## Vary k1 and k2 "
   ]
  },
  {
   "cell_type": "code",
   "execution_count": 8,
   "id": "f76c6efc-9325-468e-a6ab-4f779a0d84d8",
   "metadata": {
    "tags": []
   },
   "outputs": [
    {
     "data": {
      "application/vnd.jupyter.widget-view+json": {
       "model_id": "b437422d248048fdb9fd612d3b7c454d",
       "version_major": 2,
       "version_minor": 0
      },
      "text/plain": [
       "Canvas(toolbar=Toolbar(toolitems=[('Home', 'Reset original view', 'home', 'home'), ('Back', 'Back to previous …"
      ]
     },
     "metadata": {},
     "output_type": "display_data"
    }
   ],
   "source": [
    "fig, axes = plt.subplots(1,4,figsize=(9,8))\n",
    "for j, (k1,k2) in enumerate(zip([1,1,1,2],[0.5,1,2,1])):\n",
    "    # Calculate the assesments\n",
    "    L = ass_calc(h=2, nsap=5, fMHz=400,\n",
    "                 zlow=0, zhigh=20, dz=0.1,\n",
    "                 k1=k1, k2=k2,\n",
    "                 source_heights=[10])\n",
    "    # Create the plots\n",
    "    ax = axes[j]\n",
    "    ax.plot(L.lass.Lwbps, L.z, alpha=0.7, label=L.labels[0])\n",
    "    ax.set_xlabel('Limit normalised field value')\n",
    "    ax.set_ylabel('z (m)')\n",
    "    ax.grid(ls='--')\n",
    "    ax.legend(fontsize=8,loc='upper right')\n",
    "    zmin, zmax = int(L.zlow), int(L.zhigh)\n",
    "    ax.set_yticks(range(zmin,zmax))\n",
    "    ax.set_ylim(zmin,zmax)\n",
    "    ax.set_title(L.title, fontsize=10)\n",
    "    \n",
    "fig.tight_layout(w_pad=2)\n",
    "# fig.savefig('../plots/k1 k2 plots.png', dpi=100)\n",
    "        "
   ]
  },
  {
   "cell_type": "markdown",
   "id": "41e73df4-2066-4a30-8676-180b7eb2bf49",
   "metadata": {
    "tags": []
   },
   "source": [
    "## Vary nsap and k2 for single source"
   ]
  },
  {
   "cell_type": "code",
   "execution_count": 9,
   "id": "d5673999-47f0-425d-b3b2-5688d0e572c1",
   "metadata": {
    "tags": []
   },
   "outputs": [
    {
     "data": {
      "application/vnd.jupyter.widget-view+json": {
       "model_id": "a493bb567ad3453ca971b11a384bb034",
       "version_major": 2,
       "version_minor": 0
      },
      "text/plain": [
       "Canvas(toolbar=Toolbar(toolitems=[('Home', 'Reset original view', 'home', 'home'), ('Back', 'Back to previous …"
      ]
     },
     "metadata": {},
     "output_type": "display_data"
    }
   ],
   "source": [
    "fig, axes = plt.subplots(2,3,figsize=(9,12))\n",
    "for i, nsap in enumerate([3,5]):\n",
    "    for j, k2 in enumerate([2, 1, 0.5]):\n",
    "        # Calculate the assessments\n",
    "        L = ass_calc(h=2, nsap=nsap, fMHz=400,\n",
    "                     zlow=0, zhigh=20, dz=0.1,\n",
    "                     k1=1, k2=k2,\n",
    "                     source_heights=[10])\n",
    "        # Create the plots \n",
    "        ax = axes[i,j]\n",
    "        for lass, label in zip(L.lass, L.labels):\n",
    "            ax.plot(lass, L.z, alpha=0.7, label=label)\n",
    "        ax.set_xlabel('Limit normalised field value')\n",
    "        ax.set_ylabel('z (m)')\n",
    "        ax.grid(ls='--')\n",
    "        ax.legend(fontsize=8,loc='upper right')\n",
    "        zmin, zmax = int(L.zlow), int(L.zhigh)\n",
    "        ax.set_yticks(range(zmin,zmax))\n",
    "        ax.set_ylim(zmin,zmax)\n",
    "        ax.set_title(L.title,fontsize=10)\n",
    "    fig.tight_layout(h_pad=4,w_pad=2)\n",
    "\n",
    "# fig.savefig('../plots/nsap k2 plots 1source.png', dpi=100)        "
   ]
  },
  {
   "cell_type": "markdown",
   "id": "eaf0c259-f567-4a50-a821-b9627dc1c085",
   "metadata": {
    "tags": []
   },
   "source": [
    "## Vary nsap and k2 for two sources"
   ]
  },
  {
   "cell_type": "code",
   "execution_count": 10,
   "id": "6633519e-0dd0-4713-86ef-94deb9b7e98a",
   "metadata": {
    "tags": []
   },
   "outputs": [
    {
     "data": {
      "application/vnd.jupyter.widget-view+json": {
       "model_id": "c9b44ea3de644ea9aa9883ffdc05c6f0",
       "version_major": 2,
       "version_minor": 0
      },
      "text/plain": [
       "Canvas(toolbar=Toolbar(toolitems=[('Home', 'Reset original view', 'home', 'home'), ('Back', 'Back to previous …"
      ]
     },
     "metadata": {},
     "output_type": "display_data"
    }
   ],
   "source": [
    "fig, axes = plt.subplots(2,3,figsize=(9,12))\n",
    "for i, nsap in enumerate([3,5]):\n",
    "    for j, k2 in enumerate([2, 1, 0.5]):\n",
    "        L = ass_calc(h=2, nsap=nsap, fMHz=400,\n",
    "                     zlow=0, zhigh=20, dz=0.1,\n",
    "                     k1=1, k2=k2,\n",
    "                     source_heights=[7,13])\n",
    "        ax = axes[i,j]\n",
    "        for lass, label in zip(L.lass, L.labels):\n",
    "            ax.plot(lass, L.z, alpha=0.7, label=label)\n",
    "        ax.set_xlabel('Limit normalised field value')\n",
    "        ax.set_ylabel('z (m)')\n",
    "        ax.grid(ls='--')\n",
    "        ax.legend(fontsize=8,loc='upper right')\n",
    "        zmin, zmax = int(L.zlow), int(L.zhigh)\n",
    "        ax.set_yticks(range(zmin,zmax))\n",
    "        ax.set_ylim(zmin,zmax)\n",
    "        ax.set_title(L.title)\n",
    "    fig.tight_layout(h_pad=4,w_pad=2)\n",
    "\n",
    "# fig.savefig('../plots/nsap k2 plots 2source.png', dpi=100)\n",
    "    "
   ]
  },
  {
   "cell_type": "code",
   "execution_count": null,
   "id": "a0c73e32-72b6-46c7-ae6f-ccae55e37d73",
   "metadata": {},
   "outputs": [],
   "source": []
  }
 ],
 "metadata": {
  "kernelspec": {
   "display_name": "Python 3",
   "language": "python",
   "name": "python3"
  },
  "language_info": {
   "codemirror_mode": {
    "name": "ipython",
    "version": 3
   },
   "file_extension": ".py",
   "mimetype": "text/x-python",
   "name": "python",
   "nbconvert_exporter": "python",
   "pygments_lexer": "ipython3",
   "version": "3.8.10"
  }
 },
 "nbformat": 4,
 "nbformat_minor": 5
}
