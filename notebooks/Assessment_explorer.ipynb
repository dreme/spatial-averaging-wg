{
 "cells": [
  {
   "cell_type": "markdown",
   "id": "10976abc-6fbe-42ed-ae7e-fd10117a452a",
   "metadata": {},
   "source": [
    "# Exploration tool for assessment schemes in ICNIRP 2020 and RPS S-1\n",
    "author: Dr Vitas Anderson (*Two Fields Consulting*)\n",
    "\n",
    "date: 13/6/2021"
   ]
  },
  {
   "cell_type": "markdown",
   "id": "7d18ebfa-6519-442c-a1f0-69e1029f2a98",
   "metadata": {},
   "source": [
    "The function below is used to calculate the whole body point spatial distribution over height z:\n",
    "\n",
    "$\\Large L_{wbps} = \\frac{k_1}{\\textrm{cosh}(k_2(z-z_{source}))}$"
   ]
  },
  {
   "cell_type": "markdown",
   "id": "4c11dfde-6e5e-4a60-be24-3fe8f859ac73",
   "metadata": {},
   "source": [
    "## Setup"
   ]
  },
  {
   "cell_type": "code",
   "execution_count": 1,
   "id": "0ff791ee-aa26-4b26-aa57-44c6d0d872d1",
   "metadata": {},
   "outputs": [],
   "source": [
    "import numpy as np\n",
    "import pandas as pd\n",
    "import matplotlib.pyplot as plt\n",
    "from collections import namedtuple\n",
    "pd.options.display.max_rows = 201\n",
    "%matplotlib ipympl"
   ]
  },
  {
   "cell_type": "markdown",
   "id": "3dcaaad5-e5a9-4d8a-94f3-de2d7b5e3f01",
   "metadata": {},
   "source": [
    "## Functions"
   ]
  },
  {
   "cell_type": "code",
   "execution_count": 2,
   "id": "9c8777e3-da92-4e14-b994-7e109f92f662",
   "metadata": {},
   "outputs": [],
   "source": [
    "def ass_calc(h,nsap,fMHz,zlow,zhigh,dz,k1,k2,source_heights):\n",
    "    '''Function which calculates distributions over a set z height range for:\n",
    "       + point spatial limit normalised field values for whole body exposure (Lwbps)\n",
    "       + point spatial limit normalised field values for local exposure (Llocps)\n",
    "       + spatial average of the whole body Lps points (Lwbsa) over a vertical line\n",
    "       + point spatial representation of the whole body spatial averages (Lwbpssa)\n",
    "       \n",
    "       FUNCTION INPUTS:       \n",
    "          h = height of the spatial averaging window (m)\n",
    "       nsap = number of spatial averaging points [3 or 5]\n",
    "       fMHz = exposure frequency in MHz\n",
    "       zlow = lower bound of the z points (m)\n",
    "      zhigh = upper bound of the z points (m)\n",
    "         k1 = parameter that sets the peak level of the Lps distribution\n",
    "         k2 = parameter that sets the vertical beamwidth of the Lps distribution\n",
    "         source_heights = list of heights (m) for the source(s), e.g. [10,13]\n",
    "         \n",
    "       FUNCTION OUTPUTS:\n",
    "         distributions of z, Lwbps, Llocps, Lwbsa, Lwbpssa\n",
    "      '''\n",
    "\n",
    "    # Generate z distribution\n",
    "    nz = int((zhigh-zlow) / dz) + 1     # number of z points\n",
    "    z = np.linspace(zlow, zhigh, nz) \n",
    "\n",
    "    # Generate whole body point spatial distribution (Lwbps)\n",
    "    Lwbps = np.zeros(nz)                  # initialise Lwbps array with zeros\n",
    "    source_heights = list(source_heights)\n",
    "    for zs in source_heights:\n",
    "        Lwbps += k1 / np.cosh(k2*(z-zs))  # add artificial distribution of Lwbps for source i\n",
    "\n",
    "    # Generate point spatial distribution for local exposure (Llocps)\n",
    "    if fMHz <= 400:\n",
    "        m = 5\n",
    "    elif fMHz < 2000:\n",
    "        m = 11.47459891 * fMHz**-0.138646884\n",
    "    else:\n",
    "        m = 4\n",
    "    Llocps = Lwbps / m\n",
    "\n",
    "    # Calculate the wb spatial average (Lwbsa) \n",
    "    nh = int(h/dz + 1)       # number of z points within averaging window\n",
    "    ni = int((nh - 1) / 2)   # number of z points from centre of averaging window to either end\n",
    "\n",
    "    errmsg = f'Change h ({h}), nsap ({nsap}), &/or dz ({dz}) so that spatial averaging points align with z distribution points'\n",
    "    assert 2*ni*dz == h, errmsg  \n",
    "\n",
    "    assert nsap in [3,5], f'nsap ({nsap}) must be 3 or 5'\n",
    "    if nsap == 3:\n",
    "        hindeces = [-ni, 0, ni]\n",
    "    elif nsap == 5:\n",
    "        ni2 = int(ni/2)\n",
    "        assert ni == ni2 * 2, errmsg\n",
    "        hindeces= [-ni, -ni2, 0, ni2, ni]\n",
    "    hindeces = np.array(hindeces)  # convert list of hpoints into a numpy array\n",
    "\n",
    "    Lwbsa = np.repeat(np.nan, nz)  # initialise Lwbsa array with NaN's (Not a Number)\n",
    "    for iz in range(ni, nz-ni):\n",
    "        Lwbsa[iz] = Lwbps[hindeces + iz].mean()\n",
    "\n",
    "    # Calculate the point spatial distribution of the wb spatial average (Lwbpssa)\n",
    "    Lwbpssa = np.repeat(np.nan,len(z)) # initialise Lwbpssa array with Nan's (Not a Number)\n",
    "    for iz in range(2*ni, nz-2*ni):\n",
    "        \n",
    "        # Lwbsa values increasing with height\n",
    "        if Lwbsa[iz+1] > Lwbsa[iz-1]:  \n",
    "            Lwbpssa[iz] = Lwbsa[iz-ni]\n",
    "            \n",
    "        # Lwbsa values decreasing with height\n",
    "        else:\n",
    "            Lwbpssa[iz] = Lwbsa[iz+ni]\n",
    "            \n",
    "    # Create pandas dataframe of z and all assessment distributions\n",
    "    df = pd.DataFrame(dict(z=z,Lwbps=Lwbps,Llocps=Llocps,Lwbsa=Lwbsa,Lwbpssa=Lwbpssa))\n",
    "    \n",
    "    # create labels for the L assessment distributions\n",
    "    labels = ['wb point spatial',\n",
    "              'local point spatial',\n",
    "              'wb spatial average',\n",
    "              'wb point spatial spatial average']\n",
    "    \n",
    "    # Create a title for the data set\n",
    "    title = f'{nsap} points over {h}m\\n' + '$k_1$' + f'={k1}, ' + '$k_2$' + f'={k2}, f={fMHz} MHz'\n",
    "    \n",
    "    # Create a named tuple for all the L assessment distributions\n",
    "    Lass = namedtuple(\"Lass\", \"Lwbps, Llocps, Lwbsa, Lwbpssa\")\n",
    "    lass = Lass(Lwbps, Llocps, Lwbsa, Lwbpssa)\n",
    "    \n",
    "    # Create a named tuple for all the output data\n",
    "    Ldata = namedtuple(\"Ldata\", \"title fMHz labels z zlow zhigh lass df\")\n",
    "    ldata = Ldata(title, fMHz, labels, z, zlow, zhigh, lass, df)\n",
    "\n",
    "    return ldata\n",
    "\n",
    "def plotL(L):\n",
    "    '''Plot the L distributions'''\n",
    "    fig, ax = plt.subplots(figsize=(4,8))\n",
    "    for lass, label in zip(L.lass, L.labels):\n",
    "        ax.plot(lass, L.z, alpha=0.6, label=label)\n",
    "    ax.set_xlabel('Limit normalised field value')\n",
    "    ax.set_ylabel('z (m)')\n",
    "    ax.grid(ls='--')\n",
    "    ax.legend()\n",
    "    zmin, zmax = int(L.zlow), int(L.zhigh)\n",
    "    ax.set_yticks(range(zmin,zmax))\n",
    "    ax.set_ylim(zmin,zmax)\n",
    "    ax.set_title(L.title)\n",
    "    fig.tight_layout()\n",
    "    \n",
    "    return ax"
   ]
  },
  {
   "cell_type": "markdown",
   "id": "d1d06d11-3c5d-4c07-b5a3-989e28da1f31",
   "metadata": {
    "tags": []
   },
   "source": [
    "## Explore different configurations"
   ]
  },
  {
   "cell_type": "code",
   "execution_count": 3,
   "id": "d07351c5-be8e-4e26-896e-27d45a8e96b4",
   "metadata": {
    "tags": []
   },
   "outputs": [
    {
     "data": {
      "application/vnd.jupyter.widget-view+json": {
       "model_id": "00cefc874bd34a428f7adabd7ff0f829",
       "version_major": 2,
       "version_minor": 0
      },
      "text/plain": [
       "Canvas(toolbar=Toolbar(toolitems=[('Home', 'Reset original view', 'home', 'home'), ('Back', 'Back to previous …"
      ]
     },
     "metadata": {},
     "output_type": "display_data"
    }
   ],
   "source": [
    "L1 = ass_calc(h=2, nsap=5, fMHz=400,\n",
    "             zlow=0, zhigh=12, dz=0.1,\n",
    "             k1=1, k2=2,\n",
    "             source_heights=[4, 8])\n",
    "\n",
    "plotL(L1);"
   ]
  },
  {
   "cell_type": "code",
   "execution_count": 4,
   "id": "24eae2da-a40d-4828-b822-709b3df37d65",
   "metadata": {},
   "outputs": [
    {
     "data": {
      "application/vnd.jupyter.widget-view+json": {
       "model_id": "d2a6869bdeb645d5a709ed8489932add",
       "version_major": 2,
       "version_minor": 0
      },
      "text/plain": [
       "Canvas(toolbar=Toolbar(toolitems=[('Home', 'Reset original view', 'home', 'home'), ('Back', 'Back to previous …"
      ]
     },
     "metadata": {},
     "output_type": "display_data"
    }
   ],
   "source": [
    "L1 = ass_calc(h=2, nsap=3, fMHz=400,\n",
    "             zlow=0, zhigh=20, dz=0.1,\n",
    "             k1=1, k2=1,\n",
    "             source_heights=[7,13])\n",
    "\n",
    "plotL(L1);"
   ]
  },
  {
   "cell_type": "code",
   "execution_count": 5,
   "id": "7226bfcc-661b-42d1-83fd-0b79098e8d79",
   "metadata": {},
   "outputs": [
    {
     "data": {
      "application/vnd.jupyter.widget-view+json": {
       "model_id": "3c90cbc498b248388e39b59019e3ac89",
       "version_major": 2,
       "version_minor": 0
      },
      "text/plain": [
       "Canvas(toolbar=Toolbar(toolitems=[('Home', 'Reset original view', 'home', 'home'), ('Back', 'Back to previous …"
      ]
     },
     "metadata": {},
     "output_type": "display_data"
    }
   ],
   "source": [
    "L1 = ass_calc(h=2, nsap=3, fMHz=400,\n",
    "             zlow=0, zhigh=20, dz=0.1,\n",
    "             k1=1, k2=2,\n",
    "             source_heights=[7,13])\n",
    "\n",
    "plotL(L1);"
   ]
  },
  {
   "cell_type": "markdown",
   "id": "801b882e-99f9-4e27-8057-be889c5d7e23",
   "metadata": {
    "tags": []
   },
   "source": [
    "## Vary k1 and k2 "
   ]
  },
  {
   "cell_type": "code",
   "execution_count": 6,
   "id": "f76c6efc-9325-468e-a6ab-4f779a0d84d8",
   "metadata": {
    "tags": []
   },
   "outputs": [
    {
     "data": {
      "application/vnd.jupyter.widget-view+json": {
       "model_id": "43721f65b8d041e1bb766da3ee1ae8cc",
       "version_major": 2,
       "version_minor": 0
      },
      "text/plain": [
       "Canvas(toolbar=Toolbar(toolitems=[('Home', 'Reset original view', 'home', 'home'), ('Back', 'Back to previous …"
      ]
     },
     "metadata": {},
     "output_type": "display_data"
    }
   ],
   "source": [
    "fig, axes = plt.subplots(1,4,figsize=(12,8))\n",
    "for j, (k1,k2) in enumerate(zip([1,1,1,2],[0.5,1,2,1])):\n",
    "    L = ass_calc(h=2, nsap=5, fMHz=400,\n",
    "                 zlow=0, zhigh=20, dz=0.1,\n",
    "                 k1=k1, k2=k2,\n",
    "                 source_heights=[10])\n",
    "    ax = axes[j]\n",
    "    ax.plot(L.lass.Lwbps, L.z, alpha=0.7, label=L.labels[0])\n",
    "    ax.set_xlabel('Limit normalised field value')\n",
    "    ax.set_ylabel('z (m)')\n",
    "    ax.grid(ls='--')\n",
    "    ax.legend()\n",
    "    zmin, zmax = int(L.zlow), int(L.zhigh)\n",
    "    ax.set_yticks(range(zmin,zmax))\n",
    "    ax.set_ylim(zmin,zmax)\n",
    "    ax.set_title(L.title)\n",
    "fig.tight_layout(w_pad=3)\n",
    "fig.savefig('../plots/k1 k2 plots.png', dpi=100)\n",
    "        "
   ]
  },
  {
   "cell_type": "markdown",
   "id": "41e73df4-2066-4a30-8676-180b7eb2bf49",
   "metadata": {
    "tags": []
   },
   "source": [
    "## Vary nsap and k2 for single source"
   ]
  },
  {
   "cell_type": "code",
   "execution_count": 7,
   "id": "d5673999-47f0-425d-b3b2-5688d0e572c1",
   "metadata": {
    "tags": []
   },
   "outputs": [
    {
     "data": {
      "application/vnd.jupyter.widget-view+json": {
       "model_id": "8b975076a2e14da4bcc5469d480e9909",
       "version_major": 2,
       "version_minor": 0
      },
      "text/plain": [
       "Canvas(toolbar=Toolbar(toolitems=[('Home', 'Reset original view', 'home', 'home'), ('Back', 'Back to previous …"
      ]
     },
     "metadata": {},
     "output_type": "display_data"
    }
   ],
   "source": [
    "fig, axes = plt.subplots(2,3,figsize=(12,16))\n",
    "for i, nsap in enumerate([3,5]):\n",
    "    for j, k2 in enumerate([2, 1, 0.5]):\n",
    "        L = ass_calc(h=2, nsap=nsap, fMHz=400,\n",
    "                     zlow=0, zhigh=20, dz=0.1,\n",
    "                     k1=1, k2=k2,\n",
    "                     source_heights=[10])\n",
    "        ax = axes[i,j]\n",
    "        for lass, label in zip(L.lass, L.labels):\n",
    "            ax.plot(lass, L.z, alpha=0.7, label=label)\n",
    "        ax.set_xlabel('Limit normalised field value')\n",
    "        ax.set_ylabel('z (m)')\n",
    "        ax.grid(ls='--')\n",
    "        ax.legend()\n",
    "        zmin, zmax = int(L.zlow), int(L.zhigh)\n",
    "        ax.set_yticks(range(zmin,zmax))\n",
    "        ax.set_ylim(zmin,zmax)\n",
    "        ax.set_title(L.title)\n",
    "    fig.tight_layout(h_pad=4,w_pad=3)\n",
    "\n",
    "fig.savefig('../plots/nsap k2 plots 1source.png', dpi=100)        "
   ]
  },
  {
   "cell_type": "markdown",
   "id": "eaf0c259-f567-4a50-a821-b9627dc1c085",
   "metadata": {
    "tags": []
   },
   "source": [
    "## Vary nsap and k2 for two sources"
   ]
  },
  {
   "cell_type": "code",
   "execution_count": 10,
   "id": "6633519e-0dd0-4713-86ef-94deb9b7e98a",
   "metadata": {
    "tags": []
   },
   "outputs": [
    {
     "data": {
      "application/vnd.jupyter.widget-view+json": {
       "model_id": "a12e48c9703c4551a7695460eb6093f7",
       "version_major": 2,
       "version_minor": 0
      },
      "text/plain": [
       "Canvas(toolbar=Toolbar(toolitems=[('Home', 'Reset original view', 'home', 'home'), ('Back', 'Back to previous …"
      ]
     },
     "metadata": {},
     "output_type": "display_data"
    }
   ],
   "source": [
    "fig, axes = plt.subplots(2,3,figsize=(12,16))\n",
    "for i, nsap in enumerate([3,5]):\n",
    "    for j, k2 in enumerate([2, 1, 0.5]):\n",
    "        L = ass_calc(h=2, nsap=nsap, fMHz=400,\n",
    "                     zlow=0, zhigh=20, dz=0.1,\n",
    "                     k1=1, k2=k2,\n",
    "                     source_heights=[7,13])\n",
    "        ax = axes[i,j]\n",
    "        for lass, label in zip(L.lass, L.labels):\n",
    "            ax.plot(lass, L.z, alpha=0.7, label=label)\n",
    "        ax.set_xlabel('Limit normalised field value')\n",
    "        ax.set_ylabel('z (m)')\n",
    "        ax.grid(ls='--')\n",
    "        ax.legend()\n",
    "        zmin, zmax = int(L.zlow), int(L.zhigh)\n",
    "        ax.set_yticks(range(zmin,zmax))\n",
    "        ax.set_ylim(zmin,zmax)\n",
    "        ax.set_title(L.title)\n",
    "    fig.tight_layout(h_pad=4,w_pad=3)\n",
    "\n",
    "fig.savefig('../plots/nsap k2 plots 2source.png', dpi=100)\n",
    "    "
   ]
  },
  {
   "cell_type": "code",
   "execution_count": null,
   "id": "a0c73e32-72b6-46c7-ae6f-ccae55e37d73",
   "metadata": {},
   "outputs": [],
   "source": []
  }
 ],
 "metadata": {
  "kernelspec": {
   "display_name": "Python 3",
   "language": "python",
   "name": "python3"
  },
  "language_info": {
   "codemirror_mode": {
    "name": "ipython",
    "version": 3
   },
   "file_extension": ".py",
   "mimetype": "text/x-python",
   "name": "python",
   "nbconvert_exporter": "python",
   "pygments_lexer": "ipython3",
   "version": "3.8.10"
  }
 },
 "nbformat": 4,
 "nbformat_minor": 5
}
