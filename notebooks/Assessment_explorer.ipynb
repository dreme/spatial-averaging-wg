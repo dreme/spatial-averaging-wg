{
 "cells": [
  {
   "cell_type": "markdown",
   "id": "148a8722",
   "metadata": {
    "tags": []
   },
   "source": [
    "# Exploration tool for assessment schemes in ICNIRP 2020 and RPS S-1\n",
    "author: Dr Vitas Anderson (*Two Fields Consulting*)\n",
    "\n",
    "date: 20/7/2021"
   ]
  },
  {
   "cell_type": "markdown",
   "id": "cd50322e",
   "metadata": {},
   "source": [
    "To use this Jupyter notebook, run each code cell in succession by either pressing the triangular play button ► in the menu bar above or by pressing SHIFT-ENTER for successive code cells. You can play around with the code as much as you like - it won't affect the original notebook.\n",
    "\n",
    "Under the **Interactive Assessment Tool** heading below you will find an interactive tool for visualising how my assessment functions (under the **Functions** heading) work for two RF sources.\n",
    "\n",
    "The function below is used to calculate test distributions for the limit normalised whole body point spatial levels over a vertical column of z points:\n",
    "\n",
    "$\\Large L_{wbps} = \\frac{k_1}{\\textrm{cosh}(k_2(z-z_{source}))}$"
   ]
  },
  {
   "cell_type": "markdown",
   "id": "6e6067ad",
   "metadata": {
    "tags": []
   },
   "source": [
    "## Setup"
   ]
  },
  {
   "cell_type": "code",
   "execution_count": 1,
   "id": "7836539d",
   "metadata": {},
   "outputs": [],
   "source": [
    "%matplotlib widget\n",
    "import ipywidgets as widgets\n",
    "import numpy as np\n",
    "import pandas as pd\n",
    "import matplotlib.pyplot as plt\n",
    "from scipy.signal import find_peaks\n",
    "from collections import namedtuple\n",
    "from collections.abc import Iterable\n",
    "pd.options.display.max_rows = 201\n",
    "np.set_printoptions(precision=4)"
   ]
  },
  {
   "cell_type": "markdown",
   "id": "8b6f31d2",
   "metadata": {
    "tags": []
   },
   "source": [
    "## Functions"
   ]
  },
  {
   "cell_type": "code",
   "execution_count": 2,
   "id": "99611d0d-05cc-412a-9873-e3a9d154dba9",
   "metadata": {},
   "outputs": [],
   "source": [
    "def make_list(obj):\n",
    "    '''make sure obj is a list'''\n",
    "    if isinstance(obj, Iterable):\n",
    "        return list(obj)\n",
    "    else:\n",
    "        return [obj]    \n",
    "\n",
    "def check_source_inputs(*sources, n=None):\n",
    "    '''Make sure that all source inputs are lists which are of the same length\n",
    "       and are of length n if n is specified'''\n",
    "    sources = [make_list(source) for source in sources]\n",
    "    len_sources = [len(source) for source in sources]\n",
    "    errmsg = f'All source inputs {sources} must have the same number of elements'\n",
    "    assert len(set(len_sources)) == 1, errmsg\n",
    "    if n != None:\n",
    "        errmsg = f'All k1s, k2s, zs source inputs {sources} must each have {n} elements'\n",
    "        assert len_sources[0] == n, errmsg\n",
    "    \n",
    "    return sources\n",
    "\n",
    "def check_dz(dz,h,zlow,zhigh):\n",
    "    '''Check that dz is a valid input'''\n",
    "    # check that the z range is divisible by dz\n",
    "    zrange = zhigh - zlow\n",
    "    nz = int(zrange/dz)   # number of dz intervals in z range\n",
    "    assert nz == zrange/dz, f\"z range ({zrange}) must be divisible by dz ({dz})\"\n",
    "    \n",
    "    # check that spatial average window length is divisible by dz\n",
    "    nh = int(h/dz)    # number of dz intervals within spatial averaging window    \n",
    "    nh2 = int(nh/2)   # number of dz intervals between the centre and the end of the spatial averaging window\n",
    "    assert nh == h/dz, f\"h ({h}) must be divisible by dz ({dz})\"  \n",
    "\n",
    "    return nz, nh, nh2\n",
    "    \n",
    "def calc_z(zlow, zhigh, nz):\n",
    "    '''Calculate the z distribution'''\n",
    "    z = np.linspace(zlow, zhigh, nz+1)\n",
    "    return z\n",
    "\n",
    "def calc_Lwbps(k1s,k2s,zs,z,nz):\n",
    "    '''Calculate the whole body point spatial distribution for limit normalised exposure (Lwbps)'''\n",
    "    Lwbps = np.zeros(nz+1)                  # initialise Lwbps array with zeros\n",
    "    for k1i, k2i, zi in zip(k1s, k2s, zs):  # loop through each source\n",
    "        Lwbps += k1i / np.cosh(k2i*(z-zi))    # add limit normalized field level for each source\n",
    "    return Lwbps\n",
    "\n",
    "def calc_Llocps(Lwbps, fMHz):\n",
    "    '''Calculate the local point spatial distribution for limit normalised exposure (Llocps)'''\n",
    "    # Calculate the local limit multiplier factor\n",
    "    if fMHz <= 400:\n",
    "        m = 5\n",
    "    elif fMHz < 2000:\n",
    "        m = 11.47459891 * fMHz**-0.138646884\n",
    "    else:\n",
    "        m = 4\n",
    "        \n",
    "    # Calculate and return Llocps\n",
    "    return Lwbps / m\n",
    "\n",
    "def calc_valid_nsap(nh, n=None):\n",
    "    '''Return list of no more than n valid numbers of spatial averaging points\n",
    "       for any value of nh, the number of dz intervals in h\n",
    "       If n = None, then show all valid numbers of spatial averaging points'''\n",
    "    valid_nsap = [i+1 for i in range(1, nh+1) if (nh % i == 0)]\n",
    "    if (n != None) and (len(valid_nsap) > n):\n",
    "        valid_nsap = valid_nsap[:n]\n",
    "    return valid_nsap\n",
    "\n",
    "def calc_hindices(nh, nh2, nsap):\n",
    "    '''Determine the array indices of the spatial averaging points\n",
    "       relative to the assessment point'''\n",
    "    dh = int(nh / (nsap-1))  # number of indices between spatial averaging points\n",
    "    hindices = [-nh2 + i*dh for i in range(nsap)]\n",
    "    hindices = np.array(hindices, dtype=int)  # convert list to numpy integer array\n",
    "    return hindices\n",
    "\n",
    "def calc_Lwbsa(Lwbps, nz, nh2, hindices):\n",
    "    '''Calculate the whole body spatial average distribution (Lwbsa)'''   \n",
    "    # initialise Lwbsa array with NaN's (Not a Number)\n",
    "    Lwbsa = np.repeat(np.nan, nz+1)\n",
    "    \n",
    "    # calculate the mean value of Lwbps at the spatial averaging points\n",
    "    for iz in range(nh2, nz-nh2+1):\n",
    "        Lwbsa[iz] = Lwbps[hindices + iz].mean()\n",
    "        \n",
    "    return Lwbsa\n",
    "    \n",
    "def calc_Lwbpssa(Lwbsa, nz, nh, nh2):\n",
    "    '''Calculate the point spatial representation of the wb spatial average (Lwbpssa)\n",
    "    INPUTS:\n",
    "       Lwbsa = spatial average of the whole body limit normalised point spatial field over a vertical line\n",
    "       nz = number of dz intervals in the z range\n",
    "       nh = number of dz intervals in the h averaging window\n",
    "       nh2 = number of dz intervals in half of the h averaging window\n",
    "    OUTPUTS:\n",
    "       Lwbpssa = point spatial respresentation of the spatially averaged field (Lwbsa)\n",
    "       '''\n",
    "    # initialise Lwbpssa array with NaN's (Not a Number)\n",
    "    Lwbpssa = np.repeat(np.nan, nz+1)\n",
    "    \n",
    "    # first pass: assign Lwbpssa values based on minimum value of points that\n",
    "    # are half an averaging window above or below the assessment point\n",
    "    for iz in range(nh, nz-nh+1):\n",
    "        Lwbpssa[iz] = Lwbsa[[iz-nh2, iz+nh2]].min() \n",
    "    \n",
    "    # second pass: assign Lwbsa value at the point(s) where Lwbsa peaks,\n",
    "    # i.e. where spatial averaging window exposure changes between head and feet\n",
    "    ipeaks, _ = find_peaks(Lwbsa)  # get indices of local peaks of Lwbsa values    \n",
    "    for iz in ipeaks:\n",
    "        Lwbpssa[iz] = Lwbsa[iz]\n",
    "        \n",
    "    # third pass: assign minimum Lwbsa value for the length of the spatial averaging window\n",
    "    # where Lwbsa is a minimum\n",
    "    itroughs, _ = find_peaks(1/Lwbsa)  # get indices of local minimums of Lwbsa values\n",
    "    for iz in itroughs:\n",
    "        Lwbpssa[(iz-nh2):(iz+nh2)] = Lwbsa[iz]\n",
    "        \n",
    "    return Lwbpssa  "
   ]
  },
  {
   "cell_type": "code",
   "execution_count": 3,
   "id": "378e915d-5dc0-4412-92f4-cf4ea61388c5",
   "metadata": {},
   "outputs": [],
   "source": [
    "def calc_ass(h,nsap,fMHz,zlow,zhigh,dz,k1s,k2s,zs):\n",
    "    '''Function which calculates assessment distributions over a set z height range for:\n",
    "       + point spatial limit normalised field values for whole body exposure (Lwbps)\n",
    "       + point spatial limit normalised field values for local exposure (Llocps)\n",
    "       + spatial average of the whole body Lwbps points (Lwbsa) over a vertical line\n",
    "       + point spatial representation of the whole body spatial averages (Lwbpssa)\n",
    "       \n",
    "       FUNCTION INPUTS:       \n",
    "          h = height of the spatial averaging window (m)\n",
    "       nsap = number of spatial averaging points [3 or 5]\n",
    "       fMHz = exposure frequency in MHz\n",
    "       zlow = lower bound of the z points (m)\n",
    "      zhigh = upper bound of the z points (m)\n",
    "        k1s = list of k1 parameters that set the peak level of the Lps distribution, \n",
    "              e.g. 2 for a single source or [2,1] for two sources\n",
    "        k2s = list of k2 parameters that set the vertical beamwidth of the Lps distribution\n",
    "              e.g. 1 for a single source or [1,2] for two sources\n",
    "        zs = list of heights (m) for the source(s), \n",
    "              e.g. 7 for a single source, or [10,13] for two sources\n",
    "         \n",
    "       FUNCTION OUTPUTS:\n",
    "         a named tuple, L, containing:\n",
    "           + title: an informative title for the assessment\n",
    "           + fMHz: exposure frequency in MHz\n",
    "           + labels: lables for each calculated distribution\n",
    "           + z: the z distribution points for the assessment\n",
    "           + zlow: the lower bound of the z distribution\n",
    "           + zhigh: the upper bound of the z distribution\n",
    "           + lass: a named tuple for the calculated assessments (Lwbps, Llocps, Lwbsa, Lwbpssa)\n",
    "           + nh: number of points in teh vertical averaging window\n",
    "           + df: a pandas dataframe for z and Lwbps, Llocps, Lwbsa, Lwbpssa\n",
    "      '''     \n",
    "    \n",
    "    # Check that all source inputs are lists which are of the same length\n",
    "    k1s,k2s,zs = check_source_inputs(k1s,k2s,zs)\n",
    "    \n",
    "    # Check that the dz value is valid for h and the z range\n",
    "    nz, nh, nh2 = check_dz(dz,h,zlow,zhigh)\n",
    "    \n",
    "    # Check that the nsap input is valid for the number of h points\n",
    "    valid_nsap = calc_valid_nsap(nh)\n",
    "    assert nsap in valid_nsap, f'Value of nsap ({nsap}) must be one of {valid_nsap}'\n",
    "    \n",
    "    # Calculate the z points\n",
    "    z = calc_z(zlow,zhigh,nz)\n",
    "    \n",
    "    # Calculate the whole body point spatial distribution for limit normalised exposure (Lwbps)\n",
    "    Lwbps = calc_Lwbps(k1s,k2s,zs,z,nz)\n",
    "    \n",
    "    # Calculate the local point spatial distribution for limit normalised exposure (Llocps)\n",
    "    Llocps = calc_Llocps(Lwbps, fMHz)\n",
    "    \n",
    "    # Calculate the whole body spatial average distribution (Lwbsa)\n",
    "    hindices = calc_hindices(nh, nh2, nsap)\n",
    "    Lwbsa = calc_Lwbsa(Lwbps, nz, nh2, hindices)\n",
    "    \n",
    "    # Calculate the point spatial representation of the wb spatial average (Lwbpssa)\n",
    "    Lwbpssa = calc_Lwbpssa(Lwbsa, nz, nh, nh2)\n",
    "            \n",
    "    ## Create a pandas dataframe of z and all assessment distributions\n",
    "    df = pd.DataFrame(dict(z=z,Lwbps=Lwbps,Llocps=Llocps,Lwbsa=Lwbsa,Lwbpssa=Lwbpssa))\n",
    "    \n",
    "    ## Create labels for the limit normalised assessment distributions\n",
    "    labels = ['wb point spatial',\n",
    "              'local point spatial',\n",
    "              'wb spatial average',\n",
    "              'wb point spatial spat. avg.']\n",
    "    \n",
    "    ## Create a title for the data set\n",
    "    title = f'{nsap} points over {h}m\\n' + '$k_1$' + f'={\",\".join(map(str,k1s))}, ' + '$k_2$' + f'={\",\".join(map(str,k2s))}, f={fMHz} MHz'\n",
    "    \n",
    "    ## Create a named tuple for all the L assessment distributions\n",
    "    Lass = namedtuple(\"Lass\", \"Lwbps, Llocps, Lwbsa, Lwbpssa\")\n",
    "    lass = Lass(Lwbps, Llocps, Lwbsa, Lwbpssa)\n",
    "    \n",
    "    ## Create a named tuple for all the output data\n",
    "    Ldata = namedtuple(\"Ldata\", \"title fMHz labels z zlow zhigh lass nh df\")\n",
    "    ldata = Ldata(title, fMHz, labels, z, zlow, zhigh, lass, nh, df)\n",
    "\n",
    "    return ldata\n",
    "\n",
    "def plotL(L):\n",
    "    '''Plot the L distributions'''\n",
    "    fig, ax = plt.subplots(figsize=(4,8))\n",
    "    for lass, label in zip(L.lass, L.labels):\n",
    "        ax.plot(lass, L.z, alpha=0.6, label=label)\n",
    "    ax.set_xlabel('Limit normalised field value')\n",
    "    ax.set_ylabel('z (m)')\n",
    "    ax.grid(ls='--')\n",
    "    ax.legend()\n",
    "    zmin, zmax = int(L.zlow), int(L.zhigh)\n",
    "    ax.set_yticks(range(zmin,zmax))\n",
    "    ax.set_ylim(zmin,zmax)\n",
    "    ax.set_title(L.title)\n",
    "    fig.tight_layout()\n",
    "    \n",
    "    return ax"
   ]
  },
  {
   "cell_type": "markdown",
   "id": "9f64df0b-ac6b-4cd6-9c01-a42198405779",
   "metadata": {
    "tags": []
   },
   "source": [
    "## Object class for interactive tool"
   ]
  },
  {
   "cell_type": "code",
   "execution_count": 4,
   "id": "c04714b3-e389-4132-80e4-13d69f895044",
   "metadata": {
    "tags": []
   },
   "outputs": [],
   "source": [
    "plt.close('all')\n",
    "def make_box_layout():\n",
    "     return widgets.Layout(\n",
    "        border='solid 1px black',\n",
    "        margin='0px 10px 10px 0px',\n",
    "        padding='5px 5px 5px 5px'\n",
    "     )\n",
    "\n",
    "def make_box_layout2():\n",
    "     return widgets.Layout(\n",
    "        border='solid 1px black',\n",
    "        margin='0px 10px 10px 0px',\n",
    "        padding='5px 5px 5px 5px'\n",
    "     )\n",
    "\n",
    "class Ass(widgets.HBox):\n",
    "    '''This object class generates an interactive widget tool for calculating\n",
    "       assessment distributions over a set z height range for:\n",
    "       + point spatial limit normalised field values for whole body exposure (Lwbps)\n",
    "       + point spatial limit normalised field values for local exposure (Llocps)\n",
    "       + spatial average of the whole body Lps points (Lwbsa) over a vertical line\n",
    "       + point spatial representation of the whole body spatial averages (Lwbpssa)\n",
    "       \n",
    "       FUNCTION INPUTS:       \n",
    "          h = height of the spatial averaging window (m)\n",
    "       nsap = number of spatial averaging points [3 or 5]\n",
    "   nsap_num = maximum umber of valid nsap options to display in the nsap radio widget\n",
    "       fMHz = exposure frequency in MHz\n",
    "       zlow = lower bound of the z points (m)\n",
    "      zhigh = upper bound of the z points (m)\n",
    "         dz = distance increment between z points (m)\n",
    "        k1s = list of k1 parameters that set the peak level of the Lps distribution, \n",
    "              e.g. 2 for a single source or [2,1] for two sources\n",
    "        k2s = list of k2 parameters that set the vertical beamwidth of the Lps distribution\n",
    "              e.g. 1 for a single source or [1,2] for two sources\n",
    "        zs = list of heights (m) for the source(s), \n",
    "              e.g. 7 for a single source, or [10,13] for two sources\n",
    "        plot_height = height of the plot in the widget tool (in)\n",
    "         \n",
    "       FUNCTION OUTPUTS:\n",
    "         an interactive widget tool which can be displayed using: display(Ass_object)\n",
    "      '''  \n",
    "    \n",
    "    def __init__(self, h=2, nsap=5, nsap_num=7, fMHz=400, \n",
    "                 zlow=0, zhigh=12, dz=0.1,\n",
    "                 k1s=[1,2], k2s=[2,2], zs=[8, 4],\n",
    "                 plot_height=8):\n",
    "        super().__init__()\n",
    "        \n",
    "        # Create output widget for the plot\n",
    "        output = widgets.Output()\n",
    "        \n",
    "        # Create self variables from init values\n",
    "        self.h = h\n",
    "        self.nsap = nsap\n",
    "        self.nsap_num = nsap_num\n",
    "        self.fMHz = fMHz\n",
    "        self.zlow = zlow\n",
    "        self.zhigh = zhigh\n",
    "        self.dz = dz\n",
    "        \n",
    "        # Do input value checks\n",
    "        self.k1s,self.k2s,self.zs = check_source_inputs(k1s,k2s,zs)\n",
    "        self.nz, self.nh, self.nh2 = check_dz(dz,h,zlow,zhigh)\n",
    "        \n",
    "        # Calculate z distribution\n",
    "        self.z = calc_z(self.zlow,self.zhigh,self.nz)\n",
    "        \n",
    "        # Calculate all initial assessment values\n",
    "        self.nsap, self.valid_nsap, self.nh, self.nh2, self.hindices = \\\n",
    "          self.calc_variables(self.dz,self.h,self.zlow,self.zhigh,self.nsap,self.nsap_num)\n",
    "        self.calc_ass()\n",
    "\n",
    "        # Create plot\n",
    "        with output:\n",
    "            self.fig, self.ax = plt.subplots(constrained_layout=True, figsize=(4, plot_height))\n",
    "            \n",
    "        self.lineLwbps, = self.ax.plot(self.Lwbps, self.z, alpha=0.5, label='wb point spatial')\n",
    "        self.lineLlocps, = self.ax.plot(self.Llocps, self.z, alpha=0.5, label='local point spatial')\n",
    "        self.lineLwbsa, = self.ax.plot(self.Lwbsa, self.z, alpha=0.5, label='wb spatial average')\n",
    "        self.lineLwbpssa, = self.ax.plot(self.Lwbpssa, self.z, alpha=0.5, label='wb point spatial spatial avg')\n",
    "        \n",
    "        self.fig.canvas.toolbar_position = 'bottom'\n",
    "        self.fig.canvas.header_visible = False\n",
    "        self.ax.set_xlabel('Limit normalised field value')\n",
    "        self.ax.set_ylabel('z (m)')\n",
    "        self.ax.grid(True, ls='--', alpha=0.5)\n",
    "        self.ax.legend()\n",
    "        zmin, zmax = int(self.zlow), int(self.zhigh)\n",
    "        self.ax.set_yticks(range(zmin,zmax+1))\n",
    "        self.ax.set_ylim(zmin,zmax)\n",
    "        self.set_title()\n",
    "\n",
    "        # Plot annotation \n",
    "        # Use this if needed for debugging. Update text with self.set_text\n",
    "        self.text = self.ax.text(0.3,12,'')\n",
    "\n",
    "        # define widgets\n",
    "        zsA_slider = widgets.FloatSlider(\n",
    "            value=self.zs[0],\n",
    "            min=self.zlow, \n",
    "            max=self.zhigh, \n",
    "            step=self.dz, \n",
    "            description='Source A',\n",
    "            orientation='vertical',\n",
    "            layout=widgets.Layout(height=f'{plot_height}in'),\n",
    "        )\n",
    "        zsB_slider = widgets.FloatSlider(\n",
    "            value=self.zs[1],\n",
    "            min=self.zlow, \n",
    "            max=self.zhigh, \n",
    "            step=self.dz, \n",
    "            description='Source B',\n",
    "            orientation='vertical',\n",
    "            layout=widgets.Layout(height=f'{plot_height}in'),\n",
    "        )\n",
    "        self.nsap_radio = widgets.RadioButtons(\n",
    "            options=self.valid_nsap,\n",
    "            value=self.nsap,\n",
    "            description='nsap:',\n",
    "            orientation='horizontal',\n",
    "            disabled=False\n",
    "        )\n",
    "        k1A_float = widgets.FloatText(\n",
    "            value=self.k1s[0],\n",
    "            step=0.1,\n",
    "            description='k1',\n",
    "            continuous_update=False,\n",
    "            disabled=False,\n",
    "        )               \n",
    "        k2A_float = widgets.FloatText(\n",
    "            value=self.k2s[0],\n",
    "            step=0.1,\n",
    "            description='k2',\n",
    "            continuous_update=False,\n",
    "            disabled=False,\n",
    "        )               \n",
    "        k1B_float = widgets.FloatText(\n",
    "            value=self.k1s[1],\n",
    "            step=0.1,\n",
    "            description='k1',\n",
    "            continuous_update=False,\n",
    "            disabled=False,\n",
    "        )               \n",
    "        k2B_float = widgets.FloatText(\n",
    "            value=self.k2s[1],\n",
    "            step=0.1,\n",
    "            description='k2',\n",
    "            continuous_update=False,\n",
    "            disabled=False,\n",
    "        )               \n",
    "        h_slider = widgets.FloatSlider(\n",
    "            value=self.h,\n",
    "            min=0.2, \n",
    "            max=2, \n",
    "            step=0.1, \n",
    "            description='h (m)',\n",
    "            layout=widgets.Layout(width='4in'),\n",
    "            readout_format='.1f',\n",
    "            continuous_update=False,\n",
    "        )\n",
    "        \n",
    "        # define left controls\n",
    "        height_sliders = widgets.HBox([\n",
    "            zsA_slider, \n",
    "            zsB_slider, \n",
    "        ])\n",
    "        \n",
    "        left_controls = widgets.VBox([\n",
    "            widgets.HTML(\"<u>Source heights</u>\"),\n",
    "            height_sliders,            \n",
    "        ])\n",
    "        \n",
    "        left_controls.layout = make_box_layout2()\n",
    "        \n",
    "        # define right controls\n",
    "        right_controls = widgets.VBox([\n",
    "            widgets.HTML(\"<u>Spatial averaging parameters</u>\"),\n",
    "            h_slider,\n",
    "            self.nsap_radio,\n",
    "            widgets.HTML(\"<u>Source A</u>\"),\n",
    "            k1A_float,\n",
    "            k2A_float,\n",
    "            widgets.HTML(\"<u>Source B</u>\"),\n",
    "            k1B_float, \n",
    "            k2B_float,\n",
    "        ])\n",
    "        \n",
    "        right_controls.layout = make_box_layout()\n",
    "        \n",
    "        # define output\n",
    "        out_box = widgets.Box([output])\n",
    "        output.layout = make_box_layout()\n",
    "\n",
    "        # observe stuff\n",
    "        zsA_slider.observe(self.zsA_change, 'value')\n",
    "        zsB_slider.observe(self.zsB_change, 'value')       \n",
    "        h_slider.observe(self.h_change, 'value')       \n",
    "        k1A_float.observe(self.k1A_change, 'value')       \n",
    "        k2A_float.observe(self.k2A_change, 'value')       \n",
    "        k1B_float.observe(self.k1B_change, 'value')       \n",
    "        k2B_float.observe(self.k2B_change, 'value')\n",
    "        self.nsap_radio.observe(self.nsap_change, 'value')\n",
    "\n",
    "        # add to Ass object's children\n",
    "        self.children = [left_controls, output, right_controls]\n",
    "    \n",
    "    def set_text(self):\n",
    "        txt = f'valid_nsap = {self.valid_nsap}\\nnsap = {self.nsap}\\nh = {self.h}\\nnh = {self.nh}'\n",
    "        self.text.set_text(txt)\n",
    "    \n",
    "    def nearest_nsap(self, nsap, nh, nsap_num=None):\n",
    "        '''Get the nearest valid value of nsap to the current nsap'''\n",
    "        valid_nsap = calc_valid_nsap(nh, n=nsap_num)\n",
    "        abs_diff = np.abs(np.array(valid_nsap) - nsap)\n",
    "        index = abs_diff.argmin()\n",
    "        nsap = valid_nsap[index]\n",
    "        return nsap, valid_nsap\n",
    "\n",
    "    def calc_variables_old(self):\n",
    "        '''Calculate all preliminary assessment variables'''\n",
    "        self.nz,self.nh,self.nh2 = check_dz(self.dz,self.h,self.zlow,self.zhigh)\n",
    "        self.nsap,self.valid_nsap = self.nearest_nsap(self.nsap,self.nh,self.nsap_num)\n",
    "        self.hindices = calc_hindices(self.nh, self.nh2, self.nsap)\n",
    "        \n",
    "    def calc_variables(self, dz, h, zlow, zhigh, nsap, nsap_num):\n",
    "        '''Calculate preliminary assessment variables'''\n",
    "        nz, nh, nh2 = check_dz(dz, h, zlow, zhigh)\n",
    "        nsap, valid_nsap = self.nearest_nsap(nsap, nh, nsap_num)\n",
    "        hindices = calc_hindices(nh, nh2, nsap)\n",
    "        return nsap, valid_nsap, nh, nh2, hindices \n",
    "        \n",
    "    def calc_ass(self):\n",
    "        '''Calculate all assessment distributions'''\n",
    "        self.Lwbps = calc_Lwbps(self.k1s,self.k2s,self.zs,self.z,self.nz)\n",
    "        self.Llocps = calc_Llocps(self.Lwbps, self.fMHz)\n",
    "        self.Lwbsa = calc_Lwbsa(self.Lwbps, self.nz, self.nh2, self.hindices)\n",
    "        self.Lwbpssa = calc_Lwbpssa(self.Lwbsa, self.nz, self.nh, self.nh2)\n",
    "           \n",
    "    def set_title(self):\n",
    "        title = f'{self.nsap} points over {self.h}m\\n' + \\\n",
    "                '$k_1$' + f'={\",\".join(map(str,self.k1s))}, ' + \\\n",
    "                '$k_2$' + f'={\",\".join(map(str,self.k2s))}, f={self.fMHz} MHz'\n",
    "        self.fig.suptitle(title)\n",
    "\n",
    "    def line_update(self, Lwbps, Llocps, Lwbsa, Lwbpssa):\n",
    "        \"\"\"update assessment lines in plot\"\"\"\n",
    "        self.lineLwbps.set_xdata(Lwbps)\n",
    "        self.lineLlocps.set_xdata(Llocps)\n",
    "        self.lineLwbsa.set_xdata(Lwbsa)\n",
    "        self.lineLwbpssa.set_xdata(Lwbpssa)\n",
    "        self.fig.canvas.draw()\n",
    "\n",
    "    def h_change(self, change):\n",
    "        self.h = change.new\n",
    "        self.nsap, self.valid_nsap, self.nh, self.nh2, self.hindices = \\\n",
    "          self.calc_variables(self.dz,self.h,self.zlow,self.zhigh,self.nsap,self.nsap_num)\n",
    "        self.calc_ass()\n",
    "        self.line_update(self.Lwbps, self.Llocps, self.Lwbsa, self.Lwbpssa)\n",
    "        self.set_title()\n",
    "        \n",
    "        # Update nsap_radio widget. Note that we need to 'unobserve' the nsap_radio widget\n",
    "        # while updating it since it will otherwise trigger a callback when changing it\n",
    "        self.nsap_radio.unobserve(self.nsap_change, 'value')\n",
    "        self.nsap_radio.options = self.valid_nsap\n",
    "        self.nsap_radio.value = self.nsap\n",
    "        self.nsap_radio.observe(self.nsap_change, 'value')\n",
    "        \n",
    "    def nsap_change(self, change):\n",
    "        self.nsap = change.new\n",
    "        self.nsap, self.valid_nsap, self.nh, self.nh2, self.hindices = \\\n",
    "          self.calc_variables(self.dz,self.h,self.zlow,self.zhigh,self.nsap,self.nsap_num)\n",
    "        self.calc_ass()\n",
    "        self.line_update(self.Lwbps, self.Llocps, self.Lwbsa, self.Lwbpssa)\n",
    "        self.set_title()\n",
    "        \n",
    "    def zsA_change(self, change):\n",
    "        self.zs[0] = change.new\n",
    "        self.calc_ass()\n",
    "        self.line_update(self.Lwbps, self.Llocps, self.Lwbsa, self.Lwbpssa)\n",
    "        \n",
    "    def zsB_change(self, change):\n",
    "        self.zs[1] = change.new\n",
    "        self.calc_ass()\n",
    "        self.line_update(self.Lwbps, self.Llocps, self.Lwbsa, self.Lwbpssa)\n",
    "        \n",
    "    def k1A_change(self, change):\n",
    "        self.k1s[0] = change.new\n",
    "        self.calc_ass()\n",
    "        self.line_update(self.Lwbps, self.Llocps, self.Lwbsa, self.Lwbpssa)   \n",
    "\n",
    "    def k2A_change(self, change):\n",
    "        self.k2s[0] = change.new\n",
    "        self.calc_ass()\n",
    "        self.line_update(self.Lwbps, self.Llocps, self.Lwbsa, self.Lwbpssa)   \n",
    "\n",
    "    def k1B_change(self, change):\n",
    "        self.k1s[1] = change.new\n",
    "        self.calc_ass()\n",
    "        self.line_update(self.Lwbps, self.Llocps, self.Lwbsa, self.Lwbpssa)   \n",
    "\n",
    "    def k2B_change(self, change):\n",
    "        self.k2s[1] = change.new\n",
    "        self.calc_ass()\n",
    "        self.line_update(self.Lwbps, self.Llocps, self.Lwbsa, self.Lwbpssa)   "
   ]
  },
  {
   "cell_type": "markdown",
   "id": "5269425c-5222-4d18-9cf6-d090b1aa12af",
   "metadata": {},
   "source": [
    "## Interactive assessment tool\n",
    "Use this tool to explore the effect of spatial averaging schemes on different exposure scenarios generated by two hypothetical RF sources over a vetical line of points in the z direction."
   ]
  },
  {
   "cell_type": "markdown",
   "id": "4d34e6d2-b827-42a7-b088-444d049b8268",
   "metadata": {},
   "source": [
    "**Cumulative limit-normalised field level:**\n",
    "$\\Large L_{wbps} = \\frac{k_1}{\\textrm{cosh}(k_2(z-z_{source}))}$"
   ]
  },
  {
   "cell_type": "code",
   "execution_count": 5,
   "id": "deea26f0-e9a5-4daf-b454-ae0e95689774",
   "metadata": {},
   "outputs": [],
   "source": [
    "def calc_Lwbpssa(Lwbsa, nz, nh, nh2):\n",
    "    '''Calculate the point spatial representation of the wb spatial average (Lwbpssa)\n",
    "    INPUTS:\n",
    "       Lwbsa = spatial average of the whole body limit normalised point spatial field over a vertical line\n",
    "       nz = number of dz intervals in the z range\n",
    "       nh = number of dz intervals in the h averaging window\n",
    "       nh2 = number of dz intervals in half of the h averaging window\n",
    "    OUTPUTS:\n",
    "       Lwbpssa = point spatial respresentation of the spatially averaged field (Lwbsa)\n",
    "       '''\n",
    "    # initialise Lwbpssa array with NaN's (Not a Number)\n",
    "    Lwbpssa = np.repeat(np.nan, nz+1)\n",
    "    \n",
    "    # first pass: assign Lwbpssa values based on minimum value of points that\n",
    "    # are half an averaging window above or below the assessment point\n",
    "    for iz in range(nh, nz-nh+1):\n",
    "        Lwbpssa[iz] = Lwbsa[[iz-nh2, iz+nh2]].min() \n",
    "    \n",
    "    # second pass: assign Lwbsa value at the point(s) where Lwbsa peaks,\n",
    "    # i.e. where spatial averaging window exposure changes between head and feet\n",
    "    ipeaks, _ = find_peaks(Lwbsa)  # get indices of local peaks of Lwbsa values    \n",
    "    for iz in ipeaks:\n",
    "        Lwbpssa[iz] = Lwbsa[iz]\n",
    "        \n",
    "    # third pass: assign minimum Lwbsa value for the length of the spatial averaging window\n",
    "    # where Lwbsa is a minimum\n",
    "    itroughs, _ = find_peaks(1/Lwbsa)  # get indices of local minimums of Lwbsa values\n",
    "    for iz in itroughs:\n",
    "        Lwbpssa[(iz-nh2):(iz+nh2)] = Lwbsa[iz]\n",
    "        \n",
    "    return Lwbpssa  "
   ]
  },
  {
   "cell_type": "code",
   "execution_count": 6,
   "id": "bff804d1-1002-4853-85dd-19a97ecf6f7c",
   "metadata": {
    "tags": []
   },
   "outputs": [
    {
     "data": {
      "application/vnd.jupyter.widget-view+json": {
       "model_id": "cfe9a0eeaabb4503b7a014b58faef318",
       "version_major": 2,
       "version_minor": 0
      },
      "text/plain": [
       "Ass(children=(VBox(children=(HTML(value='<u>Source heights</u>'), HBox(children=(FloatSlider(value=8.0, descri…"
      ]
     },
     "metadata": {},
     "output_type": "display_data"
    }
   ],
   "source": [
    "# Create an isntance of the assessment explorer\n",
    "# Alter z increment (dz), height of z points (zhigh), plot height (plot_height)\n",
    "# and exposure frequency (fMHz) in the Ass arguments below\n",
    "\n",
    "ass1 = Ass(dz=0.1, zhigh=16, plot_height=8, fMHz=400)\n",
    "display(ass1)"
   ]
  },
  {
   "cell_type": "markdown",
   "id": "620f36ae",
   "metadata": {
    "tags": []
   },
   "source": [
    "## Explore different configurations"
   ]
  },
  {
   "cell_type": "code",
   "execution_count": 7,
   "id": "cd78d33e",
   "metadata": {
    "tags": []
   },
   "outputs": [
    {
     "data": {
      "application/vnd.jupyter.widget-view+json": {
       "model_id": "be6c1ee5daf04a2181a4b6eff6cc73d2",
       "version_major": 2,
       "version_minor": 0
      },
      "text/plain": [
       "Canvas(toolbar=Toolbar(toolitems=[('Home', 'Reset original view', 'home', 'home'), ('Back', 'Back to previous …"
      ]
     },
     "metadata": {},
     "output_type": "display_data"
    }
   ],
   "source": [
    "L1 = calc_ass(h=2, nsap=5, fMHz=400,\n",
    "              zlow=0, zhigh=12, dz=0.01,\n",
    "              k1s=[1,2], k2s=[2,2],\n",
    "              zs=[4, 8])\n",
    "\n",
    "plotL(L1);\n",
    "plt.savefig(\"../plots/2 source 5 pts far peaks.png\",dpi=100)"
   ]
  },
  {
   "cell_type": "code",
   "execution_count": 7,
   "id": "00e00752-606b-4921-a979-7f83024e8679",
   "metadata": {
    "tags": []
   },
   "outputs": [
    {
     "data": {
      "application/vnd.jupyter.widget-view+json": {
       "model_id": "e147757c2a914ff1b650abb88394345d",
       "version_major": 2,
       "version_minor": 0
      },
      "text/plain": [
       "Canvas(toolbar=Toolbar(toolitems=[('Home', 'Reset original view', 'home', 'home'), ('Back', 'Back to previous …"
      ]
     },
     "metadata": {},
     "output_type": "display_data"
    }
   ],
   "source": [
    "L1 = calc_ass(h=2, nsap=5, fMHz=400,\n",
    "              zlow=0, zhigh=12, dz=0.01,\n",
    "              k1s=[1,2], k2s=[2,2], zs=[4, 8]\n",
    "             )\n",
    "\n",
    "plotL(L1);\n",
    "plt.savefig(\"../plots/2 source 5 pts far peaks.png\",dpi=100)"
   ]
  },
  {
   "cell_type": "code",
   "execution_count": 8,
   "id": "4708f6f2",
   "metadata": {
    "tags": []
   },
   "outputs": [
    {
     "data": {
      "application/vnd.jupyter.widget-view+json": {
       "model_id": "ab235691823f461891114d61c20b1a3e",
       "version_major": 2,
       "version_minor": 0
      },
      "text/plain": [
       "Canvas(toolbar=Toolbar(toolitems=[('Home', 'Reset original view', 'home', 'home'), ('Back', 'Back to previous …"
      ]
     },
     "metadata": {},
     "output_type": "display_data"
    }
   ],
   "source": [
    "L1 = calc_ass(h=2, nsap=5, fMHz=400,\n",
    "              zlow=0, zhigh=12, dz=0.01,\n",
    "              k1s=[1,2], k2s=[2,2], zs=[4, 6]\n",
    "             )\n",
    "\n",
    "plotL(L1);\n",
    "plt.savefig(\"../plots/2 source 5 pts close peaks.png\",dpi=100)"
   ]
  },
  {
   "cell_type": "code",
   "execution_count": 41,
   "id": "96c6cffe",
   "metadata": {},
   "outputs": [],
   "source": [
    "plt.gcf().savefig(\"../plots/2 source 5 pts.png\",dpi=300)"
   ]
  },
  {
   "cell_type": "code",
   "execution_count": 9,
   "id": "3f399095",
   "metadata": {
    "tags": []
   },
   "outputs": [
    {
     "data": {
      "application/vnd.jupyter.widget-view+json": {
       "model_id": "7c7d10f40eb94115a4ee3e455e111ecf",
       "version_major": 2,
       "version_minor": 0
      },
      "text/plain": [
       "Canvas(toolbar=Toolbar(toolitems=[('Home', 'Reset original view', 'home', 'home'), ('Back', 'Back to previous …"
      ]
     },
     "metadata": {},
     "output_type": "display_data"
    }
   ],
   "source": [
    "plt.close('all')\n",
    "L1 = calc_ass(h=2, nsap=3, fMHz=400,\n",
    "              zlow=0, zhigh=12, dz=0.1,\n",
    "              k1s=[1]*2, k2s=[2]*2, zs=[4, 8]\n",
    "             )\n",
    "\n",
    "plotL(L1);"
   ]
  },
  {
   "cell_type": "markdown",
   "id": "e80e348c",
   "metadata": {
    "tags": []
   },
   "source": [
    "## Vary $k_1$ and $k_2$ "
   ]
  },
  {
   "cell_type": "code",
   "execution_count": 10,
   "id": "a4f4e279",
   "metadata": {
    "tags": []
   },
   "outputs": [
    {
     "data": {
      "application/vnd.jupyter.widget-view+json": {
       "model_id": "d0dc3c3ed1bf4ee790bc71a3ff5e7075",
       "version_major": 2,
       "version_minor": 0
      },
      "text/plain": [
       "Canvas(toolbar=Toolbar(toolitems=[('Home', 'Reset original view', 'home', 'home'), ('Back', 'Back to previous …"
      ]
     },
     "metadata": {},
     "output_type": "display_data"
    }
   ],
   "source": [
    "fig, axes = plt.subplots(1,4,figsize=(9,8))\n",
    "for j, (k1,k2) in enumerate(zip([1,1,1,2],[0.5,1,2,1])):\n",
    "    \n",
    "    # Calculate the assesments\n",
    "    L = calc_ass(h=2, nsap=5, fMHz=400,\n",
    "                 zlow=0, zhigh=20, dz=0.1,\n",
    "                 k1s=k1, k2s=k2, zs=10\n",
    "                )\n",
    "    \n",
    "    # Create the plots\n",
    "    ax = axes[j]\n",
    "    ax.plot(L.lass.Lwbps, L.z, alpha=0.7, label=L.labels[0])\n",
    "    ax.set_xlabel('Limit normalised field value')\n",
    "    ax.set_ylabel('z (m)')\n",
    "    ax.grid(ls='--')\n",
    "    ax.legend(fontsize=8,loc='upper right')\n",
    "    zmin, zmax = int(L.zlow), int(L.zhigh)\n",
    "    ax.set_yticks(range(zmin,zmax))\n",
    "    ax.set_ylim(zmin,zmax)\n",
    "    ax.set_title(L.title, fontsize=10)\n",
    "    \n",
    "fig.tight_layout(w_pad=2)\n",
    "# fig.savefig('../plots/k1 k2 plots.png', dpi=100)\n",
    "        "
   ]
  },
  {
   "cell_type": "markdown",
   "id": "e436e9f5",
   "metadata": {
    "tags": []
   },
   "source": [
    "## Vary nsap and $k_2$ for a <u>single</u> source"
   ]
  },
  {
   "cell_type": "code",
   "execution_count": 11,
   "id": "0cb52a5b",
   "metadata": {
    "tags": []
   },
   "outputs": [
    {
     "data": {
      "application/vnd.jupyter.widget-view+json": {
       "model_id": "e990af8ab6a1415295f2e702278ec633",
       "version_major": 2,
       "version_minor": 0
      },
      "text/plain": [
       "Canvas(toolbar=Toolbar(toolitems=[('Home', 'Reset original view', 'home', 'home'), ('Back', 'Back to previous …"
      ]
     },
     "metadata": {},
     "output_type": "display_data"
    }
   ],
   "source": [
    "fig, axes = plt.subplots(2,3,figsize=(9,12))\n",
    "for i, nsap in enumerate([3,5]):\n",
    "    for j, k2 in enumerate([2, 1, 0.5]):\n",
    "        \n",
    "        # Calculate the assessments\n",
    "        L = calc_ass(h=2, nsap=nsap, fMHz=400,\n",
    "                     zlow=0, zhigh=20, dz=0.01,\n",
    "                     k1s=1, k2s=k2,\n",
    "                     zs=10)\n",
    "        \n",
    "        # Create the plots \n",
    "        ax = axes[i,j]\n",
    "        for lass, label in zip(L.lass, L.labels):\n",
    "            ax.plot(lass, L.z, alpha=0.7, label=label)\n",
    "        ax.set_xlabel('Limit normalised field value')\n",
    "        ax.set_ylabel('z (m)')\n",
    "        ax.grid(ls='--')\n",
    "        ax.legend(fontsize=8,loc='upper right')\n",
    "        zmin, zmax = int(L.zlow), int(L.zhigh)\n",
    "        ax.set_yticks(range(zmin,zmax))\n",
    "        ax.set_ylim(zmin,zmax)\n",
    "        ax.set_title(L.title,fontsize=10)\n",
    "        \n",
    "    fig.tight_layout(h_pad=4,w_pad=2)\n",
    "\n",
    "# fig.savefig('../plots/nsap k2 plots 1source.png', dpi=100)        "
   ]
  },
  {
   "cell_type": "markdown",
   "id": "42601dac",
   "metadata": {
    "tags": []
   },
   "source": [
    "## Vary nsap and $k_2$ for <u>two</u> sources"
   ]
  },
  {
   "cell_type": "code",
   "execution_count": 12,
   "id": "b430f1ef",
   "metadata": {
    "tags": []
   },
   "outputs": [
    {
     "data": {
      "application/vnd.jupyter.widget-view+json": {
       "model_id": "136b747e096b48f0b10a3965c5b10651",
       "version_major": 2,
       "version_minor": 0
      },
      "text/plain": [
       "Canvas(toolbar=Toolbar(toolitems=[('Home', 'Reset original view', 'home', 'home'), ('Back', 'Back to previous …"
      ]
     },
     "metadata": {},
     "output_type": "display_data"
    }
   ],
   "source": [
    "fig, axes = plt.subplots(2,3,figsize=(9,12))\n",
    "for i, nsap in enumerate([3,5]):\n",
    "    for j, k2 in enumerate([2, 1, 0.5]):\n",
    "\n",
    "        # Calculate the assessments\n",
    "        L = calc_ass(h=2, nsap=nsap, fMHz=400,\n",
    "                     zlow=0, zhigh=20, dz=0.01,\n",
    "                     k1s=[1]*2, k2s=[k2]*2,\n",
    "                     zs=[7,13])\n",
    "        \n",
    "        # Create the plots\n",
    "        ax = axes[i,j]\n",
    "        for lass, label in zip(L.lass, L.labels):\n",
    "            ax.plot(lass, L.z, alpha=0.7, label=label)\n",
    "        ax.set_xlabel('Limit normalised field value')\n",
    "        ax.set_ylabel('z (m)')\n",
    "        ax.grid(ls='--')\n",
    "        ax.legend(fontsize=8,loc='upper right')\n",
    "        zmin, zmax = int(L.zlow), int(L.zhigh)\n",
    "        ax.set_yticks(range(zmin,zmax))\n",
    "        ax.set_ylim(zmin,zmax)\n",
    "        ax.set_title(L.title)\n",
    "    fig.tight_layout(h_pad=4,w_pad=2)\n",
    "\n",
    "# fig.savefig('../plots/nsap k2 plots 2source.png', dpi=100)\n",
    "    "
   ]
  },
  {
   "cell_type": "markdown",
   "id": "c95c643f",
   "metadata": {
    "tags": []
   },
   "source": [
    "## Scratch\n",
    "*for testing out code ...*"
   ]
  },
  {
   "cell_type": "markdown",
   "id": "8848451f-d280-4273-a8af-77bd8c9d9857",
   "metadata": {
    "tags": []
   },
   "source": [
    "### Test out assessment functions"
   ]
  },
  {
   "cell_type": "code",
   "execution_count": 14,
   "id": "2f1217e0-b70a-4d50-8070-263b52921ea9",
   "metadata": {
    "tags": []
   },
   "outputs": [
    {
     "name": "stdout",
     "output_type": "stream",
     "text": [
      "nz=120, nh=20, nh2=10\n",
      "valid nsp: [2, 3, 5, 6, 11, 21]\n",
      "hindices=[-10  -5   0   5  10]\n",
      "k1s=[1, 2], k2s=[2, 2], zs=[4, 8]\n",
      "\n",
      "z\n",
      " [ 0.   0.1  0.2  0.3  0.4  0.5  0.6  0.7  0.8  0.9  1.   1.1  1.2  1.3\n",
      "  1.4  1.5  1.6  1.7  1.8  1.9  2.   2.1  2.2  2.3  2.4  2.5  2.6  2.7\n",
      "  2.8  2.9  3.   3.1  3.2  3.3  3.4  3.5  3.6  3.7  3.8  3.9  4.   4.1\n",
      "  4.2  4.3  4.4  4.5  4.6  4.7  4.8  4.9  5.   5.1  5.2  5.3  5.4  5.5\n",
      "  5.6  5.7  5.8  5.9  6.   6.1  6.2  6.3  6.4  6.5  6.6  6.7  6.8  6.9\n",
      "  7.   7.1  7.2  7.3  7.4  7.5  7.6  7.7  7.8  7.9  8.   8.1  8.2  8.3\n",
      "  8.4  8.5  8.6  8.7  8.8  8.9  9.   9.1  9.2  9.3  9.4  9.5  9.6  9.7\n",
      "  9.8  9.9 10.  10.1 10.2 10.3 10.4 10.5 10.6 10.7 10.8 10.9 11.  11.1\n",
      " 11.2 11.3 11.4 11.5 11.6 11.7 11.8 11.9 12. ]\n",
      "\n",
      "Lwbps\n",
      " [6.7138e-04 8.2002e-04 1.0016e-03 1.2233e-03 1.4942e-03 1.8250e-03\n",
      " 2.2290e-03 2.7226e-03 3.3253e-03 4.0616e-03 4.9608e-03 6.0591e-03\n",
      " 7.4006e-03 9.0390e-03 1.1040e-02 1.3484e-02 1.6469e-02 2.0115e-02\n",
      " 2.4567e-02 3.0005e-02 3.6644e-02 4.4749e-02 5.4643e-02 6.6717e-02\n",
      " 8.1444e-02 9.9395e-02 1.2125e-01 1.4783e-01 1.8008e-01 2.1907e-01\n",
      " 2.6598e-01 3.2203e-01 3.8825e-01 4.6525e-01 5.5269e-01 6.4855e-01\n",
      " 7.4830e-01 8.4429e-01 9.2591e-01 9.8143e-01 1.0013e+00 9.8197e-01\n",
      " 9.2701e-01 8.4600e-01 7.5069e-01 6.5170e-01 5.5674e-01 4.7036e-01\n",
      " 3.9462e-01 3.2992e-01 2.7572e-01 2.3103e-01 1.9475e-01 1.6580e-01\n",
      " 1.4324e-01 1.2628e-01 1.1431e-01 1.0688e-01 1.0371e-01 1.0469e-01\n",
      " 1.0986e-01 1.1942e-01 1.3376e-01 1.5345e-01 1.7924e-01 2.1213e-01\n",
      " 2.5338e-01 3.0450e-01 3.6731e-01 4.4389e-01 5.3656e-01 6.4767e-01\n",
      " 7.7928e-01 9.3256e-01 1.1068e+00 1.2979e+00 1.4969e+00 1.6883e+00\n",
      " 1.8510e+00 1.9615e+00 2.0007e+00 1.9612e+00 1.8505e+00 1.6875e+00\n",
      " 1.4957e+00 1.2964e+00 1.1048e+00 9.3001e-01 7.7609e-01 6.4372e-01\n",
      " 5.3170e-01 4.3791e-01 3.5997e-01 2.9551e-01 2.4238e-01 1.9869e-01\n",
      " 1.6281e-01 1.3337e-01 1.0923e-01 8.9453e-02 7.3250e-02 5.9979e-02\n",
      " 4.9110e-02 4.0210e-02 3.2922e-02 2.6955e-02 2.2069e-02 1.8069e-02\n",
      " 1.4794e-02 1.2112e-02 9.9166e-03 8.1191e-03 6.6473e-03 5.4424e-03\n",
      " 4.4558e-03 3.6481e-03 2.9868e-03 2.4454e-03 2.0021e-03 1.6392e-03\n",
      " 1.3421e-03]\n",
      "\n",
      "Lwbsa\n",
      " [   nan    nan    nan    nan    nan    nan    nan    nan    nan    nan\n",
      " 0.0115 0.0141 0.0172 0.021  0.0256 0.0313 0.0382 0.0465 0.0567 0.0691\n",
      " 0.0841 0.1021 0.1236 0.1491 0.1788 0.2128 0.2506 0.291  0.3325 0.3729\n",
      " 0.4104 0.4437 0.4724 0.4968 0.5171 0.5334 0.5461 0.5555 0.5624 0.5668\n",
      " 0.5687 0.568  0.5649 0.5595 0.5516 0.5407 0.5265 0.5087 0.4872 0.462\n",
      " 0.433  0.4007 0.3666 0.3327 0.3016 0.2751 0.255  0.242  0.237  0.2402\n",
      " 0.2521 0.2732 0.3038 0.3446 0.3956 0.4566 0.5263 0.6025 0.6816 0.7592\n",
      " 0.8314 0.8957 0.9513 0.9984 1.0374 1.0687 1.0928 1.1105 1.1229 1.1303\n",
      " 1.1326 1.1297 1.1216 1.1085 1.09   1.0651 1.0327 0.9924 0.9439 0.8865\n",
      " 0.8201 0.7453 0.6646 0.5817 0.5008 0.4254 0.3575 0.2981 0.2472 0.2041\n",
      " 0.1681 0.1382 0.1134 0.093  0.0763 0.0625 0.0512 0.0419 0.0343 0.0281\n",
      " 0.023     nan    nan    nan    nan    nan    nan    nan    nan    nan\n",
      "    nan]\n",
      "\n",
      "Llocps\n",
      " [1.3428e-04 1.6400e-04 2.0031e-04 2.4467e-04 2.9883e-04 3.6500e-04\n",
      " 4.4581e-04 5.4451e-04 6.6507e-04 8.1231e-04 9.9216e-04 1.2118e-03\n",
      " 1.4801e-03 1.8078e-03 2.2080e-03 2.6969e-03 3.2939e-03 4.0230e-03\n",
      " 4.9135e-03 6.0009e-03 7.3287e-03 8.9498e-03 1.0929e-02 1.3343e-02\n",
      " 1.6289e-02 1.9879e-02 2.4251e-02 2.9566e-02 3.6015e-02 4.3813e-02\n",
      " 5.3197e-02 6.4405e-02 7.7650e-02 9.3051e-02 1.1054e-01 1.2971e-01\n",
      " 1.4966e-01 1.6886e-01 1.8518e-01 1.9629e-01 2.0027e-01 1.9639e-01\n",
      " 1.8540e-01 1.6920e-01 1.5014e-01 1.3034e-01 1.1135e-01 9.4073e-02\n",
      " 7.8925e-02 6.5985e-02 5.5143e-02 4.6206e-02 3.8949e-02 3.3160e-02\n",
      " 2.8648e-02 2.5256e-02 2.2861e-02 2.1375e-02 2.0742e-02 2.0938e-02\n",
      " 2.1971e-02 2.3885e-02 2.6753e-02 3.0689e-02 3.5847e-02 4.2426e-02\n",
      " 5.0675e-02 6.0899e-02 7.3461e-02 8.8778e-02 1.0731e-01 1.2953e-01\n",
      " 1.5586e-01 1.8651e-01 2.2136e-01 2.5959e-01 2.9938e-01 3.3766e-01\n",
      " 3.7020e-01 3.9230e-01 4.0013e-01 3.9224e-01 3.7009e-01 3.3749e-01\n",
      " 2.9914e-01 2.5927e-01 2.2095e-01 1.8600e-01 1.5522e-01 1.2874e-01\n",
      " 1.0634e-01 8.7582e-02 7.1994e-02 5.9103e-02 4.8477e-02 3.9738e-02\n",
      " 3.2561e-02 2.6673e-02 2.1846e-02 1.7891e-02 1.4650e-02 1.1996e-02\n",
      " 9.8220e-03 8.0420e-03 6.5845e-03 5.3910e-03 4.4139e-03 3.6138e-03\n",
      " 2.9587e-03 2.4224e-03 1.9833e-03 1.6238e-03 1.3295e-03 1.0885e-03\n",
      " 8.9117e-04 7.2963e-04 5.9737e-04 4.8908e-04 4.0043e-04 3.2784e-04\n",
      " 2.6842e-04]\n",
      "\n",
      "Lwbpssa\n",
      " [   nan    nan    nan    nan    nan    nan    nan    nan    nan    nan\n",
      "    nan    nan    nan    nan    nan    nan    nan    nan    nan    nan\n",
      " 0.0115 0.0141 0.0172 0.021  0.0256 0.0313 0.0382 0.0465 0.0567 0.0691\n",
      " 0.0841 0.1021 0.1236 0.1491 0.1788 0.2128 0.2506 0.291  0.3325 0.3729\n",
      " 0.5687 0.4007 0.3666 0.3327 0.3016 0.2751 0.255  0.242  0.237  0.237\n",
      " 0.237  0.237  0.237  0.237  0.237  0.237  0.237  0.237  0.237  0.237\n",
      " 0.237  0.237  0.237  0.237  0.237  0.237  0.237  0.237  0.237  0.2402\n",
      " 0.2521 0.2732 0.3038 0.3446 0.3956 0.4566 0.5263 0.6025 0.6816 0.7592\n",
      " 1.1326 0.7453 0.6646 0.5817 0.5008 0.4254 0.3575 0.2981 0.2472 0.2041\n",
      " 0.1681 0.1382 0.1134 0.093  0.0763 0.0625 0.0512 0.0419 0.0343 0.0281\n",
      " 0.023     nan    nan    nan    nan    nan    nan    nan    nan    nan\n",
      "    nan    nan    nan    nan    nan    nan    nan    nan    nan    nan\n",
      "    nan]\n"
     ]
    }
   ],
   "source": [
    "# INPUTS\n",
    "h=2\n",
    "nsap=5\n",
    "fMHz=400\n",
    "zlow=0\n",
    "zhigh=12\n",
    "dz=0.1\n",
    "k1s=[1,2]\n",
    "k2s=[2,2]\n",
    "zs=[4, 8]\n",
    "\n",
    "# Calculation parameters\n",
    "nz, nh, nh2 = check_dz(dz,h,zlow,zhigh)\n",
    "valid_nsap = calc_valid_nsap(nh)      \n",
    "hindices = calc_hindices(nh, nh2, nsap)\n",
    "k1s,k2s,zs = check_source_inputs(k1s,k2s,zs)\n",
    "\n",
    "print(f'nz={nz}, nh={nh}, nh2={nh2}')\n",
    "print(f'valid nsp: {valid_nsap}')\n",
    "print(f'hindices={hindices}')\n",
    "print(f'k1s={k1s}, k2s={k2s}, zs={zs}')\n",
    "\n",
    "# Calculated assessment distributions\n",
    "z = calc_z(zlow,zhigh,nz)\n",
    "Lwbps = calc_Lwbps(k1s,k2s,zs,z,nz)\n",
    "Llocps = calc_Llocps(Lwbps, fMHz)\n",
    "Lwbsa = calc_Lwbsa(Lwbps, nz, nh2, hindices)\n",
    "Lwbpssa = calc_Lwbpssa(Lwbsa, nz, nh, nh2)\n",
    "\n",
    "print('\\nz\\n',z)\n",
    "print('\\nLwbps\\n', Lwbps)\n",
    "print('\\nLwbsa\\n', Lwbsa)\n",
    "print('\\nLlocps\\n', Llocps)\n",
    "print('\\nLwbpssa\\n', Lwbpssa)"
   ]
  },
  {
   "cell_type": "code",
   "execution_count": 6,
   "id": "dc977f87-589e-41a3-8165-50e857e12513",
   "metadata": {},
   "outputs": [
    {
     "data": {
      "text/html": [
       "<div>\n",
       "<style scoped>\n",
       "    .dataframe tbody tr th:only-of-type {\n",
       "        vertical-align: middle;\n",
       "    }\n",
       "\n",
       "    .dataframe tbody tr th {\n",
       "        vertical-align: top;\n",
       "    }\n",
       "\n",
       "    .dataframe thead th {\n",
       "        text-align: right;\n",
       "    }\n",
       "</style>\n",
       "<table border=\"1\" class=\"dataframe\">\n",
       "  <thead>\n",
       "    <tr style=\"text-align: right;\">\n",
       "      <th></th>\n",
       "      <th>a</th>\n",
       "      <th>b</th>\n",
       "      <th>c</th>\n",
       "    </tr>\n",
       "  </thead>\n",
       "  <tbody>\n",
       "    <tr>\n",
       "      <th>0</th>\n",
       "      <td>0</td>\n",
       "      <td>1</td>\n",
       "      <td>2</td>\n",
       "    </tr>\n",
       "    <tr>\n",
       "      <th>1</th>\n",
       "      <td>3</td>\n",
       "      <td>4</td>\n",
       "      <td>5</td>\n",
       "    </tr>\n",
       "    <tr>\n",
       "      <th>2</th>\n",
       "      <td>6</td>\n",
       "      <td>7</td>\n",
       "      <td>8</td>\n",
       "    </tr>\n",
       "    <tr>\n",
       "      <th>3</th>\n",
       "      <td>9</td>\n",
       "      <td>10</td>\n",
       "      <td>11</td>\n",
       "    </tr>\n",
       "  </tbody>\n",
       "</table>\n",
       "</div>"
      ],
      "text/plain": [
       "   a   b   c\n",
       "0  0   1   2\n",
       "1  3   4   5\n",
       "2  6   7   8\n",
       "3  9  10  11"
      ]
     },
     "execution_count": 6,
     "metadata": {},
     "output_type": "execute_result"
    }
   ],
   "source": [
    "df = pd.DataFrame(np.arange(12).reshape(4,3),columns=list('abc'))\n",
    "df"
   ]
  },
  {
   "cell_type": "code",
   "execution_count": 10,
   "id": "f8826dd5-a672-4904-b40c-87ff46b69fbc",
   "metadata": {},
   "outputs": [
    {
     "data": {
      "text/plain": [
       "0    0.666667\n",
       "1    0.666667\n",
       "2    0.666667\n",
       "3    0.666667\n",
       "dtype: float64"
      ]
     },
     "execution_count": 10,
     "metadata": {},
     "output_type": "execute_result"
    }
   ],
   "source": [
    "# mean absolute deviation function - very cool!\n",
    "df.mad(axis=1)"
   ]
  },
  {
   "cell_type": "code",
   "execution_count": 19,
   "id": "84e6d6f2-c4dc-4f33-8091-fbf9e79b7fc1",
   "metadata": {},
   "outputs": [
    {
     "data": {
      "text/html": [
       "<div>\n",
       "<style scoped>\n",
       "    .dataframe tbody tr th:only-of-type {\n",
       "        vertical-align: middle;\n",
       "    }\n",
       "\n",
       "    .dataframe tbody tr th {\n",
       "        vertical-align: top;\n",
       "    }\n",
       "\n",
       "    .dataframe thead tr th {\n",
       "        text-align: left;\n",
       "    }\n",
       "</style>\n",
       "<table border=\"1\" class=\"dataframe\">\n",
       "  <thead>\n",
       "    <tr>\n",
       "      <th></th>\n",
       "      <th colspan=\"2\" halign=\"left\">a</th>\n",
       "      <th colspan=\"2\" halign=\"left\">b</th>\n",
       "      <th colspan=\"2\" halign=\"left\">c</th>\n",
       "    </tr>\n",
       "    <tr>\n",
       "      <th></th>\n",
       "      <th>sqrt</th>\n",
       "      <th>exp</th>\n",
       "      <th>sqrt</th>\n",
       "      <th>exp</th>\n",
       "      <th>sqrt</th>\n",
       "      <th>exp</th>\n",
       "    </tr>\n",
       "  </thead>\n",
       "  <tbody>\n",
       "    <tr>\n",
       "      <th>0</th>\n",
       "      <td>0.000000</td>\n",
       "      <td>1.000000</td>\n",
       "      <td>1.000000</td>\n",
       "      <td>2.718282</td>\n",
       "      <td>1.414214</td>\n",
       "      <td>7.389056</td>\n",
       "    </tr>\n",
       "    <tr>\n",
       "      <th>1</th>\n",
       "      <td>1.732051</td>\n",
       "      <td>20.085537</td>\n",
       "      <td>2.000000</td>\n",
       "      <td>54.598150</td>\n",
       "      <td>2.236068</td>\n",
       "      <td>148.413159</td>\n",
       "    </tr>\n",
       "    <tr>\n",
       "      <th>2</th>\n",
       "      <td>2.449490</td>\n",
       "      <td>403.428793</td>\n",
       "      <td>2.645751</td>\n",
       "      <td>1096.633158</td>\n",
       "      <td>2.828427</td>\n",
       "      <td>2980.957987</td>\n",
       "    </tr>\n",
       "    <tr>\n",
       "      <th>3</th>\n",
       "      <td>3.000000</td>\n",
       "      <td>8103.083928</td>\n",
       "      <td>3.162278</td>\n",
       "      <td>22026.465795</td>\n",
       "      <td>3.316625</td>\n",
       "      <td>59874.141715</td>\n",
       "    </tr>\n",
       "  </tbody>\n",
       "</table>\n",
       "</div>"
      ],
      "text/plain": [
       "          a                      b                       c              \n",
       "       sqrt          exp      sqrt           exp      sqrt           exp\n",
       "0  0.000000     1.000000  1.000000      2.718282  1.414214      7.389056\n",
       "1  1.732051    20.085537  2.000000     54.598150  2.236068    148.413159\n",
       "2  2.449490   403.428793  2.645751   1096.633158  2.828427   2980.957987\n",
       "3  3.000000  8103.083928  3.162278  22026.465795  3.316625  59874.141715"
      ]
     },
     "execution_count": 19,
     "metadata": {},
     "output_type": "execute_result"
    }
   ],
   "source": [
    "# transform applies functions on each single value\n",
    "df.transform([np.sqrt,np.exp])"
   ]
  },
  {
   "cell_type": "code",
   "execution_count": 31,
   "id": "deeb041f-24cc-4636-a5b5-4c58ffddffb9",
   "metadata": {},
   "outputs": [
    {
     "data": {
      "text/html": [
       "<div>\n",
       "<style scoped>\n",
       "    .dataframe tbody tr th:only-of-type {\n",
       "        vertical-align: middle;\n",
       "    }\n",
       "\n",
       "    .dataframe tbody tr th {\n",
       "        vertical-align: top;\n",
       "    }\n",
       "\n",
       "    .dataframe thead th {\n",
       "        text-align: right;\n",
       "    }\n",
       "</style>\n",
       "<table border=\"1\" class=\"dataframe\">\n",
       "  <thead>\n",
       "    <tr style=\"text-align: right;\">\n",
       "      <th></th>\n",
       "      <th>a</th>\n",
       "      <th>b</th>\n",
       "      <th>c</th>\n",
       "    </tr>\n",
       "  </thead>\n",
       "  <tbody>\n",
       "    <tr>\n",
       "      <th>mean</th>\n",
       "      <td>4.500000</td>\n",
       "      <td>5.500000</td>\n",
       "      <td>6.500000</td>\n",
       "    </tr>\n",
       "    <tr>\n",
       "      <th>std</th>\n",
       "      <td>3.872983</td>\n",
       "      <td>3.872983</td>\n",
       "      <td>3.872983</td>\n",
       "    </tr>\n",
       "    <tr>\n",
       "      <th>min</th>\n",
       "      <td>0.000000</td>\n",
       "      <td>1.000000</td>\n",
       "      <td>2.000000</td>\n",
       "    </tr>\n",
       "    <tr>\n",
       "      <th>max</th>\n",
       "      <td>9.000000</td>\n",
       "      <td>10.000000</td>\n",
       "      <td>11.000000</td>\n",
       "    </tr>\n",
       "  </tbody>\n",
       "</table>\n",
       "</div>"
      ],
      "text/plain": [
       "             a          b          c\n",
       "mean  4.500000   5.500000   6.500000\n",
       "std   3.872983   3.872983   3.872983\n",
       "min   0.000000   1.000000   2.000000\n",
       "max   9.000000  10.000000  11.000000"
      ]
     },
     "execution_count": 31,
     "metadata": {},
     "output_type": "execute_result"
    }
   ],
   "source": [
    "# agg applies function on aggregated values, i.e. in columns or rows\n",
    "df.agg(['mean','std','min','max'],axis=0)"
   ]
  },
  {
   "cell_type": "code",
   "execution_count": 30,
   "id": "db1553db-4989-499c-80ed-f71f86f8c547",
   "metadata": {},
   "outputs": [
    {
     "data": {
      "text/html": [
       "<div>\n",
       "<style scoped>\n",
       "    .dataframe tbody tr th:only-of-type {\n",
       "        vertical-align: middle;\n",
       "    }\n",
       "\n",
       "    .dataframe tbody tr th {\n",
       "        vertical-align: top;\n",
       "    }\n",
       "\n",
       "    .dataframe thead th {\n",
       "        text-align: right;\n",
       "    }\n",
       "</style>\n",
       "<table border=\"1\" class=\"dataframe\">\n",
       "  <thead>\n",
       "    <tr style=\"text-align: right;\">\n",
       "      <th></th>\n",
       "      <th>a</th>\n",
       "      <th>b</th>\n",
       "    </tr>\n",
       "  </thead>\n",
       "  <tbody>\n",
       "    <tr>\n",
       "      <th>sum</th>\n",
       "      <td>18.0</td>\n",
       "      <td>NaN</td>\n",
       "    </tr>\n",
       "    <tr>\n",
       "      <th>min</th>\n",
       "      <td>0.0</td>\n",
       "      <td>1.0</td>\n",
       "    </tr>\n",
       "    <tr>\n",
       "      <th>max</th>\n",
       "      <td>NaN</td>\n",
       "      <td>10.0</td>\n",
       "    </tr>\n",
       "  </tbody>\n",
       "</table>\n",
       "</div>"
      ],
      "text/plain": [
       "        a     b\n",
       "sum  18.0   NaN\n",
       "min   0.0   1.0\n",
       "max   NaN  10.0"
      ]
     },
     "execution_count": 30,
     "metadata": {},
     "output_type": "execute_result"
    }
   ],
   "source": [
    "# agg applies function on aggregated values, i.e. in columns or rows\n",
    "df.agg({'a' : ['sum', 'min'], 'b' : ['min', 'max']})"
   ]
  },
  {
   "cell_type": "code",
   "execution_count": 32,
   "id": "c33be082-932c-433b-a676-24a402aa53e8",
   "metadata": {},
   "outputs": [
    {
     "data": {
      "text/html": [
       "<div>\n",
       "<style scoped>\n",
       "    .dataframe tbody tr th:only-of-type {\n",
       "        vertical-align: middle;\n",
       "    }\n",
       "\n",
       "    .dataframe tbody tr th {\n",
       "        vertical-align: top;\n",
       "    }\n",
       "\n",
       "    .dataframe thead th {\n",
       "        text-align: right;\n",
       "    }\n",
       "</style>\n",
       "<table border=\"1\" class=\"dataframe\">\n",
       "  <thead>\n",
       "    <tr style=\"text-align: right;\">\n",
       "      <th></th>\n",
       "      <th>a</th>\n",
       "      <th>b</th>\n",
       "    </tr>\n",
       "  </thead>\n",
       "  <tbody>\n",
       "    <tr>\n",
       "      <th>sum</th>\n",
       "      <td>18.0</td>\n",
       "      <td>NaN</td>\n",
       "    </tr>\n",
       "    <tr>\n",
       "      <th>min</th>\n",
       "      <td>0.0</td>\n",
       "      <td>1.0</td>\n",
       "    </tr>\n",
       "    <tr>\n",
       "      <th>max</th>\n",
       "      <td>NaN</td>\n",
       "      <td>10.0</td>\n",
       "    </tr>\n",
       "  </tbody>\n",
       "</table>\n",
       "</div>"
      ],
      "text/plain": [
       "        a     b\n",
       "sum  18.0   NaN\n",
       "min   0.0   1.0\n",
       "max   NaN  10.0"
      ]
     },
     "execution_count": 32,
     "metadata": {},
     "output_type": "execute_result"
    }
   ],
   "source": [
    "df.apply({'a' : ['sum', 'min'], 'b' : ['min', 'max']})"
   ]
  },
  {
   "cell_type": "code",
   "execution_count": 3,
   "id": "a738a380-9609-476f-b993-38e1dcda01c1",
   "metadata": {},
   "outputs": [
    {
     "name": "stdout",
     "output_type": "stream",
     "text": [
      "79 4\n"
     ]
    }
   ],
   "source": [
    "a = 79\n",
    "b = 2 if a == 7 else 4\n",
    "print(a,b)"
   ]
  },
  {
   "cell_type": "code",
   "execution_count": null,
   "id": "782a09e0-14c5-4b76-b0bc-7722fe9ad496",
   "metadata": {},
   "outputs": [],
   "source": []
  }
 ],
 "metadata": {
  "kernelspec": {
   "display_name": "Python 3",
   "language": "python",
   "name": "python3"
  },
  "language_info": {
   "codemirror_mode": {
    "name": "ipython",
    "version": 3
   },
   "file_extension": ".py",
   "mimetype": "text/x-python",
   "name": "python",
   "nbconvert_exporter": "python",
   "pygments_lexer": "ipython3",
   "version": "3.8.10"
  }
 },
 "nbformat": 4,
 "nbformat_minor": 5
}
