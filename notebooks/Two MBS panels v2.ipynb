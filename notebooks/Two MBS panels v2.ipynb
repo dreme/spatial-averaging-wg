{
 "cells": [
  {
   "cell_type": "markdown",
   "metadata": {
    "tags": []
   },
   "source": [
    "# Compliance zone for two MBS panels\n",
    "**Author**: Dr Vitas Anderson (*Two Fields Consulting*)\n",
    "\n",
    "**Last updated**: 28/10/2023\n",
    "\n",
    "+ The aim of this notebook is to test an algorithm for creating a point spatial representation of a spatially averaged compliance zone\n",
    "+ FEKO data provided by Danie Ludick\n",
    "+ Uses **v11** RFcalcUC module\n",
    "+ This notebook uses dataframes in HDF5 files that were generated from the `make_HDF5_MBS_panel_trial2.ipynb` notebook"
   ]
  },
  {
   "cell_type": "markdown",
   "metadata": {
    "tags": []
   },
   "source": [
    "## Load necessary python modules"
   ]
  },
  {
   "cell_type": "code",
   "execution_count": 1,
   "metadata": {},
   "outputs": [],
   "source": [
    "# import mayavi mlab\n",
    "from traits.etsconfig.api import ETSConfig\n",
    "ETSConfig.toolkit = 'qt4'  # the 'qt4' option actually denotes qt4 and qt5\n",
    "from mayavi import mlab\n",
    "\n",
    "# import other modules\n",
    "from importlib import reload\n",
    "import matplotlib.pyplot as plt\n",
    "import numpy as np\n",
    "import seaborn as sn\n",
    "import pandas as pd\n",
    "import RFcalcUC_v11 as RFcalcUC\n",
    "from matplotlib.ticker import StrMethodFormatter\n",
    "pd.set_option('display.max_rows', 200)\n",
    "from icecream import ic\n",
    "\n",
    "# Set plotting environment\n",
    "sn.set()"
   ]
  },
  {
   "cell_type": "code",
   "execution_count": 2,
   "metadata": {},
   "outputs": [],
   "source": [
    "# Create function to show exclsuion zone and PSSACZ as 3D scatter plot points\n",
    "def ExclusionZone(self, data, power, bg='lightgrey', fg='black',\n",
    "                  color=['green','blue','orange','magenta'],\n",
    "                  alpha=[0.5]*8, setting=['public']*8, standard=['RPS-S1']*8, \n",
    "                  title='', axv=[True,False,False], ycut=None, zcut=None,\n",
    "                  hman=None, xyzman=[-1.5,0,0], \n",
    "                  antenna=RFcalcUC.panelAntenna, antdz=None, \n",
    "                  gridpoints=False, gridpoint_filter=None, gridpoint_size=0.02, gridpoint_opacity=0.3,\n",
    "                  figsize=(1200,900), pssacz=False):\n",
    "    '''\n",
    "        Draw Mayavi figures of exclusion zones for datasets in S\n",
    "                S = dataframe for x,y,z\n",
    "             data = list of S data sets, e.g.['Smax','SE','SH','SARwb']\n",
    "            power = list of scaled power levels for data, e.g. [200,200,100]\n",
    "               bg = background color, selected from COLORS dictionary, e.g. 'white'\n",
    "               fg = foreground color, selected from COLORS dictionary, e.g. 'black'\n",
    "            color = list of colours for exclusion zones for data, e.g. ['red','blue','crimson']\n",
    "            alpha = opacity of the exclusion zone [0 to 1]\n",
    "          setting = list of settings for data, e.g. ['pub','occ']\n",
    "         standard = EME exposure standard for limit value ['RPS S-1 WB','FCC']\n",
    "            title = displayed title for the plot\n",
    "              axv = list or tuple indication visibility of x,y,z axes, e.g. (False,False,True) for just z axis visible\n",
    "             ycut = y value to set cutplane where all points have y > ycut [ystart to yend]\n",
    "             zcut = z value to set cutplane where all points have z > zcut [zstart to zend]\n",
    "             hman = height of man figure\n",
    "           xyzman = [x,y,z] coords of centre of man\n",
    "       gridpoints = toggle to display gridpoint. Defau;ti is False to NOT display gridpoints\n",
    " gridpoint_filter = Mask for gridpoints. Default is valid points for 1.6m spatial averaging\n",
    "   gridpoint_size = size of gridpoints. Default is 0.02\n",
    "gridpoint_opacity = opacity of the gripoints [0 to 1]\n",
    "          antenna = function for display of antenna\n",
    "            antdz = displacement of second antenna in vertical direction. Enter None to not display\n",
    "       gridpoints = toggle for displaying gridpoints\n",
    "          figsize = tuple of width and height f figure in pixels, e.g. (1200,900)\n",
    "           pssacz = boolean flag to display the point spatial compliance zone\n",
    "        '''\n",
    "\n",
    "    # make sure that data, power, color, setting, standard are lists or tuples\n",
    "    # and have at least as many elements as in data\n",
    "    def makeIterable(arg, argname):\n",
    "        if isinstance(arg, (str,float,int)):  # make sure that single string inputs are contained in a list\n",
    "            arg = [arg]\n",
    "        if argname != 'data':\n",
    "            errmsg = f'{argname} must have at least as many elements as in data {data}'\n",
    "            assert len(arg) >= len(data), errmsg \n",
    "        return arg\n",
    "\n",
    "    data = makeIterable(data,'data')\n",
    "    power = makeIterable(power,'power')\n",
    "    color = makeIterable(color,'color')\n",
    "    alpha = makeIterable(alpha,'alpha')\n",
    "    setting = makeIterable(setting,'setting')\n",
    "    standard = makeIterable(standard,'standard')\n",
    "    COLORS = RFcalcUC.COLORS\n",
    "    Slimit = RFcalcUC.Slimit\n",
    "\n",
    "    # assertion tests\n",
    "    Scols = [col for col in self.S.columns if col not in ('x','y','z','r','phi')]  # i.e. all columns except the x y z r phi coordinates\n",
    "    for d in data:\n",
    "        assert d in Scols, f\"data ({d}) must be one of {Scols}\"    \n",
    "    for c in color:\n",
    "        assert c in COLORS.keys(), f\"color ({c}) must be in {list(COLORS.keys())}\"\n",
    "    for a in alpha:\n",
    "        assert (a >= 0) and (a <= 1), f\"alpha ({a}) must be in [0,1] range.\"\n",
    "    for p in power:\n",
    "        assert p >= 0, f\"power ({p}) must be >= 0\"\n",
    "    if hman != None:\n",
    "        assert 0.5 <= hman <= 3, f\"hman ({hman}) must be between 0.5 and 3\"\n",
    "    assert bg in COLORS.keys(), f\"bg {bg} must be one of {COLORS.keys()}\"\n",
    "    assert fg in COLORS.keys(), f\"fg {fg} must be one of {COLORS.keys()}\"\n",
    "    \n",
    "        \n",
    "    # Background and foreground colors\n",
    "    bgc = COLORS[bg]\n",
    "    fgc = COLORS[fg]\n",
    "\n",
    "    # Calculate the S and SAR limits\n",
    "    limits, limtexts = [], []\n",
    "    for dat, s, std in zip(data, setting, standard):\n",
    "        if 'SAR' in dat:\n",
    "            limit = SARlimit(s)\n",
    "            limtext = f'{limit} W/kg'\n",
    "            limits.append(limit)\n",
    "            limtexts.append(limtext)\n",
    "        else:\n",
    "            limit = Slimit(self.freq, s, std)\n",
    "            limtext = f'{limit:0.1f} W/m²'\n",
    "            limits.append(limit)\n",
    "            limtexts.append(limtext)\n",
    "\n",
    "    # Calculate the contour level of each exclusion zone\n",
    "    contour = [self.power / p * lim for p, lim in zip(power, limits)]\n",
    "    \n",
    "    # Calculate X, Y, Z mgrid\n",
    "    X = self.xm\n",
    "    Y = self.ym\n",
    "    Z = self.zm\n",
    "    \n",
    "    if ycut is not None:\n",
    "        ystart, yend, dy = self.grid['y']\n",
    "        assert ystart < ycut < yend, f\"ycut ({ycut} must lie within the grid's y value range [{ystart}, {yend}])\"\n",
    "        nc = int((ycut - ystart) / dy)\n",
    "        X = X[:,nc:,:]\n",
    "        Y = Y[:,nc:,:]\n",
    "        Z = Z[:,nc:,:]\n",
    "        \n",
    "    if zcut is not None:\n",
    "        zstart, zend, dz = self.grid['z']\n",
    "        assert zstart < zcut < zend, f\"zcut ({zcut} must lie within the grid's z value range [{zstart}, {zend}])\"\n",
    "        nc = int((zcut - zstart) / dz)\n",
    "        X = X[:,:,nc:]\n",
    "        Y = Y[:,:,nc:]\n",
    "        Z = Z[:,:,nc:]\n",
    "\n",
    "    # Calculate the x,y,z extents of the plot for all exclusion zones\n",
    "    ScbAll = pd.DataFrame(columns=['x','y','z']).astype(float)\n",
    "    for dat, con in zip(data,contour):\n",
    "        print(f'{dat=}, {con=}')\n",
    "        mask = (self.S[dat] >= con) & (self.S[dat] < 1.1*con)\n",
    "        Scb = self.S.loc[mask,['x','y','z']]\n",
    "        # ScbAll = ScbAll.append(Scb)\n",
    "        ScbAll = pd.concat([ScbAll, Scb])\n",
    "        \n",
    "    extent = ScbAll.apply([min,max]).T.values.flatten().round(1).tolist()\n",
    "    print(extent)\n",
    "\n",
    "    # create the Mayavi figure\n",
    "    try:\n",
    "        fig = mlab.figure(1, size=figsize, bgcolor=bgc, fgcolor=fgc)\n",
    "        mlab.clf()\n",
    "    except:\n",
    "        raise Exception(\"Could not create mlab figure\")\n",
    "\n",
    "    # draw the iso-surfaces\n",
    "    titles = [] if title == '' else [title + '\\n']\n",
    "    for dat,limtext,p,col,a,s,std,con in zip(data,limtexts,power,color,alpha,setting,standard,contour):\n",
    "        print(f'power={self.power}, plotpower={p}, setting={s}, limit={limtext}, contour level={con:0.3f}')\n",
    "        t = f'{col.upper()}: {std} {s} exclusion zone ({limtext}) for {p} W {self.datatitles[dat]}'\n",
    "        titles.append(t)\n",
    "        S = self.make_mgrid(dat)\n",
    "        if ycut is not None:\n",
    "            S = S[:,nc:,:]\n",
    "        if zcut is not None:\n",
    "            S = S[:,:,nc:]\n",
    "        S = np.nan_to_num(S, nan=0.0)  # replace nans in S with zeros\n",
    "        if S.min() < con < S.max():    # check that con lies within range of values in S field\n",
    "            try:\n",
    "                src = mlab.pipeline.scalar_field(X, Y, Z, S, name=dat)\n",
    "                mlab.pipeline.iso_surface(src, contours=[con, ], opacity=a,\n",
    "                                          color=COLORS[col])\n",
    "            except:\n",
    "                raise Exception(f\"Could not draw iso-surface for {dat}\")\n",
    "\n",
    "    # Draw points inside the PSSACZ\n",
    "    if pssacz:\n",
    "        Ss = self.S[self.S.inside_pssacz]\n",
    "        mlab.points3d(Ss.x.values, Ss.y.values, Ss.z.values, color=COLORS['darkblue'],\n",
    "                      scale_factor=0.05, scale_mode='none')       \n",
    "\n",
    "    # display gridpoints\n",
    "    if gridpoints == True:\n",
    "        pointcolor = COLORS['blue']\n",
    "        if gridpoint_filter == None:\n",
    "            # create mask for valid 1.6m spatial averaging points\n",
    "            gridpoint_filter = self.sf('spatavg', offset=0.001, spatavgL=1.6)\n",
    "        Sp = self.S[gridpoint_filter.mask]\n",
    "        if ycut != None:\n",
    "            Sp = Sp[Sp.y >= ycut]\n",
    "        extent = Sp[['x','y','z']].apply([min,max]).T.values.flatten().round(1).tolist()\n",
    "        mlab.points3d(Sp.x.values,Sp.y.values,Sp.z.values,\n",
    "                      scale_factor=gridpoint_size,color=pointcolor,\n",
    "                      opacity=gridpoint_opacity)\n",
    "\n",
    "    # draw the axes\n",
    "    ax = mlab.axes(x_axis_visibility=axv[0], y_axis_visibility=axv[1],\n",
    "              z_axis_visibility=axv[2], line_width=1, extent=extent)            \n",
    "    ax.label_text_property.color = fgc\n",
    "    ax.title_text_property.color = fgc\n",
    "    ax.axes.label_format = '%g'\n",
    "    ax.axes.font_factor = 1\n",
    "\n",
    "    # print plot title\n",
    "    height, size = 0.08, 0.08\n",
    "    mlab.title('\\n'.join(titles), height=height, size=size)\n",
    "\n",
    "    # draw the antenna\n",
    "    antenna('blue')\n",
    "    \n",
    "    # draw second elevated antenna\n",
    "    if antdz != None:\n",
    "        antenna('blue',z0=antdz)\n",
    "    \n",
    "    # draw the man figure\n",
    "    if hman != None:\n",
    "        xc, yc, zc = xyzman\n",
    "        mlabman(hman, xc, yc, zc)\n",
    "        \n",
    "    # Set up the mayavi view\n",
    "    mlab.view(90, -90)  # xz plane (azimuth=90°, elevation=90°)\n",
    "    fig.scene.parallel_projection = True\n",
    "    mlab.show()\n",
    "    return"
   ]
  },
  {
   "cell_type": "markdown",
   "metadata": {
    "tags": []
   },
   "source": [
    "## Create RFc object, R, for single panel antenna"
   ]
  },
  {
   "cell_type": "markdown",
   "metadata": {},
   "source": [
    "### Import field data for a single panel antenna"
   ]
  },
  {
   "cell_type": "code",
   "execution_count": 3,
   "metadata": {},
   "outputs": [
    {
     "name": "stdout",
     "output_type": "stream",
     "text": [
      "Sfile='../antennas/MBSpanel_2/data/MBSpanel_2.hdf5'\n"
     ]
    },
    {
     "data": {
      "text/plain": [
       "Object parameters:\n",
       "  900 MHz, 200 W\n",
       "  errtol = 0.15\n",
       "  offset = 0 m\n",
       "  default length of spatial averagering window = 1.6 m\n",
       "  1,298,751 grid points\n",
       "  nx = 151, ny = 141, nz = 61"
      ]
     },
     "metadata": {},
     "output_type": "display_data"
    },
    {
     "data": {
      "text/html": [
       "<div>\n",
       "<style scoped>\n",
       "    .dataframe tbody tr th:only-of-type {\n",
       "        vertical-align: middle;\n",
       "    }\n",
       "\n",
       "    .dataframe tbody tr th {\n",
       "        vertical-align: top;\n",
       "    }\n",
       "\n",
       "    .dataframe thead th {\n",
       "        text-align: right;\n",
       "    }\n",
       "</style>\n",
       "<table border=\"1\" class=\"dataframe\">\n",
       "  <thead>\n",
       "    <tr style=\"text-align: right;\">\n",
       "      <th></th>\n",
       "      <th>x</th>\n",
       "      <th>y</th>\n",
       "      <th>z</th>\n",
       "      <th>r</th>\n",
       "      <th>phi</th>\n",
       "      <th>SE</th>\n",
       "      <th>SH</th>\n",
       "      <th>Smax</th>\n",
       "      <th>SARwb</th>\n",
       "      <th>SARwbi</th>\n",
       "    </tr>\n",
       "  </thead>\n",
       "  <tbody>\n",
       "    <tr>\n",
       "      <th>0</th>\n",
       "      <td>-1.0</td>\n",
       "      <td>-7.0</td>\n",
       "      <td>-3.0</td>\n",
       "      <td>7.071068</td>\n",
       "      <td>-98.130102</td>\n",
       "      <td>0.007138</td>\n",
       "      <td>0.007219</td>\n",
       "      <td>0.007219</td>\n",
       "      <td>NaN</td>\n",
       "      <td>NaN</td>\n",
       "    </tr>\n",
       "    <tr>\n",
       "      <th>1</th>\n",
       "      <td>-1.0</td>\n",
       "      <td>-7.0</td>\n",
       "      <td>-2.9</td>\n",
       "      <td>7.071068</td>\n",
       "      <td>-98.130102</td>\n",
       "      <td>0.007635</td>\n",
       "      <td>0.007725</td>\n",
       "      <td>0.007725</td>\n",
       "      <td>NaN</td>\n",
       "      <td>NaN</td>\n",
       "    </tr>\n",
       "    <tr>\n",
       "      <th>2</th>\n",
       "      <td>-1.0</td>\n",
       "      <td>-7.0</td>\n",
       "      <td>-2.8</td>\n",
       "      <td>7.071068</td>\n",
       "      <td>-98.130102</td>\n",
       "      <td>0.007646</td>\n",
       "      <td>0.007729</td>\n",
       "      <td>0.007729</td>\n",
       "      <td>NaN</td>\n",
       "      <td>NaN</td>\n",
       "    </tr>\n",
       "    <tr>\n",
       "      <th>3</th>\n",
       "      <td>-1.0</td>\n",
       "      <td>-7.0</td>\n",
       "      <td>-2.7</td>\n",
       "      <td>7.071068</td>\n",
       "      <td>-98.130102</td>\n",
       "      <td>0.007189</td>\n",
       "      <td>0.007244</td>\n",
       "      <td>0.007244</td>\n",
       "      <td>NaN</td>\n",
       "      <td>NaN</td>\n",
       "    </tr>\n",
       "    <tr>\n",
       "      <th>4</th>\n",
       "      <td>-1.0</td>\n",
       "      <td>-7.0</td>\n",
       "      <td>-2.6</td>\n",
       "      <td>7.071068</td>\n",
       "      <td>-98.130102</td>\n",
       "      <td>0.006404</td>\n",
       "      <td>0.006415</td>\n",
       "      <td>0.006415</td>\n",
       "      <td>NaN</td>\n",
       "      <td>NaN</td>\n",
       "    </tr>\n",
       "  </tbody>\n",
       "</table>\n",
       "</div>"
      ],
      "text/plain": [
       "     x    y    z         r        phi        SE        SH      Smax  SARwb  \\\n",
       "0 -1.0 -7.0 -3.0  7.071068 -98.130102  0.007138  0.007219  0.007219    NaN   \n",
       "1 -1.0 -7.0 -2.9  7.071068 -98.130102  0.007635  0.007725  0.007725    NaN   \n",
       "2 -1.0 -7.0 -2.8  7.071068 -98.130102  0.007646  0.007729  0.007729    NaN   \n",
       "3 -1.0 -7.0 -2.7  7.071068 -98.130102  0.007189  0.007244  0.007244    NaN   \n",
       "4 -1.0 -7.0 -2.6  7.071068 -98.130102  0.006404  0.006415  0.006415    NaN   \n",
       "\n",
       "   SARwbi  \n",
       "0     NaN  \n",
       "1     NaN  \n",
       "2     NaN  \n",
       "3     NaN  \n",
       "4     NaN  "
      ]
     },
     "metadata": {},
     "output_type": "display_data"
    }
   ],
   "source": [
    "# Read in \"calc uc trials.xls\" spreadsheet\n",
    "trials = pd.read_excel('../antennas/spat avg trials.xlsx', 'trials', \n",
    "                       skiprows=1, index_col=0).fillna('')\n",
    "# trials.drop(\"unit\", axis=1, inplace=True)\n",
    "\n",
    "# Set trial number\n",
    "trial = 2\n",
    "t = trials[str(trial)]\n",
    "\n",
    "# Set data and plot folders\n",
    "datadir = f'../antennas/{t.antenna_folder}/data/'\n",
    "plotdir = f'../antennas/{t.antenna_folder}/plots/'\n",
    "\n",
    "# Specify the RFc object parameters\n",
    "freq = t.fMHz   # 900 MHz\n",
    "power = t.Prad  # 80 W\n",
    "\n",
    "# Field point grid\n",
    "grid = dict(x=[t.xstart, t.xend, t.dx], \n",
    "            y=[t.ystart, t.yend, t.dy],\n",
    "            z=[t.zstart, t.zend, t.dz])\n",
    "\n",
    "# Antenna box dimensions (xyz extents)\n",
    "xb = [-0.04, 0]\n",
    "yb = [-0.15, 0.15]\n",
    "zb = [-1.125, 1.125]\n",
    "antennabox = [xb, yb, zb]\n",
    "\n",
    "# Create the RFc object\n",
    "reload(RFcalcUC)\n",
    "R = RFcalcUC.RFc(freq, power, grid, antennabox, spatavgL=1.6)\n",
    "\n",
    "# Import the S data files for FEKO and IXUS\n",
    "Sfile = datadir + f'{t.antenna_folder}.hdf5'\n",
    "R.importS(Sfile)\n",
    "\n",
    "# Create filters for valid 1.6m and 2m spatial averaging points\n",
    "fsa16 = R.sf('spatavg', spatavgL=1.6) # valid 1.6m spatial averaging points\n",
    "foutant = R.sf('outant', offset=0)    # all points outside antenna box\n",
    "\n",
    "# Display the first few records in the S dataframe\n",
    "display(R)\n",
    "display(R.S.head())"
   ]
  },
  {
   "cell_type": "code",
   "execution_count": 4,
   "metadata": {},
   "outputs": [
    {
     "data": {
      "text/plain": [
       "{'x': [-1, 14, 0.1], 'y': [-7, 7, 0.1], 'z': [-3, 3, 0.1]}"
      ]
     },
     "execution_count": 4,
     "metadata": {},
     "output_type": "execute_result"
    }
   ],
   "source": [
    "# Show xyz grid extents for single panel antenna fields\n",
    "R.grid"
   ]
  },
  {
   "cell_type": "code",
   "execution_count": 5,
   "metadata": {
    "tags": []
   },
   "outputs": [
    {
     "name": "stdout",
     "output_type": "stream",
     "text": [
      "dat='Smax', con=4.5\n",
      "[-0.1, 12.8, -5.8, 5.8, -1.3, 1.3]\n",
      "power=200, plotpower=200, setting=public, limit=4.5 W/m², contour level=4.500\n"
     ]
    }
   ],
   "source": [
    "# 3D view of public exclusion zone for single 200W panel antenna\n",
    "R.ExclusionZone(\n",
    "    data=[\"Smax\"],\n",
    "    power=[200],\n",
    "    color=[\"gold\"],\n",
    "    alpha=[0.5],\n",
    "    setting=[\"public\"],\n",
    "    standard=[\"RPS S-1 WB\"],\n",
    "    title=\"RPS S-1 public exclusion zone (Smax) for single panel antenna at 200W\",\n",
    "    figsize=(1200,1200),\n",
    "    axv=[True,False,True]\n",
    ")"
   ]
  },
  {
   "cell_type": "markdown",
   "metadata": {},
   "source": [
    "## Create R2 for combined fields of two panel antennas\n",
    "The second additional panel antenna is displaced by dz = 3m from the first and has 60% of its radiated power"
   ]
  },
  {
   "cell_type": "code",
   "execution_count": 5,
   "metadata": {
    "tags": []
   },
   "outputs": [
    {
     "data": {
      "text/html": [
       "<div>\n",
       "<style scoped>\n",
       "    .dataframe tbody tr th:only-of-type {\n",
       "        vertical-align: middle;\n",
       "    }\n",
       "\n",
       "    .dataframe tbody tr th {\n",
       "        vertical-align: top;\n",
       "    }\n",
       "\n",
       "    .dataframe thead th {\n",
       "        text-align: right;\n",
       "    }\n",
       "</style>\n",
       "<table border=\"1\" class=\"dataframe\">\n",
       "  <thead>\n",
       "    <tr style=\"text-align: right;\">\n",
       "      <th></th>\n",
       "      <th>x</th>\n",
       "      <th>y</th>\n",
       "      <th>z</th>\n",
       "      <th>Smax</th>\n",
       "      <th>SARwbi</th>\n",
       "    </tr>\n",
       "  </thead>\n",
       "  <tbody>\n",
       "    <tr>\n",
       "      <th>0</th>\n",
       "      <td>-1.0</td>\n",
       "      <td>-7.0</td>\n",
       "      <td>-3.0</td>\n",
       "      <td>0.007219</td>\n",
       "      <td>0.0</td>\n",
       "    </tr>\n",
       "    <tr>\n",
       "      <th>1</th>\n",
       "      <td>-1.0</td>\n",
       "      <td>-7.0</td>\n",
       "      <td>-2.9</td>\n",
       "      <td>0.007725</td>\n",
       "      <td>0.0</td>\n",
       "    </tr>\n",
       "    <tr>\n",
       "      <th>2</th>\n",
       "      <td>-1.0</td>\n",
       "      <td>-7.0</td>\n",
       "      <td>-2.8</td>\n",
       "      <td>0.007729</td>\n",
       "      <td>0.0</td>\n",
       "    </tr>\n",
       "    <tr>\n",
       "      <th>3</th>\n",
       "      <td>-1.0</td>\n",
       "      <td>-7.0</td>\n",
       "      <td>-2.7</td>\n",
       "      <td>0.007244</td>\n",
       "      <td>0.0</td>\n",
       "    </tr>\n",
       "    <tr>\n",
       "      <th>4</th>\n",
       "      <td>-1.0</td>\n",
       "      <td>-7.0</td>\n",
       "      <td>-2.6</td>\n",
       "      <td>0.006415</td>\n",
       "      <td>0.0</td>\n",
       "    </tr>\n",
       "  </tbody>\n",
       "</table>\n",
       "</div>"
      ],
      "text/plain": [
       "     x    y    z      Smax  SARwbi\n",
       "0 -1.0 -7.0 -3.0  0.007219     0.0\n",
       "1 -1.0 -7.0 -2.9  0.007725     0.0\n",
       "2 -1.0 -7.0 -2.8  0.007729     0.0\n",
       "3 -1.0 -7.0 -2.7  0.007244     0.0\n",
       "4 -1.0 -7.0 -2.6  0.006415     0.0"
      ]
     },
     "execution_count": 5,
     "metadata": {},
     "output_type": "execute_result"
    }
   ],
   "source": [
    "# Set vertical distance between antennas\n",
    "antdz = 3  # distance between antenna centres\n",
    "p2 = 0.6   # power proportion of p2 wrt p1, i.e. p2/p1 \n",
    "\n",
    "# Create R1 as deep copy of R\n",
    "import copy\n",
    "R1 = copy.deepcopy(R)\n",
    "dropcols = ['SE','SH','SARwb','phi','r']\n",
    "R1.S.drop(columns=dropcols,inplace=True)\n",
    "\n",
    "# Create R2 as deepy copy of R1 and offset z by antdz\n",
    "R2 = copy.deepcopy(R1)\n",
    "R2.S['z'] = R2.S.z + antdz\n",
    "\n",
    "# Ensure compatibility of R2.S.z with R1.S.z for later merge operation\n",
    "R2.S['z'] = R2.S.z.round(1).astype(float)\n",
    "\n",
    "# Get the field data columns\n",
    "datcols = R1.S.loc[:,\"Smax\":].columns.tolist()\n",
    "\n",
    "# merge S for R1 and R2 and fill nulls with 0\n",
    "S2 = pd.merge(R1.S,R2.S,'outer',on=['x','y','z'],suffixes=('_1','_2')).sort_values(['x','y','z'])\n",
    "S2 = S2.fillna(0)\n",
    "\n",
    "# Sum field levels of merged datcols in S2\n",
    "for col in datcols:\n",
    "    col1 = col + '_1'\n",
    "    col2 = col + '_2'\n",
    "    S2[col] = S2[col1] + p2 * S2[col2]\n",
    "\n",
    "# Sort S2 by x,y,z\n",
    "S2 = S2.sort_values(['x','y','z'])\n",
    "# display(S2[S2.Smax.isnull()])\n",
    "    \n",
    "# Get rid of  _1 and _2 columns\n",
    "cols = [col for col in S2.columns if '_' not in col]\n",
    "S2 = S2[cols]\n",
    "\n",
    "# Update R2 with S2 and other self variables relevant to the new enlarged S dataframe\n",
    "R2.S = S2\n",
    "R2.nz = len(S2.z.unique())\n",
    "R2.grid = dict(x=[t.xstart, t.xend, t.dx], \n",
    "               y=[t.ystart, t.yend, t.dy],\n",
    "               z=[t.zstart, t.zend+antdz, t.dz])\n",
    "R2.xm = R2.make_mgrid('x')\n",
    "R2.ym = R2.make_mgrid('y')\n",
    "R2.zm = R2.make_mgrid('z')\n",
    "\n",
    "R2.S.head()"
   ]
  },
  {
   "cell_type": "code",
   "execution_count": 7,
   "metadata": {},
   "outputs": [
    {
     "name": "stdout",
     "output_type": "stream",
     "text": [
      "dat='Smax', con=4.5\n",
      "[-0.1, 12.9, -5.8, 5.8, -1.3, 4.2]\n",
      "power=200, plotpower=200, setting=public, limit=4.5 W/m², contour level=4.500\n"
     ]
    }
   ],
   "source": [
    "# 3D view of Smax public exclusion zone for two panel antennas\n",
    "R2.ExclusionZone(\n",
    "    data=[\"Smax\"],\n",
    "    power=[200],\n",
    "    color=[\"gold\"],\n",
    "    alpha=[0.5],\n",
    "    setting=[\"public\"],\n",
    "    standard=[\"RPS S-1 WB\"],\n",
    "    figsize=(1200,1200),\n",
    "    title=\"RPS S-1 public exclusion zone (Smax) for two panel antennas at 200W\",\n",
    "    bg='white',\n",
    "    axv=[True,True,True],\n",
    "    antdz=antdz\n",
    ")"
   ]
  },
  {
   "cell_type": "markdown",
   "metadata": {
    "tags": []
   },
   "source": [
    "## Create spatially averaged fields for R2\n",
    "Create some new S columns for vertical spatial averaging\n",
    "\n",
    "**c** is the convolution vector applied to z columns of points for each (x,y) group"
   ]
  },
  {
   "cell_type": "code",
   "execution_count": 6,
   "metadata": {},
   "outputs": [
    {
     "name": "stdout",
     "output_type": "stream",
     "text": [
      "\n",
      "17 points: sum[0.059, 0.059, 0.059, 0.059, 0.059, 0.059, 0.059, 0.059, 0.059, 0.059, 0.059, 0.059, 0.059, 0.059, 0.059, 0.059, 0.059] = 1.0\n",
      "creating Smax-1.6m-17 spatial average of Smax\n"
     ]
    },
    {
     "data": {
      "text/plain": [
       "{'SE': 'S(E) levels',\n",
       " 'SH': 'S(H) levels',\n",
       " 'Smax': 'Smax levels',\n",
       " 'SARps': 'peak spatial SAR',\n",
       " 'SARwb': 'WBA SAR',\n",
       " 'SARwbi': 'WBA SAR (interpolated)',\n",
       " 'Smax-1.6m-17': 'FEKO Smax levels (17 points averaged over 1.6m)'}"
      ]
     },
     "execution_count": 6,
     "metadata": {},
     "output_type": "execute_result"
    }
   ],
   "source": [
    "def conv_vector(l, dl, m):\n",
    "    '''Create a convolution vector\n",
    "        l = length of convolution vector (m)\n",
    "       dl = increment spacing between points in convolution vector (m)\n",
    "        m = number of averaging points in convolution vector'''\n",
    "\n",
    "    n = int(round(l/dl)) + 1  # number of points in convolution vector'''\n",
    "    c = np.ones(n)            # convolution vector\n",
    "    ix = np.arange(n)         # index of convolution vector\n",
    "    dix = (n-1)/(m-1)         # index spacing between convolution averaging points\n",
    "\n",
    "    assert round(l/dl,0) == round(l/dl,1), f'dl ({dl}) does not divide equally into l ({l})'\n",
    "    assert type(m) == int, f'm ({m}) must be an integer'\n",
    "    assert (n-1) % (m-1) == 0, f'm ({m}) does not distribute evenly across number of convolution points ({n})'\n",
    "\n",
    "    c[(ix % dix) != 0] = 0\n",
    "    c = c/m\n",
    "\n",
    "    assert np.isclose(sum(c), 1, rtol=1e-08), f'sum of c ({sum(c)}) does not add up to 1'\n",
    "    \n",
    "    return c\n",
    "\n",
    "# 1.6m vertical average curves\n",
    "l, dl = 1.6, 0.1\n",
    "for m in [17]:\n",
    "    c = conv_vector(l, dl, m)\n",
    "    print(f'\\n{m:2d} points: sum{list(c.round(3))} = {sum(c)}')\n",
    "    R2.spatavg(f\"Smax-{l}m-{m}\",  \"Smax\",  c, title=f\"FEKO Smax levels ({m} points averaged over {l}m)\")\n",
    "\n",
    "R2.datatitles"
   ]
  },
  {
   "cell_type": "code",
   "execution_count": 7,
   "metadata": {},
   "outputs": [
    {
     "data": {
      "text/html": [
       "<div>\n",
       "<style scoped>\n",
       "    .dataframe tbody tr th:only-of-type {\n",
       "        vertical-align: middle;\n",
       "    }\n",
       "\n",
       "    .dataframe tbody tr th {\n",
       "        vertical-align: top;\n",
       "    }\n",
       "\n",
       "    .dataframe thead th {\n",
       "        text-align: right;\n",
       "    }\n",
       "</style>\n",
       "<table border=\"1\" class=\"dataframe\">\n",
       "  <thead>\n",
       "    <tr style=\"text-align: right;\">\n",
       "      <th></th>\n",
       "      <th>x</th>\n",
       "      <th>y</th>\n",
       "      <th>z</th>\n",
       "      <th>Smax</th>\n",
       "      <th>SARwbi</th>\n",
       "      <th>Smax-1.6m-17</th>\n",
       "    </tr>\n",
       "  </thead>\n",
       "  <tbody>\n",
       "    <tr>\n",
       "      <th>0</th>\n",
       "      <td>-1.0</td>\n",
       "      <td>-7.0</td>\n",
       "      <td>-3.0</td>\n",
       "      <td>0.007219</td>\n",
       "      <td>0.0</td>\n",
       "      <td>0.003416</td>\n",
       "    </tr>\n",
       "    <tr>\n",
       "      <th>1</th>\n",
       "      <td>-1.0</td>\n",
       "      <td>-7.0</td>\n",
       "      <td>-2.9</td>\n",
       "      <td>0.007725</td>\n",
       "      <td>0.0</td>\n",
       "      <td>0.003911</td>\n",
       "    </tr>\n",
       "  </tbody>\n",
       "</table>\n",
       "</div>"
      ],
      "text/plain": [
       "     x    y    z      Smax  SARwbi  Smax-1.6m-17\n",
       "0 -1.0 -7.0 -3.0  0.007219     0.0      0.003416\n",
       "1 -1.0 -7.0 -2.9  0.007725     0.0      0.003911"
      ]
     },
     "execution_count": 7,
     "metadata": {},
     "output_type": "execute_result"
    }
   ],
   "source": [
    "R2.S.head(2)"
   ]
  },
  {
   "cell_type": "code",
   "execution_count": 10,
   "metadata": {},
   "outputs": [
    {
     "name": "stdout",
     "output_type": "stream",
     "text": [
      "dat='Smax-1.6m-17', con=4.5\n",
      "[0.0, 11.6, -4.6, 4.6, -1.8, 4.9]\n",
      "power=200, plotpower=200, setting=public, limit=4.5 W/m², contour level=4.500\n"
     ]
    }
   ],
   "source": [
    "# 3D view of spatially averaged Smax-1.6m-17 public exclusion zone for two panel antennas\n",
    "R2.ExclusionZone(\n",
    "    data=[\"Smax-1.6m-17\"],\n",
    "    power=[200],\n",
    "    color=[\"gold\"],\n",
    "    alpha=[0.5],\n",
    "    setting=[\"public\"],\n",
    "    standard=[\"RPS S-1 WB\"],\n",
    "    figsize=(1200,1200),\n",
    "    title=\"RPS S-1 public exclusion zone (Smax-1.6m-17) for two panel antennas at 200W\",\n",
    "    bg='white',\n",
    "    axv=[True,True,False],\n",
    "    antdz=antdz,\n",
    ")"
   ]
  },
  {
   "cell_type": "markdown",
   "metadata": {},
   "source": [
    "## Point spatial representation of spatial avg compliance zone"
   ]
  },
  {
   "cell_type": "markdown",
   "metadata": {},
   "source": [
    "### Create function to detect if point is inside PSSACZ\n",
    "+ PSSACZ = point spatial spatial average compliance zone\n",
    "+ Sbot = S value at the bottom of the spatial averaging window\n",
    "+ Smid = S value in the middle of the spatial averaging window\n",
    "+ Stop = S value at the top of the spatial averaging window"
   ]
  },
  {
   "cell_type": "code",
   "execution_count": 8,
   "metadata": {},
   "outputs": [
    {
     "name": "stdout",
     "output_type": "stream",
     "text": [
      "ngaps=8\n"
     ]
    }
   ],
   "source": [
    "# Set parameters\n",
    "Si = 'Smax-1.6m-17'\n",
    "l = 1.6      # spatial averaging length\n",
    "dz = 0.1     # dz increment between grid points\n",
    "Slim = 4.5   # S limit level\n",
    "\n",
    "# Calculate the number of grid point gaps in half a spatial averaging length\n",
    "ngaps = int(round(l/dz)/2)\n",
    "print(f'{ngaps=}')\n",
    "\n",
    "# Initialise the global boolean mask for whether the point is inside the PSSACZ \n",
    "inside_pssacz = np.empty(0).astype(bool)\n",
    "\n",
    "# Calculate the inside_pssacz mask for each combination of x & y and add to global mask \n",
    "# mask = (R2.S.x==3) & (R2.S.y==0)\n",
    "for name, g in R2.S.groupby(['x','y']):\n",
    "    \n",
    "    # Create array for Smid\n",
    "    Smid = g[Si].values\n",
    "\n",
    "    # Create arrays for Sbot & Stop by rollong the Smid array indexes up and down\n",
    "    Sbot = np.roll(Smid,ngaps)\n",
    "    Stop = np.roll(Smid,-ngaps)\n",
    "\n",
    "    # Create masks for Sbot, Smid, Stop > Slim\n",
    "    mask_bot = Sbot > Slim\n",
    "    mask_mid = Smid > Slim\n",
    "    mask_top = Stop > Slim\n",
    "\n",
    "    # Identify points inside the pssacz by first finding where all of Sbot, Smid and Stop are > Slim (case 8)\n",
    "    inside_pssacz_xy = mask_bot & mask_mid & mask_top\n",
    "\n",
    "    # Next, recognise that where Smid < Slim, then all points in the averaging window are outside the pssacz   \n",
    "    ix_mid = np.where(~mask_mid)[0]   # get array indexes where Smid < Slim\n",
    "    # print(f'{len(inside_pssacz_xy)}')\n",
    "    # print(f'{ix_mid=}')\n",
    "    for ix in ix_mid:\n",
    "        inside_pssacz_xy[(ix-ngaps):(ix+ngaps)] = False\n",
    "    # print(f'{inside_pssacz_xy=}')\n",
    "    \n",
    "    # Lastly, identify inside pts where (Sbot < Slim) & (Smid > Slim) & (Stop < Slim) & (Sbot ~ Stop) (case 3b)\n",
    "    mask_3b = np.isclose(Sbot, Stop, rtol=0.1)\n",
    "    inside_pssacz_xy = inside_pssacz_xy | (~mask_bot & mask_mid & ~mask_top & mask_3b)\n",
    "\n",
    "    # display(pd.DataFrame({'z':g.z.values,'Sbot':Sbot,'Smid':Smid,'Stop':Stop,'inside_PSCCZ_xy':inside_pssacz_xy}))\n",
    "\n",
    "    # Concatenate the inside_pssacz_xy mask to the global mask\n",
    "    inside_pssacz = np.concatenate([inside_pssacz,inside_pssacz_xy], axis=0)\n",
    "\n",
    "R2.S['inside_pssacz'] = inside_pssacz"
   ]
  },
  {
   "cell_type": "code",
   "execution_count": 11,
   "metadata": {},
   "outputs": [
    {
     "name": "stdout",
     "output_type": "stream",
     "text": [
      "dat='Smax-1.6m-17', con=4.5\n",
      "[0.0, 11.6, -4.6, 4.6, -1.8, 4.9]\n",
      "power=200, plotpower=200, setting=public, limit=4.5 W/m², contour level=4.500\n"
     ]
    }
   ],
   "source": [
    "# 3D view of spatially averaged Smax-1.6m-17 public exclusion zone for two panel antennas\n",
    "ExclusionZone(\n",
    "    self = R2,\n",
    "    data=[\"Smax-1.6m-17\"],\n",
    "    power=[200],\n",
    "    color=[\"gold\"],\n",
    "    alpha=[0.5],\n",
    "    setting=[\"public\"],\n",
    "    standard=[\"RPS S-1 WB\"],\n",
    "    figsize=(1200,1200),\n",
    "    title=\"RPS S-1 public exclusion zone (Smax-1.6m-17) for two panel antennas at 200W\",\n",
    "    bg='white',\n",
    "    axv=[True,True,False],\n",
    "    antdz=antdz,\n",
    "    pssacz=True\n",
    ")"
   ]
  },
  {
   "cell_type": "code",
   "execution_count": 15,
   "metadata": {},
   "outputs": [
    {
     "name": "stdout",
     "output_type": "stream",
     "text": [
      "dat='Smax', con=4.5\n",
      "[-0.1, 12.9, -5.8, 5.8, -1.3, 4.2]\n",
      "power=200, plotpower=200, setting=public, limit=4.5 W/m², contour level=4.500\n"
     ]
    }
   ],
   "source": [
    "# 3D view of spatially averaged Smax-1.6m-17 public exclusion zone for two panel antennas\n",
    "ExclusionZone(\n",
    "    self = R2,\n",
    "    data=[\"Smax\"],\n",
    "    power=[200]*2,\n",
    "    color=[\"red\",\"gold\"],\n",
    "    alpha=[0.3,0.3],\n",
    "    setting=[\"public\"]*2,\n",
    "    standard=[\"RPS S-1 WB\"]*2,\n",
    "    figsize=(1200,1200),\n",
    "    title=\"RPS S-1 public exclusion zone (Smax-1.6m-17) for two panel antennas at 200W\",\n",
    "    bg='white',\n",
    "    axv=[True,True,False],\n",
    "    antdz=antdz,\n",
    "    pssacz=True\n",
    ")"
   ]
  },
  {
   "cell_type": "markdown",
   "metadata": {},
   "source": [
    "## Export R2.S"
   ]
  },
  {
   "cell_type": "code",
   "execution_count": 14,
   "metadata": {},
   "outputs": [
    {
     "data": {
      "text/html": [
       "<div>\n",
       "<style scoped>\n",
       "    .dataframe tbody tr th:only-of-type {\n",
       "        vertical-align: middle;\n",
       "    }\n",
       "\n",
       "    .dataframe tbody tr th {\n",
       "        vertical-align: top;\n",
       "    }\n",
       "\n",
       "    .dataframe thead th {\n",
       "        text-align: right;\n",
       "    }\n",
       "</style>\n",
       "<table border=\"1\" class=\"dataframe\">\n",
       "  <thead>\n",
       "    <tr style=\"text-align: right;\">\n",
       "      <th></th>\n",
       "      <th>x</th>\n",
       "      <th>y</th>\n",
       "      <th>z</th>\n",
       "      <th>Smax</th>\n",
       "      <th>SARwbi</th>\n",
       "      <th>Smax-1.6m-17</th>\n",
       "      <th>inside_pssacz</th>\n",
       "    </tr>\n",
       "  </thead>\n",
       "  <tbody>\n",
       "    <tr>\n",
       "      <th>0</th>\n",
       "      <td>-1.0</td>\n",
       "      <td>-7.0</td>\n",
       "      <td>-3.0</td>\n",
       "      <td>0.007219</td>\n",
       "      <td>0.0</td>\n",
       "      <td>0.003416</td>\n",
       "      <td>False</td>\n",
       "    </tr>\n",
       "    <tr>\n",
       "      <th>1</th>\n",
       "      <td>-1.0</td>\n",
       "      <td>-7.0</td>\n",
       "      <td>-2.9</td>\n",
       "      <td>0.007725</td>\n",
       "      <td>0.0</td>\n",
       "      <td>0.003911</td>\n",
       "      <td>False</td>\n",
       "    </tr>\n",
       "    <tr>\n",
       "      <th>2</th>\n",
       "      <td>-1.0</td>\n",
       "      <td>-7.0</td>\n",
       "      <td>-2.8</td>\n",
       "      <td>0.007729</td>\n",
       "      <td>0.0</td>\n",
       "      <td>0.004615</td>\n",
       "      <td>False</td>\n",
       "    </tr>\n",
       "    <tr>\n",
       "      <th>3</th>\n",
       "      <td>-1.0</td>\n",
       "      <td>-7.0</td>\n",
       "      <td>-2.7</td>\n",
       "      <td>0.007244</td>\n",
       "      <td>0.0</td>\n",
       "      <td>0.005593</td>\n",
       "      <td>False</td>\n",
       "    </tr>\n",
       "    <tr>\n",
       "      <th>4</th>\n",
       "      <td>-1.0</td>\n",
       "      <td>-7.0</td>\n",
       "      <td>-2.6</td>\n",
       "      <td>0.006415</td>\n",
       "      <td>0.0</td>\n",
       "      <td>0.006896</td>\n",
       "      <td>False</td>\n",
       "    </tr>\n",
       "  </tbody>\n",
       "</table>\n",
       "</div>"
      ],
      "text/plain": [
       "     x    y    z      Smax  SARwbi  Smax-1.6m-17  inside_pssacz\n",
       "0 -1.0 -7.0 -3.0  0.007219     0.0      0.003416          False\n",
       "1 -1.0 -7.0 -2.9  0.007725     0.0      0.003911          False\n",
       "2 -1.0 -7.0 -2.8  0.007729     0.0      0.004615          False\n",
       "3 -1.0 -7.0 -2.7  0.007244     0.0      0.005593          False\n",
       "4 -1.0 -7.0 -2.6  0.006415     0.0      0.006896          False"
      ]
     },
     "execution_count": 14,
     "metadata": {},
     "output_type": "execute_result"
    }
   ],
   "source": [
    "# R2.S.to_csv('PSSACZ data file.csv.zip',index=False)\n",
    "R2.S.head()"
   ]
  },
  {
   "cell_type": "markdown",
   "metadata": {},
   "source": [
    "## Scratch"
   ]
  },
  {
   "cell_type": "code",
   "execution_count": 80,
   "metadata": {},
   "outputs": [
    {
     "data": {
      "text/plain": [
       "{'blue': (0.2549019607843137, 0.4117647058823529, 0.8823529411764706),\n",
       " 'darkblue': (0, 0, 0.55),\n",
       " 'green': (0, 1, 0),\n",
       " 'darkgreen': (0, 0.55, 0),\n",
       " 'red': (1, 0, 0),\n",
       " 'darkred': (0.55, 0, 0),\n",
       " 'coral2': (0.9333333333333333, 0.41568627450980394, 0.3137254901960784),\n",
       " 'yellow': (1, 1, 0),\n",
       " 'gold': (1, 0.8431372549019608, 0),\n",
       " 'black': (0, 0, 0),\n",
       " 'orange': (1, 0.5490196078431373, 0),\n",
       " 'magenta': (1, 0, 1),\n",
       " 'white': (1, 1, 1),\n",
       " 'pink': (1, 0.75, 0.8),\n",
       " 'brown': (0.35, 0.24, 0.12),\n",
       " 'olive': (0.29, 0.33, 0.13),\n",
       " 'lightgrey': (0.8706, 0.8706, 0.8706),\n",
       " 'lightgrey2': (0.34, 0, 34, 0, 34),\n",
       " 'darkgrey': (0.1, 0.1, 0.1)}"
      ]
     },
     "execution_count": 80,
     "metadata": {},
     "output_type": "execute_result"
    }
   ],
   "source": [
    "RFcalcUC.COLORS"
   ]
  },
  {
   "cell_type": "code",
   "execution_count": null,
   "metadata": {},
   "outputs": [],
   "source": [
    "Create a dictionary for the [Sbottom, S0, Stop] > Slim boolean against \n",
    "whether the point is inside the PSSACZ\n",
    "inside_pssacz = {\n",
    "    : False,  # case 1 [False,False,False]\n",
    "    : False,   # case 2 [False,False,True]\n",
    "    : 'Case3', # case 3 [False,True,False]\n",
    "    : False,    # case 4 [False,True,True]\n",
    "    : False,   # case 5 [True,False,False]\n",
    "    : False,    # case 6 [True,False,True]\n",
    "    : False,    # case 7 [True,True,False]\n",
    "    : True       # case 8\n",
    "}"
   ]
  },
  {
   "cell_type": "code",
   "execution_count": 83,
   "metadata": {},
   "outputs": [
    {
     "data": {
      "text/plain": [
       "array([1, 2, 3, 4, 5, 6])"
      ]
     },
     "metadata": {},
     "output_type": "display_data"
    },
    {
     "data": {
      "text/plain": [
       "array([0, 1, 2], dtype=int64)"
      ]
     },
     "metadata": {},
     "output_type": "display_data"
    },
    {
     "data": {
      "text/plain": [
       "array([ 1, 11, 12])"
      ]
     },
     "execution_count": 83,
     "metadata": {},
     "output_type": "execute_result"
    }
   ],
   "source": [
    "aa = np.array([1,2,3,4,5,6])\n",
    "display(aa)\n",
    "ix = np.where(aa <= 3)[0]\n",
    "display(ix)\n",
    "aa[ix+1] = aa[ix]+10\n",
    "aa[ix]"
   ]
  },
  {
   "cell_type": "code",
   "execution_count": 86,
   "metadata": {},
   "outputs": [
    {
     "data": {
      "text/plain": [
       "array([2, 3])"
      ]
     },
     "execution_count": 86,
     "metadata": {},
     "output_type": "execute_result"
    }
   ],
   "source": [
    "aa = np.array([1,2,3,4,5,6])\n",
    "i = 2\n",
    "aa[i-1:i+1]"
   ]
  },
  {
   "cell_type": "code",
   "execution_count": null,
   "metadata": {},
   "outputs": [],
   "source": []
  }
 ],
 "metadata": {
  "hide_input": false,
  "kernelspec": {
   "display_name": "mayavi",
   "language": "python",
   "name": "mayavi"
  },
  "language_info": {
   "codemirror_mode": {
    "name": "ipython",
    "version": 3
   },
   "file_extension": ".py",
   "mimetype": "text/x-python",
   "name": "python",
   "nbconvert_exporter": "python",
   "pygments_lexer": "ipython3",
   "version": "3.11.5"
  },
  "toc": {
   "base_numbering": 1,
   "nav_menu": {
    "height": "119px",
    "width": "252px"
   },
   "number_sections": true,
   "sideBar": true,
   "skip_h1_title": false,
   "title_cell": "Table of Contents",
   "title_sidebar": "Contents",
   "toc_cell": false,
   "toc_position": {},
   "toc_section_display": "block",
   "toc_window_display": true
  },
  "toc-autonumbering": false,
  "varInspector": {
   "cols": {
    "lenName": 16,
    "lenType": 16,
    "lenVar": 40
   },
   "kernels_config": {
    "python": {
     "delete_cmd_postfix": "",
     "delete_cmd_prefix": "del ",
     "library": "var_list.py",
     "varRefreshCmd": "print(var_dic_list())"
    },
    "r": {
     "delete_cmd_postfix": ") ",
     "delete_cmd_prefix": "rm(",
     "library": "var_list.r",
     "varRefreshCmd": "cat(var_dic_list()) "
    }
   },
   "types_to_exclude": [
    "module",
    "function",
    "builtin_function_or_method",
    "instance",
    "_Feature"
   ],
   "window_display": false
  }
 },
 "nbformat": 4,
 "nbformat_minor": 4
}
