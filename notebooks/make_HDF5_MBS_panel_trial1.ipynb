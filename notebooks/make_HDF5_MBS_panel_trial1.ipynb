{
 "cells": [
  {
   "cell_type": "markdown",
   "metadata": {
    "tags": []
   },
   "source": [
    "# Create HDF5 DataFrame for S values from alphawave FEKO files\n",
    "see: http://www.h5py.org/\n",
    "\n",
    "+ This notebook was based on `RFcalcUC_v8.py` module\n",
    "+ It is used for the **TE-007** spatial averaging working group calculations"
   ]
  },
  {
   "cell_type": "markdown",
   "metadata": {
    "tags": []
   },
   "source": [
    "## Set up"
   ]
  },
  {
   "cell_type": "code",
   "execution_count": 1,
   "metadata": {},
   "outputs": [
    {
     "name": "stdout",
     "output_type": "stream",
     "text": [
      "C:\\Users\\emeau\\OneDrive\\IT\\Python\\jupyter_notebooks\\@Projects\\spatial-averaging-wg\\notebooks\n"
     ]
    }
   ],
   "source": [
    "import pandas as pd\n",
    "import numpy as np\n",
    "import matplotlib.pyplot as plt\n",
    "from collections import namedtuple\n",
    "from scipy.interpolate import interp1d, interp2d, griddata\n",
    "from icecream import ic\n",
    "import warnings\n",
    "\n",
    "import seaborn as sn\n",
    "sn.set()\n",
    "%matplotlib inline\n",
    "\n",
    "# Set current working directory to the notebook folder\n",
    "%cd -0"
   ]
  },
  {
   "cell_type": "markdown",
   "metadata": {},
   "source": [
    "## Functions"
   ]
  },
  {
   "cell_type": "code",
   "execution_count": 2,
   "metadata": {},
   "outputs": [],
   "source": [
    "def h5store(filename, df, **kwargs):\n",
    "    '''Save a DF with its metadata to a HDF5 file\n",
    "       see: http://stackoverflow.com/questions/29129095/save-additional-attributes-in-pandas-dataframe\n",
    "       INPUTS:\n",
    "         filename = filename of the hdf5 file, including .hdf5 extension\n",
    "               df = dataframe to be saved as hdf5 store\n",
    "           kwargs = dict of metadata to store with the dataframe'''\n",
    "    \n",
    "    store = pd.HDFStore(filename)\n",
    "    store.put('mydata', df)\n",
    "    store.get_storer('mydata').attrs.metadata = kwargs\n",
    "    store.close()   \n",
    "\n",
    "def getgrid(df):\n",
    "    '''Create a dataframe of a grid's characteristics:\n",
    "       min, max, n, delta'''\n",
    "    \n",
    "    def n(arr):\n",
    "        '''Return number of unique elements in array'''\n",
    "        return arr.unique().size\n",
    "\n",
    "    def delta(arr):\n",
    "        '''Return dx, dy or dz increment between x, y or z points'''\n",
    "        return np.diff(np.sort(np.unique(arr))).max()\n",
    "   \n",
    "    grid = df[['x','y','z']].agg(['min','max',n,delta]).T\n",
    "    grid['n'] = grid.n.astype(int)\n",
    "    return grid\n",
    "\n",
    "def dB(x):\n",
    "    return 10. * np.log10(x)\n",
    "\n",
    "def make_mgrid(df,c):\n",
    "    '''Make an xyz mgrid for column c'''\n",
    "    df = df.sort_values(['x','y','z'])\n",
    "    nx = len(df.x.unique())\n",
    "    ny = len(df.y.unique())\n",
    "    nz = len(df.z.unique())\n",
    "    C = df[c].values.reshape(nx, ny, nz)\n",
    "    return C\n",
    "\n",
    "def make_mgrid2(df):\n",
    "    df = df.sort_values(['x','y','z'])\n",
    "    nx = len(df.x.unique())\n",
    "    ny = len(df.y.unique())\n",
    "    nz = len(df.z.unique())\n",
    "    X = df.x.values.reshape(nx, ny, nz)\n",
    "    Y = df.y.values.reshape(nx, ny, nz)\n",
    "    Z = df.z.values.reshape(nx, ny, nz)\n",
    "    return X, Y, Z, nx, ny, nz\n",
    "\n",
    "def compliance_zone(df, dat, lim, title =''):\n",
    "    '''Generate a mayavi 3D compliamce zone\n",
    "       df = source dataframe, e.g. S, SARdf\n",
    "      dat = data column, e.g. 'SE', 'SARwb'\n",
    "      lim = limit value for compliance zone'''\n",
    "\n",
    "    # Generate mgrids for xyz and data\n",
    "    X = make_mgrid(df,'x')\n",
    "    Y = make_mgrid(df,'y')\n",
    "    Z = make_mgrid(df,'z')\n",
    "    F = make_mgrid(df,dat)\n",
    "\n",
    "    # create the Mayavi figure\n",
    "    from mayavi import mlab\n",
    "    fig = mlab.figure(1, size=(1200,900), bgcolor=(0.5, 0.5, 0.5))\n",
    "    mlab.clf()\n",
    "\n",
    "    # draw the iso-surfaces\n",
    "    src = mlab.pipeline.scalar_field(X, Y, Z, F, name=dat)\n",
    "    mlab.pipeline.iso_surface(src, contours=[lim,], opacity=0.5)\n",
    "    mlab.axes(x_axis_visibility=True, y_axis_visibility=True,\n",
    "              z_axis_visibility=True, line_width=1)\n",
    "    \n",
    "    # print plot title\n",
    "    height, size = 0.85, 0.5\n",
    "    mlab.title(title, height=height, size=size)\n",
    "\n",
    "    mlab.show()"
   ]
  },
  {
   "cell_type": "markdown",
   "metadata": {},
   "source": [
    "## Look at model metadata for the spatial averaging trials"
   ]
  },
  {
   "cell_type": "code",
   "execution_count": 3,
   "metadata": {},
   "outputs": [
    {
     "data": {
      "text/html": [
       "<div><div id=cb754bc9-8d7f-4a04-8664-ffce88505e54 style=\"display:none; background-color:#9D6CFF; color:white; width:200px; height:30px; padding-left:5px; border-radius:4px; flex-direction:row; justify-content:space-around; align-items:center;\" onmouseover=\"this.style.backgroundColor='#BA9BF8'\" onmouseout=\"this.style.backgroundColor='#9D6CFF'\" onclick=\"window.commands?.execute('create-mitosheet-from-dataframe-output');\">See Full Dataframe in Mito</div> <script> if (window.commands.hasCommand('create-mitosheet-from-dataframe-output')) document.getElementById('cb754bc9-8d7f-4a04-8664-ffce88505e54').style.display = 'flex' </script> <table border=\"1\" class=\"dataframe\">\n",
       "  <thead>\n",
       "    <tr style=\"text-align: right;\">\n",
       "      <th></th>\n",
       "      <th>unit</th>\n",
       "      <th>1</th>\n",
       "      <th>2</th>\n",
       "    </tr>\n",
       "    <tr>\n",
       "      <th>INPUT</th>\n",
       "      <th></th>\n",
       "      <th></th>\n",
       "      <th></th>\n",
       "    </tr>\n",
       "  </thead>\n",
       "  <tbody>\n",
       "    <tr>\n",
       "      <th>fMHz</th>\n",
       "      <td>MHz</td>\n",
       "      <td>900</td>\n",
       "      <td>900</td>\n",
       "    </tr>\n",
       "    <tr>\n",
       "      <th>antenna</th>\n",
       "      <td></td>\n",
       "      <td>IEC 62232 panel antenna</td>\n",
       "      <td>IEC 62232 panel antenna</td>\n",
       "    </tr>\n",
       "    <tr>\n",
       "      <th>Prad</th>\n",
       "      <td>W</td>\n",
       "      <td>80</td>\n",
       "      <td>80</td>\n",
       "    </tr>\n",
       "    <tr>\n",
       "      <th>coordinate_origin</th>\n",
       "      <td></td>\n",
       "      <td>centre of the middle feed segment</td>\n",
       "      <td>centre of the middle feed segment</td>\n",
       "    </tr>\n",
       "    <tr>\n",
       "      <th>xstart</th>\n",
       "      <td>m</td>\n",
       "      <td>0.5</td>\n",
       "      <td>0.5</td>\n",
       "    </tr>\n",
       "    <tr>\n",
       "      <th>...</th>\n",
       "      <td>...</td>\n",
       "      <td>...</td>\n",
       "      <td>...</td>\n",
       "    </tr>\n",
       "    <tr>\n",
       "      <th>bearing</th>\n",
       "      <td></td>\n",
       "      <td>main beam along x axis</td>\n",
       "      <td>main beam along x axis</td>\n",
       "    </tr>\n",
       "    <tr>\n",
       "      <th>antenna_folder</th>\n",
       "      <td></td>\n",
       "      <td>MBSpanel</td>\n",
       "      <td>MBSpanel</td>\n",
       "    </tr>\n",
       "    <tr>\n",
       "      <th>FEKO_Efile</th>\n",
       "      <td></td>\n",
       "      <td>IEC-62232-panel-antenna-standard-mesh_Grid3DFE.efe.zip</td>\n",
       "      <td>IEC-62232-panel-antenna-standard-mesh_Grid3DFE.efe.zip</td>\n",
       "    </tr>\n",
       "    <tr>\n",
       "      <th>FEKO_Hfile</th>\n",
       "      <td></td>\n",
       "      <td>IEC-62232-panel-antenna-standard-mesh_Grid3DFE.hfe.zip</td>\n",
       "      <td>IEC-62232-panel-antenna-standard-mesh_Grid3DFE.hfe.zip</td>\n",
       "    </tr>\n",
       "    <tr>\n",
       "      <th>Notes</th>\n",
       "      <td></td>\n",
       "      <td>IEC 62232 generic panel antenna model</td>\n",
       "      <td>Updated phantom with proper size and dielectric values. Skewed SAR mesh</td>\n",
       "    </tr>\n",
       "  </tbody>\n",
       "</table></div>"
      ],
      "text/plain": [
       "                  unit                                                  1  \\\n",
       "INPUT                                                                       \n",
       "fMHz               MHz                                                900   \n",
       "antenna                                           IEC 62232 panel antenna   \n",
       "Prad                 W                                                 80   \n",
       "coordinate_origin                       centre of the middle feed segment   \n",
       "xstart               m                                                0.5   \n",
       "xend                 m                                                 14   \n",
       "dx                   m                                                0.1   \n",
       "ystart               m                                                 -7   \n",
       "yend                 m                                                  7   \n",
       "dy                   m                                                0.1   \n",
       "zstart               m                                                 -3   \n",
       "zend                 m                                                  3   \n",
       "dz                   m                                                0.1   \n",
       "bearing                                            main beam along x axis   \n",
       "antenna_folder                                                   MBSpanel   \n",
       "FEKO_Efile              IEC-62232-panel-antenna-standard-mesh_Grid3DFE...   \n",
       "FEKO_Hfile              IEC-62232-panel-antenna-standard-mesh_Grid3DFE...   \n",
       "Notes                               IEC 62232 generic panel antenna model   \n",
       "\n",
       "                                                                   2  \n",
       "INPUT                                                                 \n",
       "fMHz                                                             900  \n",
       "antenna                                      IEC 62232 panel antenna  \n",
       "Prad                                                              80  \n",
       "coordinate_origin                  centre of the middle feed segment  \n",
       "xstart                                                           0.5  \n",
       "xend                                                              14  \n",
       "dx                                                               0.1  \n",
       "ystart                                                            -7  \n",
       "yend                                                               7  \n",
       "dy                                                               0.1  \n",
       "zstart                                                            -3  \n",
       "zend                                                               3  \n",
       "dz                                                               0.1  \n",
       "bearing                                       main beam along x axis  \n",
       "antenna_folder                                              MBSpanel  \n",
       "FEKO_Efile         IEC-62232-panel-antenna-standard-mesh_Grid3DFE...  \n",
       "FEKO_Hfile         IEC-62232-panel-antenna-standard-mesh_Grid3DFE...  \n",
       "Notes              Updated phantom with proper size and dielectri...  "
      ]
     },
     "execution_count": 3,
     "metadata": {},
     "output_type": "execute_result"
    }
   ],
   "source": [
    "# Read in \"calc uc trials.xls\" spreadsheet\n",
    "trials = pd.read_excel('../antennas/spat avg trials.xlsx', 'trials', \n",
    "                       skiprows=1, index_col=0).fillna('')\n",
    "# trials.drop(\"unit\", axis=1, inplace=True)\n",
    "\n",
    "trials"
   ]
  },
  {
   "cell_type": "markdown",
   "metadata": {
    "tags": []
   },
   "source": [
    "## Read in the E and H data from the FEKO zip files"
   ]
  },
  {
   "cell_type": "code",
   "execution_count": 5,
   "metadata": {},
   "outputs": [],
   "source": [
    "# Set the trial number\n",
    "trial = 1"
   ]
  },
  {
   "cell_type": "code",
   "execution_count": 5,
   "metadata": {},
   "outputs": [
    {
     "name": "stdout",
     "output_type": "stream",
     "text": [
      "Efile = 'IEC-62232-panel-antenna-standard-mesh_Grid3DFE.efe.zip'\n"
     ]
    },
    {
     "data": {
      "text/html": [
       "<div>\n",
       "<style scoped>\n",
       "    .dataframe tbody tr th:only-of-type {\n",
       "        vertical-align: middle;\n",
       "    }\n",
       "\n",
       "    .dataframe tbody tr th {\n",
       "        vertical-align: top;\n",
       "    }\n",
       "\n",
       "    .dataframe thead th {\n",
       "        text-align: right;\n",
       "    }\n",
       "</style>\n",
       "<table border=\"1\" class=\"dataframe\">\n",
       "  <thead>\n",
       "    <tr style=\"text-align: right;\">\n",
       "      <th></th>\n",
       "      <th>x</th>\n",
       "      <th>y</th>\n",
       "      <th>z</th>\n",
       "      <th>Exr</th>\n",
       "      <th>Exi</th>\n",
       "      <th>Eyr</th>\n",
       "      <th>Eyi</th>\n",
       "      <th>Ezr</th>\n",
       "      <th>Ezi</th>\n",
       "    </tr>\n",
       "  </thead>\n",
       "  <tbody>\n",
       "    <tr>\n",
       "      <th>0</th>\n",
       "      <td>0.5</td>\n",
       "      <td>-7.0</td>\n",
       "      <td>-3.0</td>\n",
       "      <td>0.002143</td>\n",
       "      <td>0.005977</td>\n",
       "      <td>0.348239</td>\n",
       "      <td>0.500341</td>\n",
       "      <td>-0.801133</td>\n",
       "      <td>-1.588188</td>\n",
       "    </tr>\n",
       "    <tr>\n",
       "      <th>19176</th>\n",
       "      <td>0.5</td>\n",
       "      <td>-7.0</td>\n",
       "      <td>-2.9</td>\n",
       "      <td>-0.005226</td>\n",
       "      <td>0.004985</td>\n",
       "      <td>-0.034064</td>\n",
       "      <td>0.622484</td>\n",
       "      <td>0.222759</td>\n",
       "      <td>-1.885471</td>\n",
       "    </tr>\n",
       "    <tr>\n",
       "      <th>38352</th>\n",
       "      <td>0.5</td>\n",
       "      <td>-7.0</td>\n",
       "      <td>-2.8</td>\n",
       "      <td>-0.008655</td>\n",
       "      <td>-0.001897</td>\n",
       "      <td>-0.386580</td>\n",
       "      <td>0.460931</td>\n",
       "      <td>1.224005</td>\n",
       "      <td>-1.515189</td>\n",
       "    </tr>\n",
       "    <tr>\n",
       "      <th>57528</th>\n",
       "      <td>0.5</td>\n",
       "      <td>-7.0</td>\n",
       "      <td>-2.7</td>\n",
       "      <td>-0.005113</td>\n",
       "      <td>-0.009175</td>\n",
       "      <td>-0.526968</td>\n",
       "      <td>0.137047</td>\n",
       "      <td>1.794559</td>\n",
       "      <td>-0.684281</td>\n",
       "    </tr>\n",
       "    <tr>\n",
       "      <th>76704</th>\n",
       "      <td>0.5</td>\n",
       "      <td>-7.0</td>\n",
       "      <td>-2.6</td>\n",
       "      <td>0.003041</td>\n",
       "      <td>-0.011303</td>\n",
       "      <td>-0.430148</td>\n",
       "      <td>-0.148068</td>\n",
       "      <td>1.809666</td>\n",
       "      <td>0.204564</td>\n",
       "    </tr>\n",
       "  </tbody>\n",
       "</table>\n",
       "</div>"
      ],
      "text/plain": [
       "         x    y    z       Exr       Exi       Eyr       Eyi       Ezr  \\\n",
       "0      0.5 -7.0 -3.0  0.002143  0.005977  0.348239  0.500341 -0.801133   \n",
       "19176  0.5 -7.0 -2.9 -0.005226  0.004985 -0.034064  0.622484  0.222759   \n",
       "38352  0.5 -7.0 -2.8 -0.008655 -0.001897 -0.386580  0.460931  1.224005   \n",
       "57528  0.5 -7.0 -2.7 -0.005113 -0.009175 -0.526968  0.137047  1.794559   \n",
       "76704  0.5 -7.0 -2.6  0.003041 -0.011303 -0.430148 -0.148068  1.809666   \n",
       "\n",
       "            Ezi  \n",
       "0     -1.588188  \n",
       "19176 -1.885471  \n",
       "38352 -1.515189  \n",
       "57528 -0.684281  \n",
       "76704  0.204564  "
      ]
     },
     "metadata": {},
     "output_type": "display_data"
    },
    {
     "name": "stdout",
     "output_type": "stream",
     "text": [
      "Hfile = 'IEC-62232-panel-antenna-standard-mesh_Grid3DFE.hfe.zip'\n"
     ]
    },
    {
     "data": {
      "text/html": [
       "<div>\n",
       "<style scoped>\n",
       "    .dataframe tbody tr th:only-of-type {\n",
       "        vertical-align: middle;\n",
       "    }\n",
       "\n",
       "    .dataframe tbody tr th {\n",
       "        vertical-align: top;\n",
       "    }\n",
       "\n",
       "    .dataframe thead th {\n",
       "        text-align: right;\n",
       "    }\n",
       "</style>\n",
       "<table border=\"1\" class=\"dataframe\">\n",
       "  <thead>\n",
       "    <tr style=\"text-align: right;\">\n",
       "      <th></th>\n",
       "      <th>x</th>\n",
       "      <th>y</th>\n",
       "      <th>z</th>\n",
       "      <th>Hxr</th>\n",
       "      <th>Hxi</th>\n",
       "      <th>Hyr</th>\n",
       "      <th>Hyi</th>\n",
       "      <th>Hzr</th>\n",
       "      <th>Hzi</th>\n",
       "    </tr>\n",
       "  </thead>\n",
       "  <tbody>\n",
       "    <tr>\n",
       "      <th>0</th>\n",
       "      <td>0.5</td>\n",
       "      <td>-7.0</td>\n",
       "      <td>-3.0</td>\n",
       "      <td>0.002329</td>\n",
       "      <td>0.004434</td>\n",
       "      <td>0.000096</td>\n",
       "      <td>0.000281</td>\n",
       "      <td>0.000050</td>\n",
       "      <td>0.000109</td>\n",
       "    </tr>\n",
       "    <tr>\n",
       "      <th>19176</th>\n",
       "      <td>0.5</td>\n",
       "      <td>-7.0</td>\n",
       "      <td>-2.9</td>\n",
       "      <td>-0.000593</td>\n",
       "      <td>0.005296</td>\n",
       "      <td>-0.000076</td>\n",
       "      <td>0.000306</td>\n",
       "      <td>-0.000036</td>\n",
       "      <td>0.000115</td>\n",
       "    </tr>\n",
       "    <tr>\n",
       "      <th>38352</th>\n",
       "      <td>0.5</td>\n",
       "      <td>-7.0</td>\n",
       "      <td>-2.8</td>\n",
       "      <td>-0.003431</td>\n",
       "      <td>0.004217</td>\n",
       "      <td>-0.000230</td>\n",
       "      <td>0.000227</td>\n",
       "      <td>-0.000097</td>\n",
       "      <td>0.000061</td>\n",
       "    </tr>\n",
       "    <tr>\n",
       "      <th>57528</th>\n",
       "      <td>0.5</td>\n",
       "      <td>-7.0</td>\n",
       "      <td>-2.7</td>\n",
       "      <td>-0.004992</td>\n",
       "      <td>0.001834</td>\n",
       "      <td>-0.000308</td>\n",
       "      <td>0.000084</td>\n",
       "      <td>-0.000102</td>\n",
       "      <td>-0.000014</td>\n",
       "    </tr>\n",
       "    <tr>\n",
       "      <th>76704</th>\n",
       "      <td>0.5</td>\n",
       "      <td>-7.0</td>\n",
       "      <td>-2.6</td>\n",
       "      <td>-0.004944</td>\n",
       "      <td>-0.000660</td>\n",
       "      <td>-0.000299</td>\n",
       "      <td>-0.000060</td>\n",
       "      <td>-0.000058</td>\n",
       "      <td>-0.000062</td>\n",
       "    </tr>\n",
       "  </tbody>\n",
       "</table>\n",
       "</div>"
      ],
      "text/plain": [
       "         x    y    z       Hxr       Hxi       Hyr       Hyi       Hzr  \\\n",
       "0      0.5 -7.0 -3.0  0.002329  0.004434  0.000096  0.000281  0.000050   \n",
       "19176  0.5 -7.0 -2.9 -0.000593  0.005296 -0.000076  0.000306 -0.000036   \n",
       "38352  0.5 -7.0 -2.8 -0.003431  0.004217 -0.000230  0.000227 -0.000097   \n",
       "57528  0.5 -7.0 -2.7 -0.004992  0.001834 -0.000308  0.000084 -0.000102   \n",
       "76704  0.5 -7.0 -2.6 -0.004944 -0.000660 -0.000299 -0.000060 -0.000058   \n",
       "\n",
       "            Hzi  \n",
       "0      0.000109  \n",
       "19176  0.000115  \n",
       "38352  0.000061  \n",
       "57528 -0.000014  \n",
       "76704 -0.000062  "
      ]
     },
     "metadata": {},
     "output_type": "display_data"
    },
    {
     "data": {
      "text/html": [
       "<div>\n",
       "<style scoped>\n",
       "    .dataframe tbody tr th:only-of-type {\n",
       "        vertical-align: middle;\n",
       "    }\n",
       "\n",
       "    .dataframe tbody tr th {\n",
       "        vertical-align: top;\n",
       "    }\n",
       "\n",
       "    .dataframe thead th {\n",
       "        text-align: right;\n",
       "    }\n",
       "</style>\n",
       "<table border=\"1\" class=\"dataframe\">\n",
       "  <thead>\n",
       "    <tr style=\"text-align: right;\">\n",
       "      <th></th>\n",
       "      <th>x</th>\n",
       "      <th>y</th>\n",
       "      <th>z</th>\n",
       "      <th>SE</th>\n",
       "      <th>SH</th>\n",
       "      <th>Smax</th>\n",
       "    </tr>\n",
       "  </thead>\n",
       "  <tbody>\n",
       "    <tr>\n",
       "      <th>0</th>\n",
       "      <td>0.5</td>\n",
       "      <td>-7.0</td>\n",
       "      <td>-3.0</td>\n",
       "      <td>0.004689</td>\n",
       "      <td>0.004748</td>\n",
       "      <td>0.004748</td>\n",
       "    </tr>\n",
       "    <tr>\n",
       "      <th>1</th>\n",
       "      <td>0.5</td>\n",
       "      <td>-7.0</td>\n",
       "      <td>-2.9</td>\n",
       "      <td>0.005296</td>\n",
       "      <td>0.005374</td>\n",
       "      <td>0.005374</td>\n",
       "    </tr>\n",
       "    <tr>\n",
       "      <th>2</th>\n",
       "      <td>0.5</td>\n",
       "      <td>-7.0</td>\n",
       "      <td>-2.8</td>\n",
       "      <td>0.005512</td>\n",
       "      <td>0.005594</td>\n",
       "      <td>0.005594</td>\n",
       "    </tr>\n",
       "    <tr>\n",
       "      <th>3</th>\n",
       "      <td>0.5</td>\n",
       "      <td>-7.0</td>\n",
       "      <td>-2.7</td>\n",
       "      <td>0.005286</td>\n",
       "      <td>0.005353</td>\n",
       "      <td>0.005353</td>\n",
       "    </tr>\n",
       "    <tr>\n",
       "      <th>4</th>\n",
       "      <td>0.5</td>\n",
       "      <td>-7.0</td>\n",
       "      <td>-2.6</td>\n",
       "      <td>0.004674</td>\n",
       "      <td>0.004708</td>\n",
       "      <td>0.004708</td>\n",
       "    </tr>\n",
       "  </tbody>\n",
       "</table>\n",
       "</div>"
      ],
      "text/plain": [
       "     x    y    z        SE        SH      Smax\n",
       "0  0.5 -7.0 -3.0  0.004689  0.004748  0.004748\n",
       "1  0.5 -7.0 -2.9  0.005296  0.005374  0.005374\n",
       "2  0.5 -7.0 -2.8  0.005512  0.005594  0.005594\n",
       "3  0.5 -7.0 -2.7  0.005286  0.005353  0.005353\n",
       "4  0.5 -7.0 -2.6  0.004674  0.004708  0.004708"
      ]
     },
     "execution_count": 5,
     "metadata": {},
     "output_type": "execute_result"
    }
   ],
   "source": [
    "# Get E and H FEKO data file locations\n",
    "t = trials[str(trial)]\n",
    "datadir = f'../antennas/{t.antenna_folder}/data/'\n",
    "Efile = t.FEKO_Efile\n",
    "Hfile = t.FEKO_Hfile\n",
    "\n",
    "# Read in E-field FEKO data\n",
    "print(f'{Efile = }')\n",
    "Enames = ['x','y','z','Exr','Exi','Eyr','Eyi','Ezr','Ezi']\n",
    "Edat = pd.read_csv(datadir + Efile, sep='\\s+', skiprows=17, names=Enames)\n",
    "Edat = Edat.sort_values(['x','y','z'])\n",
    "display(Edat.head())\n",
    "\n",
    "# Read in H-field FEKO data\n",
    "print(f'{Hfile = }')\n",
    "Hnames = ['x','y','z','Hxr','Hxi','Hyr','Hyi','Hzr','Hzi']\n",
    "Hdat = pd.read_csv(datadir + Hfile, sep='\\s+', skiprows=17, names=Hnames)\n",
    "Hdat = Hdat.sort_values(['x','y','z'])\n",
    "display(Hdat.head())\n",
    "\n",
    "# Calculate SE, SH, Smax\n",
    "SE = 0.5 * Edat.loc[:,'Exr':'Ezi'].pow(2).sum(axis=1) / 377\n",
    "SH = 0.5 * Hdat.loc[:,'Hxr':'Hzi'].pow(2).sum(axis=1) * 377\n",
    "Smax = np.max([SE,SH],axis=0)\n",
    "\n",
    "S = pd.DataFrame(dict(x=Edat.x,y=Edat.y,z=Edat.z,SE=SE,SH=SH,Smax=Smax)).reset_index(drop=True)\n",
    "S.head()"
   ]
  },
  {
   "cell_type": "markdown",
   "metadata": {},
   "source": [
    "## Get antenna pattern data "
   ]
  },
  {
   "cell_type": "code",
   "execution_count": 6,
   "metadata": {},
   "outputs": [
    {
     "name": "stdout",
     "output_type": "stream",
     "text": [
      "horizontal pattern\n"
     ]
    },
    {
     "data": {
      "text/html": [
       "<div>\n",
       "<style scoped>\n",
       "    .dataframe tbody tr th:only-of-type {\n",
       "        vertical-align: middle;\n",
       "    }\n",
       "\n",
       "    .dataframe tbody tr th {\n",
       "        vertical-align: top;\n",
       "    }\n",
       "\n",
       "    .dataframe thead th {\n",
       "        text-align: right;\n",
       "    }\n",
       "</style>\n",
       "<table border=\"1\" class=\"dataframe\">\n",
       "  <thead>\n",
       "    <tr style=\"text-align: right;\">\n",
       "      <th></th>\n",
       "      <th>theta</th>\n",
       "      <th>phi</th>\n",
       "      <th>directivity_total</th>\n",
       "    </tr>\n",
       "  </thead>\n",
       "  <tbody>\n",
       "    <tr>\n",
       "      <th>min</th>\n",
       "      <td>90.0</td>\n",
       "      <td>-89.0</td>\n",
       "      <td>5.115236</td>\n",
       "    </tr>\n",
       "    <tr>\n",
       "      <th>max</th>\n",
       "      <td>90.0</td>\n",
       "      <td>90.0</td>\n",
       "      <td>17.031841</td>\n",
       "    </tr>\n",
       "  </tbody>\n",
       "</table>\n",
       "</div>"
      ],
      "text/plain": [
       "     theta   phi  directivity_total\n",
       "min   90.0 -89.0           5.115236\n",
       "max   90.0  90.0          17.031841"
      ]
     },
     "metadata": {},
     "output_type": "display_data"
    },
    {
     "name": "stdout",
     "output_type": "stream",
     "text": [
      "vertical pattern\n"
     ]
    },
    {
     "data": {
      "text/html": [
       "<div>\n",
       "<style scoped>\n",
       "    .dataframe tbody tr th:only-of-type {\n",
       "        vertical-align: middle;\n",
       "    }\n",
       "\n",
       "    .dataframe tbody tr th {\n",
       "        vertical-align: top;\n",
       "    }\n",
       "\n",
       "    .dataframe thead th {\n",
       "        text-align: right;\n",
       "    }\n",
       "</style>\n",
       "<table border=\"1\" class=\"dataframe\">\n",
       "  <thead>\n",
       "    <tr style=\"text-align: right;\">\n",
       "      <th></th>\n",
       "      <th>theta</th>\n",
       "      <th>phi</th>\n",
       "      <th>directivity_total</th>\n",
       "    </tr>\n",
       "  </thead>\n",
       "  <tbody>\n",
       "    <tr>\n",
       "      <th>min</th>\n",
       "      <td>1.0</td>\n",
       "      <td>0.0</td>\n",
       "      <td>-106.570073</td>\n",
       "    </tr>\n",
       "    <tr>\n",
       "      <th>max</th>\n",
       "      <td>180.0</td>\n",
       "      <td>0.0</td>\n",
       "      <td>17.031841</td>\n",
       "    </tr>\n",
       "  </tbody>\n",
       "</table>\n",
       "</div>"
      ],
      "text/plain": [
       "     theta  phi  directivity_total\n",
       "min    1.0  0.0        -106.570073\n",
       "max  180.0  0.0          17.031841"
      ]
     },
     "metadata": {},
     "output_type": "display_data"
    }
   ],
   "source": [
    "horiz_pattern_file = 'IEC-62232-panel-antenna_horCutFF.ffe'\n",
    "vert_pattern_file = 'IEC-62232-panel-antenna_verCutFF.ffe'\n",
    "Enames2 = [\"theta\",\"phi\",\"Re_Etheta\",\"Im_Etheta\",\"Re_Ephi\",\"Im_Ephi\",\"directivity_theta\",\"directivity_phi\",\"directivity_total\"]\n",
    "hpat = pd.read_csv(datadir + horiz_pattern_file, sep='\\s+', skiprows=17, names=Enames2)\n",
    "vpat = pd.read_csv(datadir + vert_pattern_file, sep='\\s+', skiprows=17, names=Enames2)\n",
    "hpat.name = 'horizontal pattern'\n",
    "vpat.name = 'vertical pattern'\n",
    "cols = ['theta','phi','directivity_total']\n",
    "print(hpat.name)\n",
    "display(hpat.agg([min,max])[cols])\n",
    "print(vpat.name)\n",
    "display(vpat.agg([min,max])[cols])"
   ]
  },
  {
   "cell_type": "code",
   "execution_count": 7,
   "metadata": {},
   "outputs": [
    {
     "data": {
      "image/png": "[encoded data removed]",
      "text/plain": [
       "<Figure size 864x432 with 2 Axes>"
      ]
     },
     "metadata": {
      "needs_background": "light"
     },
     "output_type": "display_data"
    }
   ],
   "source": [
    "# Plot the horizontal and vertical antenna patterns\n",
    "fig, ax = plt.subplots(nrows=1,ncols=2,figsize=(12,6),\n",
    "                       subplot_kw={'projection': 'polar'})\n",
    "rticks = np.arange(-60,40,20)\n",
    "\n",
    "for i, (df,angle) in enumerate(zip([hpat,vpat],['phi','theta'])):\n",
    "    theta = df[angle] * np.pi / 180\n",
    "    if 'vert' in df.name:\n",
    "        theta = theta - np.pi/2 \n",
    "    r = df.directivity_total\n",
    "    ax[i].plot(theta, r)\n",
    "    ax[i].set_rmax(rticks.max())\n",
    "    ax[i].set_rmin(rticks.min())\n",
    "    ax[i].set_rticks(rticks)\n",
    "    ax[i].set_rlabel_position(225)  # Move radial labels away from plotted line\n",
    "    ax[i].grid(True)\n",
    "    ax[i].set_title(df.name, c='red', va='bottom');"
   ]
  },
  {
   "cell_type": "markdown",
   "metadata": {
    "tags": []
   },
   "source": [
    "## Get SAR data\n",
    "This version only **interpolates** the SAR values"
   ]
  },
  {
   "cell_type": "markdown",
   "metadata": {
    "tags": []
   },
   "source": [
    "### Read in Danie's SAR data file"
   ]
  },
  {
   "cell_type": "code",
   "execution_count": 8,
   "metadata": {},
   "outputs": [
    {
     "data": {
      "text/html": [
       "<div>\n",
       "<style scoped>\n",
       "    .dataframe tbody tr th:only-of-type {\n",
       "        vertical-align: middle;\n",
       "    }\n",
       "\n",
       "    .dataframe tbody tr th {\n",
       "        vertical-align: top;\n",
       "    }\n",
       "\n",
       "    .dataframe thead th {\n",
       "        text-align: right;\n",
       "    }\n",
       "</style>\n",
       "<table border=\"1\" class=\"dataframe\">\n",
       "  <thead>\n",
       "    <tr style=\"text-align: right;\">\n",
       "      <th></th>\n",
       "      <th>x</th>\n",
       "      <th>y</th>\n",
       "      <th>z</th>\n",
       "      <th>SARwb</th>\n",
       "    </tr>\n",
       "  </thead>\n",
       "  <tbody>\n",
       "    <tr>\n",
       "      <th>0</th>\n",
       "      <td>0.5</td>\n",
       "      <td>0</td>\n",
       "      <td>-2</td>\n",
       "      <td>0.00414</td>\n",
       "    </tr>\n",
       "    <tr>\n",
       "      <th>1</th>\n",
       "      <td>0.5</td>\n",
       "      <td>0</td>\n",
       "      <td>-1</td>\n",
       "      <td>0.27674</td>\n",
       "    </tr>\n",
       "    <tr>\n",
       "      <th>2</th>\n",
       "      <td>0.5</td>\n",
       "      <td>0</td>\n",
       "      <td>0</td>\n",
       "      <td>0.80114</td>\n",
       "    </tr>\n",
       "    <tr>\n",
       "      <th>3</th>\n",
       "      <td>0.5</td>\n",
       "      <td>0</td>\n",
       "      <td>1</td>\n",
       "      <td>0.33776</td>\n",
       "    </tr>\n",
       "    <tr>\n",
       "      <th>4</th>\n",
       "      <td>0.5</td>\n",
       "      <td>0</td>\n",
       "      <td>2</td>\n",
       "      <td>0.00656</td>\n",
       "    </tr>\n",
       "  </tbody>\n",
       "</table>\n",
       "</div>"
      ],
      "text/plain": [
       "     x  y  z    SARwb\n",
       "0  0.5  0 -2  0.00414\n",
       "1  0.5  0 -1  0.27674\n",
       "2  0.5  0  0  0.80114\n",
       "3  0.5  0  1  0.33776\n",
       "4  0.5  0  2  0.00656"
      ]
     },
     "execution_count": 8,
     "metadata": {},
     "output_type": "execute_result"
    }
   ],
   "source": [
    "SARdf = pd.read_excel(datadir + 'wbSAR-grid-values.xlsx',usecols=\"A,B,C,E\")\n",
    "SARdf.head()"
   ]
  },
  {
   "cell_type": "markdown",
   "metadata": {},
   "source": [
    "### Get characterstics of the S and SARdf grids"
   ]
  },
  {
   "cell_type": "code",
   "execution_count": 9,
   "metadata": {},
   "outputs": [
    {
     "data": {
      "text/plain": [
       "'SAR grid'"
      ]
     },
     "metadata": {},
     "output_type": "display_data"
    },
    {
     "data": {
      "text/html": [
       "<div>\n",
       "<style scoped>\n",
       "    .dataframe tbody tr th:only-of-type {\n",
       "        vertical-align: middle;\n",
       "    }\n",
       "\n",
       "    .dataframe tbody tr th {\n",
       "        vertical-align: top;\n",
       "    }\n",
       "\n",
       "    .dataframe thead th {\n",
       "        text-align: right;\n",
       "    }\n",
       "</style>\n",
       "<table border=\"1\" class=\"dataframe\">\n",
       "  <thead>\n",
       "    <tr style=\"text-align: right;\">\n",
       "      <th></th>\n",
       "      <th>min</th>\n",
       "      <th>max</th>\n",
       "      <th>n</th>\n",
       "      <th>delta</th>\n",
       "    </tr>\n",
       "  </thead>\n",
       "  <tbody>\n",
       "    <tr>\n",
       "      <th>x</th>\n",
       "      <td>0.5</td>\n",
       "      <td>12.5</td>\n",
       "      <td>13</td>\n",
       "      <td>1.0</td>\n",
       "    </tr>\n",
       "    <tr>\n",
       "      <th>y</th>\n",
       "      <td>0.0</td>\n",
       "      <td>6.0</td>\n",
       "      <td>7</td>\n",
       "      <td>1.0</td>\n",
       "    </tr>\n",
       "    <tr>\n",
       "      <th>z</th>\n",
       "      <td>-2.0</td>\n",
       "      <td>2.0</td>\n",
       "      <td>5</td>\n",
       "      <td>1.0</td>\n",
       "    </tr>\n",
       "  </tbody>\n",
       "</table>\n",
       "</div>"
      ],
      "text/plain": [
       "   min   max   n  delta\n",
       "x  0.5  12.5  13    1.0\n",
       "y  0.0   6.0   7    1.0\n",
       "z -2.0   2.0   5    1.0"
      ]
     },
     "metadata": {},
     "output_type": "display_data"
    },
    {
     "data": {
      "text/plain": [
       "'S grid'"
      ]
     },
     "metadata": {},
     "output_type": "display_data"
    },
    {
     "data": {
      "text/html": [
       "<div>\n",
       "<style scoped>\n",
       "    .dataframe tbody tr th:only-of-type {\n",
       "        vertical-align: middle;\n",
       "    }\n",
       "\n",
       "    .dataframe tbody tr th {\n",
       "        vertical-align: top;\n",
       "    }\n",
       "\n",
       "    .dataframe thead th {\n",
       "        text-align: right;\n",
       "    }\n",
       "</style>\n",
       "<table border=\"1\" class=\"dataframe\">\n",
       "  <thead>\n",
       "    <tr style=\"text-align: right;\">\n",
       "      <th></th>\n",
       "      <th>min</th>\n",
       "      <th>max</th>\n",
       "      <th>n</th>\n",
       "      <th>delta</th>\n",
       "    </tr>\n",
       "  </thead>\n",
       "  <tbody>\n",
       "    <tr>\n",
       "      <th>x</th>\n",
       "      <td>0.5</td>\n",
       "      <td>14.0</td>\n",
       "      <td>136</td>\n",
       "      <td>0.1</td>\n",
       "    </tr>\n",
       "    <tr>\n",
       "      <th>y</th>\n",
       "      <td>-7.0</td>\n",
       "      <td>7.0</td>\n",
       "      <td>141</td>\n",
       "      <td>0.1</td>\n",
       "    </tr>\n",
       "    <tr>\n",
       "      <th>z</th>\n",
       "      <td>-3.0</td>\n",
       "      <td>3.0</td>\n",
       "      <td>61</td>\n",
       "      <td>0.1</td>\n",
       "    </tr>\n",
       "  </tbody>\n",
       "</table>\n",
       "</div>"
      ],
      "text/plain": [
       "   min   max    n  delta\n",
       "x  0.5  14.0  136    0.1\n",
       "y -7.0   7.0  141    0.1\n",
       "z -3.0   3.0   61    0.1"
      ]
     },
     "metadata": {},
     "output_type": "display_data"
    }
   ],
   "source": [
    "SARgrid = getgrid(SARdf)\n",
    "Sgrid = getgrid(S)\n",
    "display('SAR grid',SARgrid)\n",
    "display('S grid',Sgrid)"
   ]
  },
  {
   "cell_type": "markdown",
   "metadata": {},
   "source": [
    "### Fill out the y<0 symmetry plane data"
   ]
  },
  {
   "cell_type": "code",
   "execution_count": 10,
   "metadata": {},
   "outputs": [
    {
     "data": {
      "text/html": [
       "<div>\n",
       "<style scoped>\n",
       "    .dataframe tbody tr th:only-of-type {\n",
       "        vertical-align: middle;\n",
       "    }\n",
       "\n",
       "    .dataframe tbody tr th {\n",
       "        vertical-align: top;\n",
       "    }\n",
       "\n",
       "    .dataframe thead th {\n",
       "        text-align: right;\n",
       "    }\n",
       "</style>\n",
       "<table border=\"1\" class=\"dataframe\">\n",
       "  <thead>\n",
       "    <tr style=\"text-align: right;\">\n",
       "      <th></th>\n",
       "      <th>x</th>\n",
       "      <th>y</th>\n",
       "      <th>z</th>\n",
       "      <th>SARwb</th>\n",
       "    </tr>\n",
       "  </thead>\n",
       "  <tbody>\n",
       "    <tr>\n",
       "      <th>784</th>\n",
       "      <td>12.5</td>\n",
       "      <td>-6.0</td>\n",
       "      <td>2.0</td>\n",
       "      <td>0.00240</td>\n",
       "    </tr>\n",
       "    <tr>\n",
       "      <th>789</th>\n",
       "      <td>12.5</td>\n",
       "      <td>-5.0</td>\n",
       "      <td>2.0</td>\n",
       "      <td>0.00250</td>\n",
       "    </tr>\n",
       "    <tr>\n",
       "      <th>794</th>\n",
       "      <td>12.5</td>\n",
       "      <td>-4.0</td>\n",
       "      <td>2.0</td>\n",
       "      <td>0.00261</td>\n",
       "    </tr>\n",
       "    <tr>\n",
       "      <th>799</th>\n",
       "      <td>12.5</td>\n",
       "      <td>-3.0</td>\n",
       "      <td>2.0</td>\n",
       "      <td>0.00271</td>\n",
       "    </tr>\n",
       "    <tr>\n",
       "      <th>804</th>\n",
       "      <td>12.5</td>\n",
       "      <td>-2.0</td>\n",
       "      <td>2.0</td>\n",
       "      <td>0.00279</td>\n",
       "    </tr>\n",
       "    <tr>\n",
       "      <th>809</th>\n",
       "      <td>12.5</td>\n",
       "      <td>-1.0</td>\n",
       "      <td>2.0</td>\n",
       "      <td>0.00285</td>\n",
       "    </tr>\n",
       "    <tr>\n",
       "      <th>814</th>\n",
       "      <td>12.5</td>\n",
       "      <td>0.0</td>\n",
       "      <td>2.0</td>\n",
       "      <td>0.00286</td>\n",
       "    </tr>\n",
       "    <tr>\n",
       "      <th>819</th>\n",
       "      <td>12.5</td>\n",
       "      <td>1.0</td>\n",
       "      <td>2.0</td>\n",
       "      <td>0.00285</td>\n",
       "    </tr>\n",
       "    <tr>\n",
       "      <th>824</th>\n",
       "      <td>12.5</td>\n",
       "      <td>2.0</td>\n",
       "      <td>2.0</td>\n",
       "      <td>0.00279</td>\n",
       "    </tr>\n",
       "    <tr>\n",
       "      <th>829</th>\n",
       "      <td>12.5</td>\n",
       "      <td>3.0</td>\n",
       "      <td>2.0</td>\n",
       "      <td>0.00271</td>\n",
       "    </tr>\n",
       "    <tr>\n",
       "      <th>834</th>\n",
       "      <td>12.5</td>\n",
       "      <td>4.0</td>\n",
       "      <td>2.0</td>\n",
       "      <td>0.00261</td>\n",
       "    </tr>\n",
       "    <tr>\n",
       "      <th>839</th>\n",
       "      <td>12.5</td>\n",
       "      <td>5.0</td>\n",
       "      <td>2.0</td>\n",
       "      <td>0.00250</td>\n",
       "    </tr>\n",
       "    <tr>\n",
       "      <th>844</th>\n",
       "      <td>12.5</td>\n",
       "      <td>6.0</td>\n",
       "      <td>2.0</td>\n",
       "      <td>0.00240</td>\n",
       "    </tr>\n",
       "  </tbody>\n",
       "</table>\n",
       "</div>"
      ],
      "text/plain": [
       "        x    y    z    SARwb\n",
       "784  12.5 -6.0  2.0  0.00240\n",
       "789  12.5 -5.0  2.0  0.00250\n",
       "794  12.5 -4.0  2.0  0.00261\n",
       "799  12.5 -3.0  2.0  0.00271\n",
       "804  12.5 -2.0  2.0  0.00279\n",
       "809  12.5 -1.0  2.0  0.00285\n",
       "814  12.5  0.0  2.0  0.00286\n",
       "819  12.5  1.0  2.0  0.00285\n",
       "824  12.5  2.0  2.0  0.00279\n",
       "829  12.5  3.0  2.0  0.00271\n",
       "834  12.5  4.0  2.0  0.00261\n",
       "839  12.5  5.0  2.0  0.00250\n",
       "844  12.5  6.0  2.0  0.00240"
      ]
     },
     "execution_count": 10,
     "metadata": {},
     "output_type": "execute_result"
    }
   ],
   "source": [
    "SARdfm = SARdf.copy()    # mirror copy\n",
    "SARdfm['y'] = -SARdfm.y  # mirror the y values\n",
    "SARdfall = pd.concat([SARdf, SARdfm])\n",
    "SARdfall = SARdfall.drop_duplicates().sort_values(['x','y','z']).reset_index(drop=True)\n",
    "SARdfall = SARdfall.astype({'y': 'float64','z':'float64'})\n",
    "\n",
    "# check y symmetry for fixed x & z coordinates\n",
    "mask = (SARdfall.x == 12.5) & (SARdfall.z == 2) \n",
    "SARdfall[mask]"
   ]
  },
  {
   "cell_type": "markdown",
   "metadata": {},
   "source": [
    "### Display SARdfall isocontour"
   ]
  },
  {
   "cell_type": "code",
   "execution_count": 11,
   "metadata": {},
   "outputs": [],
   "source": [
    "compliance_zone(df=SARdfall,dat='SARwb',lim=0.04,title='interpolated SARdfall values on 1m mesh')"
   ]
  },
  {
   "cell_type": "markdown",
   "metadata": {},
   "source": [
    "### Interpolation functions"
   ]
  },
  {
   "cell_type": "code",
   "execution_count": 6,
   "metadata": {
    "tags": []
   },
   "outputs": [],
   "source": [
    "def axisvals(axis, delta, df):\n",
    "    '''Generate points for axis in df for delta increment'''\n",
    "    minval = df[axis].min()\n",
    "    maxval = df[axis].max()\n",
    "    return np.arange(minval, maxval+delta, delta).round(8)\n",
    "\n",
    "def SARinterpolator1d(df, ax1, newaxisvals, kind):\n",
    "    '''Interpolate SARwb values in df along specified x, y or z axis\n",
    "    INPUTS:\n",
    "      df = input dataframe\n",
    "      ax1 = axis to intepolate along [x, y or z]\n",
    "      newaxisvals = interpolation points along the ax1 axis\n",
    "      kind = type of interpolation [linear, quadractic, cubic, etc]\n",
    "    OUTPUTS:\n",
    "      df1 = dataframe with interpolated SARwb values\n",
    "      '''\n",
    "    # Get axis names for ax2, ax3\n",
    "    other_axes = dict(x=('y','z'),y=('x','z'),z=('x','y'))\n",
    "    ax2, ax3 = other_axes[ax1]\n",
    "    \n",
    "    # Create empty dataframe\n",
    "    df1 = pd.DataFrame(columns=('x','y','z','SARwb')) # initialise empty dataframe\n",
    "    \n",
    "    # Groupby over ax2 and ax3 axes\n",
    "    for (ax2val,ax3val), g in df.groupby([ax2, ax3]):\n",
    "        \n",
    "        # Create 1d interpolation function\n",
    "        xx = g[ax1].values.astype(float)\n",
    "        yy = np.log10(g.SARwb.values).astype(float)\n",
    "        f = interp1d(xx, yy, kind=kind)\n",
    "        ff = lambda newaxisvals: 10**f(newaxisvals)\n",
    "    \n",
    "        # do interpolation over ax1 axis\n",
    "        SARwb = ff(newaxisvals)\n",
    "        dfi = pd.DataFrame({ax1:newaxisvals, ax2:ax2val, ax3:ax3val, 'SARwb':SARwb})\n",
    "        df1 = pd.concat([df1, dfi])\n",
    "        \n",
    "    df1.sort_values(['x','y','z'],inplace=True)\n",
    "    \n",
    "    return df1"
   ]
  },
  {
   "cell_type": "markdown",
   "metadata": {},
   "source": [
    "### Interpolate SARdfall over x, y & z axes"
   ]
  },
  {
   "cell_type": "code",
   "execution_count": 13,
   "metadata": {
    "tags": []
   },
   "outputs": [
    {
     "data": {
      "text/html": [
       "<div>\n",
       "<style scoped>\n",
       "    .dataframe tbody tr th:only-of-type {\n",
       "        vertical-align: middle;\n",
       "    }\n",
       "\n",
       "    .dataframe tbody tr th {\n",
       "        vertical-align: top;\n",
       "    }\n",
       "\n",
       "    .dataframe thead th {\n",
       "        text-align: right;\n",
       "    }\n",
       "</style>\n",
       "<table border=\"1\" class=\"dataframe\">\n",
       "  <thead>\n",
       "    <tr style=\"text-align: right;\">\n",
       "      <th></th>\n",
       "      <th>x</th>\n",
       "      <th>y</th>\n",
       "      <th>z</th>\n",
       "      <th>SARwbi</th>\n",
       "    </tr>\n",
       "  </thead>\n",
       "  <tbody>\n",
       "    <tr>\n",
       "      <th>0</th>\n",
       "      <td>0.5</td>\n",
       "      <td>-6.0</td>\n",
       "      <td>-2.0</td>\n",
       "      <td>0.000250</td>\n",
       "    </tr>\n",
       "    <tr>\n",
       "      <th>1</th>\n",
       "      <td>0.5</td>\n",
       "      <td>-6.0</td>\n",
       "      <td>-1.9</td>\n",
       "      <td>0.000328</td>\n",
       "    </tr>\n",
       "    <tr>\n",
       "      <th>2</th>\n",
       "      <td>0.5</td>\n",
       "      <td>-6.0</td>\n",
       "      <td>-1.8</td>\n",
       "      <td>0.000426</td>\n",
       "    </tr>\n",
       "    <tr>\n",
       "      <th>3</th>\n",
       "      <td>0.5</td>\n",
       "      <td>-6.0</td>\n",
       "      <td>-1.7</td>\n",
       "      <td>0.000548</td>\n",
       "    </tr>\n",
       "    <tr>\n",
       "      <th>4</th>\n",
       "      <td>0.5</td>\n",
       "      <td>-6.0</td>\n",
       "      <td>-1.6</td>\n",
       "      <td>0.000696</td>\n",
       "    </tr>\n",
       "    <tr>\n",
       "      <th>...</th>\n",
       "      <td>...</td>\n",
       "      <td>...</td>\n",
       "      <td>...</td>\n",
       "      <td>...</td>\n",
       "    </tr>\n",
       "    <tr>\n",
       "      <th>36</th>\n",
       "      <td>12.5</td>\n",
       "      <td>6.0</td>\n",
       "      <td>1.6</td>\n",
       "      <td>0.005066</td>\n",
       "    </tr>\n",
       "    <tr>\n",
       "      <th>37</th>\n",
       "      <td>12.5</td>\n",
       "      <td>6.0</td>\n",
       "      <td>1.7</td>\n",
       "      <td>0.004271</td>\n",
       "    </tr>\n",
       "    <tr>\n",
       "      <th>38</th>\n",
       "      <td>12.5</td>\n",
       "      <td>6.0</td>\n",
       "      <td>1.8</td>\n",
       "      <td>0.003562</td>\n",
       "    </tr>\n",
       "    <tr>\n",
       "      <th>39</th>\n",
       "      <td>12.5</td>\n",
       "      <td>6.0</td>\n",
       "      <td>1.9</td>\n",
       "      <td>0.002939</td>\n",
       "    </tr>\n",
       "    <tr>\n",
       "      <th>40</th>\n",
       "      <td>12.5</td>\n",
       "      <td>6.0</td>\n",
       "      <td>2.0</td>\n",
       "      <td>0.002400</td>\n",
       "    </tr>\n",
       "  </tbody>\n",
       "</table>\n",
       "<p>600281 rows × 4 columns</p>\n",
       "</div>"
      ],
      "text/plain": [
       "       x    y    z    SARwbi\n",
       "0    0.5 -6.0 -2.0  0.000250\n",
       "1    0.5 -6.0 -1.9  0.000328\n",
       "2    0.5 -6.0 -1.8  0.000426\n",
       "3    0.5 -6.0 -1.7  0.000548\n",
       "4    0.5 -6.0 -1.6  0.000696\n",
       "..   ...  ...  ...       ...\n",
       "36  12.5  6.0  1.6  0.005066\n",
       "37  12.5  6.0  1.7  0.004271\n",
       "38  12.5  6.0  1.8  0.003562\n",
       "39  12.5  6.0  1.9  0.002939\n",
       "40  12.5  6.0  2.0  0.002400\n",
       "\n",
       "[600281 rows x 4 columns]"
      ]
     },
     "metadata": {},
     "output_type": "display_data"
    },
    {
     "data": {
      "text/html": [
       "<div>\n",
       "<style scoped>\n",
       "    .dataframe tbody tr th:only-of-type {\n",
       "        vertical-align: middle;\n",
       "    }\n",
       "\n",
       "    .dataframe tbody tr th {\n",
       "        vertical-align: top;\n",
       "    }\n",
       "\n",
       "    .dataframe thead th {\n",
       "        text-align: right;\n",
       "    }\n",
       "</style>\n",
       "<table border=\"1\" class=\"dataframe\">\n",
       "  <thead>\n",
       "    <tr style=\"text-align: right;\">\n",
       "      <th></th>\n",
       "      <th>min</th>\n",
       "      <th>max</th>\n",
       "      <th>n</th>\n",
       "      <th>delta</th>\n",
       "    </tr>\n",
       "  </thead>\n",
       "  <tbody>\n",
       "    <tr>\n",
       "      <th>x</th>\n",
       "      <td>0.5</td>\n",
       "      <td>12.5</td>\n",
       "      <td>121</td>\n",
       "      <td>0.1</td>\n",
       "    </tr>\n",
       "    <tr>\n",
       "      <th>y</th>\n",
       "      <td>-6.0</td>\n",
       "      <td>6.0</td>\n",
       "      <td>121</td>\n",
       "      <td>0.1</td>\n",
       "    </tr>\n",
       "    <tr>\n",
       "      <th>z</th>\n",
       "      <td>-2.0</td>\n",
       "      <td>2.0</td>\n",
       "      <td>41</td>\n",
       "      <td>0.1</td>\n",
       "    </tr>\n",
       "  </tbody>\n",
       "</table>\n",
       "</div>"
      ],
      "text/plain": [
       "   min   max    n  delta\n",
       "x  0.5  12.5  121    0.1\n",
       "y -6.0   6.0  121    0.1\n",
       "z -2.0   2.0   41    0.1"
      ]
     },
     "execution_count": 13,
     "metadata": {},
     "output_type": "execute_result"
    }
   ],
   "source": [
    "# Set interpolation parameters\n",
    "delta = 0.1                            # increment axis points\n",
    "xnew = axisvals('x', delta, SARdfall)  # new x-value interpolation points\n",
    "ynew = axisvals('y', delta, SARdfall)  # new y-value interpolation points\n",
    "znew = axisvals('z', delta, SARdfall)  # new z-value interpolation points\n",
    "\n",
    "# Conduct x, y and z axis interpolations\n",
    "SARdfi_x = SARinterpolator1d(SARdfall,'x',xnew,'quadratic')\n",
    "SARdfi_xy = SARinterpolator1d(SARdfi_x,'y',ynew,'quadratic')\n",
    "SARdfi_xyz = SARinterpolator1d(SARdfi_xy,'z',znew,'quadratic')\n",
    "\n",
    "# Rename SARwb to SARwbi\n",
    "SARdfi_xyz.rename(columns={'SARwb':'SARwbi'},inplace=True)\n",
    "display(SARdfi_xyz)\n",
    "\n",
    "# Show SAR grid parameters\n",
    "getgrid(SARdfi_xyz)"
   ]
  },
  {
   "cell_type": "markdown",
   "metadata": {},
   "source": [
    "### Display SARdfi_xyz isocontour"
   ]
  },
  {
   "cell_type": "code",
   "execution_count": 14,
   "metadata": {},
   "outputs": [],
   "source": [
    "compliance_zone(df=SARdfi_xyz,dat='SARwbi',lim=0.04,\n",
    "                title=f'interpolated SARdfi_xyz values on {delta}m mesh')"
   ]
  },
  {
   "cell_type": "markdown",
   "metadata": {},
   "source": [
    "### Check symmetry of SARdfi_xyz in the z direction"
   ]
  },
  {
   "cell_type": "code",
   "execution_count": 17,
   "metadata": {},
   "outputs": [
    {
     "data": {
      "image/png": "[encoded data removed]",
      "text/plain": [
       "<Figure size 648x864 with 12 Axes>"
      ]
     },
     "metadata": {
      "needs_background": "light"
     },
     "output_type": "display_data"
    }
   ],
   "source": [
    "# Bar plots of dB(SARwb) along z for various values of x and y\n",
    "SARdfi = SARdfi_xyz.copy()\n",
    "SARdfi['dB(SARwbi)'] = dB(SARdfi.SARwbi)\n",
    "xvals = [0.5,6.5,12.5]\n",
    "yvals = [0,2,4,6]\n",
    "\n",
    "mask = (SARdfi.x.isin(xvals)) & (SARdfi.y.isin(yvals))\n",
    "g = sn.FacetGrid(SARdfi[mask], col=\"x\", row=\"y\",margin_titles=True)\n",
    "g.map(sn.barplot, 'z', \"dB(SARwbi)\", order=np.sort(SARdfi_xyz.z.unique()))\n",
    "plt.suptitle(f\"Check for asymmetry in SARwb across z=0 plane\\n\",fontsize=16,c='b')\n",
    "plt.tight_layout();"
   ]
  },
  {
   "cell_type": "markdown",
   "metadata": {},
   "source": [
    "Data looks nicely symmetric in the z axis. It is *not* expected to be perfectly symmetric since the body phantom is not totally symmetric in the z direction"
   ]
  },
  {
   "cell_type": "markdown",
   "metadata": {},
   "source": [
    "### Merge SARdf and SARdfi_xyz with S"
   ]
  },
  {
   "cell_type": "code",
   "execution_count": 18,
   "metadata": {},
   "outputs": [
    {
     "data": {
      "text/html": [
       "<div>\n",
       "<style scoped>\n",
       "    .dataframe tbody tr th:only-of-type {\n",
       "        vertical-align: middle;\n",
       "    }\n",
       "\n",
       "    .dataframe tbody tr th {\n",
       "        vertical-align: top;\n",
       "    }\n",
       "\n",
       "    .dataframe thead th {\n",
       "        text-align: right;\n",
       "    }\n",
       "</style>\n",
       "<table border=\"1\" class=\"dataframe\">\n",
       "  <thead>\n",
       "    <tr style=\"text-align: right;\">\n",
       "      <th></th>\n",
       "      <th>x</th>\n",
       "      <th>y</th>\n",
       "      <th>z</th>\n",
       "      <th>SE</th>\n",
       "      <th>SH</th>\n",
       "      <th>Smax</th>\n",
       "      <th>SARwb</th>\n",
       "      <th>SARwbi</th>\n",
       "    </tr>\n",
       "  </thead>\n",
       "  <tbody>\n",
       "    <tr>\n",
       "      <th>0</th>\n",
       "      <td>0.5</td>\n",
       "      <td>-7.0</td>\n",
       "      <td>-3.0</td>\n",
       "      <td>0.004689</td>\n",
       "      <td>0.004748</td>\n",
       "      <td>0.004748</td>\n",
       "      <td>NaN</td>\n",
       "      <td>NaN</td>\n",
       "    </tr>\n",
       "    <tr>\n",
       "      <th>1</th>\n",
       "      <td>0.5</td>\n",
       "      <td>-7.0</td>\n",
       "      <td>-2.9</td>\n",
       "      <td>0.005296</td>\n",
       "      <td>0.005374</td>\n",
       "      <td>0.005374</td>\n",
       "      <td>NaN</td>\n",
       "      <td>NaN</td>\n",
       "    </tr>\n",
       "    <tr>\n",
       "      <th>2</th>\n",
       "      <td>0.5</td>\n",
       "      <td>-7.0</td>\n",
       "      <td>-2.8</td>\n",
       "      <td>0.005512</td>\n",
       "      <td>0.005594</td>\n",
       "      <td>0.005594</td>\n",
       "      <td>NaN</td>\n",
       "      <td>NaN</td>\n",
       "    </tr>\n",
       "    <tr>\n",
       "      <th>3</th>\n",
       "      <td>0.5</td>\n",
       "      <td>-7.0</td>\n",
       "      <td>-2.7</td>\n",
       "      <td>0.005286</td>\n",
       "      <td>0.005353</td>\n",
       "      <td>0.005353</td>\n",
       "      <td>NaN</td>\n",
       "      <td>NaN</td>\n",
       "    </tr>\n",
       "    <tr>\n",
       "      <th>4</th>\n",
       "      <td>0.5</td>\n",
       "      <td>-7.0</td>\n",
       "      <td>-2.6</td>\n",
       "      <td>0.004674</td>\n",
       "      <td>0.004708</td>\n",
       "      <td>0.004708</td>\n",
       "      <td>NaN</td>\n",
       "      <td>NaN</td>\n",
       "    </tr>\n",
       "    <tr>\n",
       "      <th>...</th>\n",
       "      <td>...</td>\n",
       "      <td>...</td>\n",
       "      <td>...</td>\n",
       "      <td>...</td>\n",
       "      <td>...</td>\n",
       "      <td>...</td>\n",
       "      <td>...</td>\n",
       "      <td>...</td>\n",
       "    </tr>\n",
       "    <tr>\n",
       "      <th>1169731</th>\n",
       "      <td>14.0</td>\n",
       "      <td>7.0</td>\n",
       "      <td>2.6</td>\n",
       "      <td>0.025416</td>\n",
       "      <td>0.025174</td>\n",
       "      <td>0.025416</td>\n",
       "      <td>NaN</td>\n",
       "      <td>NaN</td>\n",
       "    </tr>\n",
       "    <tr>\n",
       "      <th>1169732</th>\n",
       "      <td>14.0</td>\n",
       "      <td>7.0</td>\n",
       "      <td>2.7</td>\n",
       "      <td>0.021783</td>\n",
       "      <td>0.021605</td>\n",
       "      <td>0.021783</td>\n",
       "      <td>NaN</td>\n",
       "      <td>NaN</td>\n",
       "    </tr>\n",
       "    <tr>\n",
       "      <th>1169733</th>\n",
       "      <td>14.0</td>\n",
       "      <td>7.0</td>\n",
       "      <td>2.8</td>\n",
       "      <td>0.019616</td>\n",
       "      <td>0.019496</td>\n",
       "      <td>0.019616</td>\n",
       "      <td>NaN</td>\n",
       "      <td>NaN</td>\n",
       "    </tr>\n",
       "    <tr>\n",
       "      <th>1169734</th>\n",
       "      <td>14.0</td>\n",
       "      <td>7.0</td>\n",
       "      <td>2.9</td>\n",
       "      <td>0.018479</td>\n",
       "      <td>0.018413</td>\n",
       "      <td>0.018479</td>\n",
       "      <td>NaN</td>\n",
       "      <td>NaN</td>\n",
       "    </tr>\n",
       "    <tr>\n",
       "      <th>1169735</th>\n",
       "      <td>14.0</td>\n",
       "      <td>7.0</td>\n",
       "      <td>3.0</td>\n",
       "      <td>0.017996</td>\n",
       "      <td>0.017975</td>\n",
       "      <td>0.017996</td>\n",
       "      <td>NaN</td>\n",
       "      <td>NaN</td>\n",
       "    </tr>\n",
       "  </tbody>\n",
       "</table>\n",
       "<p>1169736 rows × 8 columns</p>\n",
       "</div>"
      ],
      "text/plain": [
       "            x    y    z        SE        SH      Smax  SARwb  SARwbi\n",
       "0         0.5 -7.0 -3.0  0.004689  0.004748  0.004748    NaN     NaN\n",
       "1         0.5 -7.0 -2.9  0.005296  0.005374  0.005374    NaN     NaN\n",
       "2         0.5 -7.0 -2.8  0.005512  0.005594  0.005594    NaN     NaN\n",
       "3         0.5 -7.0 -2.7  0.005286  0.005353  0.005353    NaN     NaN\n",
       "4         0.5 -7.0 -2.6  0.004674  0.004708  0.004708    NaN     NaN\n",
       "...       ...  ...  ...       ...       ...       ...    ...     ...\n",
       "1169731  14.0  7.0  2.6  0.025416  0.025174  0.025416    NaN     NaN\n",
       "1169732  14.0  7.0  2.7  0.021783  0.021605  0.021783    NaN     NaN\n",
       "1169733  14.0  7.0  2.8  0.019616  0.019496  0.019616    NaN     NaN\n",
       "1169734  14.0  7.0  2.9  0.018479  0.018413  0.018479    NaN     NaN\n",
       "1169735  14.0  7.0  3.0  0.017996  0.017975  0.017996    NaN     NaN\n",
       "\n",
       "[1169736 rows x 8 columns]"
      ]
     },
     "execution_count": 18,
     "metadata": {},
     "output_type": "execute_result"
    }
   ],
   "source": [
    "# Create Sall by merging SARwb and SARps from SARdf with S dataframe\n",
    "Sall = S.merge(SARdfall, how='outer')\n",
    "Sall = Sall.merge(SARdfi_xyz, how='outer')\n",
    "Sall"
   ]
  },
  {
   "cell_type": "markdown",
   "metadata": {},
   "source": [
    "### Compare histogram of Danie's SARwb values with my log-quadratic interpolated values (SARwbi)"
   ]
  },
  {
   "cell_type": "code",
   "execution_count": 19,
   "metadata": {},
   "outputs": [
    {
     "data": {
      "image/png": "[encoded data removed]",
      "text/plain": [
       "<Figure size 576x576 with 2 Axes>"
      ]
     },
     "metadata": {
      "needs_background": "light"
     },
     "output_type": "display_data"
    }
   ],
   "source": [
    "fig, ax = plt.subplots(2,1,sharex=True,sharey=True,figsize=(8, 8))\n",
    "bins = 200\n",
    "Sall.SARwb.hist(bins=bins,ax=ax[0],density=True)\n",
    "Sall.SARwbi.hist(bins=bins,ax=ax[1],density=True)\n",
    "ax[0].set_title('SARwb',fontsize=14,color='b')\n",
    "ax[1].set_title('SARwbi',fontsize=14,color='b');\n",
    "plt.xlim(0,0.2);"
   ]
  },
  {
   "cell_type": "markdown",
   "metadata": {},
   "source": [
    "Danie's SAR data and my interpolated data have similar histogram distributions"
   ]
  },
  {
   "cell_type": "code",
   "execution_count": 20,
   "metadata": {},
   "outputs": [
    {
     "data": {
      "image/png": "[encoded data removed]",
      "text/plain": [
       "<Figure size 576x576 with 1 Axes>"
      ]
     },
     "metadata": {
      "needs_background": "light"
     },
     "output_type": "display_data"
    }
   ],
   "source": [
    "# Line plots of SARwb and SARwbi\n",
    "fig, ax = plt.subplots(figsize=(8, 8))\n",
    "mask = (Sall.y == 0) & (Sall.z.isin([0,.5,1,1.5])) & (Sall.SARwbi != -100)\n",
    "Sall[mask]\n",
    "sn.lineplot(data=Sall[mask],x='x',y='SARwbi',hue='z')\n",
    "sn.scatterplot(data=Sall[mask],x='x',y='SARwb',hue='z',s=80)\n",
    "ax.set_title('SARwb vs SARwbi', fontsize=16, color='b');"
   ]
  },
  {
   "cell_type": "markdown",
   "metadata": {},
   "source": [
    "Danie's SAR points (`SARwb`) all lie on the lines for my log-linear interpolated data (`SARwbi`)"
   ]
  },
  {
   "cell_type": "markdown",
   "metadata": {
    "tags": []
   },
   "source": [
    "## Metadata for Sall dataframe "
   ]
  },
  {
   "cell_type": "code",
   "execution_count": 21,
   "metadata": {},
   "outputs": [],
   "source": [
    "# Create dict for S column name metadata\n",
    "Snames = {'SE': 'S(E) levels',\n",
    "          'SH': 'S(H) levels',\n",
    "          'Smax': 'Smax levels',\n",
    "          'SARps': 'peak spatial SAR',\n",
    "          'SARwb': 'WBA SAR',\n",
    "          'SARwbi': 'WBA SAR (interpolated)',\n",
    "         }"
   ]
  },
  {
   "cell_type": "markdown",
   "metadata": {
    "tags": []
   },
   "source": [
    "## Save the S DataFrame as hdf5 store with metadata"
   ]
  },
  {
   "cell_type": "code",
   "execution_count": 22,
   "metadata": {},
   "outputs": [
    {
     "name": "stdout",
     "output_type": "stream",
     "text": [
      "S DataFrame saved to: ../antennas/MBSpanel/data/MBSpanel.hdf5\n",
      "len(S) = 1,169,736\n"
     ]
    }
   ],
   "source": [
    "# Set the file name of the hdf5 store\n",
    "Sfile = datadir + f'{t.antenna_folder}.hdf5'\n",
    "\n",
    "# Save the data into an hdf5 store (without x,y,z data)\n",
    "Sdata = Sall.drop(columns=['x','y','z'])\n",
    "h5store(Sfile, Sdata, **Snames)\n",
    "print(f'S DataFrame saved to: {Sfile}')\n",
    "print(f'len(S) = {len(S):,d}')"
   ]
  },
  {
   "cell_type": "markdown",
   "metadata": {
    "tags": []
   },
   "source": [
    "## Scratch"
   ]
  },
  {
   "cell_type": "code",
   "execution_count": 25,
   "metadata": {},
   "outputs": [
    {
     "data": {
      "image/png": "[encoded data removed]",
      "text/plain": [
       "<Figure size 432x288 with 1 Axes>"
      ]
     },
     "metadata": {
      "needs_background": "light"
     },
     "output_type": "display_data"
    }
   ],
   "source": [
    "# test if SARinterpolator1d will properly interpolate along an uneven x-axis \n",
    "xlist = [1,2,4,8]\n",
    "ylist = range(-3,4)\n",
    "zlist = range(-2,3)\n",
    "listxyz = [(x,y,z) for x in xlist for y in ylist for z in zlist]\n",
    "df = pd.DataFrame(listxyz,columns=('x','y','z')).astype(float)\n",
    "df['SARwb'] = df.x**2 + df.y**2 + df.z**2\n",
    "\n",
    "newxvals = np.arange(1,8.2,0.2).round(1)\n",
    "dfi = SARinterpolator1d(df, 'x', newxvals, 'quadratic')\n",
    "dfm = df.merge(dfi, on=('x','y','z'),suffixes=('','i'))\n",
    "(dfm.SARwb - dfm.SARwbi).hist(bins=50);"
   ]
  },
  {
   "cell_type": "markdown",
   "metadata": {},
   "source": [
    "*yes it does!*"
   ]
  },
  {
   "cell_type": "markdown",
   "metadata": {
    "jp-MarkdownHeadingCollapsed": true,
    "tags": []
   },
   "source": [
    "### Get SAR data I\n",
    "First attempt at SAR data interpolation and extrapolation"
   ]
  },
  {
   "cell_type": "markdown",
   "metadata": {},
   "source": [
    "#### Read in Danie's SAR data file"
   ]
  },
  {
   "cell_type": "code",
   "execution_count": 24,
   "metadata": {},
   "outputs": [
    {
     "data": {
      "text/html": [
       "<div>\n",
       "<style scoped>\n",
       "    .dataframe tbody tr th:only-of-type {\n",
       "        vertical-align: middle;\n",
       "    }\n",
       "\n",
       "    .dataframe tbody tr th {\n",
       "        vertical-align: top;\n",
       "    }\n",
       "\n",
       "    .dataframe thead th {\n",
       "        text-align: right;\n",
       "    }\n",
       "</style>\n",
       "<table border=\"1\" class=\"dataframe\">\n",
       "  <thead>\n",
       "    <tr style=\"text-align: right;\">\n",
       "      <th></th>\n",
       "      <th>min</th>\n",
       "      <th>max</th>\n",
       "      <th>n</th>\n",
       "      <th>delta</th>\n",
       "    </tr>\n",
       "  </thead>\n",
       "  <tbody>\n",
       "    <tr>\n",
       "      <th>x</th>\n",
       "      <td>0.5</td>\n",
       "      <td>12.5</td>\n",
       "      <td>13</td>\n",
       "      <td>1.0</td>\n",
       "    </tr>\n",
       "    <tr>\n",
       "      <th>y</th>\n",
       "      <td>0.0</td>\n",
       "      <td>6.0</td>\n",
       "      <td>7</td>\n",
       "      <td>1.0</td>\n",
       "    </tr>\n",
       "    <tr>\n",
       "      <th>z</th>\n",
       "      <td>-2.0</td>\n",
       "      <td>2.0</td>\n",
       "      <td>5</td>\n",
       "      <td>1.0</td>\n",
       "    </tr>\n",
       "  </tbody>\n",
       "</table>\n",
       "</div>"
      ],
      "text/plain": [
       "   min   max   n  delta\n",
       "x  0.5  12.5  13    1.0\n",
       "y  0.0   6.0   7    1.0\n",
       "z -2.0   2.0   5    1.0"
      ]
     },
     "execution_count": 24,
     "metadata": {},
     "output_type": "execute_result"
    }
   ],
   "source": [
    "SARdf1 = pd.read_excel(datadir + 'wbSAR-grid-values.xlsx',usecols=\"A,B,C,E\")\n",
    "getgrid(SARdf1)"
   ]
  },
  {
   "cell_type": "markdown",
   "metadata": {},
   "source": [
    "#### Fill out the y<0 symmetry plane data"
   ]
  },
  {
   "cell_type": "code",
   "execution_count": 25,
   "metadata": {},
   "outputs": [
    {
     "data": {
      "text/html": [
       "<div>\n",
       "<style scoped>\n",
       "    .dataframe tbody tr th:only-of-type {\n",
       "        vertical-align: middle;\n",
       "    }\n",
       "\n",
       "    .dataframe tbody tr th {\n",
       "        vertical-align: top;\n",
       "    }\n",
       "\n",
       "    .dataframe thead th {\n",
       "        text-align: right;\n",
       "    }\n",
       "</style>\n",
       "<table border=\"1\" class=\"dataframe\">\n",
       "  <thead>\n",
       "    <tr style=\"text-align: right;\">\n",
       "      <th></th>\n",
       "      <th>x</th>\n",
       "      <th>y</th>\n",
       "      <th>z</th>\n",
       "      <th>SARwb</th>\n",
       "      <th>dB(SARwb)</th>\n",
       "    </tr>\n",
       "  </thead>\n",
       "  <tbody>\n",
       "    <tr>\n",
       "      <th>784</th>\n",
       "      <td>12.5</td>\n",
       "      <td>-6.0</td>\n",
       "      <td>2.0</td>\n",
       "      <td>0.00240</td>\n",
       "      <td>-26.197888</td>\n",
       "    </tr>\n",
       "    <tr>\n",
       "      <th>789</th>\n",
       "      <td>12.5</td>\n",
       "      <td>-5.0</td>\n",
       "      <td>2.0</td>\n",
       "      <td>0.00250</td>\n",
       "      <td>-26.020600</td>\n",
       "    </tr>\n",
       "    <tr>\n",
       "      <th>794</th>\n",
       "      <td>12.5</td>\n",
       "      <td>-4.0</td>\n",
       "      <td>2.0</td>\n",
       "      <td>0.00261</td>\n",
       "      <td>-25.833595</td>\n",
       "    </tr>\n",
       "    <tr>\n",
       "      <th>799</th>\n",
       "      <td>12.5</td>\n",
       "      <td>-3.0</td>\n",
       "      <td>2.0</td>\n",
       "      <td>0.00271</td>\n",
       "      <td>-25.670307</td>\n",
       "    </tr>\n",
       "    <tr>\n",
       "      <th>804</th>\n",
       "      <td>12.5</td>\n",
       "      <td>-2.0</td>\n",
       "      <td>2.0</td>\n",
       "      <td>0.00279</td>\n",
       "      <td>-25.543958</td>\n",
       "    </tr>\n",
       "    <tr>\n",
       "      <th>809</th>\n",
       "      <td>12.5</td>\n",
       "      <td>-1.0</td>\n",
       "      <td>2.0</td>\n",
       "      <td>0.00285</td>\n",
       "      <td>-25.451551</td>\n",
       "    </tr>\n",
       "    <tr>\n",
       "      <th>814</th>\n",
       "      <td>12.5</td>\n",
       "      <td>0.0</td>\n",
       "      <td>2.0</td>\n",
       "      <td>0.00286</td>\n",
       "      <td>-25.436340</td>\n",
       "    </tr>\n",
       "    <tr>\n",
       "      <th>819</th>\n",
       "      <td>12.5</td>\n",
       "      <td>1.0</td>\n",
       "      <td>2.0</td>\n",
       "      <td>0.00285</td>\n",
       "      <td>-25.451551</td>\n",
       "    </tr>\n",
       "    <tr>\n",
       "      <th>824</th>\n",
       "      <td>12.5</td>\n",
       "      <td>2.0</td>\n",
       "      <td>2.0</td>\n",
       "      <td>0.00279</td>\n",
       "      <td>-25.543958</td>\n",
       "    </tr>\n",
       "    <tr>\n",
       "      <th>829</th>\n",
       "      <td>12.5</td>\n",
       "      <td>3.0</td>\n",
       "      <td>2.0</td>\n",
       "      <td>0.00271</td>\n",
       "      <td>-25.670307</td>\n",
       "    </tr>\n",
       "    <tr>\n",
       "      <th>834</th>\n",
       "      <td>12.5</td>\n",
       "      <td>4.0</td>\n",
       "      <td>2.0</td>\n",
       "      <td>0.00261</td>\n",
       "      <td>-25.833595</td>\n",
       "    </tr>\n",
       "    <tr>\n",
       "      <th>839</th>\n",
       "      <td>12.5</td>\n",
       "      <td>5.0</td>\n",
       "      <td>2.0</td>\n",
       "      <td>0.00250</td>\n",
       "      <td>-26.020600</td>\n",
       "    </tr>\n",
       "    <tr>\n",
       "      <th>844</th>\n",
       "      <td>12.5</td>\n",
       "      <td>6.0</td>\n",
       "      <td>2.0</td>\n",
       "      <td>0.00240</td>\n",
       "      <td>-26.197888</td>\n",
       "    </tr>\n",
       "  </tbody>\n",
       "</table>\n",
       "</div>"
      ],
      "text/plain": [
       "        x    y    z    SARwb  dB(SARwb)\n",
       "784  12.5 -6.0  2.0  0.00240 -26.197888\n",
       "789  12.5 -5.0  2.0  0.00250 -26.020600\n",
       "794  12.5 -4.0  2.0  0.00261 -25.833595\n",
       "799  12.5 -3.0  2.0  0.00271 -25.670307\n",
       "804  12.5 -2.0  2.0  0.00279 -25.543958\n",
       "809  12.5 -1.0  2.0  0.00285 -25.451551\n",
       "814  12.5  0.0  2.0  0.00286 -25.436340\n",
       "819  12.5  1.0  2.0  0.00285 -25.451551\n",
       "824  12.5  2.0  2.0  0.00279 -25.543958\n",
       "829  12.5  3.0  2.0  0.00271 -25.670307\n",
       "834  12.5  4.0  2.0  0.00261 -25.833595\n",
       "839  12.5  5.0  2.0  0.00250 -26.020600\n",
       "844  12.5  6.0  2.0  0.00240 -26.197888"
      ]
     },
     "execution_count": 25,
     "metadata": {},
     "output_type": "execute_result"
    }
   ],
   "source": [
    "SARdf2 = SARdf1.copy()\n",
    "SARdf2['y'] = -SARdf1.y\n",
    "SARdf = pd.concat([SARdf1,SARdf2])\n",
    "SARdf = SARdf.drop_duplicates().sort_values(['x','y','z']).reset_index(drop=True)\n",
    "SARdf = SARdf.astype({'y': 'float64','z':'float64'})\n",
    "SARdf['dB(SARwb)'] = dB(SARdf.SARwb)\n",
    "\n",
    "# check y symmetry for fixed x & z coordinates\n",
    "mask = (SARdf.x == 12.5) & (SARdf.z == 2) \n",
    "SARdf[mask]"
   ]
  },
  {
   "cell_type": "markdown",
   "metadata": {},
   "source": [
    "#### Check symmetry in the z direction"
   ]
  },
  {
   "cell_type": "code",
   "execution_count": 26,
   "metadata": {},
   "outputs": [
    {
     "data": {
      "image/png": "[encoded data removed]",
      "text/plain": [
       "<Figure size 648x864 with 12 Axes>"
      ]
     },
     "metadata": {
      "needs_background": "light"
     },
     "output_type": "display_data"
    }
   ],
   "source": [
    "# Bar plots of dB(SARwb) along z for various values of x and y\n",
    "xvals = [0.5,6.5,12.5]\n",
    "yvals = [0,2,4,6]\n",
    "mask = (SARdf.x.isin(xvals)) & (SARdf.y.isin(yvals))\n",
    "# display(SARdf[mask])\n",
    "g = sn.FacetGrid(SARdf[mask], col=\"x\", row=\"y\",margin_titles=True)\n",
    "g.map(sn.barplot, \"z\", \"dB(SARwb)\", alpha=.5, order=np.sort(SARdf.z.unique()))\n",
    "plt.suptitle(\"Check for asymmetry in SARwb across z=0 plane\\n\",fontsize=16,c='b')\n",
    "plt.tight_layout();"
   ]
  },
  {
   "cell_type": "markdown",
   "metadata": {
    "tags": []
   },
   "source": [
    "#### Expand Danie's SAR grid to match S grid"
   ]
  },
  {
   "cell_type": "code",
   "execution_count": 27,
   "metadata": {},
   "outputs": [
    {
     "data": {
      "text/plain": [
       "'SAR grid'"
      ]
     },
     "metadata": {},
     "output_type": "display_data"
    },
    {
     "data": {
      "text/html": [
       "<div>\n",
       "<style scoped>\n",
       "    .dataframe tbody tr th:only-of-type {\n",
       "        vertical-align: middle;\n",
       "    }\n",
       "\n",
       "    .dataframe tbody tr th {\n",
       "        vertical-align: top;\n",
       "    }\n",
       "\n",
       "    .dataframe thead th {\n",
       "        text-align: right;\n",
       "    }\n",
       "</style>\n",
       "<table border=\"1\" class=\"dataframe\">\n",
       "  <thead>\n",
       "    <tr style=\"text-align: right;\">\n",
       "      <th></th>\n",
       "      <th>min</th>\n",
       "      <th>max</th>\n",
       "      <th>n</th>\n",
       "      <th>delta</th>\n",
       "    </tr>\n",
       "  </thead>\n",
       "  <tbody>\n",
       "    <tr>\n",
       "      <th>x</th>\n",
       "      <td>0.5</td>\n",
       "      <td>12.5</td>\n",
       "      <td>13</td>\n",
       "      <td>1.0</td>\n",
       "    </tr>\n",
       "    <tr>\n",
       "      <th>y</th>\n",
       "      <td>-6.0</td>\n",
       "      <td>6.0</td>\n",
       "      <td>13</td>\n",
       "      <td>1.0</td>\n",
       "    </tr>\n",
       "    <tr>\n",
       "      <th>z</th>\n",
       "      <td>-2.0</td>\n",
       "      <td>2.0</td>\n",
       "      <td>5</td>\n",
       "      <td>1.0</td>\n",
       "    </tr>\n",
       "  </tbody>\n",
       "</table>\n",
       "</div>"
      ],
      "text/plain": [
       "   min   max   n  delta\n",
       "x  0.5  12.5  13    1.0\n",
       "y -6.0   6.0  13    1.0\n",
       "z -2.0   2.0   5    1.0"
      ]
     },
     "metadata": {},
     "output_type": "display_data"
    },
    {
     "data": {
      "text/plain": [
       "'S grid'"
      ]
     },
     "metadata": {},
     "output_type": "display_data"
    },
    {
     "data": {
      "text/html": [
       "<div>\n",
       "<style scoped>\n",
       "    .dataframe tbody tr th:only-of-type {\n",
       "        vertical-align: middle;\n",
       "    }\n",
       "\n",
       "    .dataframe tbody tr th {\n",
       "        vertical-align: top;\n",
       "    }\n",
       "\n",
       "    .dataframe thead th {\n",
       "        text-align: right;\n",
       "    }\n",
       "</style>\n",
       "<table border=\"1\" class=\"dataframe\">\n",
       "  <thead>\n",
       "    <tr style=\"text-align: right;\">\n",
       "      <th></th>\n",
       "      <th>min</th>\n",
       "      <th>max</th>\n",
       "      <th>n</th>\n",
       "      <th>delta</th>\n",
       "    </tr>\n",
       "  </thead>\n",
       "  <tbody>\n",
       "    <tr>\n",
       "      <th>x</th>\n",
       "      <td>0.5</td>\n",
       "      <td>14.0</td>\n",
       "      <td>136</td>\n",
       "      <td>0.1</td>\n",
       "    </tr>\n",
       "    <tr>\n",
       "      <th>y</th>\n",
       "      <td>-7.0</td>\n",
       "      <td>7.0</td>\n",
       "      <td>141</td>\n",
       "      <td>0.1</td>\n",
       "    </tr>\n",
       "    <tr>\n",
       "      <th>z</th>\n",
       "      <td>-3.0</td>\n",
       "      <td>3.0</td>\n",
       "      <td>61</td>\n",
       "      <td>0.1</td>\n",
       "    </tr>\n",
       "  </tbody>\n",
       "</table>\n",
       "</div>"
      ],
      "text/plain": [
       "   min   max    n  delta\n",
       "x  0.5  14.0  136    0.1\n",
       "y -7.0   7.0  141    0.1\n",
       "z -3.0   3.0   61    0.1"
      ]
     },
     "metadata": {},
     "output_type": "display_data"
    }
   ],
   "source": [
    "# Get characterstics of the S and SARdf grids\n",
    "SARgrid = getgrid(SARdf)\n",
    "Sgrid = getgrid(S)\n",
    "display('SAR grid',SARgrid)\n",
    "display('S grid',Sgrid)"
   ]
  },
  {
   "cell_type": "code",
   "execution_count": null,
   "metadata": {
    "tags": []
   },
   "outputs": [],
   "source": [
    "# Functions to extrapolate SARdf grid over nominated axis\n",
    "def log_extrapolate(arr,xnew,axis,kind):\n",
    "    '''log10 extrapolation of arr['SARwb'] values of specified kind\n",
    "       for xnew points along the nominated x, y or z axis'''\n",
    "    x = arr[axis]\n",
    "    y = np.log10(arr['SARwb'])\n",
    "    f = interp1d(x,y,kind=kind)\n",
    "    ynew = 10**f(xnew)\n",
    "    df = pd.DataFrame({axis:xnew,'SARwb':ynew})\n",
    "    return df\n",
    "\n",
    "def extendSAR(axis,pointvals,kind,df=SARdf):\n",
    "    '''log10 extrapolation of the SARdf[col] values for the  \n",
    "       pointvals in the nominated axis direction'''\n",
    "    # Set the groupby axes\n",
    "    GBAXES = dict(x=['y','z'],y=['x','z'],z=['x','y'])\n",
    "    gbaxes = GBAXES[axis]\n",
    "    \n",
    "    # Iterate extrapolations over groupby axes \n",
    "    dfe = df.groupby(gbaxes).apply(log_extrapolate,xnew=pointvals,axis=axis,kind=kind)\n",
    "    dfe = dfe.reset_index().drop(columns='level_2')\n",
    "    return dfe"
   ]
  },
  {
   "cell_type": "code",
   "execution_count": null,
   "metadata": {
    "tags": []
   },
   "outputs": [],
   "source": [
    "# Test out extendSAR for interpolations\n",
    "axis = 'x'\n",
    "pointvals = [2,6]\n",
    "\n",
    "dfi = extendSAR(axis,pointvals,'linear')\n",
    "dfi.rename(columns={'SARwb':'SARwb_linear'},inplace=True)\n",
    "for kind in ['quadratic','cubic']:\n",
    "    df = extendSAR(axis,pointvals,kind)\n",
    "    colname = f'SARwb_{kind}'\n",
    "    dfi[colname] = df.SARwb\n",
    "\n",
    "dfi.head(20)"
   ]
  },
  {
   "cell_type": "markdown",
   "metadata": {},
   "source": [
    "The quadratic and cubic interpolations are very close"
   ]
  },
  {
   "cell_type": "code",
   "execution_count": null,
   "metadata": {},
   "outputs": [],
   "source": [
    "# Set x and y investigation points\n",
    "xvals = [0.5,6.5,12.5]\n",
    "yvals = [0,2,4,6]\n",
    "zvals = S.z.unique()\n",
    "nx = len(xvals)\n",
    "ny = len(yvals)\n",
    "\n",
    "# Create plot\n",
    "fig, ax = plt.subplots(ny,nx,figsize=(12,14),sharex=True,sharey=True)\n",
    "\n",
    "# Iterate over the x and y investigation points\n",
    "for i, x in enumerate(xvals):\n",
    "    for j, y in enumerate(yvals):\n",
    "        mask = (SARdf.x == x) & (SARdf.y == y)\n",
    "        ax[j,i].plot(SARdf[mask].z, dB(SARdf[mask].SARwb),'o')\n",
    "        ax[j,i].set_title(f'x = {x}  |  y = {y}',fontsize=14,c='b')\n",
    "\n",
    "        # Plot the interpolated  dB(SAR) points\n",
    "        for kind in ['linear','quadratic','cubic']:\n",
    "            dfi = extendSAR('z',zvals,kind,df=SARdf[mask])\n",
    "            ax[j,i].plot(dfi.z, dB(dfi.SARwb),'-',label=kind)\n",
    "            \n",
    "        ax[j,i].set_xlabel('z')\n",
    "        ax[j,i].set_ylabel('dB(SAR)')\n",
    "\n",
    "ax[-1,-1].legend(loc='lower center',fontsize=14)\n",
    "fig.suptitle('Interpolation of dB(SAR) values along z axis for different kinds of schemes\\n',\n",
    "             fontsize=20)\n",
    "plt.tight_layout()\n"
   ]
  },
  {
   "cell_type": "markdown",
   "metadata": {},
   "source": [
    "The extrapolated parts of the <font color='green'>quadratic</font> and <font color='red'>cubic</font> plots are generally close to each other. \n",
    "\n",
    "In that case it would be better to stick with the **quadratic** scheme since it is less 'dangerous' for extrapolation. Indeed, using the cubic scheme in the cell below leads to artifactual peaks in the upper far corners of the SAR plots."
   ]
  },
  {
   "cell_type": "code",
   "execution_count": null,
   "metadata": {},
   "outputs": [],
   "source": [
    "SARdfe = SARdf.drop(columns=\"dB(SARwb)\").copy()\n",
    "\n",
    "# set up extrapolation/interpolation parameters\n",
    "kind = 'quadratic'\n",
    "# kind = 'cubic'\n",
    "# kind = 'linear'\n",
    "zvals = [-3, 3]\n",
    "yvals = [-7, 7]\n",
    "xvals = sorted(list(set(S.x.values) - set(SARdfe.x.values)))\n",
    "\n",
    "# extend SARdfe by extrapolating over the y axis\n",
    "dfe = extendSAR('y',yvals,kind,df=SARdfe)\n",
    "SARdfe = pd.concat([SARdfe, dfe]).sort_values(['x','y','z'])\n",
    "\n",
    "# extend SARdfe by extrapolating over the z axis\n",
    "dfe = extendSAR('z',zvals,kind,df=SARdfe)\n",
    "SARdfe = pd.concat([SARdfe, dfe]).sort_values(['x','y','z'])\n",
    "\n",
    "# extend SARdfe by extrapolating over the x axis\n",
    "dfe = extendSAR('x',xvals,kind,df=SARdfe)\n",
    "SARdfe = pd.concat([SARdfe, dfe]).sort_values(['x','y','z'])\n",
    "\n",
    "# Create dBSAR\n",
    "SARdfe['dBSARwb'] = dB(SARdfe.SARwb)\n",
    "\n",
    "print('SARdfe grid parameters')\n",
    "getgrid(SARdfe)"
   ]
  },
  {
   "cell_type": "code",
   "execution_count": null,
   "metadata": {},
   "outputs": [],
   "source": [
    "def SARlines(df,fixedaxis,fixedval,xaxis,legendaxis,SARcol):\n",
    "    cmap = sn.diverging_palette(250, 30, l=65, center=\"dark\", as_cmap=True)\n",
    "    mask = df[fixedaxis] == fixedval\n",
    "    sn.relplot(x=xaxis,y=SARcol,kind='line',hue=legendaxis,\n",
    "               palette=cmap,height=6,data=df[mask])\n",
    "    title = f'{kind} scheme for {fixedaxis} = {fixedval}'\n",
    "    plt.suptitle(title,fontsize=16,c='b')\n",
    "    plt.xlim(df[xaxis].min(),df[xaxis].max())\n",
    "    plt.tight_layout(rect=(0,0,0.9,1))    "
   ]
  },
  {
   "cell_type": "code",
   "execution_count": null,
   "metadata": {},
   "outputs": [],
   "source": [
    "SARlines(df=SARdfe,fixedaxis='x',fixedval=12.5,\n",
    "         xaxis='y',legendaxis='z',SARcol='SARwb')"
   ]
  },
  {
   "cell_type": "code",
   "execution_count": null,
   "metadata": {},
   "outputs": [],
   "source": [
    "SARlines(df=SARdfe,fixedaxis='x',fixedval=14,\n",
    "         xaxis='y',legendaxis='z',SARcol='SARwb')"
   ]
  },
  {
   "cell_type": "code",
   "execution_count": null,
   "metadata": {},
   "outputs": [],
   "source": [
    "SARlines(df=SARdfe,fixedaxis='y',fixedval=0,\n",
    "         xaxis='x',legendaxis='z',SARcol='dBSARwb')"
   ]
  },
  {
   "cell_type": "code",
   "execution_count": null,
   "metadata": {},
   "outputs": [],
   "source": [
    "SARlines(df=SARdfe,fixedaxis='y',fixedval=7,\n",
    "         xaxis='x',legendaxis='z',SARcol='dBSARwb')"
   ]
  },
  {
   "cell_type": "code",
   "execution_count": null,
   "metadata": {},
   "outputs": [],
   "source": [
    "# display 3D compliance zone\n",
    "compliance_zone(df=SARdfe, dat='SARwb', lim=0.015, title='SARwb data in SARdfe')"
   ]
  },
  {
   "cell_type": "markdown",
   "metadata": {
    "tags": []
   },
   "source": [
    "#### Interpolate SAR values on to S grid using log-linear interpolation"
   ]
  },
  {
   "cell_type": "code",
   "execution_count": 14,
   "metadata": {},
   "outputs": [],
   "source": [
    "# Interpolate SAR values for xyz points in S using log linear interpolation\n",
    "SARpoints = SARdf[['x','y','z']].values\n",
    "Spoints = S[['x','y','z']].values\n",
    "SARwbi = 10**griddata(SARpoints, np.log10(SARdf.SARwb.values), Spoints)\n",
    "\n",
    "# Replace nan's in SARwbi with -100\n",
    "SARwbi = np.nan_to_num(SARwbi, nan=-100)"
   ]
  },
  {
   "cell_type": "markdown",
   "metadata": {},
   "source": [
    "#### Add SARwb, SARps and SARwbi to Sall"
   ]
  },
  {
   "cell_type": "code",
   "execution_count": 15,
   "metadata": {},
   "outputs": [],
   "source": [
    "# Create Sall by merging SARwb and SARps from SARdf with S dataframe\n",
    "Sall = S.merge(SARdf,how='outer')\n",
    "\n",
    "# Add SARwbi to Sall\n",
    "Sall['SARwbi'] = SARwbi"
   ]
  },
  {
   "cell_type": "markdown",
   "metadata": {
    "tags": []
   },
   "source": [
    "#### Compare histogram of Danie's SARwb values with my log-linear interpolated values (SARwbi)"
   ]
  },
  {
   "cell_type": "code",
   "execution_count": 19,
   "metadata": {},
   "outputs": [
    {
     "data": {
      "text/plain": [
       "(0.0, 0.4)"
      ]
     },
     "execution_count": 19,
     "metadata": {},
     "output_type": "execute_result"
    },
    {
     "data": {
      "image/png": "[encoded data removed]",
      "text/plain": [
       "<Figure size 576x576 with 2 Axes>"
      ]
     },
     "metadata": {
      "needs_background": "light"
     },
     "output_type": "display_data"
    }
   ],
   "source": [
    "fig, ax = plt.subplots(2,1,sharex=True,sharey=True,figsize=(8, 8))\n",
    "bins = 100\n",
    "Sall.SARwb.hist(bins=bins,ax=ax[0],density=True)\n",
    "Sall.SARwbi[Sall.SARwbi != -100].hist(bins=bins,ax=ax[1],density=True)\n",
    "ax[0].set_title('SARwb',fontsize=14,color='b')\n",
    "ax[1].set_title('SARwbi',fontsize=14,color='b');\n",
    "plt.xlim(0,0.4)"
   ]
  },
  {
   "cell_type": "markdown",
   "metadata": {},
   "source": [
    "Danie's SAR data and my interpolated data have very similar histogram distributions"
   ]
  },
  {
   "cell_type": "code",
   "execution_count": null,
   "metadata": {},
   "outputs": [],
   "source": [
    "# Line plots of SARwb and SARwbi\n",
    "fig, ax = plt.subplots(figsize=(8, 8))\n",
    "mask = (Sall.y == 0) & (Sall.z.isin([0,.5,1,1.5])) & (Sall.SARwbi != -100)\n",
    "Sall[mask]\n",
    "sn.lineplot(data=Sall[mask],x='x',y='SARwbi',hue='z')\n",
    "sn.scatterplot(data=Sall[mask],x='x',y='SARwb',hue='z',s=80)\n",
    "ax.set_title('SARwb vs SARwbi', fontsize=16, color='b');"
   ]
  },
  {
   "cell_type": "markdown",
   "metadata": {
    "jp-MarkdownHeadingCollapsed": true,
    "tags": []
   },
   "source": [
    "### Get SAR data II\n",
    "Second attempt at SAR data interpolation and extrapolation"
   ]
  },
  {
   "cell_type": "markdown",
   "metadata": {
    "tags": []
   },
   "source": [
    "#### Read in Danie's SAR data file"
   ]
  },
  {
   "cell_type": "code",
   "execution_count": 14,
   "metadata": {},
   "outputs": [],
   "source": [
    "SARdf = pd.read_excel(datadir + 'wbSAR-grid-values.xlsx',usecols=\"A,B,C,E\")"
   ]
  },
  {
   "cell_type": "markdown",
   "metadata": {},
   "source": [
    "#### Expand Danie's SAR grid to match S grid"
   ]
  },
  {
   "cell_type": "code",
   "execution_count": 15,
   "metadata": {},
   "outputs": [
    {
     "data": {
      "text/plain": [
       "'SAR grid'"
      ]
     },
     "metadata": {},
     "output_type": "display_data"
    },
    {
     "data": {
      "text/html": [
       "<div>\n",
       "<style scoped>\n",
       "    .dataframe tbody tr th:only-of-type {\n",
       "        vertical-align: middle;\n",
       "    }\n",
       "\n",
       "    .dataframe tbody tr th {\n",
       "        vertical-align: top;\n",
       "    }\n",
       "\n",
       "    .dataframe thead th {\n",
       "        text-align: right;\n",
       "    }\n",
       "</style>\n",
       "<table border=\"1\" class=\"dataframe\">\n",
       "  <thead>\n",
       "    <tr style=\"text-align: right;\">\n",
       "      <th></th>\n",
       "      <th>min</th>\n",
       "      <th>max</th>\n",
       "      <th>n</th>\n",
       "      <th>delta</th>\n",
       "    </tr>\n",
       "  </thead>\n",
       "  <tbody>\n",
       "    <tr>\n",
       "      <th>x</th>\n",
       "      <td>0.5</td>\n",
       "      <td>12.5</td>\n",
       "      <td>13</td>\n",
       "      <td>1.0</td>\n",
       "    </tr>\n",
       "    <tr>\n",
       "      <th>y</th>\n",
       "      <td>0.0</td>\n",
       "      <td>6.0</td>\n",
       "      <td>7</td>\n",
       "      <td>1.0</td>\n",
       "    </tr>\n",
       "    <tr>\n",
       "      <th>z</th>\n",
       "      <td>-2.0</td>\n",
       "      <td>2.0</td>\n",
       "      <td>5</td>\n",
       "      <td>1.0</td>\n",
       "    </tr>\n",
       "  </tbody>\n",
       "</table>\n",
       "</div>"
      ],
      "text/plain": [
       "   min   max   n  delta\n",
       "x  0.5  12.5  13    1.0\n",
       "y  0.0   6.0   7    1.0\n",
       "z -2.0   2.0   5    1.0"
      ]
     },
     "metadata": {},
     "output_type": "display_data"
    },
    {
     "data": {
      "text/plain": [
       "'S grid'"
      ]
     },
     "metadata": {},
     "output_type": "display_data"
    },
    {
     "data": {
      "text/html": [
       "<div>\n",
       "<style scoped>\n",
       "    .dataframe tbody tr th:only-of-type {\n",
       "        vertical-align: middle;\n",
       "    }\n",
       "\n",
       "    .dataframe tbody tr th {\n",
       "        vertical-align: top;\n",
       "    }\n",
       "\n",
       "    .dataframe thead th {\n",
       "        text-align: right;\n",
       "    }\n",
       "</style>\n",
       "<table border=\"1\" class=\"dataframe\">\n",
       "  <thead>\n",
       "    <tr style=\"text-align: right;\">\n",
       "      <th></th>\n",
       "      <th>min</th>\n",
       "      <th>max</th>\n",
       "      <th>n</th>\n",
       "      <th>delta</th>\n",
       "    </tr>\n",
       "  </thead>\n",
       "  <tbody>\n",
       "    <tr>\n",
       "      <th>x</th>\n",
       "      <td>0.5</td>\n",
       "      <td>14.0</td>\n",
       "      <td>136</td>\n",
       "      <td>0.1</td>\n",
       "    </tr>\n",
       "    <tr>\n",
       "      <th>y</th>\n",
       "      <td>-7.0</td>\n",
       "      <td>7.0</td>\n",
       "      <td>141</td>\n",
       "      <td>0.1</td>\n",
       "    </tr>\n",
       "    <tr>\n",
       "      <th>z</th>\n",
       "      <td>-3.0</td>\n",
       "      <td>3.0</td>\n",
       "      <td>61</td>\n",
       "      <td>0.1</td>\n",
       "    </tr>\n",
       "  </tbody>\n",
       "</table>\n",
       "</div>"
      ],
      "text/plain": [
       "   min   max    n  delta\n",
       "x  0.5  14.0  136    0.1\n",
       "y -7.0   7.0  141    0.1\n",
       "z -3.0   3.0   61    0.1"
      ]
     },
     "metadata": {},
     "output_type": "display_data"
    }
   ],
   "source": [
    "# Get characterstics of the S and SARdf grids\n",
    "SARgrid = getgrid(SARdf)\n",
    "Sgrid = getgrid(S)\n",
    "display('SAR grid',SARgrid)\n",
    "display('S grid',Sgrid)"
   ]
  },
  {
   "cell_type": "code",
   "execution_count": 10,
   "metadata": {
    "tags": []
   },
   "outputs": [],
   "source": [
    "# Functions to extrapolate SARdf grid over nominated axis\n",
    "def log_extrapolate(arr,xnew,axis,kind):\n",
    "    '''log10 extrapolation of arr['SARwb'] values of specified kind\n",
    "       for xnew points along the nominated x, y or z axis'''\n",
    "    x = arr[axis]\n",
    "    y = np.log10(arr['SARwb'])\n",
    "    f = interp1d(x,y,kind=kind,fill_value=\"extrapolate\")\n",
    "    ynew = 10**f(xnew)\n",
    "    df = pd.DataFrame({axis:xnew,'SARwb':ynew})\n",
    "    return df\n",
    "\n",
    "def extendSAR(axis,pointvals,kind,df=SARdf):\n",
    "    '''log10 extrapolation of the SARdf[col] values for the  \n",
    "       pointvals in the nominated axis direction'''\n",
    "    # Set the groupby axes\n",
    "    GBAXES = dict(x=['y','z'],y=['x','z'],z=['x','y'])\n",
    "    gbaxes = GBAXES[axis]\n",
    "    \n",
    "    # Iterate extrapolations over groupby axes \n",
    "    dfe = df.groupby(gbaxes).apply(log_extrapolate,xnew=pointvals,axis=axis,kind=kind)\n",
    "    dfe = dfe.reset_index().drop(columns='level_2')\n",
    "    return dfe"
   ]
  },
  {
   "cell_type": "code",
   "execution_count": 11,
   "metadata": {
    "tags": []
   },
   "outputs": [
    {
     "data": {
      "text/html": [
       "<div>\n",
       "<style scoped>\n",
       "    .dataframe tbody tr th:only-of-type {\n",
       "        vertical-align: middle;\n",
       "    }\n",
       "\n",
       "    .dataframe tbody tr th {\n",
       "        vertical-align: top;\n",
       "    }\n",
       "\n",
       "    .dataframe thead th {\n",
       "        text-align: right;\n",
       "    }\n",
       "</style>\n",
       "<table border=\"1\" class=\"dataframe\">\n",
       "  <thead>\n",
       "    <tr style=\"text-align: right;\">\n",
       "      <th></th>\n",
       "      <th>y</th>\n",
       "      <th>z</th>\n",
       "      <th>x</th>\n",
       "      <th>SARwb_linear</th>\n",
       "      <th>SARwb_quadratic</th>\n",
       "      <th>SARwb_cubic</th>\n",
       "    </tr>\n",
       "  </thead>\n",
       "  <tbody>\n",
       "    <tr>\n",
       "      <th>0</th>\n",
       "      <td>0</td>\n",
       "      <td>-2</td>\n",
       "      <td>2</td>\n",
       "      <td>0.003572</td>\n",
       "      <td>0.003571</td>\n",
       "      <td>0.003537</td>\n",
       "    </tr>\n",
       "    <tr>\n",
       "      <th>1</th>\n",
       "      <td>0</td>\n",
       "      <td>-2</td>\n",
       "      <td>6</td>\n",
       "      <td>0.002486</td>\n",
       "      <td>0.002486</td>\n",
       "      <td>0.002490</td>\n",
       "    </tr>\n",
       "    <tr>\n",
       "      <th>2</th>\n",
       "      <td>0</td>\n",
       "      <td>-1</td>\n",
       "      <td>2</td>\n",
       "      <td>0.087820</td>\n",
       "      <td>0.085037</td>\n",
       "      <td>0.085557</td>\n",
       "    </tr>\n",
       "    <tr>\n",
       "      <th>3</th>\n",
       "      <td>0</td>\n",
       "      <td>-1</td>\n",
       "      <td>6</td>\n",
       "      <td>0.027371</td>\n",
       "      <td>0.027194</td>\n",
       "      <td>0.027184</td>\n",
       "    </tr>\n",
       "    <tr>\n",
       "      <th>4</th>\n",
       "      <td>0</td>\n",
       "      <td>0</td>\n",
       "      <td>2</td>\n",
       "      <td>0.242299</td>\n",
       "      <td>0.232725</td>\n",
       "      <td>0.233064</td>\n",
       "    </tr>\n",
       "    <tr>\n",
       "      <th>5</th>\n",
       "      <td>0</td>\n",
       "      <td>0</td>\n",
       "      <td>6</td>\n",
       "      <td>0.076565</td>\n",
       "      <td>0.076326</td>\n",
       "      <td>0.076337</td>\n",
       "    </tr>\n",
       "    <tr>\n",
       "      <th>6</th>\n",
       "      <td>0</td>\n",
       "      <td>1</td>\n",
       "      <td>2</td>\n",
       "      <td>0.094458</td>\n",
       "      <td>0.090820</td>\n",
       "      <td>0.091790</td>\n",
       "    </tr>\n",
       "    <tr>\n",
       "      <th>7</th>\n",
       "      <td>0</td>\n",
       "      <td>1</td>\n",
       "      <td>6</td>\n",
       "      <td>0.030232</td>\n",
       "      <td>0.030108</td>\n",
       "      <td>0.030098</td>\n",
       "    </tr>\n",
       "    <tr>\n",
       "      <th>8</th>\n",
       "      <td>0</td>\n",
       "      <td>2</td>\n",
       "      <td>2</td>\n",
       "      <td>0.003818</td>\n",
       "      <td>0.003701</td>\n",
       "      <td>0.003665</td>\n",
       "    </tr>\n",
       "    <tr>\n",
       "      <th>9</th>\n",
       "      <td>0</td>\n",
       "      <td>2</td>\n",
       "      <td>6</td>\n",
       "      <td>0.002900</td>\n",
       "      <td>0.002945</td>\n",
       "      <td>0.002960</td>\n",
       "    </tr>\n",
       "    <tr>\n",
       "      <th>10</th>\n",
       "      <td>1</td>\n",
       "      <td>-2</td>\n",
       "      <td>2</td>\n",
       "      <td>0.002615</td>\n",
       "      <td>0.002708</td>\n",
       "      <td>0.002676</td>\n",
       "    </tr>\n",
       "    <tr>\n",
       "      <th>11</th>\n",
       "      <td>1</td>\n",
       "      <td>-2</td>\n",
       "      <td>6</td>\n",
       "      <td>0.002426</td>\n",
       "      <td>0.002435</td>\n",
       "      <td>0.002439</td>\n",
       "    </tr>\n",
       "    <tr>\n",
       "      <th>12</th>\n",
       "      <td>1</td>\n",
       "      <td>-1</td>\n",
       "      <td>2</td>\n",
       "      <td>0.059217</td>\n",
       "      <td>0.062250</td>\n",
       "      <td>0.061627</td>\n",
       "    </tr>\n",
       "    <tr>\n",
       "      <th>13</th>\n",
       "      <td>1</td>\n",
       "      <td>-1</td>\n",
       "      <td>6</td>\n",
       "      <td>0.026094</td>\n",
       "      <td>0.025953</td>\n",
       "      <td>0.025950</td>\n",
       "    </tr>\n",
       "    <tr>\n",
       "      <th>14</th>\n",
       "      <td>1</td>\n",
       "      <td>0</td>\n",
       "      <td>2</td>\n",
       "      <td>0.156012</td>\n",
       "      <td>0.162003</td>\n",
       "      <td>0.160133</td>\n",
       "    </tr>\n",
       "    <tr>\n",
       "      <th>15</th>\n",
       "      <td>1</td>\n",
       "      <td>0</td>\n",
       "      <td>6</td>\n",
       "      <td>0.071431</td>\n",
       "      <td>0.071259</td>\n",
       "      <td>0.071288</td>\n",
       "    </tr>\n",
       "    <tr>\n",
       "      <th>16</th>\n",
       "      <td>1</td>\n",
       "      <td>1</td>\n",
       "      <td>2</td>\n",
       "      <td>0.061570</td>\n",
       "      <td>0.064528</td>\n",
       "      <td>0.064162</td>\n",
       "    </tr>\n",
       "    <tr>\n",
       "      <th>17</th>\n",
       "      <td>1</td>\n",
       "      <td>1</td>\n",
       "      <td>6</td>\n",
       "      <td>0.028926</td>\n",
       "      <td>0.028839</td>\n",
       "      <td>0.028833</td>\n",
       "    </tr>\n",
       "    <tr>\n",
       "      <th>18</th>\n",
       "      <td>1</td>\n",
       "      <td>2</td>\n",
       "      <td>2</td>\n",
       "      <td>0.002983</td>\n",
       "      <td>0.003092</td>\n",
       "      <td>0.003052</td>\n",
       "    </tr>\n",
       "    <tr>\n",
       "      <th>19</th>\n",
       "      <td>1</td>\n",
       "      <td>2</td>\n",
       "      <td>6</td>\n",
       "      <td>0.002795</td>\n",
       "      <td>0.002837</td>\n",
       "      <td>0.002848</td>\n",
       "    </tr>\n",
       "  </tbody>\n",
       "</table>\n",
       "</div>"
      ],
      "text/plain": [
       "    y  z  x  SARwb_linear  SARwb_quadratic  SARwb_cubic\n",
       "0   0 -2  2      0.003572         0.003571     0.003537\n",
       "1   0 -2  6      0.002486         0.002486     0.002490\n",
       "2   0 -1  2      0.087820         0.085037     0.085557\n",
       "3   0 -1  6      0.027371         0.027194     0.027184\n",
       "4   0  0  2      0.242299         0.232725     0.233064\n",
       "5   0  0  6      0.076565         0.076326     0.076337\n",
       "6   0  1  2      0.094458         0.090820     0.091790\n",
       "7   0  1  6      0.030232         0.030108     0.030098\n",
       "8   0  2  2      0.003818         0.003701     0.003665\n",
       "9   0  2  6      0.002900         0.002945     0.002960\n",
       "10  1 -2  2      0.002615         0.002708     0.002676\n",
       "11  1 -2  6      0.002426         0.002435     0.002439\n",
       "12  1 -1  2      0.059217         0.062250     0.061627\n",
       "13  1 -1  6      0.026094         0.025953     0.025950\n",
       "14  1  0  2      0.156012         0.162003     0.160133\n",
       "15  1  0  6      0.071431         0.071259     0.071288\n",
       "16  1  1  2      0.061570         0.064528     0.064162\n",
       "17  1  1  6      0.028926         0.028839     0.028833\n",
       "18  1  2  2      0.002983         0.003092     0.003052\n",
       "19  1  2  6      0.002795         0.002837     0.002848"
      ]
     },
     "execution_count": 11,
     "metadata": {},
     "output_type": "execute_result"
    }
   ],
   "source": [
    "# Test out extendSAR for interpolations\n",
    "axis = 'x'\n",
    "pointvals = [2,6]\n",
    "\n",
    "dfi = extendSAR(axis,pointvals,'linear')\n",
    "dfi.rename(columns={'SARwb':'SARwb_linear'},inplace=True)\n",
    "for kind in ['quadratic','cubic']:\n",
    "    df = extendSAR(axis,pointvals,kind)\n",
    "    colname = f'SARwb_{kind}'\n",
    "    dfi[colname] = df.SARwb\n",
    "\n",
    "dfi.head(20)"
   ]
  },
  {
   "cell_type": "markdown",
   "metadata": {},
   "source": [
    "The quadratic and cubic interpolations are very close"
   ]
  },
  {
   "cell_type": "code",
   "execution_count": 12,
   "metadata": {},
   "outputs": [
    {
     "data": {
      "image/png": "[encoded data removed]",
      "text/plain": [
       "<Figure size 864x1008 with 12 Axes>"
      ]
     },
     "metadata": {
      "needs_background": "light"
     },
     "output_type": "display_data"
    }
   ],
   "source": [
    "# Set x and y investigation points\n",
    "xvals = [0.5,6.5,12.5]\n",
    "yvals = [0,2,4,6]\n",
    "zvals = S.z.unique()\n",
    "nx = len(xvals)\n",
    "ny = len(yvals)\n",
    "\n",
    "# Create plot\n",
    "fig, ax = plt.subplots(ny,nx,figsize=(12,14),sharex=True,sharey=True)\n",
    "\n",
    "# Iterate over the x and y investigation points\n",
    "for i, x in enumerate(xvals):\n",
    "    for j, y in enumerate(yvals):\n",
    "        mask = (SARdf.x == x) & (SARdf.y == y)\n",
    "        ax[j,i].plot(SARdf[mask].z, dB(SARdf[mask].SARwb),'o')\n",
    "        ax[j,i].set_title(f'x = {x}  |  y = {y}',fontsize=14,c='b')\n",
    "\n",
    "        # Plot the interpolated  dB(SAR) points\n",
    "        for kind in ['linear','quadratic','cubic']:\n",
    "            dfi = extendSAR('z',zvals,kind,df=SARdf[mask])\n",
    "            ax[j,i].plot(dfi.z, dB(dfi.SARwb),'-',label=kind)\n",
    "            \n",
    "        ax[j,i].set_xlabel('z')\n",
    "        ax[j,i].set_ylabel('dB(SAR)')\n",
    "\n",
    "ax[-1,-1].legend(loc='lower center',fontsize=14)\n",
    "fig.suptitle('Interpolation of dB(SAR) values along z axis for different kinds of schemes\\n',\n",
    "             fontsize=20)\n",
    "plt.tight_layout()\n"
   ]
  },
  {
   "cell_type": "markdown",
   "metadata": {},
   "source": [
    "The extrapolated parts of the <font color='green'>quadratic</font> and <font color='red'>cubic</font> plots are generally close to each other. \n",
    "\n",
    "In that case it would be better to stick with the **quadratic** scheme since it is less 'dangerous' for extrapolation. Indeed, using the cubic scheme in the cell below leads to artifactual peaks in the upper far corners of the SAR plots."
   ]
  },
  {
   "cell_type": "code",
   "execution_count": 16,
   "metadata": {},
   "outputs": [
    {
     "name": "stdout",
     "output_type": "stream",
     "text": [
      "SARdfe grid parameters\n"
     ]
    },
    {
     "data": {
      "text/html": [
       "<div>\n",
       "<style scoped>\n",
       "    .dataframe tbody tr th:only-of-type {\n",
       "        vertical-align: middle;\n",
       "    }\n",
       "\n",
       "    .dataframe tbody tr th {\n",
       "        vertical-align: top;\n",
       "    }\n",
       "\n",
       "    .dataframe thead th {\n",
       "        text-align: right;\n",
       "    }\n",
       "</style>\n",
       "<table border=\"1\" class=\"dataframe\">\n",
       "  <thead>\n",
       "    <tr style=\"text-align: right;\">\n",
       "      <th></th>\n",
       "      <th>min</th>\n",
       "      <th>max</th>\n",
       "      <th>n</th>\n",
       "      <th>delta</th>\n",
       "    </tr>\n",
       "  </thead>\n",
       "  <tbody>\n",
       "    <tr>\n",
       "      <th>x</th>\n",
       "      <td>0.5</td>\n",
       "      <td>14.0</td>\n",
       "      <td>136</td>\n",
       "      <td>0.1</td>\n",
       "    </tr>\n",
       "    <tr>\n",
       "      <th>y</th>\n",
       "      <td>0.0</td>\n",
       "      <td>7.0</td>\n",
       "      <td>8</td>\n",
       "      <td>1.0</td>\n",
       "    </tr>\n",
       "    <tr>\n",
       "      <th>z</th>\n",
       "      <td>-3.0</td>\n",
       "      <td>3.0</td>\n",
       "      <td>7</td>\n",
       "      <td>1.0</td>\n",
       "    </tr>\n",
       "  </tbody>\n",
       "</table>\n",
       "</div>"
      ],
      "text/plain": [
       "   min   max    n  delta\n",
       "x  0.5  14.0  136    0.1\n",
       "y  0.0   7.0    8    1.0\n",
       "z -3.0   3.0    7    1.0"
      ]
     },
     "execution_count": 16,
     "metadata": {},
     "output_type": "execute_result"
    }
   ],
   "source": [
    "SARdfe = SARdf.copy()\n",
    "\n",
    "# set up extrapolation/interpolation parameters\n",
    "kind = 'quadratic'\n",
    "# kind = 'cubic'\n",
    "# kind = 'linear'\n",
    "xvals = [13.5]\n",
    "zvals = [-3,3]\n",
    "yvals = [7]\n",
    "\n",
    "# extend SARdfe by extrapolating over the x axis\n",
    "dfe = extendSAR('x',xvals,kind,df=SARdfe)\n",
    "SARdfe = pd.concat([SARdfe, dfe]).sort_values(['x','y','z'])\n",
    "\n",
    "# extend SARdfe by extrapolating over the y axis\n",
    "dfe = extendSAR('y',yvals,kind,df=SARdfe)\n",
    "SARdfe = pd.concat([SARdfe, dfe]).sort_values(['x','y','z'])\n",
    "\n",
    "# extend SARdfe by extrapolating over the z axis\n",
    "dfe = extendSAR('z',zvals,kind,df=SARdfe)\n",
    "SARdfe = pd.concat([SARdfe, dfe]).sort_values(['x','y','z'])\n",
    "\n",
    "# extend SARdfe by interpolating/extrapolating over the x axis\n",
    "xvals = sorted(list(set(S.x.values) - set(SARdfe.x.values)))\n",
    "dfe = extendSAR('x',xvals,kind,df=SARdfe)\n",
    "SARdfe = pd.concat([SARdfe, dfe]).sort_values(['x','y','z'])\n",
    "\n",
    "# Create dBSAR\n",
    "SARdfe['dBSARwb'] = dB(SARdfe.SARwb)\n",
    "\n",
    "print('SARdfe grid parameters')\n",
    "getgrid(SARdfe)"
   ]
  },
  {
   "cell_type": "code",
   "execution_count": 17,
   "metadata": {},
   "outputs": [],
   "source": [
    "def SARlines(df,fixedaxis,fixedval,xaxis,legendaxis,SARcol):\n",
    "    cmap = sn.diverging_palette(250, 30, l=65, center=\"dark\", as_cmap=True)\n",
    "    mask = df[fixedaxis] == fixedval\n",
    "    sn.relplot(x=xaxis,y=SARcol,kind='line',hue=legendaxis,\n",
    "               palette=cmap,height=6,data=df[mask])\n",
    "    title = f'{kind} scheme for {fixedaxis} = {fixedval}'\n",
    "    plt.suptitle(title,fontsize=16,c='b')\n",
    "    plt.xlim(df[xaxis].min(),df[xaxis].max())\n",
    "    plt.tight_layout(rect=(0,0,0.9,1))    "
   ]
  },
  {
   "cell_type": "code",
   "execution_count": 18,
   "metadata": {},
   "outputs": [
    {
     "data": {
      "image/png": "[encoded data removed]",
      "text/plain": [
       "<Figure size 484.1x432 with 1 Axes>"
      ]
     },
     "metadata": {
      "needs_background": "light"
     },
     "output_type": "display_data"
    }
   ],
   "source": [
    "SARlines(df=SARdfe,fixedaxis='x',fixedval=12.5,\n",
    "         xaxis='y',legendaxis='z',SARcol='SARwb')"
   ]
  },
  {
   "cell_type": "code",
   "execution_count": 19,
   "metadata": {},
   "outputs": [
    {
     "data": {
      "image/png": "[encoded data removed]",
      "text/plain": [
       "<Figure size 484.1x432 with 1 Axes>"
      ]
     },
     "metadata": {
      "needs_background": "light"
     },
     "output_type": "display_data"
    }
   ],
   "source": [
    "SARlines(df=SARdfe,fixedaxis='x',fixedval=14,\n",
    "         xaxis='y',legendaxis='z',SARcol='SARwb')"
   ]
  },
  {
   "cell_type": "code",
   "execution_count": 22,
   "metadata": {},
   "outputs": [],
   "source": [
    "# display 3D compliance zone\n",
    "compliance_zone(df=SARdfe, dat='SARwb', lim=0.08, title='SARwb data in SARdfe')"
   ]
  },
  {
   "cell_type": "markdown",
   "metadata": {},
   "source": [
    "#### Fill out the y<0 symmetry plane data"
   ]
  },
  {
   "cell_type": "code",
   "execution_count": 23,
   "metadata": {},
   "outputs": [
    {
     "ename": "NameError",
     "evalue": "name 'SARdf1' is not defined",
     "output_type": "error",
     "traceback": [
      "\u001b[1;31m---------------------------------------------------------------------------\u001b[0m",
      "\u001b[1;31mNameError\u001b[0m                                 Traceback (most recent call last)",
      "\u001b[1;32m~\\AppData\\Local\\Temp/ipykernel_38540/3306750516.py\u001b[0m in \u001b[0;36m<module>\u001b[1;34m\u001b[0m\n\u001b[0;32m      1\u001b[0m \u001b[0mSARdf2\u001b[0m \u001b[1;33m=\u001b[0m \u001b[0mSARdf\u001b[0m\u001b[1;33m.\u001b[0m\u001b[0mcopy\u001b[0m\u001b[1;33m(\u001b[0m\u001b[1;33m)\u001b[0m\u001b[1;33m\u001b[0m\u001b[1;33m\u001b[0m\u001b[0m\n\u001b[0;32m      2\u001b[0m \u001b[0mSARdf2\u001b[0m\u001b[1;33m[\u001b[0m\u001b[1;34m'y'\u001b[0m\u001b[1;33m]\u001b[0m \u001b[1;33m=\u001b[0m \u001b[1;33m-\u001b[0m\u001b[0mSARdf\u001b[0m\u001b[1;33m.\u001b[0m\u001b[0my\u001b[0m\u001b[1;33m\u001b[0m\u001b[1;33m\u001b[0m\u001b[0m\n\u001b[1;32m----> 3\u001b[1;33m \u001b[0mSARdf3\u001b[0m \u001b[1;33m=\u001b[0m \u001b[0mpd\u001b[0m\u001b[1;33m.\u001b[0m\u001b[0mconcat\u001b[0m\u001b[1;33m(\u001b[0m\u001b[1;33m[\u001b[0m\u001b[0mSARdf1\u001b[0m\u001b[1;33m,\u001b[0m\u001b[0mSARdf\u001b[0m\u001b[1;33m]\u001b[0m\u001b[1;33m)\u001b[0m\u001b[1;33m\u001b[0m\u001b[1;33m\u001b[0m\u001b[0m\n\u001b[0m\u001b[0;32m      4\u001b[0m \u001b[0mSARdf\u001b[0m \u001b[1;33m=\u001b[0m \u001b[0mSARdf\u001b[0m\u001b[1;33m.\u001b[0m\u001b[0mdrop_duplicates\u001b[0m\u001b[1;33m(\u001b[0m\u001b[1;33m)\u001b[0m\u001b[1;33m.\u001b[0m\u001b[0msort_values\u001b[0m\u001b[1;33m(\u001b[0m\u001b[1;33m[\u001b[0m\u001b[1;34m'x'\u001b[0m\u001b[1;33m,\u001b[0m\u001b[1;34m'y'\u001b[0m\u001b[1;33m,\u001b[0m\u001b[1;34m'z'\u001b[0m\u001b[1;33m]\u001b[0m\u001b[1;33m)\u001b[0m\u001b[1;33m.\u001b[0m\u001b[0mreset_index\u001b[0m\u001b[1;33m(\u001b[0m\u001b[0mdrop\u001b[0m\u001b[1;33m=\u001b[0m\u001b[1;32mTrue\u001b[0m\u001b[1;33m)\u001b[0m\u001b[1;33m\u001b[0m\u001b[1;33m\u001b[0m\u001b[0m\n\u001b[0;32m      5\u001b[0m \u001b[0mSARdf\u001b[0m \u001b[1;33m=\u001b[0m \u001b[0mSARdf\u001b[0m\u001b[1;33m.\u001b[0m\u001b[0mastype\u001b[0m\u001b[1;33m(\u001b[0m\u001b[1;33m{\u001b[0m\u001b[1;34m'y'\u001b[0m\u001b[1;33m:\u001b[0m \u001b[1;34m'float64'\u001b[0m\u001b[1;33m,\u001b[0m\u001b[1;34m'z'\u001b[0m\u001b[1;33m:\u001b[0m\u001b[1;34m'float64'\u001b[0m\u001b[1;33m}\u001b[0m\u001b[1;33m)\u001b[0m\u001b[1;33m\u001b[0m\u001b[1;33m\u001b[0m\u001b[0m\n",
      "\u001b[1;31mNameError\u001b[0m: name 'SARdf1' is not defined"
     ]
    }
   ],
   "source": [
    "SARdf2 = SARdf.copy()\n",
    "SARdf2['y'] = -SARdf.y\n",
    "SARdf3 = pd.concat([SARdf1,SARdf])\n",
    "SARdf = SARdf.drop_duplicates().sort_values(['x','y','z']).reset_index(drop=True)\n",
    "SARdf = SARdf.astype({'y': 'float64','z':'float64'})\n",
    "SARdf['dB(SARwb)'] = dB(SARdf.SARwb)\n",
    "\n",
    "# check y symmetry for fixed x & z coordinates\n",
    "mask = (SARdf.x == 12.5) & (SARdf.z == 2) \n",
    "SARdf[mask]"
   ]
  },
  {
   "cell_type": "markdown",
   "metadata": {},
   "source": [
    "#### Check symmetry in the z direction"
   ]
  },
  {
   "cell_type": "code",
   "execution_count": 35,
   "metadata": {},
   "outputs": [
    {
     "data": {
      "image/png": "[encoded data removed]",
      "text/plain": [
       "<Figure size 648x864 with 12 Axes>"
      ]
     },
     "metadata": {
      "needs_background": "light"
     },
     "output_type": "display_data"
    }
   ],
   "source": [
    "# Bar plots of dB(SARwb) along z for various values of x and y\n",
    "xvals = [0.5,6.5,12.5]\n",
    "yvals = [0,2,4,6]\n",
    "mask = (SARdf.x.isin(xvals)) & (SARdf.y.isin(yvals))\n",
    "# display(SARdf[mask])\n",
    "g = sn.FacetGrid(SARdf[mask], col=\"x\", row=\"y\",margin_titles=True)\n",
    "g.map(sn.barplot, \"z\", \"dB(SARwb)\", alpha=.5, order=np.sort(SARdf.z.unique()))\n",
    "plt.suptitle(\"Check for asymmetry in SARwb across z=0 plane\\n\",fontsize=16,c='b')\n",
    "plt.tight_layout();"
   ]
  },
  {
   "cell_type": "markdown",
   "metadata": {},
   "source": [
    "#### Interpolate SAR values on to S grid using log-linear interpolation"
   ]
  },
  {
   "cell_type": "code",
   "execution_count": 36,
   "metadata": {},
   "outputs": [],
   "source": [
    "# Interpolate SAR values for xyz points in S using log linear interpolation\n",
    "SARpoints = SARdf[['x','y','z']].values\n",
    "Spoints = S[['x','y','z']].values\n",
    "SARwbi = 10**griddata(SARpoints, np.log10(SARdf.SARwb.values), Spoints)\n",
    "\n",
    "# Replace nan's in SARwbi with -100\n",
    "SARwbi = np.nan_to_num(SARwbi, nan=-100)"
   ]
  },
  {
   "cell_type": "markdown",
   "metadata": {},
   "source": [
    "#### Add SARwb, SARps and SARwbi to Sall"
   ]
  },
  {
   "cell_type": "code",
   "execution_count": 37,
   "metadata": {},
   "outputs": [],
   "source": [
    "# Create Sall by merging SARwb and SARps from SARdf with S dataframe\n",
    "Sall = S.merge(SARdf,how='outer')\n",
    "\n",
    "# Add SARwbi to Sall\n",
    "Sall['SARwbi'] = SARwbi"
   ]
  },
  {
   "cell_type": "markdown",
   "metadata": {},
   "source": [
    "#### Compare histogram of Danie's SARwb values with my log-linear interpolated values (SARwbi)"
   ]
  },
  {
   "cell_type": "code",
   "execution_count": 38,
   "metadata": {},
   "outputs": [
    {
     "data": {
      "text/plain": [
       "(0.0, 0.4)"
      ]
     },
     "execution_count": 38,
     "metadata": {},
     "output_type": "execute_result"
    },
    {
     "data": {
      "image/png": "[encoded data removed]",
      "text/plain": [
       "<Figure size 576x576 with 2 Axes>"
      ]
     },
     "metadata": {
      "needs_background": "light"
     },
     "output_type": "display_data"
    }
   ],
   "source": [
    "fig, ax = plt.subplots(2,1,sharex=True,sharey=True,figsize=(8, 8))\n",
    "bins = 100\n",
    "Sall.SARwb.hist(bins=bins,ax=ax[0],density=True)\n",
    "Sall.SARwbi[Sall.SARwbi != -100].hist(bins=bins,ax=ax[1],density=True)\n",
    "ax[0].set_title('SARwb',fontsize=14,color='b')\n",
    "ax[1].set_title('SARwbi',fontsize=14,color='b');\n",
    "plt.xlim(0,0.4)"
   ]
  },
  {
   "cell_type": "markdown",
   "metadata": {},
   "source": [
    "Danie's SAR data and my interpolated data have very similar histogram distributions"
   ]
  },
  {
   "cell_type": "code",
   "execution_count": 39,
   "metadata": {},
   "outputs": [
    {
     "data": {
      "image/png": "[encoded data removed]",
      "text/plain": [
       "<Figure size 576x576 with 1 Axes>"
      ]
     },
     "metadata": {
      "needs_background": "light"
     },
     "output_type": "display_data"
    }
   ],
   "source": [
    "# Line plots of SARwb and SARwbi\n",
    "fig, ax = plt.subplots(figsize=(8, 8))\n",
    "mask = (Sall.y == 0) & (Sall.z.isin([0,.5,1,1.5])) & (Sall.SARwbi != -100)\n",
    "Sall[mask]\n",
    "sn.lineplot(data=Sall[mask],x='x',y='SARwbi',hue='z')\n",
    "sn.scatterplot(data=Sall[mask],x='x',y='SARwb',hue='z',s=80)\n",
    "ax.set_title('SARwb vs SARwbi', fontsize=16, color='b');"
   ]
  }
 ],
 "metadata": {
  "hide_input": false,
  "kernelspec": {
   "display_name": "Python [conda env:py39]",
   "language": "python",
   "name": "conda-env-py39-py"
  },
  "language_info": {
   "codemirror_mode": {
    "name": "ipython",
    "version": 3
   },
   "file_extension": ".py",
   "mimetype": "text/x-python",
   "name": "python",
   "nbconvert_exporter": "python",
   "pygments_lexer": "ipython3",
   "version": "3.9.13"
  },
  "toc": {
   "base_numbering": 1,
   "nav_menu": {
    "height": "227px",
    "width": "252px"
   },
   "number_sections": true,
   "sideBar": true,
   "skip_h1_title": false,
   "title_cell": "Table of Contents",
   "title_sidebar": "Contents",
   "toc_cell": false,
   "toc_position": {},
   "toc_section_display": "block",
   "toc_window_display": true
  },
  "toc-autonumbering": false,
  "toc-showcode": false,
  "toc-showmarkdowntxt": false,
  "toc-showtags": true,
  "varInspector": {
   "cols": {
    "lenName": 16,
    "lenType": 16,
    "lenVar": 40
   },
   "kernels_config": {
    "python": {
     "delete_cmd_postfix": "",
     "delete_cmd_prefix": "del ",
     "library": "var_list.py",
     "varRefreshCmd": "print(var_dic_list())"
    },
    "r": {
     "delete_cmd_postfix": ") ",
     "delete_cmd_prefix": "rm(",
     "library": "var_list.r",
     "varRefreshCmd": "cat(var_dic_list()) "
    }
   },
   "types_to_exclude": [
    "module",
    "function",
    "builtin_function_or_method",
    "instance",
    "_Feature"
   ],
   "window_display": false
  }
 },
 "nbformat": 4,
 "nbformat_minor": 4
}
